{
 "cells": [
  {
   "cell_type": "code",
   "execution_count": null,
   "metadata": {},
   "outputs": [],
   "source": [
    "class Solution:\n",
    "    def romanToInt(self, s: str) -> int:\n",
    "        roman_dict = {'I':1,'V':5,'X':10,'L':50,'C':100,'D':500,'M':1000}\n",
    "        mod_s = s.replace('IV','.4.').replace('IX','.9.').replace('XL','.40.').replace('XC','.90.').replace('CD','.400.').replace('CM','.900.')\n",
    "        \n",
    "        mod_s = [val for val in mod_s.split('.') if val != '']\n",
    "        num = 0\n",
    "        \n",
    "        for val in mod_s:\n",
    "            if val.isalpha() == True:\n",
    "                for char in val:\n",
    "                    num += roman_dict[char]\n",
    "            else:\n",
    "                num += int(val)\n",
    "\n",
    "        return num"
   ]
  }
 ],
 "metadata": {
  "language_info": {
   "name": "python"
  }
 },
 "nbformat": 4,
 "nbformat_minor": 2
}
