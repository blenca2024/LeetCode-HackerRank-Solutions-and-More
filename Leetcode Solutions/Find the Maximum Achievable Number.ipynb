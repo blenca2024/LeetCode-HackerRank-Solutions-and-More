{
 "cells": [
  {
   "cell_type": "markdown",
   "metadata": {},
   "source": [
    "## 2769. Find the Maximum Achievable Number\n",
    "\n",
    "Given two integers, `num` and `t`. A number is achievable if it can become equal to `num` after applying the following operation:\n",
    "\n",
    "- Increase or decrease the number by 1, and simultaneously increase or decrease `num` by 1.\n",
    "\n",
    "Return the maximum achievable number after applying the operation at most `t` times.\n",
    "\n",
    "### Example 1:\n",
    "\n",
    "**Input:**  \n",
    "`num = 4`, `t = 1`\n",
    "\n",
    "**Output:**  \n",
    "`6`\n",
    "\n",
    "**Explanation:**  \n",
    "Apply the following operation once to make the maximum achievable number equal to `num`:\n",
    "- Decrease the maximum achievable number by 1, and increase `num` by 1.\n",
    "\n",
    "### Example 2:\n",
    "\n",
    "**Input:**  \n",
    "`num = 3`, `t = 2`\n",
    "\n",
    "**Output:**  \n",
    "`7`\n",
    "\n",
    "**Explanation:**  \n",
    "Apply the following operation twice to make the maximum achievable number equal to `num`:\n",
    "- Decrease the maximum achievable number by 1, and increase `num` by 1.\n",
    "\n",
    "### Constraints:\n",
    "\n",
    "- `1 <= num, t <= 50`"
   ]
  },
  {
   "cell_type": "code",
   "execution_count": 1,
   "metadata": {},
   "outputs": [],
   "source": [
    "def theMaximumAchievableX(num: int, t: int) -> int:\n",
    "    return num + t*2"
   ]
  },
  {
   "cell_type": "code",
   "execution_count": 2,
   "metadata": {},
   "outputs": [
    {
     "data": {
      "text/plain": [
       "6"
      ]
     },
     "execution_count": 2,
     "metadata": {},
     "output_type": "execute_result"
    }
   ],
   "source": [
    "num = 4\n",
    "t = 1\n",
    "\n",
    "theMaximumAchievableX(num,t)"
   ]
  },
  {
   "cell_type": "code",
   "execution_count": 3,
   "metadata": {},
   "outputs": [
    {
     "data": {
      "text/plain": [
       "7"
      ]
     },
     "execution_count": 3,
     "metadata": {},
     "output_type": "execute_result"
    }
   ],
   "source": [
    "num = 3\n",
    "t = 2\n",
    "\n",
    "theMaximumAchievableX(num,t)"
   ]
  }
 ],
 "metadata": {
  "kernelspec": {
   "display_name": "datascience",
   "language": "python",
   "name": "datascience"
  },
  "language_info": {
   "codemirror_mode": {
    "name": "ipython",
    "version": 3
   },
   "file_extension": ".py",
   "mimetype": "text/x-python",
   "name": "python",
   "nbconvert_exporter": "python",
   "pygments_lexer": "ipython3",
   "version": "3.11.4"
  }
 },
 "nbformat": 4,
 "nbformat_minor": 2
}
