{
 "cells": [
  {
   "cell_type": "markdown",
   "metadata": {},
   "source": [
    "# 290. Word Pattern\n",
    "\n",
    "Given a `pattern` and a string `s`, determine if `s` follows the same pattern.\n",
    "\n",
    "Here, \"follows the pattern\" means a full match, such that there is a bijection between a letter in the `pattern` and a non-empty word in `s`.\n",
    "\n",
    "## Example 1:\n",
    "\n",
    "**Input:** `pattern = \"abba\"`, `s = \"dog cat cat dog\"`\n",
    "\n",
    "**Output:** `true`\n",
    "\n",
    "## Example 2:\n",
    "\n",
    "**Input:** `pattern = \"abba\"`, `s = \"dog cat cat fish\"`\n",
    "\n",
    "**Output:** `false`\n",
    "\n",
    "## Example 3:\n",
    "\n",
    "**Input:** `pattern = \"aaaa\"`, `s = \"dog cat cat dog\"`\n",
    "\n",
    "**Output:** `false`\n",
    "\n",
    "## Constraints:\n",
    "\n",
    "- `1 <= pattern.length <= 300`\n",
    "- `pattern` contains only lower-case English letters.\n",
    "- `1 <= s.length <= 3000`\n",
    "- `s` contains only lowercase English letters and spaces `' '`.\n",
    "- `s` does not contain any leading or trailing spaces.\n",
    "- All the words in `s` are separated by a single space.\n"
   ]
  },
  {
   "cell_type": "code",
   "execution_count": 1,
   "metadata": {},
   "outputs": [],
   "source": [
    "def wordPattern(pattern: str, s: str) -> bool:\n",
    "    return list({char:idx for idx,char in enumerate(s.split())}.values()) == list({char:idx for idx,char in enumerate(pattern)}.values())"
   ]
  },
  {
   "cell_type": "code",
   "execution_count": 2,
   "metadata": {},
   "outputs": [
    {
     "data": {
      "text/plain": [
       "True"
      ]
     },
     "execution_count": 2,
     "metadata": {},
     "output_type": "execute_result"
    }
   ],
   "source": [
    "pattern = \"abba\"\n",
    "s = \"dog cat cat dog\"\n",
    "\n",
    "wordPattern(pattern=pattern,s=s)"
   ]
  },
  {
   "cell_type": "code",
   "execution_count": 3,
   "metadata": {},
   "outputs": [
    {
     "data": {
      "text/plain": [
       "False"
      ]
     },
     "execution_count": 3,
     "metadata": {},
     "output_type": "execute_result"
    }
   ],
   "source": [
    "pattern = \"abba\"\n",
    "s = \"dog cat cat fish\"\n",
    "\n",
    "wordPattern(pattern=pattern,s=s)"
   ]
  },
  {
   "cell_type": "code",
   "execution_count": 4,
   "metadata": {},
   "outputs": [
    {
     "data": {
      "text/plain": [
       "False"
      ]
     },
     "execution_count": 4,
     "metadata": {},
     "output_type": "execute_result"
    }
   ],
   "source": [
    "pattern = \"aaaa\"\n",
    "s = \"dog cat cat dog\"\n",
    "\n",
    "wordPattern(pattern=pattern,s=s)"
   ]
  },
  {
   "cell_type": "code",
   "execution_count": 5,
   "metadata": {},
   "outputs": [
    {
     "data": {
      "text/plain": [
       "True"
      ]
     },
     "execution_count": 5,
     "metadata": {},
     "output_type": "execute_result"
    }
   ],
   "source": [
    "pattern = 'abab'\n",
    "s = 'dog cat dog cat'\n",
    "\n",
    "wordPattern(pattern=pattern,s=s)"
   ]
  },
  {
   "cell_type": "code",
   "execution_count": 6,
   "metadata": {},
   "outputs": [
    {
     "data": {
      "text/plain": [
       "False"
      ]
     },
     "execution_count": 6,
     "metadata": {},
     "output_type": "execute_result"
    }
   ],
   "source": [
    "pattern = 'abcb'\n",
    "s = 'dog cat dog cat'\n",
    "\n",
    "wordPattern(pattern=pattern,s=s)"
   ]
  },
  {
   "cell_type": "code",
   "execution_count": 7,
   "metadata": {},
   "outputs": [
    {
     "data": {
      "text/plain": [
       "True"
      ]
     },
     "execution_count": 7,
     "metadata": {},
     "output_type": "execute_result"
    }
   ],
   "source": [
    "pattern = 'abcb'\n",
    "s = 'dog cat hat cat'\n",
    "\n",
    "wordPattern(pattern=pattern,s=s)"
   ]
  },
  {
   "cell_type": "code",
   "execution_count": 8,
   "metadata": {},
   "outputs": [
    {
     "data": {
      "text/plain": [
       "True"
      ]
     },
     "execution_count": 8,
     "metadata": {},
     "output_type": "execute_result"
    }
   ],
   "source": [
    "pattern = \"ab\"\n",
    "s = \"happy hacking\"\n",
    "\n",
    "wordPattern(pattern=pattern,s=s)"
   ]
  }
 ],
 "metadata": {
  "kernelspec": {
   "display_name": "datascience",
   "language": "python",
   "name": "datascience"
  },
  "language_info": {
   "codemirror_mode": {
    "name": "ipython",
    "version": 3
   },
   "file_extension": ".py",
   "mimetype": "text/x-python",
   "name": "python",
   "nbconvert_exporter": "python",
   "pygments_lexer": "ipython3",
   "version": "3.11.4"
  }
 },
 "nbformat": 4,
 "nbformat_minor": 2
}
