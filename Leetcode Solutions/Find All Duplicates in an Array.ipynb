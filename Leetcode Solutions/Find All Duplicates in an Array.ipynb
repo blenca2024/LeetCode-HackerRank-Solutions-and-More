{
 "cells": [
  {
   "cell_type": "markdown",
   "metadata": {},
   "source": [
    "# 442. Find All Duplicates in an Array\n",
    "\n",
    "**Solved**\n",
    "\n",
    "**Medium**\n",
    "\n",
    "## Topics\n",
    "\n",
    "**Companies**\n",
    "\n",
    "Given an integer array `nums` of length `n` where all the integers of `nums` are in the range `[1, n]` and each integer appears once or twice, return an array of all the integers that appear twice.\n",
    "\n",
    "You must write an algorithm that runs in O(n) time and uses only constant extra space.\n",
    "\n",
    "## Example 1:\n",
    "\n",
    "**Input:** `nums = [4,3,2,7,8,2,3,1]`\n",
    "\n",
    "**Output:** `[2,3]`\n",
    "\n",
    "## Example 2:\n",
    "\n",
    "**Input:** `nums = [1,1,2]`\n",
    "\n",
    "**Output:** `[1]`\n",
    "\n",
    "## Example 3:\n",
    "\n",
    "**Input:** `nums = [1]`\n",
    "\n",
    "**Output:** `[]`\n",
    "\n",
    "## Constraints:\n",
    "\n",
    "- `n == nums.length`\n",
    "- `1 <= n <= 10^5`\n",
    "- `1 <= nums[i] <= n`\n",
    "- Each element in `nums` appears once or twice."
   ]
  },
  {
   "cell_type": "code",
   "execution_count": 1,
   "metadata": {},
   "outputs": [],
   "source": [
    "from typing import List"
   ]
  },
  {
   "cell_type": "code",
   "execution_count": 2,
   "metadata": {},
   "outputs": [],
   "source": [
    "def findDuplicates(nums: List[int]) -> List[int]:\n",
    "        \n",
    "    set_nums = set(nums)\n",
    "\n",
    "    output = [num for num in nums if num not in set_nums or set_nums.remove(num)]\n",
    "\n",
    "    return output"
   ]
  },
  {
   "cell_type": "code",
   "execution_count": 3,
   "metadata": {},
   "outputs": [
    {
     "data": {
      "text/plain": [
       "[2, 3]"
      ]
     },
     "execution_count": 3,
     "metadata": {},
     "output_type": "execute_result"
    }
   ],
   "source": [
    "nums = [4,3,2,7,8,2,3,1]\n",
    "findDuplicates(nums)"
   ]
  },
  {
   "cell_type": "code",
   "execution_count": 4,
   "metadata": {},
   "outputs": [
    {
     "data": {
      "text/plain": [
       "[2, 3]"
      ]
     },
     "execution_count": 4,
     "metadata": {},
     "output_type": "execute_result"
    }
   ],
   "source": [
    "set_nums = set(nums)\n",
    "\n",
    "[num for num in nums if num not in set_nums or set_nums.remove(num)]"
   ]
  }
 ],
 "metadata": {
  "kernelspec": {
   "display_name": "datascience",
   "language": "python",
   "name": "datascience"
  },
  "language_info": {
   "codemirror_mode": {
    "name": "ipython",
    "version": 3
   },
   "file_extension": ".py",
   "mimetype": "text/x-python",
   "name": "python",
   "nbconvert_exporter": "python",
   "pygments_lexer": "ipython3",
   "version": "3.11.4"
  }
 },
 "nbformat": 4,
 "nbformat_minor": 2
}
