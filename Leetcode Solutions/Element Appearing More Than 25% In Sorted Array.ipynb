{
 "cells": [
  {
   "cell_type": "markdown",
   "metadata": {},
   "source": [
    " # Element Appearing More Than 25% In Sorted Array\n",
    " \n",
    "Given an integer array sorted in non-decreasing order, there is exactly one integer in the array that occurs more than 25% of the time.\n",
    "\n",
    "Return that integer.\n",
    "\n",
    " \n",
    "\n",
    "**Example 1:**\n",
    "\n",
    "Input: arr = [1,2,2,6,6,6,6,7,10]\n",
    "\n",
    "Output: 6\n",
    " \n",
    "\n",
    "**Constraints:**\n",
    "\n",
    "1 <= arr.length <= 10^4\n",
    "\n",
    "0 <= arr[i] <= 10^5"
   ]
  },
  {
   "cell_type": "code",
   "execution_count": 2,
   "metadata": {},
   "outputs": [
    {
     "name": "stdout",
     "output_type": "stream",
     "text": [
      "6\n"
     ]
    }
   ],
   "source": [
    "def findSpecialInteger(arr):\n",
    "        a = []\n",
    "        for i in arr:\n",
    "            if arr.count(i)/len(arr) >= .25:\n",
    "                a.append(i)\n",
    "        return(max(a))\n",
    "    \n",
    "    \n",
    "    \n",
    "arr = [1,2,2,6,6,6,6,7,10]\n",
    "print(findSpecialInteger(arr))"
   ]
  }
 ],
 "metadata": {
  "kernelspec": {
   "display_name": "Python 3",
   "language": "python",
   "name": "python3"
  },
  "language_info": {
   "codemirror_mode": {
    "name": "ipython",
    "version": 3
   },
   "file_extension": ".py",
   "mimetype": "text/x-python",
   "name": "python",
   "nbconvert_exporter": "python",
   "pygments_lexer": "ipython3",
   "version": "3.7.3"
  }
 },
 "nbformat": 4,
 "nbformat_minor": 2
}
