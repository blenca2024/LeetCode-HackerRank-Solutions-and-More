{
 "cells": [
  {
   "cell_type": "markdown",
   "metadata": {},
   "source": [
    "# XOR Operation in an Array\n",
    "\n",
    "Given an integer n and an integer start.\n",
    "\n",
    "Define an array nums where nums[i] = start + 2*i (0-indexed) and n == nums.length.\n",
    "\n",
    "Return the bitwise XOR of all elements of nums.\n",
    "\n",
    "**Example 1:**\n",
    "\n",
    "Input: n = 5, start = 0\n",
    "\n",
    "Output: 8\n",
    "\n",
    "Explanation: Array nums is equal to [0, 2, 4, 6, 8] where (0 ^ 2 ^ 4 ^ 6 ^ 8) = 8. Where \"^\" corresponds to bitwise XOR operator.\n",
    "\n",
    "**Example 2:**\n",
    "\n",
    "Input: n = 4, start = 3\n",
    "\n",
    "Output: 8\n",
    "\n",
    "Explanation: Array nums is equal to [3, 5, 7, 9] where (3 ^ 5 ^ 7 ^ 9) = 8.\n",
    "\n",
    "**Example 3:**\n",
    "\n",
    "Input: n = 1, start = 7\n",
    "\n",
    "Output: 7\n",
    "\n",
    "**Example 4:**\n",
    "\n",
    "Input: n = 10, start = 5\n",
    "\n",
    "Output: 2\n",
    " \n",
    "\n",
    "**Constraints:**\n",
    "\n",
    "1 <= n <= 1000\n",
    "\n",
    "0 <= start <= 1000\n",
    "\n",
    "n == nums.length"
   ]
  },
  {
   "cell_type": "code",
   "execution_count": 2,
   "metadata": {},
   "outputs": [
    {
     "name": "stdout",
     "output_type": "stream",
     "text": [
      "8\n",
      "8\n",
      "7\n",
      "2\n"
     ]
    }
   ],
   "source": [
    "from functools import reduce\n",
    "\n",
    "def xorOperation(n,start):\n",
    "        int_list = [2*i + start for i in range(n)]\n",
    "        return reduce(lambda x, y: x ^ y, int_list)\n",
    "\n",
    "\n",
    "\n",
    "n = 5\n",
    "start = 0\n",
    "print(xorOperation(n,start))\n",
    "\n",
    "n = 4\n",
    "start = 3\n",
    "print(xorOperation(n,start))\n",
    "\n",
    "n = 1\n",
    "start = 7\n",
    "print(xorOperation(n,start))\n",
    "\n",
    "n = 10\n",
    "start = 5\n",
    "print(xorOperation(n,start))"
   ]
  }
 ],
 "metadata": {
  "kernelspec": {
   "display_name": "Python 3",
   "language": "python",
   "name": "python3"
  },
  "language_info": {
   "codemirror_mode": {
    "name": "ipython",
    "version": 3
   },
   "file_extension": ".py",
   "mimetype": "text/x-python",
   "name": "python",
   "nbconvert_exporter": "python",
   "pygments_lexer": "ipython3",
   "version": "3.7.3"
  }
 },
 "nbformat": 4,
 "nbformat_minor": 2
}
