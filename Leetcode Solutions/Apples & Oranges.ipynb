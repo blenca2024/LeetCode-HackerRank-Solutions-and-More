{
 "cells": [
  {
   "cell_type": "markdown",
   "metadata": {},
   "source": [
    "# 1445. Apples & Oranges\n",
    "**Solved**\n",
    "\n",
    "**Medium**\n",
    "\n",
    "## Topics\n",
    "- Companies\n",
    "- SQL Schema\n",
    "- Pandas Schema\n",
    "\n",
    "## Table: Sales\n",
    "\n",
    "| Column Name | Type |\n",
    "|-------------|------|\n",
    "| sale_date   | date |\n",
    "| fruit       | enum | \n",
    "| sold_num    | int  | \n",
    "\n",
    "(sale_date, fruit) is the primary key (combination of columns with unique values) of this table. This table contains the sales of \"apples\" and \"oranges\" sold each day.\n",
    "\n",
    "Write a solution to report the difference between the number of apples and oranges sold each day.\n",
    "\n",
    "Return the result table ordered by `sale_date`.\n",
    "\n",
    "The result format is in the following example.\n",
    "\n",
    "## Example 1:\n",
    "\n",
    "**Input:**\n",
    "\n",
    "Sales table:\n",
    "\n",
    "| sale_date  | fruit   | sold_num |\n",
    "|------------|---------|----------|\n",
    "| 2020-05-01 | apples  | 10       |\n",
    "| 2020-05-01 | oranges | 8        |\n",
    "| 2020-05-02 | apples  | 15       |\n",
    "| 2020-05-02 | oranges | 15       |\n",
    "| 2020-05-03 | apples  | 20       |\n",
    "| 2020-05-03 | oranges | 0        |\n",
    "| 2020-05-04 | apples  | 15       |\n",
    "| 2020-05-04 | oranges | 16       |\n",
    "\n",
    "**Output:**\n",
    "\n",
    "| sale_date  | diff |\n",
    "|------------|------|\n",
    "| 2020-05-01 | 2    |\n",
    "| 2020-05-02 | 0    |\n",
    "| 2020-05-03 | 20   |\n",
    "| 2020-05-04 | -1   |\n",
    "\n",
    "**Explanation:**  \n",
    "- Day 2020-05-01, 10 apples and 8 oranges were sold (Difference 10 - 8 = 2).\n",
    "- Day 2020-05-02, 15 apples and 15 oranges were sold (Difference 15 - 15 = 0).\n",
    "- Day 2020-05-03, 20 apples and 0 oranges were sold (Difference 20 - 0 = 20).\n",
    "- Day 2020-05-04, 15 apples and 16 oranges were sold (Difference 15 - 16 = -1).\n"
   ]
  },
  {
   "cell_type": "code",
   "execution_count": 1,
   "metadata": {},
   "outputs": [],
   "source": [
    "import pandas as pd"
   ]
  },
  {
   "cell_type": "code",
   "execution_count": 2,
   "metadata": {},
   "outputs": [],
   "source": [
    "def apples_oranges(sales: pd.DataFrame) -> pd.DataFrame:\n",
    "    sales.loc[sales['fruit'] == 'oranges', 'sold_num'] *= -1\n",
    "    output_df = sales.groupby('sale_date').sum('sold_num').reset_index()\n",
    "    return output_df.sort_values('sale_date').rename({'sold_num':'diff'}, axis=1)"
   ]
  },
  {
   "cell_type": "code",
   "execution_count": 3,
   "metadata": {},
   "outputs": [],
   "source": [
    "sales = pd.DataFrame([\n",
    "    {\"sale_date\": \"2020-05-01\", \"fruit\": \"apples\", \"sold_num\": 10},\n",
    "    {\"sale_date\": \"2020-05-01\", \"fruit\": \"oranges\", \"sold_num\": 8},\n",
    "    {\"sale_date\": \"2020-05-02\", \"fruit\": \"apples\", \"sold_num\": 15},\n",
    "    {\"sale_date\": \"2020-05-02\", \"fruit\": \"oranges\", \"sold_num\": 15},\n",
    "    {\"sale_date\": \"2020-05-03\", \"fruit\": \"apples\", \"sold_num\": 20},\n",
    "    {\"sale_date\": \"2020-05-03\", \"fruit\": \"oranges\", \"sold_num\": 0},\n",
    "    {\"sale_date\": \"2020-05-04\", \"fruit\": \"apples\", \"sold_num\": 15},\n",
    "    {\"sale_date\": \"2020-05-04\", \"fruit\": \"oranges\", \"sold_num\": 16},\n",
    "])"
   ]
  },
  {
   "cell_type": "code",
   "execution_count": 4,
   "metadata": {},
   "outputs": [
    {
     "data": {
      "text/html": [
       "<div>\n",
       "<style scoped>\n",
       "    .dataframe tbody tr th:only-of-type {\n",
       "        vertical-align: middle;\n",
       "    }\n",
       "\n",
       "    .dataframe tbody tr th {\n",
       "        vertical-align: top;\n",
       "    }\n",
       "\n",
       "    .dataframe thead th {\n",
       "        text-align: right;\n",
       "    }\n",
       "</style>\n",
       "<table border=\"1\" class=\"dataframe\">\n",
       "  <thead>\n",
       "    <tr style=\"text-align: right;\">\n",
       "      <th></th>\n",
       "      <th>sale_date</th>\n",
       "      <th>diff</th>\n",
       "    </tr>\n",
       "  </thead>\n",
       "  <tbody>\n",
       "    <tr>\n",
       "      <th>0</th>\n",
       "      <td>2020-05-01</td>\n",
       "      <td>2</td>\n",
       "    </tr>\n",
       "    <tr>\n",
       "      <th>1</th>\n",
       "      <td>2020-05-02</td>\n",
       "      <td>0</td>\n",
       "    </tr>\n",
       "    <tr>\n",
       "      <th>2</th>\n",
       "      <td>2020-05-03</td>\n",
       "      <td>20</td>\n",
       "    </tr>\n",
       "    <tr>\n",
       "      <th>3</th>\n",
       "      <td>2020-05-04</td>\n",
       "      <td>-1</td>\n",
       "    </tr>\n",
       "  </tbody>\n",
       "</table>\n",
       "</div>"
      ],
      "text/plain": [
       "    sale_date  diff\n",
       "0  2020-05-01     2\n",
       "1  2020-05-02     0\n",
       "2  2020-05-03    20\n",
       "3  2020-05-04    -1"
      ]
     },
     "execution_count": 4,
     "metadata": {},
     "output_type": "execute_result"
    }
   ],
   "source": [
    "apples_oranges(sales)"
   ]
  }
 ],
 "metadata": {
  "kernelspec": {
   "display_name": "datascience",
   "language": "python",
   "name": "datascience"
  },
  "language_info": {
   "codemirror_mode": {
    "name": "ipython",
    "version": 3
   },
   "file_extension": ".py",
   "mimetype": "text/x-python",
   "name": "python",
   "nbconvert_exporter": "python",
   "pygments_lexer": "ipython3",
   "version": "3.11.4"
  }
 },
 "nbformat": 4,
 "nbformat_minor": 2
}
