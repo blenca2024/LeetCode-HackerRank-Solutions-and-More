{
 "cells": [
  {
   "cell_type": "markdown",
   "metadata": {},
   "source": [
    "944. Delete Columns to Make Sorted\n",
    "Solved\n",
    "Easy\n",
    "Topics\n",
    "Companies\n",
    "\n",
    "You are given an array of n strings strs, all of the same length.\n",
    "\n",
    "The strings can be arranged such that there is one on each line, making a grid.\n",
    "\n",
    "For example, strs = [\"abc\", \"bce\", \"cae\"] can be arranged as follows:\n",
    "\n",
    "abc\n",
    "bce\n",
    "cae\n",
    "\n",
    "\n",
    "You want to delete the columns that are not sorted lexicographically. In the above example (0-indexed), columns 0 ('a', 'b', 'c') and 2 ('c', 'e', 'e') are sorted, while column 1 ('b', 'c', 'a') is not, so you would delete column 1.\n",
    "\n",
    "Return the number of columns that you will delete.\n",
    "\n",
    "Example 1:\n",
    "\n",
    "Input: strs = [\"cba\",\"daf\",\"ghi\"]\n",
    "Output: 1\n",
    "Explanation: The grid looks as follows:\n",
    "\n",
    "cba\n",
    "daf\n",
    "ghi\n",
    "\n",
    "Columns 0 and 2 are sorted, but column 1 is not, so you only need to delete 1 column.\n",
    "\n",
    "Example 2:\n",
    "\n",
    "Input: strs = [\"a\",\"b\"]\n",
    "Output: 0\n",
    "Explanation: The grid looks as follows:\n",
    "\n",
    "a\n",
    "b\n",
    "\n",
    "Column 0 is the only column and is sorted, so you will not delete any columns.\n",
    "\n",
    "Example 3:\n",
    "\n",
    "Input: strs = [\"zyx\",\"wvu\",\"tsr\"]\n",
    "Output: 3\n",
    "Explanation: The grid looks as follows:\n",
    "\n",
    "zyx\n",
    "wvu\n",
    "tsr\n",
    "\n",
    "All 3 columns are not sorted, so you will delete all 3.\n",
    "\n",
    "Constraints:\n",
    "\n",
    "n == strs.length\n",
    "1 <= n <= 100\n",
    "1 <= strs[i].length <= 1000\n",
    "strs[i] consists of lowercase English letters."
   ]
  },
  {
   "cell_type": "code",
   "execution_count": 16,
   "metadata": {},
   "outputs": [],
   "source": [
    "from typing import List"
   ]
  },
  {
   "cell_type": "code",
   "execution_count": 17,
   "metadata": {},
   "outputs": [],
   "source": [
    "def minDeletionSize(strs: List[str]) -> int:\n",
    "    counter = 0\n",
    "\n",
    "    for iteration in range(len(strs[0])):\n",
    "        if [char[iteration] for char in strs] != sorted([char[iteration] for char in strs]):\n",
    "            counter += 1\n",
    "\n",
    "    return counter"
   ]
  },
  {
   "cell_type": "code",
   "execution_count": 18,
   "metadata": {},
   "outputs": [
    {
     "data": {
      "text/plain": [
       "1"
      ]
     },
     "execution_count": 18,
     "metadata": {},
     "output_type": "execute_result"
    }
   ],
   "source": [
    "strs = [\"cba\",\"daf\",\"ghi\"]\n",
    "\n",
    "minDeletionSize(strs)"
   ]
  }
 ],
 "metadata": {
  "kernelspec": {
   "display_name": "ds",
   "language": "python",
   "name": "python3"
  },
  "language_info": {
   "codemirror_mode": {
    "name": "ipython",
    "version": 3
   },
   "file_extension": ".py",
   "mimetype": "text/x-python",
   "name": "python",
   "nbconvert_exporter": "python",
   "pygments_lexer": "ipython3",
   "version": "3.11.2"
  }
 },
 "nbformat": 4,
 "nbformat_minor": 2
}
