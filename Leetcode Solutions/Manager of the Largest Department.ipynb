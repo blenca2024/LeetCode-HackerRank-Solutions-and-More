{
 "cells": [
  {
   "cell_type": "markdown",
   "metadata": {},
   "source": [
    "# 2988. Manager of the Largest Department\n",
    "\n",
    "### Table: Employees\n",
    "\n",
    "| Column Name | Type    |\n",
    "|-------------|---------|\n",
    "| emp_id      | int     |\n",
    "| emp_name    | varchar |\n",
    "| dep_id      | int     |\n",
    "| position    | varchar |\n",
    "\n",
    "`emp_id` is the column of unique values for this table. This table contains `emp_id`, `emp_name`, `dep_id`, and `position`.\n",
    "\n",
    "## Problem\n",
    "\n",
    "Write a solution to find the name of the manager from the largest department. There may be multiple largest departments when the number of employees in those departments is the same.\n",
    "\n",
    "Return the result table sorted by `dep_id` in ascending order.\n",
    "\n",
    "## Example 1:\n",
    "\n",
    "**Input:** \n",
    "\n",
    "Employees table:\n",
    "| emp_id | emp_name | dep_id | position      | \n",
    "|--------|----------|--------|---------------|\n",
    "| 156    | Michael  | 107    | Manager       |\n",
    "| 112    | Lucas    | 107    | Consultant    |    \n",
    "| 8      | Isabella | 101    | Manager       | \n",
    "| 160    | Joseph   | 100    | Manager       | \n",
    "| 80     | Aiden    | 100    | Engineer      | \n",
    "| 190    | Skylar   | 100    | Freelancer    | \n",
    "| 196    | Stella   | 101    | Coordinator   |\n",
    "| 167    | Audrey   | 100    | Consultant    |\n",
    "| 97     | Nathan   | 101    | Supervisor    |\n",
    "| 128    | Ian      | 101    | Administrator |\n",
    "| 81     | Ethan    | 107    | Administrator |\n",
    "\n",
    "**Output:**\n",
    "\n",
    "| manager_name | dep_id | \n",
    "|--------------|--------|\n",
    "| Joseph       | 100    | \n",
    "| Isabella     | 101    | \n",
    "\n",
    "**Explanation:**\n",
    "- Departments with IDs `100` and `101` each have a total of 4 employees, while department `107` has 3 employees. Since both departments `100` and `101` have an equal number of employees, their respective managers will be included.\n",
    "- The output table is ordered by `dep_id` in ascending order.\n"
   ]
  },
  {
   "cell_type": "code",
   "execution_count": 1,
   "metadata": {},
   "outputs": [],
   "source": [
    "import pandas as pd"
   ]
  },
  {
   "cell_type": "code",
   "execution_count": 2,
   "metadata": {},
   "outputs": [],
   "source": [
    "def find_manager(employees: pd.DataFrame) -> pd.DataFrame:\n",
    "    output_df = employees.groupby('dep_id').count().reset_index()\n",
    "    output_df = output_df[output_df['emp_id'] == output_df['emp_id'].max()]\n",
    "    output_df = pd.merge(output_df,employees[employees['position'] == 'Manager'],on='dep_id').rename({'emp_name_y':'manager_name'},axis=1)\n",
    "    return output_df[['manager_name','dep_id']]"
   ]
  },
  {
   "cell_type": "code",
   "execution_count": 3,
   "metadata": {},
   "outputs": [],
   "source": [
    "employees_data = {\n",
    "    'emp_id': [156, 112, 8, 160, 80, 190, 196, 167, 97, 128, 81],\n",
    "    'emp_name': ['Michael', 'Lucas', 'Isabella', 'Joseph', 'Aiden', 'Skylar', 'Stella', 'Audrey', 'Nathan', 'Ian', 'Ethan'],\n",
    "    'dep_id': [107, 107, 101, 100, 100, 100, 101, 100, 101, 101, 107],\n",
    "    'position': ['Manager', 'Consultant', 'Manager', 'Manager', 'Engineer', 'Freelancer', 'Coordinator', 'Consultant', 'Supervisor', 'Administrator', 'Administrator']\n",
    "}\n",
    "\n",
    "employees = pd.DataFrame(employees_data)"
   ]
  },
  {
   "cell_type": "code",
   "execution_count": 4,
   "metadata": {},
   "outputs": [
    {
     "data": {
      "text/html": [
       "<div>\n",
       "<style scoped>\n",
       "    .dataframe tbody tr th:only-of-type {\n",
       "        vertical-align: middle;\n",
       "    }\n",
       "\n",
       "    .dataframe tbody tr th {\n",
       "        vertical-align: top;\n",
       "    }\n",
       "\n",
       "    .dataframe thead th {\n",
       "        text-align: right;\n",
       "    }\n",
       "</style>\n",
       "<table border=\"1\" class=\"dataframe\">\n",
       "  <thead>\n",
       "    <tr style=\"text-align: right;\">\n",
       "      <th></th>\n",
       "      <th>manager_name</th>\n",
       "      <th>dep_id</th>\n",
       "    </tr>\n",
       "  </thead>\n",
       "  <tbody>\n",
       "    <tr>\n",
       "      <th>0</th>\n",
       "      <td>Joseph</td>\n",
       "      <td>100</td>\n",
       "    </tr>\n",
       "    <tr>\n",
       "      <th>1</th>\n",
       "      <td>Isabella</td>\n",
       "      <td>101</td>\n",
       "    </tr>\n",
       "  </tbody>\n",
       "</table>\n",
       "</div>"
      ],
      "text/plain": [
       "  manager_name  dep_id\n",
       "0       Joseph     100\n",
       "1     Isabella     101"
      ]
     },
     "execution_count": 4,
     "metadata": {},
     "output_type": "execute_result"
    }
   ],
   "source": [
    "find_manager(employees=employees)"
   ]
  }
 ],
 "metadata": {
  "kernelspec": {
   "display_name": "wai",
   "language": "python",
   "name": "python3"
  },
  "language_info": {
   "codemirror_mode": {
    "name": "ipython",
    "version": 3
   },
   "file_extension": ".py",
   "mimetype": "text/x-python",
   "name": "python",
   "nbconvert_exporter": "python",
   "pygments_lexer": "ipython3",
   "version": "3.11.4"
  }
 },
 "nbformat": 4,
 "nbformat_minor": 2
}
