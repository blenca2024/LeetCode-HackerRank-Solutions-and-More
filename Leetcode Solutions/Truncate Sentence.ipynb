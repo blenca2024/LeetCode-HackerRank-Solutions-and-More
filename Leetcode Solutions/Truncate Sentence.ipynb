{
 "cells": [
  {
   "cell_type": "markdown",
   "metadata": {},
   "source": [
    "# 1816. Truncate Sentence\n",
    "\n",
    "A sentence is a list of words that are separated by a single space with no leading or trailing spaces. Each of the words consists of only uppercase and lowercase English letters (no punctuation).\n",
    "\n",
    "For example, \"Hello World\", \"HELLO\", and \"hello world hello world\" are all sentences.\n",
    "\n",
    "You are given a sentence `s` and an integer `k`. You want to truncate `s` such that it contains only the first `k` words. Return `s` after truncating it.\n",
    "\n",
    "## Example 1:\n",
    "\n",
    "**Input:**  \n",
    "`s = \"Hello how are you Contestant\"`  \n",
    "`k = 4`\n",
    "\n",
    "**Output:**  \n",
    "\"Hello how are you\"\n",
    "\n",
    "**Explanation:**  \n",
    "The words in `s` are [\"Hello\", \"how\", \"are\", \"you\", \"Contestant\"].  \n",
    "The first 4 words are [\"Hello\", \"how\", \"are\", \"you\"].  \n",
    "Hence, you should return \"Hello how are you\".\n",
    "\n",
    "## Example 2:\n",
    "\n",
    "**Input:**  \n",
    "`s = \"What is the solution to this problem\"`  \n",
    "`k = 4`\n",
    "\n",
    "**Output:**  \n",
    "\"What is the solution\"\n",
    "\n",
    "**Explanation:**  \n",
    "The words in `s` are [\"What\", \"is\", \"the\", \"solution\", \"to\", \"this\", \"problem\"].  \n",
    "The first 4 words are [\"What\", \"is\", \"the\", \"solution\"].  \n",
    "Hence, you should return \"What is the solution\".\n",
    "\n",
    "## Example 3:\n",
    "\n",
    "**Input:**  \n",
    "`s = \"chopper is not a tanuki\"`  \n",
    "`k = 5`\n",
    "\n",
    "**Output:**  \n",
    "\"chopper is not a tanuki\"\n",
    "\n",
    "## Constraints:\n",
    "\n",
    "- 1 <= s.length <= 500\n",
    "- k is in the range [1, the number of words in s].\n",
    "- s consists of only lowercase and uppercase English letters and spaces.\n",
    "- The words in s are separated by a single space.\n",
    "- There are no leading or trailing spaces.\n"
   ]
  },
  {
   "cell_type": "code",
   "execution_count": 1,
   "metadata": {},
   "outputs": [],
   "source": [
    "def truncateSentence(s: str, k: int) -> str:\n",
    "    return ' '.join([word for word in s.split()][:k])"
   ]
  },
  {
   "cell_type": "code",
   "execution_count": 2,
   "metadata": {},
   "outputs": [
    {
     "data": {
      "text/plain": [
       "'Hello how are you'"
      ]
     },
     "execution_count": 2,
     "metadata": {},
     "output_type": "execute_result"
    }
   ],
   "source": [
    "s = \"Hello how are you Contestant\"\n",
    "k = 4\n",
    "\n",
    "truncateSentence(s=s,k=k)"
   ]
  }
 ],
 "metadata": {
  "kernelspec": {
   "display_name": "datascience",
   "language": "python",
   "name": "datascience"
  },
  "language_info": {
   "codemirror_mode": {
    "name": "ipython",
    "version": 3
   },
   "file_extension": ".py",
   "mimetype": "text/x-python",
   "name": "python",
   "nbconvert_exporter": "python",
   "pygments_lexer": "ipython3",
   "version": "3.11.4"
  }
 },
 "nbformat": 4,
 "nbformat_minor": 2
}
