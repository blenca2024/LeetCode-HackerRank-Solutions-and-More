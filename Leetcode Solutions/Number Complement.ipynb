{
 "cells": [
  {
   "cell_type": "markdown",
   "metadata": {},
   "source": [
    "# Number Complement\n",
    "\n",
    "Given a positive integer num, output its complement number. The complement strategy is to flip the bits of its binary representation.\n",
    "\n",
    " \n",
    "\n",
    "**Example 1:**\n",
    "\n",
    "Input: num = 5\n",
    "\n",
    "Output: 2\n",
    "\n",
    "Explanation: The binary representation of 5 is 101 (no leading zero bits), and its complement is 010. So you need to output 2.\n",
    "\n",
    "**Example 2:**\n",
    "\n",
    "Input: num = 1\n",
    "\n",
    "Output: 0\n",
    "\n",
    "Explanation: The binary representation of 1 is 1 (no leading zero bits), and its complement is 0. So you need to output 0.\n",
    " \n",
    "\n",
    "**Constraints:**\n",
    "\n",
    "The given integer num is guaranteed to fit within the range of a 32-bit signed integer.\n",
    "\n",
    "num >= 1\n",
    "\n",
    "You could assume no leading zero bit in the integer’s binary representation.\n",
    "\n",
    "This question is the same as 1009: https://leetcode.com/problems/complement-of-base-10-integer/"
   ]
  },
  {
   "cell_type": "code",
   "execution_count": 1,
   "metadata": {},
   "outputs": [
    {
     "name": "stdout",
     "output_type": "stream",
     "text": [
      "2\n",
      "0\n"
     ]
    }
   ],
   "source": [
    "def findComplement(num):\n",
    "        bit_list = []\n",
    "        bit = bin(num)\n",
    "        bit = bit[2:]\n",
    "        for i in bit:\n",
    "            if i == '1':\n",
    "                bit_list.append('0')\n",
    "            else:\n",
    "                bit_list.append('1')\n",
    "        s = \"\".join(bit_list)\n",
    "        return int(s,2)\n",
    "\n",
    "\n",
    "num = 5\n",
    "print(findComplement(num))\n",
    "\n",
    "num = 1\n",
    "print(findComplement(num))"
   ]
  }
 ],
 "metadata": {
  "kernelspec": {
   "display_name": "Python 3",
   "language": "python",
   "name": "python3"
  },
  "language_info": {
   "codemirror_mode": {
    "name": "ipython",
    "version": 3
   },
   "file_extension": ".py",
   "mimetype": "text/x-python",
   "name": "python",
   "nbconvert_exporter": "python",
   "pygments_lexer": "ipython3",
   "version": "3.7.3"
  }
 },
 "nbformat": 4,
 "nbformat_minor": 2
}
