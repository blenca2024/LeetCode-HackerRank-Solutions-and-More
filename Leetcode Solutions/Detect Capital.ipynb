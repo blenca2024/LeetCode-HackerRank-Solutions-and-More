{
 "cells": [
  {
   "cell_type": "markdown",
   "metadata": {},
   "source": [
    "# Detect Capital\n",
    "\n",
    "Given a word, you need to judge whether the usage of capitals in it is right or not.\n",
    "\n",
    "We define the usage of capitals in a word to be right when one of the following cases holds:\n",
    "\n",
    "All letters in this word are capitals, like \"USA\".\n",
    "\n",
    "All letters in this word are not capitals, like \"leetcode\".\n",
    "\n",
    "Only the first letter in this word is capital, like \"Google\".\n",
    "\n",
    "Otherwise, we define that this word doesn't use capitals in a right way.\n",
    " \n",
    "\n",
    "**Example 1:**\n",
    "\n",
    "Input: \"USA\"\n",
    "\n",
    "Output: True\n",
    " \n",
    "\n",
    "**Example 2:**\n",
    "\n",
    "Input: \"FlaG\"\n",
    "\n",
    "Output: False\n",
    " \n",
    "\n",
    "**Note**: The input will be a non-empty word consisting of uppercase and lowercase latin letters."
   ]
  },
  {
   "cell_type": "code",
   "execution_count": 1,
   "metadata": {},
   "outputs": [
    {
     "name": "stdout",
     "output_type": "stream",
     "text": [
      "True\n",
      "False\n"
     ]
    }
   ],
   "source": [
    "def detectCapitalUse(word):\n",
    "        if(all(letter.isupper() == True for letter in word)):\n",
    "            return True\n",
    "        if(all(letter.islower() == True for letter in word)):\n",
    "            return True\n",
    "        if word[0].isupper() == True:\n",
    "            if(all(letter.islower() == True for letter in word[1::])):\n",
    "                return True\n",
    "            else:\n",
    "                return False\n",
    "        else:\n",
    "            return False\n",
    "        \n",
    "\n",
    "word = \"USA\"\n",
    "print(detectCapitalUse(word))\n",
    "\n",
    "word = \"FlaG\"\n",
    "print(detectCapitalUse(word))"
   ]
  }
 ],
 "metadata": {
  "kernelspec": {
   "display_name": "Python 3",
   "language": "python",
   "name": "python3"
  },
  "language_info": {
   "codemirror_mode": {
    "name": "ipython",
    "version": 3
   },
   "file_extension": ".py",
   "mimetype": "text/x-python",
   "name": "python",
   "nbconvert_exporter": "python",
   "pygments_lexer": "ipython3",
   "version": "3.7.3"
  }
 },
 "nbformat": 4,
 "nbformat_minor": 2
}
