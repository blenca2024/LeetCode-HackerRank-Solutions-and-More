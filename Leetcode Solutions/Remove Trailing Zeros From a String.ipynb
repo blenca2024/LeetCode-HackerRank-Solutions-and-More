{
 "cells": [
  {
   "cell_type": "markdown",
   "metadata": {},
   "source": [
    "2710. Remove Trailing Zeros From a String\n",
    "\n",
    "Given a positive integer `num` represented as a string, return the integer `num` without trailing zeros as a string.\n",
    "\n",
    "Example 1:\n",
    "\n",
    "Input: num = \"51230100\"\n",
    "Output: \"512301\"\n",
    "Explanation: Integer \"51230100\" has 2 trailing zeros, we remove them and return integer \"512301\".\n",
    "\n",
    "Example 2:\n",
    "\n",
    "Input: num = \"123\"\n",
    "Output: \"123\"\n",
    "Explanation: Integer \"123\" has no trailing zeros, we return integer \"123\".\n",
    "\n",
    "Constraints:\n",
    "\n",
    "- 1 <= num.length <= 1000\n",
    "- `num` consists of only digits.\n",
    "- `num` doesn't have any leading zeros.\n"
   ]
  },
  {
   "cell_type": "code",
   "execution_count": 1,
   "metadata": {},
   "outputs": [],
   "source": [
    "def removeTrailingZeros(num: str) -> str:\n",
    "    char_list = [n for n in num]\n",
    "    while char_list[-1] == '0':\n",
    "        char_list.pop()\n",
    "\n",
    "    return ''.join(char_list)"
   ]
  },
  {
   "cell_type": "code",
   "execution_count": 2,
   "metadata": {},
   "outputs": [
    {
     "data": {
      "text/plain": [
       "'512301'"
      ]
     },
     "execution_count": 2,
     "metadata": {},
     "output_type": "execute_result"
    }
   ],
   "source": [
    "num = \"51230100\"\n",
    "removeTrailingZeros(num)"
   ]
  },
  {
   "cell_type": "code",
   "execution_count": 3,
   "metadata": {},
   "outputs": [
    {
     "data": {
      "text/plain": [
       "'123'"
      ]
     },
     "execution_count": 3,
     "metadata": {},
     "output_type": "execute_result"
    }
   ],
   "source": [
    "num = \"123\"\n",
    "removeTrailingZeros(num)"
   ]
  }
 ],
 "metadata": {
  "kernelspec": {
   "display_name": "Python 3",
   "language": "python",
   "name": "python3"
  },
  "language_info": {
   "codemirror_mode": {
    "name": "ipython",
    "version": 3
   },
   "file_extension": ".py",
   "mimetype": "text/x-python",
   "name": "python",
   "nbconvert_exporter": "python",
   "pygments_lexer": "ipython3",
   "version": "3.11.2"
  }
 },
 "nbformat": 4,
 "nbformat_minor": 2
}
