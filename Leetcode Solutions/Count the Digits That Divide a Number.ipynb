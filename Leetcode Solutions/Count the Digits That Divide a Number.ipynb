{
 "cells": [
  {
   "cell_type": "markdown",
   "metadata": {},
   "source": [
    "# 2520. Count the Digits That Divide a Number\n",
    "\n",
    "**Solved**\n",
    "\n",
    "**Easy**\n",
    "\n",
    "## Topics\n",
    "\n",
    "## Companies\n",
    "\n",
    "## Hint\n",
    "\n",
    "Given an integer `num`, return the number of digits in `num` that divide `num`.\n",
    "\n",
    "An integer `val` divides `num` if `num % val == 0`.\n",
    "\n",
    "## Example 1:\n",
    "\n",
    "**Input:** `num = 7`\n",
    "\n",
    "**Output:** `1`\n",
    "\n",
    "**Explanation:** 7 divides itself, hence the answer is 1.\n",
    "\n",
    "## Example 2:\n",
    "\n",
    "**Input:** `num = 121`\n",
    "\n",
    "**Output:** `2`\n",
    "\n",
    "**Explanation:** 121 is divisible by 1, but not 2. Since 1 occurs twice as a digit, we return 2.\n",
    "\n",
    "## Example 3:\n",
    "\n",
    "**Input:** `num = 1248`\n",
    "\n",
    "**Output:** `4`\n",
    "\n",
    "**Explanation:** 1248 is divisible by all of its digits, hence the answer is 4.\n",
    "\n",
    "## Constraints:\n",
    "\n",
    "- `1 <= num <= 10^9`\n",
    "- `num` does not contain 0 as one of its digits."
   ]
  },
  {
   "cell_type": "code",
   "execution_count": 1,
   "metadata": {},
   "outputs": [],
   "source": [
    "def countDigits(num: int) -> int:\n",
    "    return len([subnum for subnum in str(num) if num%int(subnum) == 0])"
   ]
  },
  {
   "cell_type": "code",
   "execution_count": 2,
   "metadata": {},
   "outputs": [
    {
     "data": {
      "text/plain": [
       "4"
      ]
     },
     "execution_count": 2,
     "metadata": {},
     "output_type": "execute_result"
    }
   ],
   "source": [
    "num = 1248\n",
    "countDigits(num)"
   ]
  },
  {
   "cell_type": "code",
   "execution_count": 3,
   "metadata": {},
   "outputs": [
    {
     "data": {
      "text/plain": [
       "2"
      ]
     },
     "execution_count": 3,
     "metadata": {},
     "output_type": "execute_result"
    }
   ],
   "source": [
    "num = 121\n",
    "countDigits(num)"
   ]
  },
  {
   "cell_type": "code",
   "execution_count": 4,
   "metadata": {},
   "outputs": [
    {
     "data": {
      "text/plain": [
       "1"
      ]
     },
     "execution_count": 4,
     "metadata": {},
     "output_type": "execute_result"
    }
   ],
   "source": [
    "num = 7\n",
    "countDigits(num)"
   ]
  }
 ],
 "metadata": {
  "kernelspec": {
   "display_name": "wai",
   "language": "python",
   "name": "python3"
  },
  "language_info": {
   "codemirror_mode": {
    "name": "ipython",
    "version": 3
   },
   "file_extension": ".py",
   "mimetype": "text/x-python",
   "name": "python",
   "nbconvert_exporter": "python",
   "pygments_lexer": "ipython3",
   "version": "3.11.4"
  }
 },
 "nbformat": 4,
 "nbformat_minor": 2
}
