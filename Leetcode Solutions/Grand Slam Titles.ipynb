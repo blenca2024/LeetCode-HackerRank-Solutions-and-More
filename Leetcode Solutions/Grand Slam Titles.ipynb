{
 "cells": [
  {
   "cell_type": "markdown",
   "metadata": {},
   "source": [
    "# 1783. Grand Slam Titles\n",
    "\n",
    "Table: Players\n",
    "\n",
    "| Column Name | Type    |\n",
    "|-------------|---------|\n",
    "| player_id   | int     |\n",
    "| player_name | varchar |\n",
    "\n",
    "`player_id` is the primary key (column with unique values) for this table.\n",
    "Each row in this table contains the name and the ID of a tennis player.\n",
    "\n",
    "Table: Championships\n",
    "\n",
    "| Column Name | Type |\n",
    "|-------------|------|\n",
    "| year        | int  |\n",
    "| Wimbledon   | int  |\n",
    "| Fr_open     | int  |\n",
    "| US_open     | int  |\n",
    "| Au_open     | int  |\n",
    "\n",
    "`year` is the primary key (column with unique values) for this table.\n",
    "Each row of this table contains the IDs of the players who won each tennis tournament of the grand slam.\n",
    "\n",
    "Write a solution to report the number of grand slam tournaments won by each player. Do not include the players who did not win any tournament.\n",
    "\n",
    "Return the result table in any order.\n",
    "\n",
    "The result format is in the following example.\n",
    "\n",
    "## Example:\n",
    "\n",
    "**Input:**\n",
    "\n",
    "Players table:\n",
    "\n",
    "| player_id | player_name |\n",
    "|-----------|-------------|\n",
    "| 1         | Nadal       |\n",
    "| 2         | Federer     |\n",
    "| 3         | Novak       |\n",
    "\n",
    "Championships table:\n",
    "\n",
    "| year | Wimbledon | Fr_open | US_open | Au_open |\n",
    "|------|-----------|---------|---------|---------|\n",
    "| 2018 | 1         | 1       | 1       | 1       |\n",
    "| 2019 | 1         | 1       | 2       | 2       |\n",
    "| 2020 | 2         | 1       | 2       | 2       |\n",
    "\n",
    "**Output:**\n",
    "\n",
    "| player_id | player_name | grand_slams_count |\n",
    "|-----------|-------------|-------------------|\n",
    "| 2         | Federer     | 5                 |\n",
    "| 1         | Nadal       | 7                 |\n",
    "\n",
    "**Explanation:**\n",
    "\n",
    "Player 1 (Nadal) won 7 titles: Wimbledon (2018, 2019), Fr_open (2018, 2019, 2020), US_open (2018), and Au_open (2018).\n",
    "Player 2 (Federer) won 5 titles: Wimbledon (2020), US_open (2019, 2020), and Au_open (2019, 2020).\n",
    "Player 3 (Novak) did not win anything, so they are not included in the result table.\n"
   ]
  },
  {
   "cell_type": "code",
   "execution_count": 1,
   "metadata": {},
   "outputs": [],
   "source": [
    "import pandas as pd"
   ]
  },
  {
   "cell_type": "code",
   "execution_count": 2,
   "metadata": {},
   "outputs": [],
   "source": [
    "players = pd.DataFrame([\n",
    "    {\"player_id\": 1, \"player_name\": \"Nadal\"},\n",
    "    {\"player_id\": 2, \"player_name\": \"Federer\"},\n",
    "    {\"player_id\": 3, \"player_name\": \"Novak\"},\n",
    "]\n",
    ")\n",
    "\n",
    "championships = pd.DataFrame([\n",
    "    {\"year\": 2018, \"Wimbledon\": 1, \"Fr_open\": 1, \"US_open\": 1, \"Au_open\": 1},\n",
    "    {\"year\": 2019, \"Wimbledon\": 1, \"Fr_open\": 1, \"US_open\": 2, \"Au_open\": 2},\n",
    "    {\"year\": 2020, \"Wimbledon\": 2, \"Fr_open\": 1, \"US_open\": 2, \"Au_open\": 2},\n",
    "])"
   ]
  },
  {
   "cell_type": "code",
   "execution_count": 3,
   "metadata": {},
   "outputs": [],
   "source": [
    "def grand_slam_titles(players: pd.DataFrame, championships: pd.DataFrame) -> pd.DataFrame:\n",
    "\n",
    "    champ_dict = {id:0 for id in players['player_id'].unique()}\n",
    "\n",
    "    for tourney in championships.columns[1:]:\n",
    "        sub_dict = championships.value_counts(tourney).to_dict()\n",
    "        for k,v in sub_dict.items():\n",
    "            champ_dict[k] += v\n",
    "\n",
    "    champ_dict = {k:v for k,v in champ_dict.items() if v != 0}\n",
    "\n",
    "    return pd.DataFrame({'player_id':champ_dict.keys(),\n",
    "                'player_name':[name for id,name in zip(players['player_id'],players['player_name']) if id in champ_dict.keys()],\n",
    "                'grand_slams_count':champ_dict.values()})"
   ]
  },
  {
   "cell_type": "code",
   "execution_count": 4,
   "metadata": {},
   "outputs": [
    {
     "data": {
      "text/html": [
       "<div>\n",
       "<style scoped>\n",
       "    .dataframe tbody tr th:only-of-type {\n",
       "        vertical-align: middle;\n",
       "    }\n",
       "\n",
       "    .dataframe tbody tr th {\n",
       "        vertical-align: top;\n",
       "    }\n",
       "\n",
       "    .dataframe thead th {\n",
       "        text-align: right;\n",
       "    }\n",
       "</style>\n",
       "<table border=\"1\" class=\"dataframe\">\n",
       "  <thead>\n",
       "    <tr style=\"text-align: right;\">\n",
       "      <th></th>\n",
       "      <th>player_id</th>\n",
       "      <th>player_name</th>\n",
       "      <th>grand_slams_count</th>\n",
       "    </tr>\n",
       "  </thead>\n",
       "  <tbody>\n",
       "    <tr>\n",
       "      <th>0</th>\n",
       "      <td>1</td>\n",
       "      <td>Nadal</td>\n",
       "      <td>7</td>\n",
       "    </tr>\n",
       "    <tr>\n",
       "      <th>1</th>\n",
       "      <td>2</td>\n",
       "      <td>Federer</td>\n",
       "      <td>5</td>\n",
       "    </tr>\n",
       "  </tbody>\n",
       "</table>\n",
       "</div>"
      ],
      "text/plain": [
       "   player_id player_name  grand_slams_count\n",
       "0          1       Nadal                  7\n",
       "1          2     Federer                  5"
      ]
     },
     "execution_count": 4,
     "metadata": {},
     "output_type": "execute_result"
    }
   ],
   "source": [
    "grand_slam_titles(players=players,championships=championships)"
   ]
  }
 ],
 "metadata": {
  "kernelspec": {
   "display_name": "datascience",
   "language": "python",
   "name": "datascience"
  },
  "language_info": {
   "codemirror_mode": {
    "name": "ipython",
    "version": 3
   },
   "file_extension": ".py",
   "mimetype": "text/x-python",
   "name": "python",
   "nbconvert_exporter": "python",
   "pygments_lexer": "ipython3",
   "version": "3.11.4"
  }
 },
 "nbformat": 4,
 "nbformat_minor": 2
}
