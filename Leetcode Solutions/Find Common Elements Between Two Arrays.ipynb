{
 "cells": [
  {
   "cell_type": "markdown",
   "metadata": {},
   "source": [
    "# 2956. Find Common Elements Between Two Arrays\n",
    "\n",
    "You are given two integer arrays `nums1` and `nums2` of sizes `n` and `m`, respectively. Calculate the following values:\n",
    "\n",
    "- `answer1`: the number of indices `i` such that `nums1[i]` exists in `nums2`.\n",
    "- `answer2`: the number of indices `i` such that `nums2[i]` exists in `nums1`.\n",
    "\n",
    "Return `[answer1, answer2]`.\n",
    "\n",
    "## Example 1:\n",
    "\n",
    "**Input:**  \n",
    "`nums1 = [2,3,2]`  \n",
    "`nums2 = [1,2]`\n",
    "\n",
    "**Output:**  \n",
    "`[2,1]`\n",
    "\n",
    "**Explanation:**\n",
    "\n",
    "## Example 2:\n",
    "\n",
    "**Input:**  \n",
    "`nums1 = [4,3,2,3,1]`  \n",
    "`nums2 = [2,2,5,2,3,6]`\n",
    "\n",
    "**Output:**  \n",
    "`[3,4]`\n",
    "\n",
    "**Explanation:**  \n",
    "The elements at indices 1, 2, and 3 in `nums1` exist in `nums2` as well. So `answer1` is 3.  \n",
    "The elements at indices 0, 1, 3, and 4 in `nums2` exist in `nums1`. So `answer2` is 4.\n",
    "\n",
    "## Example 3:\n",
    "\n",
    "**Input:**  \n",
    "`nums1 = [3,4,2,3]`  \n",
    "`nums2 = [1,5]`\n",
    "\n",
    "**Output:**  \n",
    "`[0,0]`\n",
    "\n",
    "**Explanation:**  \n",
    "No numbers are common between `nums1` and `nums2`, so the answer is `[0,0]`.\n",
    "\n",
    "## Constraints:\n",
    "\n",
    "- `n == nums1.length`\n",
    "- `m == nums2.length`\n",
    "- `1 <= n, m <= 100`\n",
    "- `1 <= nums1[i], nums2[i] <= 100`\n"
   ]
  },
  {
   "cell_type": "code",
   "execution_count": 1,
   "metadata": {},
   "outputs": [],
   "source": [
    "from typing import List"
   ]
  },
  {
   "cell_type": "code",
   "execution_count": 2,
   "metadata": {},
   "outputs": [],
   "source": [
    "def findIntersectionValues(nums1: List[int], nums2: List[int]) -> List[int]:\n",
    "    return [len([num for num in nums1 if num in nums2]),\n",
    "            len([num for num in nums2 if num in nums1])]"
   ]
  },
  {
   "cell_type": "code",
   "execution_count": 3,
   "metadata": {},
   "outputs": [
    {
     "data": {
      "text/plain": [
       "[2, 1]"
      ]
     },
     "execution_count": 3,
     "metadata": {},
     "output_type": "execute_result"
    }
   ],
   "source": [
    "nums1 = [2,3,2]\n",
    "nums2 = [1,2]\n",
    "\n",
    "findIntersectionValues(nums1,nums2)"
   ]
  },
  {
   "cell_type": "code",
   "execution_count": 4,
   "metadata": {},
   "outputs": [
    {
     "data": {
      "text/plain": [
       "[3, 4]"
      ]
     },
     "execution_count": 4,
     "metadata": {},
     "output_type": "execute_result"
    }
   ],
   "source": [
    "nums1 = [4,3,2,3,1]\n",
    "nums2 = [2,2,5,2,3,6]\n",
    "\n",
    "findIntersectionValues(nums1,nums2)"
   ]
  },
  {
   "cell_type": "code",
   "execution_count": 5,
   "metadata": {},
   "outputs": [
    {
     "data": {
      "text/plain": [
       "[0, 0]"
      ]
     },
     "execution_count": 5,
     "metadata": {},
     "output_type": "execute_result"
    }
   ],
   "source": [
    "nums1 = [3,4,2,3]\n",
    "nums2 = [1,5]\n",
    "\n",
    "findIntersectionValues(nums1,nums2)"
   ]
  }
 ],
 "metadata": {
  "kernelspec": {
   "display_name": "datascience",
   "language": "python",
   "name": "datascience"
  },
  "language_info": {
   "codemirror_mode": {
    "name": "ipython",
    "version": 3
   },
   "file_extension": ".py",
   "mimetype": "text/x-python",
   "name": "python",
   "nbconvert_exporter": "python",
   "pygments_lexer": "ipython3",
   "version": "3.11.4"
  }
 },
 "nbformat": 4,
 "nbformat_minor": 2
}
