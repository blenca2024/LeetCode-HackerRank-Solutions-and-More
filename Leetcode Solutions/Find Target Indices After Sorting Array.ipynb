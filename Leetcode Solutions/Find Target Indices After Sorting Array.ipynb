{
 "cells": [
  {
   "cell_type": "markdown",
   "metadata": {},
   "source": [
    "# 2089. Find Target Indices After Sorting Array\n",
    "\n",
    "You are given a 0-indexed integer array `nums` and a target element `target`.\n",
    "\n",
    "A target index is an index `i` such that `nums[i] == target`.\n",
    "\n",
    "Return a list of the target indices of `nums` after sorting `nums` in non-decreasing order. If there are no target indices, return an empty list. The returned list must be sorted in increasing order.\n",
    "\n",
    "## Example 1:\n",
    "\n",
    "**Input:**  \n",
    "`nums = [1,2,5,2,3]`, `target = 2`\n",
    "\n",
    "**Output:**  \n",
    "`[1,2]`\n",
    "\n",
    "**Explanation:**  \n",
    "After sorting, `nums` is `[1,2,2,3,5]`. The indices where `nums[i] == 2` are 1 and 2.\n",
    "\n",
    "## Example 2:\n",
    "\n",
    "**Input:**  \n",
    "`nums = [1,2,5,2,3]`, `target = 3`\n",
    "\n",
    "**Output:**  \n",
    "`[3]`\n",
    "\n",
    "**Explanation:**  \n",
    "After sorting, `nums` is `[1,2,2,3,5]`. The index where `nums[i] == 3` is 3.\n",
    "\n",
    "## Example 3:\n",
    "\n",
    "**Input:**  \n",
    "`nums = [1,2,5,2,3]`, `target = 5`\n",
    "\n",
    "**Output:**  \n",
    "`[4]`\n",
    "\n",
    "**Explanation:**  \n",
    "After sorting, `nums` is `[1,2,2,3,5]`. The index where `nums[i] == 5` is 4.\n",
    "\n",
    "## Constraints:\n",
    "\n",
    "- `1 <= nums.length <= 100`\n",
    "- `1 <= nums[i], target <= 100`\n"
   ]
  },
  {
   "cell_type": "code",
   "execution_count": 1,
   "metadata": {},
   "outputs": [],
   "source": [
    "from typing import List"
   ]
  },
  {
   "cell_type": "code",
   "execution_count": 2,
   "metadata": {},
   "outputs": [],
   "source": [
    "def targetIndices(nums: List[int], target: int) -> List[int]:\n",
    "    \n",
    "    nums.sort()\n",
    "\n",
    "    idx_list = []\n",
    "    for idx,num in enumerate(nums):\n",
    "        if num == target:\n",
    "            idx_list.append(idx)\n",
    "\n",
    "    return idx_list"
   ]
  },
  {
   "cell_type": "code",
   "execution_count": 3,
   "metadata": {},
   "outputs": [
    {
     "data": {
      "text/plain": [
       "[1, 2]"
      ]
     },
     "execution_count": 3,
     "metadata": {},
     "output_type": "execute_result"
    }
   ],
   "source": [
    "nums = [1,2,5,2,3]\n",
    "target = 2\n",
    "\n",
    "targetIndices(nums,target)"
   ]
  },
  {
   "cell_type": "code",
   "execution_count": 4,
   "metadata": {},
   "outputs": [
    {
     "data": {
      "text/plain": [
       "[3]"
      ]
     },
     "execution_count": 4,
     "metadata": {},
     "output_type": "execute_result"
    }
   ],
   "source": [
    "nums = [1,2,5,2,3]\n",
    "target = 3\n",
    "\n",
    "targetIndices(nums,target)"
   ]
  },
  {
   "cell_type": "code",
   "execution_count": 5,
   "metadata": {},
   "outputs": [
    {
     "data": {
      "text/plain": [
       "[4]"
      ]
     },
     "execution_count": 5,
     "metadata": {},
     "output_type": "execute_result"
    }
   ],
   "source": [
    "nums = [1,2,5,2,3]\n",
    "target = 5\n",
    "\n",
    "targetIndices(nums,target)"
   ]
  }
 ],
 "metadata": {
  "kernelspec": {
   "display_name": "datascience",
   "language": "python",
   "name": "datascience"
  },
  "language_info": {
   "codemirror_mode": {
    "name": "ipython",
    "version": 3
   },
   "file_extension": ".py",
   "mimetype": "text/x-python",
   "name": "python",
   "nbconvert_exporter": "python",
   "pygments_lexer": "ipython3",
   "version": "3.11.4"
  }
 },
 "nbformat": 4,
 "nbformat_minor": 2
}
