{
  "nbformat": 4,
  "nbformat_minor": 0,
  "metadata": {
    "colab": {
      "name": "Remove Element.ipynb",
      "provenance": [],
      "collapsed_sections": []
    },
    "kernelspec": {
      "name": "python3",
      "display_name": "Python 3"
    },
    "language_info": {
      "name": "python"
    }
  },
  "cells": [
    {
      "cell_type": "markdown",
      "source": [
        "# **Remove Element**"
      ],
      "metadata": {
        "id": "-OrFgXTcmfkB"
      }
    },
    {
      "cell_type": "markdown",
      "source": [
        "Given an integer array nums and an integer val, remove all occurrences of val in nums in-place. The relative order of the elements may be changed.\n",
        "\n",
        "Since it is impossible to change the length of the array in some languages, you must instead have the result be placed in the first part of the array nums. More formally, if there are k elements after removing the duplicates, then the first k elements of nums should hold the final result. It does not matter what you leave beyond the first k elements.\n",
        "\n",
        "Return k after placing the final result in the first k slots of nums.\n",
        "\n",
        "Do not allocate extra space for another array. You must do this by modifying the input array in-place with O(1) extra memory.\n",
        "\n",
        "**Custom Judge:**\n",
        "\n",
        "```\n",
        "The judge will test your solution with the following code:\n",
        "\n",
        "int[] nums = [...]; // Input array\n",
        "int val = ...; // Value to remove\n",
        "int[] expectedNums = [...]; // The expected answer with correct length.\n",
        "                            // It is sorted with no values equaling val.\n",
        "\n",
        "int k = removeElement(nums, val); // Calls your implementation\n",
        "\n",
        "assert k == expectedNums.length;\n",
        "sort(nums, 0, k); // Sort the first k elements of nums\n",
        "for (int i = 0; i < actualLength; i++) {\n",
        "    assert nums[i] == expectedNums[i];\n",
        "}\n",
        "\n",
        "If all assertions pass, then your solution will be accepted.\n",
        "```\n",
        " \n",
        "\n",
        "**Example 1:**\n",
        "\n",
        "Input: nums = [3,2,2,3], val = 3\n",
        "Output: 2, nums = [2,2,_,_]\n",
        "Explanation: Your function should return k = 2, with the first two elements of nums being 2.\n",
        "It does not matter what you leave beyond the returned k (hence they are underscores).\n",
        "\n",
        "**Example 2:**\n",
        "\n",
        "Input: nums = [0,1,2,2,3,0,4,2], val = 2\n",
        "Output: 5, nums = [0,1,4,0,3,_,_,_]\n",
        "Explanation: Your function should return k = 5, with the first five elements of nums containing 0, 0, 1, 3, and 4.\n",
        "Note that the five elements can be returned in any order.\n",
        "It does not matter what you leave beyond the returned k (hence they are underscores).\n",
        "\n",
        " \n",
        "\n",
        "**Constraints:**\n",
        "\n",
        "```\n",
        "    0 <= nums.length <= 100\n",
        "    0 <= nums[i] <= 50\n",
        "    0 <= val <= 100\n",
        "\n",
        "```"
      ],
      "metadata": {
        "id": "pSQ3tUZRmlTj"
      }
    },
    {
      "cell_type": "code",
      "source": [
        "def removeElement(nums, val):\n",
        "    while val in nums:\n",
        "        nums.remove(val)\n",
        "\n",
        "    return [len(nums),nums]"
      ],
      "metadata": {
        "id": "wZZpep8echd-"
      },
      "execution_count": 1,
      "outputs": []
    },
    {
      "cell_type": "markdown",
      "source": [
        "## **Example 1**"
      ],
      "metadata": {
        "id": "xpLv_SLQm02v"
      }
    },
    {
      "cell_type": "code",
      "source": [
        "nums = [3,2,2,3]\n",
        "val = 3\n",
        "\n",
        "removeElement(nums, val)"
      ],
      "metadata": {
        "colab": {
          "base_uri": "https://localhost:8080/"
        },
        "id": "EZIlpI7BcnnF",
        "outputId": "b2277fc0-9aea-430a-8a3e-318b13d19c6b"
      },
      "execution_count": 2,
      "outputs": [
        {
          "output_type": "execute_result",
          "data": {
            "text/plain": [
              "[2, [2, 2]]"
            ]
          },
          "metadata": {},
          "execution_count": 2
        }
      ]
    },
    {
      "cell_type": "markdown",
      "source": [
        "## **Example 2**"
      ],
      "metadata": {
        "id": "NUklWQw-m5nq"
      }
    },
    {
      "cell_type": "code",
      "source": [
        "nums = [0,1,2,2,3,0,4,2]\n",
        "val = 2\n",
        "\n",
        "removeElement(nums, val)"
      ],
      "metadata": {
        "colab": {
          "base_uri": "https://localhost:8080/"
        },
        "id": "aivV0lJLdwRs",
        "outputId": "9918c908-e846-4431-de5f-1f5c2cddd646"
      },
      "execution_count": 3,
      "outputs": [
        {
          "output_type": "execute_result",
          "data": {
            "text/plain": [
              "[5, [0, 1, 3, 0, 4]]"
            ]
          },
          "metadata": {},
          "execution_count": 3
        }
      ]
    }
  ]
}