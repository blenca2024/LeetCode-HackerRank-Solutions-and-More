{
 "cells": [
  {
   "cell_type": "markdown",
   "metadata": {},
   "source": [
    "# 2733. Neither Minimum nor Maximum\n",
    "\n",
    "Given an integer array `nums` containing distinct positive integers, find and return any number from the array that is neither the minimum nor the maximum value in the array, or `-1` if there is no such number.\n",
    "\n",
    "Return the selected integer.\n",
    "\n",
    "## Example 1:\n",
    "\n",
    "**Input:**  \n",
    "`nums = [3,2,1,4]`\n",
    "\n",
    "**Output:**  \n",
    "`2`\n",
    "\n",
    "**Explanation:**  \n",
    "In this example, the minimum value is 1 and the maximum value is 4. Therefore, either 2 or 3 can be valid answers.\n",
    "\n",
    "## Example 2:\n",
    "\n",
    "**Input:**  \n",
    "`nums = [1,2]`\n",
    "\n",
    "**Output:**  \n",
    "`-1`\n",
    "\n",
    "**Explanation:**  \n",
    "Since there is no number in `nums` that is neither the maximum nor the minimum, we cannot select a number that satisfies the given condition. Therefore, there is no answer.\n",
    "\n",
    "## Example 3:\n",
    "\n",
    "**Input:**  \n",
    "`nums = [2,1,3]`\n",
    "\n",
    "**Output:**  \n",
    "`2`\n",
    "\n",
    "**Explanation:**  \n",
    "Since 2 is neither the maximum nor the minimum value in `nums`, it is the only valid answer.\n",
    "\n",
    "## Constraints:\n",
    "\n",
    "- `1 <= nums.length <= 100`\n",
    "- `1 <= nums[i] <= 100`\n",
    "- All values in `nums` are distinct"
   ]
  },
  {
   "cell_type": "code",
   "execution_count": 1,
   "metadata": {},
   "outputs": [],
   "source": [
    "from typing import List"
   ]
  },
  {
   "cell_type": "code",
   "execution_count": 2,
   "metadata": {},
   "outputs": [],
   "source": [
    "def findNonMinOrMax(nums: List[int]) -> int:\n",
    "\n",
    "    check_list = [num for num in nums if num != min(nums) and num != max(nums)]\n",
    "\n",
    "    if len(check_list) > 0:\n",
    "        return check_list[0]\n",
    "    else:\n",
    "        return -1"
   ]
  },
  {
   "cell_type": "code",
   "execution_count": 3,
   "metadata": {},
   "outputs": [
    {
     "data": {
      "text/plain": [
       "3"
      ]
     },
     "execution_count": 3,
     "metadata": {},
     "output_type": "execute_result"
    }
   ],
   "source": [
    "nums = [3,2,1,4]\n",
    "findNonMinOrMax(nums)"
   ]
  }
 ],
 "metadata": {
  "kernelspec": {
   "display_name": "ds",
   "language": "python",
   "name": "python3"
  },
  "language_info": {
   "codemirror_mode": {
    "name": "ipython",
    "version": 3
   },
   "file_extension": ".py",
   "mimetype": "text/x-python",
   "name": "python",
   "nbconvert_exporter": "python",
   "pygments_lexer": "ipython3",
   "version": "3.11.2"
  }
 },
 "nbformat": 4,
 "nbformat_minor": 2
}
