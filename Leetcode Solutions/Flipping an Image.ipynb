{
 "cells": [
  {
   "cell_type": "markdown",
   "metadata": {},
   "source": [
    "# 832. Flipping an Image\n",
    "\n",
    "Given an `n x n` binary matrix `image`, flip the image horizontally, then invert it, and return the resulting image.\n",
    "\n",
    "To flip an image horizontally means that each row of the image is reversed.\n",
    "\n",
    "For example, flipping `[1,1,0]` horizontally results in `[0,1,1]`.\n",
    "\n",
    "To invert an image means that each `0` is replaced by `1`, and each `1` is replaced by `0`.\n",
    "\n",
    "For example, inverting `[0,1,1]` results in `[1,0,0]`.\n",
    "\n",
    "## Example 1:\n",
    "\n",
    "**Input:** `image = [[1,1,0],[1,0,1],[0,0,0]]`\n",
    "\n",
    "**Output:** `[[1,0,0],[0,1,0],[1,1,1]]`\n",
    "\n",
    "**Explanation:** First reverse each row: `[[0,1,1],[1,0,1],[0,0,0]]`.\n",
    "Then, invert the image: `[[1,0,0],[0,1,0],[1,1,1]]`\n",
    "\n",
    "## Example 2:\n",
    "\n",
    "**Input:** `image = [[1,1,0,0],[1,0,0,1],[0,1,1,1],[1,0,1,0]]`\n",
    "\n",
    "**Output:** `[[1,1,0,0],[0,1,1,0],[0,0,0,1],[1,0,1,0]]`\n",
    "\n",
    "**Explanation:** First reverse each row: `[[0,0,1,1],[1,0,0,1],[1,1,1,0],[0,1,0,1]]`.\n",
    "Then, invert the image: `[[1,1,0,0],[0,1,1,0],[0,0,0,1],[1,0,1,0]]`\n",
    "\n",
    "## Constraints:\n",
    "\n",
    "- `n == image.length`\n",
    "- `n == image[i].length`\n",
    "- `1 <= n <= 20`\n",
    "- `image[i][j]` is either `0` or `1`.\n"
   ]
  },
  {
   "cell_type": "code",
   "execution_count": 1,
   "metadata": {},
   "outputs": [],
   "source": [
    "from typing import List"
   ]
  },
  {
   "cell_type": "code",
   "execution_count": 2,
   "metadata": {},
   "outputs": [],
   "source": [
    "def flipAndInvertImage(image: List[List[int]]) -> List[List[int]]:\n",
    "    reversed_image = [l[::-1] for l in image]\n",
    "    inverted_image = []\n",
    "\n",
    "    for l in reversed_image:\n",
    "        inverted_image.append([pixel+1 if pixel==0 else pixel-1 for pixel in l])\n",
    "\n",
    "    return inverted_image"
   ]
  },
  {
   "cell_type": "code",
   "execution_count": 3,
   "metadata": {},
   "outputs": [
    {
     "data": {
      "text/plain": [
       "[[1, 0, 0], [0, 1, 0], [1, 1, 1]]"
      ]
     },
     "execution_count": 3,
     "metadata": {},
     "output_type": "execute_result"
    }
   ],
   "source": [
    "image = [[1,1,0],[1,0,1],[0,0,0]]\n",
    "\n",
    "flipAndInvertImage(image)"
   ]
  },
  {
   "cell_type": "code",
   "execution_count": 4,
   "metadata": {},
   "outputs": [
    {
     "data": {
      "text/plain": [
       "[[1, 1, 0, 0], [0, 1, 1, 0], [0, 0, 0, 1], [1, 0, 1, 0]]"
      ]
     },
     "execution_count": 4,
     "metadata": {},
     "output_type": "execute_result"
    }
   ],
   "source": [
    "image = [[1,1,0,0],[1,0,0,1],[0,1,1,1],[1,0,1,0]]\n",
    "\n",
    "flipAndInvertImage(image)"
   ]
  }
 ],
 "metadata": {
  "kernelspec": {
   "display_name": "datascience",
   "language": "python",
   "name": "datascience"
  },
  "language_info": {
   "codemirror_mode": {
    "name": "ipython",
    "version": 3
   },
   "file_extension": ".py",
   "mimetype": "text/x-python",
   "name": "python",
   "nbconvert_exporter": "python",
   "pygments_lexer": "ipython3",
   "version": "3.11.4"
  }
 },
 "nbformat": 4,
 "nbformat_minor": 2
}
