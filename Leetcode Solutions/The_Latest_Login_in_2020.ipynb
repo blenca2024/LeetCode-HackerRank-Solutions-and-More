{
 "cells": [
  {
   "cell_type": "markdown",
   "metadata": {},
   "source": [
    "# 1890. The Latest Login in 2020\n",
    "\n",
    "**Solved**  \n",
    "**Easy**  \n",
    "**Topics**  \n",
    "SQL Schema  \n",
    "Pandas Schema\n",
    "\n",
    "## Table: Logins\n",
    "\n",
    "| Column Name | Type     |\n",
    "|-------------|----------|\n",
    "| user_id     | int      |\n",
    "| time_stamp  | datetime |\n",
    "\n",
    "`(user_id, time_stamp)` is the primary key (combination of columns with unique values) for this table.  \n",
    "Each row contains information about the login time for the user with ID `user_id`.\n",
    "\n",
    "Write a solution to report the latest login for all users in the year 2020. Do not include the users who did not login in 2020.\n",
    "\n",
    "Return the result table in any order.\n",
    "\n",
    "The result format is in the following example.\n",
    "\n",
    "## Example 1:\n",
    "\n",
    "**Input:**  \n",
    "**Logins table:**\n",
    "\n",
    "| user_id | time_stamp          |\n",
    "|---------|---------------------|\n",
    "| 6       | 2020-06-30 15:06:07 |\n",
    "| 6       | 2021-04-21 14:06:06 |\n",
    "| 6       | 2019-03-07 00:18:15 |\n",
    "| 8       | 2020-02-01 05:10:53 |\n",
    "| 8       | 2020-12-30 00:46:50 |\n",
    "| 2       | 2020-01-16 02:49:50 |\n",
    "| 2       | 2019-08-25 07:59:08 |\n",
    "| 14      | 2019-07-14 09:00:00 |\n",
    "| 14      | 2021-01-06 11:59:59 |\n",
    "\n",
    "**Output:**  \n",
    "| user_id | last_stamp          |\n",
    "|---------|---------------------|\n",
    "| 6       | 2020-06-30 15:06:07 |\n",
    "| 8       | 2020-12-30 00:46:50 |\n",
    "| 2       | 2020-01-16 02:49:50 |\n",
    "\n",
    "**Explanation:**  \n",
    "User 6 logged into their account 3 times but only once in 2020, so we include this login in the result table.  \n",
    "User 8 logged into their account 2 times in 2020, once in February and once in December. We include only the latest one (December) in the result table.  \n",
    "User 2 logged into their account 2 times but only once in 2020, so we include this login in the result table.  \n",
    "User 14 did not login in 2020, so we do not include them in the result table.\n"
   ]
  },
  {
   "cell_type": "code",
   "execution_count": 2,
   "metadata": {},
   "outputs": [],
   "source": [
    "import pandas as pd"
   ]
  },
  {
   "cell_type": "code",
   "execution_count": 3,
   "metadata": {},
   "outputs": [],
   "source": [
    "logins = pd.DataFrame([\n",
    "    {\"user_id\": 6, \"time_stamp\": \"2020-06-30 15:06:07\"},\n",
    "    {\"user_id\": 6, \"time_stamp\": \"2021-04-21 14:06:06\"},\n",
    "    {\"user_id\": 6, \"time_stamp\": \"2019-03-07 00:18:15\"},\n",
    "    {\"user_id\": 8, \"time_stamp\": \"2020-02-01 05:10:53\"},\n",
    "    {\"user_id\": 8, \"time_stamp\": \"2020-12-30 00:46:50\"},\n",
    "    {\"user_id\": 2, \"time_stamp\": \"2020-01-16 02:49:50\"},\n",
    "    {\"user_id\": 2, \"time_stamp\": \"2019-08-25 07:59:08\"},\n",
    "    {\"user_id\": 14, \"time_stamp\": \"2019-07-14 09:00:00\"},\n",
    "    {\"user_id\": 14, \"time_stamp\": \"2021-01-06 11:59:59\"}\n",
    "])"
   ]
  },
  {
   "cell_type": "code",
   "execution_count": 4,
   "metadata": {},
   "outputs": [],
   "source": [
    "def latest_login(logins: pd.DataFrame) -> pd.DataFrame:\n",
    "    filtered_logins = logins[logins['time_stamp'].astype(str).str.contains('2020')]\n",
    "    output_df = pd.DataFrame({col:[] for col in filtered_logins.columns})\n",
    "\n",
    "    for id in filtered_logins['user_id'].unique():\n",
    "        output_df = pd.concat([output_df,\n",
    "                            filtered_logins[filtered_logins['user_id']==id].sort_values('time_stamp').iloc[[-1]]])\n",
    "        \n",
    "    output_df['user_id'] = output_df['user_id'].astype('int')\n",
    "\n",
    "    return output_df.rename({'time_stamp':'last_stamp'},axis=1)"
   ]
  },
  {
   "cell_type": "code",
   "execution_count": 5,
   "metadata": {},
   "outputs": [
    {
     "data": {
      "text/html": [
       "<div>\n",
       "<style scoped>\n",
       "    .dataframe tbody tr th:only-of-type {\n",
       "        vertical-align: middle;\n",
       "    }\n",
       "\n",
       "    .dataframe tbody tr th {\n",
       "        vertical-align: top;\n",
       "    }\n",
       "\n",
       "    .dataframe thead th {\n",
       "        text-align: right;\n",
       "    }\n",
       "</style>\n",
       "<table border=\"1\" class=\"dataframe\">\n",
       "  <thead>\n",
       "    <tr style=\"text-align: right;\">\n",
       "      <th></th>\n",
       "      <th>user_id</th>\n",
       "      <th>last_stamp</th>\n",
       "    </tr>\n",
       "  </thead>\n",
       "  <tbody>\n",
       "    <tr>\n",
       "      <th>0</th>\n",
       "      <td>6</td>\n",
       "      <td>2020-06-30 15:06:07</td>\n",
       "    </tr>\n",
       "    <tr>\n",
       "      <th>4</th>\n",
       "      <td>8</td>\n",
       "      <td>2020-12-30 00:46:50</td>\n",
       "    </tr>\n",
       "    <tr>\n",
       "      <th>5</th>\n",
       "      <td>2</td>\n",
       "      <td>2020-01-16 02:49:50</td>\n",
       "    </tr>\n",
       "  </tbody>\n",
       "</table>\n",
       "</div>"
      ],
      "text/plain": [
       "   user_id           last_stamp\n",
       "0        6  2020-06-30 15:06:07\n",
       "4        8  2020-12-30 00:46:50\n",
       "5        2  2020-01-16 02:49:50"
      ]
     },
     "execution_count": 5,
     "metadata": {},
     "output_type": "execute_result"
    }
   ],
   "source": [
    "latest_login(logins=logins)"
   ]
  }
 ],
 "metadata": {
  "kernelspec": {
   "display_name": "datascience",
   "language": "python",
   "name": "datascience"
  },
  "language_info": {
   "codemirror_mode": {
    "name": "ipython",
    "version": 3
   },
   "file_extension": ".py",
   "mimetype": "text/x-python",
   "name": "python",
   "nbconvert_exporter": "python",
   "pygments_lexer": "ipython3",
   "version": "3.11.4"
  }
 },
 "nbformat": 4,
 "nbformat_minor": 2
}
