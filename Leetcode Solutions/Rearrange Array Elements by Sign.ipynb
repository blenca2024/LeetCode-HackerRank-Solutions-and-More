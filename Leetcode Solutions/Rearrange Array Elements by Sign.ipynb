{
 "cells": [
  {
   "cell_type": "markdown",
   "metadata": {},
   "source": [
    "# 2149. Rearrange Array Elements by Sign\n",
    "\n",
    "**Solved**\n",
    "\n",
    "**Medium**\n",
    "\n",
    "## Topics\n",
    "\n",
    "**Companies**\n",
    "\n",
    "**Hint**\n",
    "\n",
    "You are given a 0-indexed integer array `nums` of even length consisting of an equal number of positive and negative integers.\n",
    "\n",
    "You should return the array `nums` such that it follows the given conditions:\n",
    "\n",
    "- Every consecutive pair of integers have opposite signs.\n",
    "- For all integers with the same sign, the order in which they were present in `nums` is preserved.\n",
    "- The rearranged array begins with a positive integer.\n",
    "\n",
    "Return the modified array after rearranging the elements to satisfy the aforementioned conditions.\n",
    "\n",
    "## Example 1:\n",
    "\n",
    "**Input:** `nums = [3,1,-2,-5,2,-4]`\n",
    "\n",
    "**Output:** `[3,-2,1,-5,2,-4]`\n",
    "\n",
    "**Explanation:**\n",
    "The positive integers in `nums` are `[3,1,2]`. The negative integers are `[-2,-5,-4]`.\n",
    "The only possible way to rearrange them such that they satisfy all conditions is `[3,-2,1,-5,2,-4]`.\n",
    "Other ways such as `[1,-2,2,-5,3,-4]`, `[3,1,2,-2,-5,-4]`, `[-2,3,-5,1,-4,2]` are incorrect because they do not satisfy one or more conditions.\n",
    "\n",
    "## Example 2:\n",
    "\n",
    "**Input:** `nums = [-1,1]`\n",
    "\n",
    "**Output:** `[1,-1]`\n",
    "\n",
    "**Explanation:**\n",
    "1 is the only positive integer and -1 the only negative integer in `nums`.\n",
    "So `nums` is rearranged to `[1,-1]`.\n",
    "\n",
    "## Constraints:\n",
    "\n",
    "- `2 <= nums.length <= 2 * 10^5`\n",
    "- `nums.length` is even\n",
    "- `1 <= |nums[i]| <= 10^5`\n",
    "- `nums` consists of an equal number of positive and negative integers.\n",
    "\n",
    "It is not required to do the modifications in-place.\n"
   ]
  },
  {
   "cell_type": "code",
   "execution_count": 1,
   "metadata": {},
   "outputs": [],
   "source": [
    "from typing import List"
   ]
  },
  {
   "cell_type": "code",
   "execution_count": 2,
   "metadata": {},
   "outputs": [],
   "source": [
    "def rearrangeArray(nums: List[int]) -> List[int]:\n",
    "\n",
    "    positives = [num for num in nums if num >= 0]\n",
    "    negatives = [num for num in nums if num <= 0]\n",
    "    output_list = []\n",
    "\n",
    "    for num in range(len(positives)):\n",
    "        output_list.append(positives[num])\n",
    "        output_list.append(negatives[num])\n",
    "\n",
    "    return output_list"
   ]
  },
  {
   "cell_type": "code",
   "execution_count": 3,
   "metadata": {},
   "outputs": [
    {
     "data": {
      "text/plain": [
       "[3, -2, 1, -5, 2, -4]"
      ]
     },
     "execution_count": 3,
     "metadata": {},
     "output_type": "execute_result"
    }
   ],
   "source": [
    "nums = [3,1,-2,-5,2,-4]\n",
    "rearrangeArray(nums)"
   ]
  }
 ],
 "metadata": {
  "kernelspec": {
   "display_name": "datascience",
   "language": "python",
   "name": "datascience"
  },
  "language_info": {
   "codemirror_mode": {
    "name": "ipython",
    "version": 3
   },
   "file_extension": ".py",
   "mimetype": "text/x-python",
   "name": "python",
   "nbconvert_exporter": "python",
   "pygments_lexer": "ipython3",
   "version": "3.11.4"
  }
 },
 "nbformat": 4,
 "nbformat_minor": 2
}
