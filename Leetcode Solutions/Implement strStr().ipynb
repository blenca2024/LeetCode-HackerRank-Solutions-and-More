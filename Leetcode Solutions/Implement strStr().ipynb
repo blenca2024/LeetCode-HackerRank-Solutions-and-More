{
 "cells": [
  {
   "cell_type": "markdown",
   "metadata": {},
   "source": [
    "# Implement strStr()\n",
    "\n",
    "Implement strStr().\n",
    "\n",
    "Return the index of the first occurrence of needle in haystack, or -1 if needle is not part of haystack.\n",
    "\n",
    "**Example 1:**\n",
    "\n",
    "Input: haystack = \"hello\", needle = \"ll\"\n",
    "\n",
    "Output: 2\n",
    "\n",
    "**Example 2:**\n",
    "\n",
    "Input: haystack = \"aaaaa\", needle = \"bba\"\n",
    "\n",
    "Output: -1\n",
    "\n",
    "**Clarification:**\n",
    "\n",
    "What should we return when needle is an empty string? This is a great question to ask during an interview.\n",
    "\n",
    "For the purpose of this problem, we will return 0 when needle is an empty string. This is consistent to C's strstr() and Java's indexOf()."
   ]
  },
  {
   "cell_type": "code",
   "execution_count": 1,
   "metadata": {},
   "outputs": [
    {
     "name": "stdout",
     "output_type": "stream",
     "text": [
      "2\n",
      "-1\n",
      "0\n",
      "0\n",
      "1\n",
      "2\n"
     ]
    }
   ],
   "source": [
    "def strStr(haystack,needle):\n",
    "        if not needle:\n",
    "            return 0\n",
    "        else:\n",
    "            try:\n",
    "                return haystack.index(needle)\n",
    "            except:\n",
    "                return -1\n",
    "            \n",
    "            \n",
    "haystack = \"hello\"\n",
    "needle = \"ll\"\n",
    "print(strStr(haystack,needle))\n",
    "\n",
    "\n",
    "haystack = \"aaaaa\"\n",
    "needle = \"bba\"\n",
    "print(strStr(haystack,needle))\n",
    "\n",
    "\n",
    "haystack = \"aaaaa\"\n",
    "needle = \"\"\n",
    "print(strStr(haystack,needle))\n",
    "\n",
    "\n",
    "haystack = \"aaaaa\"\n",
    "needle = \"aa\"\n",
    "print(strStr(haystack,needle))\n",
    "\n",
    "haystack = \"xyz\"\n",
    "needle = \"yz\"\n",
    "print(strStr(haystack,needle))\n",
    "\n",
    "haystack = \"xyz\"\n",
    "needle = \"z\"\n",
    "print(strStr(haystack,needle))"
   ]
  }
 ],
 "metadata": {
  "kernelspec": {
   "display_name": "Python 3",
   "language": "python",
   "name": "python3"
  },
  "language_info": {
   "codemirror_mode": {
    "name": "ipython",
    "version": 3
   },
   "file_extension": ".py",
   "mimetype": "text/x-python",
   "name": "python",
   "nbconvert_exporter": "python",
   "pygments_lexer": "ipython3",
   "version": "3.7.3"
  }
 },
 "nbformat": 4,
 "nbformat_minor": 2
}
