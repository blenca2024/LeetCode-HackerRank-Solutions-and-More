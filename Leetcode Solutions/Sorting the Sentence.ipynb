{
  "nbformat": 4,
  "nbformat_minor": 0,
  "metadata": {
    "colab": {
      "name": "Sorting the Sentence.ipynb",
      "provenance": [],
      "collapsed_sections": []
    },
    "kernelspec": {
      "name": "python3",
      "display_name": "Python 3"
    },
    "language_info": {
      "name": "python"
    }
  },
  "cells": [
    {
      "cell_type": "markdown",
      "metadata": {
        "id": "1nPKpSixEZPp"
      },
      "source": [
        "A **sentence** is a list of words that are separated by a single space with no leading or trailing spaces. Each word consists of lowercase and uppercase English letters.\n",
        "\n",
        "A sentence can be **shuffled** by appending the **1-indexed word position** to each word then rearranging the words in the sentence.\n",
        "\n",
        "- For example, the sentence `\"This is a sentence\"` can be shuffled as `\"sentence4 a3 is2 This1\"` or `\"is2 sentence4 This1 a3\"`.\n",
        "\n",
        "Given a **shuffled sentence** `s` containing no more than `9` words, reconstruct and return the original sentence."
      ]
    },
    {
      "cell_type": "code",
      "metadata": {
        "id": "sjm7dH4BEq4O"
      },
      "source": [
        "def sortSentence(s):\n",
        "  word_ind = {ind:word for ind,word in zip([int(word[-1])-1 for word in s.split(' ')],[word[:-1] for word in s.split(' ')])}\n",
        "  return ' '.join([word_ind[i] for i in range(len(word_ind))])"
      ],
      "execution_count": 10,
      "outputs": []
    },
    {
      "cell_type": "markdown",
      "metadata": {
        "id": "WnuKvRfiE1cq"
      },
      "source": [
        "## **Example 1**"
      ]
    },
    {
      "cell_type": "code",
      "metadata": {
        "colab": {
          "base_uri": "https://localhost:8080/",
          "height": 36
        },
        "id": "2yclRFCFEZnY",
        "outputId": "aa405eb0-62ee-4ef4-fda4-9d03cec551d3"
      },
      "source": [
        "s = \"is2 sentence4 This1 a3\"\n",
        "sortSentence(s)"
      ],
      "execution_count": 11,
      "outputs": [
        {
          "output_type": "execute_result",
          "data": {
            "application/vnd.google.colaboratory.intrinsic+json": {
              "type": "string"
            },
            "text/plain": [
              "'This is a sentence'"
            ]
          },
          "metadata": {},
          "execution_count": 11
        }
      ]
    },
    {
      "cell_type": "markdown",
      "metadata": {
        "id": "2KMSPNHtE3kF"
      },
      "source": [
        "## **Example 2**"
      ]
    },
    {
      "cell_type": "code",
      "metadata": {
        "colab": {
          "base_uri": "https://localhost:8080/",
          "height": 36
        },
        "id": "OG3kmuD3DHWT",
        "outputId": "6674080e-c4b2-4475-afde-ac038c40eb41"
      },
      "source": [
        "s = \"Myself2 Me1 I4 and3\"\n",
        "sortSentence(s)"
      ],
      "execution_count": 12,
      "outputs": [
        {
          "output_type": "execute_result",
          "data": {
            "application/vnd.google.colaboratory.intrinsic+json": {
              "type": "string"
            },
            "text/plain": [
              "'Me Myself and I'"
            ]
          },
          "metadata": {},
          "execution_count": 12
        }
      ]
    }
  ]
}