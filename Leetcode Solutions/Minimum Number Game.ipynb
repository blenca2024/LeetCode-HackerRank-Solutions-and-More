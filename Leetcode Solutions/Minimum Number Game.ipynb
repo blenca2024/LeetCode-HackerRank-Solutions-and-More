{
 "cells": [
  {
   "cell_type": "markdown",
   "metadata": {},
   "source": [
    "# 2974. Minimum Number Game\n",
    "\n",
    "You are given a 0-indexed integer array `nums` of even length and there is also an empty array `arr`. Alice and Bob decided to play a game where in every round Alice and Bob will do one move. The rules of the game are as follows:\n",
    "\n",
    "1. Every round, first Alice will remove the minimum element from `nums`, and then Bob does the same.\n",
    "2. Now, first Bob will append the removed element in the array `arr`, and then Alice does the same.\n",
    "3. The game continues until `nums` becomes empty.\n",
    "4. Return the resulting array `arr`.\n",
    "\n",
    "## Example 1:\n",
    "\n",
    "Input: `nums` = [5,4,2,3]\n",
    "Output: [3,2,5,4]\n",
    "Explanation: In round one, first Alice removes 2 and then Bob removes 3. Then in `arr` firstly Bob appends 3 and then Alice appends 2. So `arr` = [3,2].\n",
    "At the beginning of round two, `nums` = [5,4]. Now, first Alice removes 4 and then Bob removes 5. Then both append in `arr` which becomes [3,2,5,4].\n",
    "\n",
    "## Example 2:\n",
    "\n",
    "Input: `nums` = [2,5]\n",
    "Output: [5,2]\n",
    "Explanation: In round one, first Alice removes 2 and then Bob removes 5. Then in `arr` firstly Bob appends and then Alice appends. So `arr` = [5,2].\n",
    "\n",
    "## Constraints:\n",
    "\n",
    "- 2 <= `nums.length` <= 100\n",
    "- 1 <= `nums[i]` <= 100\n",
    "- `nums.length` % 2 == 0\n"
   ]
  },
  {
   "cell_type": "code",
   "execution_count": 1,
   "metadata": {},
   "outputs": [],
   "source": [
    "def numberGame(nums):\n",
    "    nums = sorted(nums)\n",
    "    nums = list(zip(nums[::2], nums[1::2]))    \n",
    "    return [num for sub_tup in nums for num in sub_tup[::-1]]"
   ]
  },
  {
   "cell_type": "code",
   "execution_count": 2,
   "metadata": {},
   "outputs": [
    {
     "data": {
      "text/plain": [
       "[3, 2, 5, 4]"
      ]
     },
     "execution_count": 2,
     "metadata": {},
     "output_type": "execute_result"
    }
   ],
   "source": [
    "nums = [5,4,2,3]\n",
    "numberGame(nums)"
   ]
  }
 ],
 "metadata": {
  "kernelspec": {
   "display_name": "Python 3",
   "language": "python",
   "name": "python3"
  },
  "language_info": {
   "codemirror_mode": {
    "name": "ipython",
    "version": 3
   },
   "file_extension": ".py",
   "mimetype": "text/x-python",
   "name": "python",
   "nbconvert_exporter": "python",
   "pygments_lexer": "ipython3",
   "version": "3.11.2"
  }
 },
 "nbformat": 4,
 "nbformat_minor": 2
}
