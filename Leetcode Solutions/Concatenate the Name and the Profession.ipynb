{
 "cells": [
  {
   "cell_type": "markdown",
   "metadata": {},
   "source": [
    "# 2504. Concatenate the Name and the Profession\n",
    "\n",
    "## Table: Person\n",
    "\n",
    "| Column Name | Type    |\n",
    "|-------------|---------|\n",
    "| person_id   | int     |\n",
    "| name        | varchar |\n",
    "| profession  | ENUM    |\n",
    "\n",
    "`person_id` is the primary key (column with a unique value) for this table. Each row in this table contains a person's ID, name, and profession. The `profession` column is an enum of the type ('Doctor', 'Singer', 'Actor', 'Player', 'Engineer', or 'Lawyer').\n",
    "\n",
    "Write a solution to report each person's name followed by the first letter of their profession enclosed in parentheses.\n",
    "\n",
    "Return the result table ordered by `person_id` in descending order.\n",
    "\n",
    "The result format is shown in the following example.\n",
    "\n",
    "## Example 1:\n",
    "\n",
    "**Input:**\n",
    "\n",
    "Person table:\n",
    "\n",
    "| person_id | name  | profession |\n",
    "|-----------|-------|------------|\n",
    "| 1         | Alex  | Singer     |\n",
    "| 3         | Alice | Actor      |\n",
    "| 2         | Bob   | Player     |\n",
    "| 4         | Messi | Doctor     |\n",
    "| 6         | Tyson | Engineer   |\n",
    "| 5         | Meir  | Lawyer     |\n",
    "\n",
    "**Output:**\n",
    "\n",
    "| person_id | name     |\n",
    "|-----------|----------|\n",
    "| 6         | Tyson(E) |\n",
    "| 5         | Meir(L)  |\n",
    "| 4         | Messi(D) |\n",
    "| 3         | Alice(A) |\n",
    "| 2         | Bob(P)   |\n",
    "| 1         | Alex(S)  |\n",
    "\n",
    "**Explanation:**  \n",
    "Note that there should not be any white space between the name and the first letter of the profession.\n"
   ]
  },
  {
   "cell_type": "code",
   "execution_count": 1,
   "metadata": {},
   "outputs": [],
   "source": [
    "import pandas as pd"
   ]
  },
  {
   "cell_type": "code",
   "execution_count": 2,
   "metadata": {},
   "outputs": [],
   "source": [
    "person = pd.DataFrame([\n",
    "    {\"person_id\": 1, \"name\": \"Alex\", \"profession\": \"Singer\"},\n",
    "    {\"person_id\": 3, \"name\": \"Alice\", \"profession\": \"Actor\"},\n",
    "    {\"person_id\": 2, \"name\": \"Bob\", \"profession\": \"Player\"},\n",
    "    {\"person_id\": 4, \"name\": \"Messi\", \"profession\": \"Doctor\"},\n",
    "    {\"person_id\": 6, \"name\": \"Tyson\", \"profession\": \"Engineer\"},\n",
    "    {\"person_id\": 5, \"name\": \"Meir\", \"profession\": \"Lawyer\"},\n",
    "])"
   ]
  },
  {
   "cell_type": "code",
   "execution_count": 3,
   "metadata": {},
   "outputs": [],
   "source": [
    "def concatenate_info(person: pd.DataFrame) -> pd.DataFrame:\n",
    "\n",
    "    output_df = person.copy()\n",
    "    output_df['name'] = [f'{name}({profession[0]})' for name,profession in output_df[['name','profession']].values]\n",
    "    return output_df[['person_id','name']].sort_values('person_id',ascending=False)"
   ]
  },
  {
   "cell_type": "code",
   "execution_count": 4,
   "metadata": {},
   "outputs": [
    {
     "data": {
      "text/html": [
       "<div>\n",
       "<style scoped>\n",
       "    .dataframe tbody tr th:only-of-type {\n",
       "        vertical-align: middle;\n",
       "    }\n",
       "\n",
       "    .dataframe tbody tr th {\n",
       "        vertical-align: top;\n",
       "    }\n",
       "\n",
       "    .dataframe thead th {\n",
       "        text-align: right;\n",
       "    }\n",
       "</style>\n",
       "<table border=\"1\" class=\"dataframe\">\n",
       "  <thead>\n",
       "    <tr style=\"text-align: right;\">\n",
       "      <th></th>\n",
       "      <th>person_id</th>\n",
       "      <th>name</th>\n",
       "    </tr>\n",
       "  </thead>\n",
       "  <tbody>\n",
       "    <tr>\n",
       "      <th>4</th>\n",
       "      <td>6</td>\n",
       "      <td>Tyson(E)</td>\n",
       "    </tr>\n",
       "    <tr>\n",
       "      <th>5</th>\n",
       "      <td>5</td>\n",
       "      <td>Meir(L)</td>\n",
       "    </tr>\n",
       "    <tr>\n",
       "      <th>3</th>\n",
       "      <td>4</td>\n",
       "      <td>Messi(D)</td>\n",
       "    </tr>\n",
       "    <tr>\n",
       "      <th>1</th>\n",
       "      <td>3</td>\n",
       "      <td>Alice(A)</td>\n",
       "    </tr>\n",
       "    <tr>\n",
       "      <th>2</th>\n",
       "      <td>2</td>\n",
       "      <td>Bob(P)</td>\n",
       "    </tr>\n",
       "    <tr>\n",
       "      <th>0</th>\n",
       "      <td>1</td>\n",
       "      <td>Alex(S)</td>\n",
       "    </tr>\n",
       "  </tbody>\n",
       "</table>\n",
       "</div>"
      ],
      "text/plain": [
       "   person_id      name\n",
       "4          6  Tyson(E)\n",
       "5          5   Meir(L)\n",
       "3          4  Messi(D)\n",
       "1          3  Alice(A)\n",
       "2          2    Bob(P)\n",
       "0          1   Alex(S)"
      ]
     },
     "execution_count": 4,
     "metadata": {},
     "output_type": "execute_result"
    }
   ],
   "source": [
    "concatenate_info(person)"
   ]
  }
 ],
 "metadata": {
  "kernelspec": {
   "display_name": "datascience",
   "language": "python",
   "name": "datascience"
  },
  "language_info": {
   "codemirror_mode": {
    "name": "ipython",
    "version": 3
   },
   "file_extension": ".py",
   "mimetype": "text/x-python",
   "name": "python",
   "nbconvert_exporter": "python",
   "pygments_lexer": "ipython3",
   "version": "3.11.4"
  }
 },
 "nbformat": 4,
 "nbformat_minor": 2
}
