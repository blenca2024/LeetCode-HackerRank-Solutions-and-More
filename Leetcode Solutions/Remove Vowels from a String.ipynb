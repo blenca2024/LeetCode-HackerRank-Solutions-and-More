{
 "cells": [
  {
   "cell_type": "markdown",
   "metadata": {},
   "source": [
    "# 1119. Remove Vowels from a String\n",
    "\n",
    "Given a string `s`, remove the vowels 'a', 'e', 'i', 'o', and 'u' from it, and return the new string.\n",
    "\n",
    "## Example 1:\n",
    "\n",
    "**Input:** `s = \"leetcodeisacommunityforcoders\"`\n",
    "\n",
    "**Output:** `\"ltcdscmmntyfrcdrs\"`\n",
    "\n",
    "## Example 2:\n",
    "\n",
    "**Input:** `s = \"aeiou\"`\n",
    "\n",
    "**Output:** `\"\"`\n",
    "\n",
    "## Constraints:\n",
    "\n",
    "- `1 <= s.length <= 1000`\n",
    "- `s` consists of only lowercase English letters.\n"
   ]
  },
  {
   "cell_type": "code",
   "execution_count": 1,
   "metadata": {},
   "outputs": [],
   "source": [
    "def removeVowels(s: str) -> str:\n",
    "    vowels = ['a','e','i','o','u']\n",
    "    return ''.join([char for char in s if char not in vowels])"
   ]
  },
  {
   "cell_type": "code",
   "execution_count": 2,
   "metadata": {},
   "outputs": [
    {
     "data": {
      "text/plain": [
       "'ltcdscmmntyfrcdrs'"
      ]
     },
     "execution_count": 2,
     "metadata": {},
     "output_type": "execute_result"
    }
   ],
   "source": [
    "s = \"leetcodeisacommunityforcoders\"\n",
    "removeVowels(s)"
   ]
  },
  {
   "cell_type": "code",
   "execution_count": 3,
   "metadata": {},
   "outputs": [
    {
     "data": {
      "text/plain": [
       "''"
      ]
     },
     "execution_count": 3,
     "metadata": {},
     "output_type": "execute_result"
    }
   ],
   "source": [
    "s = \"aeiou\"\n",
    "removeVowels(s)"
   ]
  }
 ],
 "metadata": {
  "kernelspec": {
   "display_name": "datascience",
   "language": "python",
   "name": "datascience"
  },
  "language_info": {
   "codemirror_mode": {
    "name": "ipython",
    "version": 3
   },
   "file_extension": ".py",
   "mimetype": "text/x-python",
   "name": "python",
   "nbconvert_exporter": "python",
   "pygments_lexer": "ipython3",
   "version": "3.11.4"
  }
 },
 "nbformat": 4,
 "nbformat_minor": 2
}
