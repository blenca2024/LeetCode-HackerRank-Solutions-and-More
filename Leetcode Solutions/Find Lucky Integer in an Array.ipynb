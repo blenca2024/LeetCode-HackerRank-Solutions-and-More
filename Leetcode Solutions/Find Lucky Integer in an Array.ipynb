{
 "cells": [
  {
   "cell_type": "markdown",
   "metadata": {},
   "source": [
    "# Find Lucky Integer in an Array\n",
    "\n",
    "Given an array of integers arr, a lucky integer is an integer which has a frequency in the array equal to its value.\n",
    "\n",
    "Return a lucky integer in the array. If there are multiple lucky integers return the largest of them. If there is no lucky integer return -1.\n",
    "\n",
    " \n",
    "\n",
    "**Example 1:**\n",
    "\n",
    "Input: arr = [2,2,3,4]\n",
    "\n",
    "Output: 2\n",
    "\n",
    "Explanation: The only lucky number in the array is 2 because frequency[2] == 2.\n",
    "\n",
    "**Example 2:**\n",
    "\n",
    "Input: arr = [1,2,2,3,3,3]\n",
    "\n",
    "Output: 3\n",
    "\n",
    "Explanation: 1, 2 and 3 are all lucky numbers, return the largest of them.\n",
    "\n",
    "**Example 3:**\n",
    "\n",
    "Input: arr = [2,2,2,3,3]\n",
    "\n",
    "Output: -1\n",
    "\n",
    "Explanation: There are no lucky numbers in the array.\n",
    "\n",
    "**Example 4:**\n",
    "\n",
    "Input: arr = [5]\n",
    "\n",
    "Output: -1\n",
    "\n",
    "**Example 5:**\n",
    "\n",
    "Input: arr = [7,7,7,7,7,7,7]\n",
    "\n",
    "Output: 7\n",
    " \n",
    "\n",
    "**Constraints:**\n",
    "\n",
    "1 <= arr.length <= 500\n",
    "\n",
    "1 <= arr[i] <= 500"
   ]
  },
  {
   "cell_type": "code",
   "execution_count": 1,
   "metadata": {},
   "outputs": [
    {
     "name": "stdout",
     "output_type": "stream",
     "text": [
      "2\n",
      "3\n",
      "-1\n",
      "-1\n",
      "7\n"
     ]
    }
   ],
   "source": [
    "def findLucky(arr):\n",
    "        a = []\n",
    "        for i in arr:\n",
    "            if i == arr.count(i):\n",
    "                a.append(i)\n",
    "        a = list(set(a))\n",
    "        if not a:\n",
    "            return -1\n",
    "        else:\n",
    "            return max(a)\n",
    "        \n",
    "\n",
    "arr = [2,2,3,4]\n",
    "print(findLucky(arr))\n",
    "\n",
    "\n",
    "arr = [1,2,2,3,3,3]\n",
    "print(findLucky(arr))\n",
    "\n",
    "arr = [2,2,2,3,3]\n",
    "print(findLucky(arr))\n",
    "\n",
    "arr = [5]\n",
    "print(findLucky(arr))\n",
    "\n",
    "arr = [7,7,7,7,7,7,7]\n",
    "print(findLucky(arr))"
   ]
  }
 ],
 "metadata": {
  "kernelspec": {
   "display_name": "Python 3",
   "language": "python",
   "name": "python3"
  },
  "language_info": {
   "codemirror_mode": {
    "name": "ipython",
    "version": 3
   },
   "file_extension": ".py",
   "mimetype": "text/x-python",
   "name": "python",
   "nbconvert_exporter": "python",
   "pygments_lexer": "ipython3",
   "version": "3.7.3"
  }
 },
 "nbformat": 4,
 "nbformat_minor": 2
}
