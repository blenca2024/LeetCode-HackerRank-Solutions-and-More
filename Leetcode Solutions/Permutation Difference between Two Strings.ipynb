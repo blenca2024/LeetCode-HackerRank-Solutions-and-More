{
 "cells": [
  {
   "cell_type": "markdown",
   "metadata": {},
   "source": [
    "# 3146. Permutation Difference between Two Strings\n",
    "\n",
    "You are given two strings `s` and `t` such that every character occurs at most once in `s` and `t` is a permutation of `s`.\n",
    "\n",
    "The permutation difference between `s` and `t` is defined as the sum of the absolute difference between the index of the occurrence of each character in `s` and the index of the occurrence of the same character in `t`.\n",
    "\n",
    "Return the permutation difference between `s` and `t`.\n",
    "\n",
    "## Example 1:\n",
    "\n",
    "**Input:** `s = \"abc\"`, `t = \"bac\"`\n",
    "\n",
    "**Output:** `2`\n",
    "\n",
    "**Explanation:**\n",
    "\n",
    "For `s = \"abc\"` and `t = \"bac\"`, the permutation difference of `s` and `t` is equal to the sum of:\n",
    "\n",
    "- The absolute difference between the index of the occurrence of \"a\" in `s` and the index of the occurrence of \"a\" in `t`.\n",
    "- The absolute difference between the index of the occurrence of \"b\" in `s` and the index of the occurrence of \"b\" in `t`.\n",
    "- The absolute difference between the index of the occurrence of \"c\" in `s` and the index of the occurrence of \"c\" in `t`.\n",
    "\n",
    "That is, the permutation difference between `s` and `t` is equal to `|0 - 1| + |2 - 2| + |1 - 0| = 2`.\n",
    "\n",
    "## Example 2:\n",
    "\n",
    "**Input:** `s = \"abcde\"`, `t = \"edbac\"`\n",
    "\n",
    "**Output:** `12`\n",
    "\n",
    "**Explanation:** The permutation difference between `s` and `t` is equal to `|0 - 3| + |1 - 2| + |2 - 4| + |3 - 1| + |4 - 0| = 12`.\n",
    "\n",
    "## Constraints:\n",
    "\n",
    "- `1 <= s.length <= 26`\n",
    "- Each character occurs at most once in `s`.\n",
    "- `t` is a permutation of `s`.\n",
    "- `s` consists only of lowercase English letters.\n"
   ]
  },
  {
   "cell_type": "code",
   "execution_count": 19,
   "metadata": {},
   "outputs": [
    {
     "data": {
      "text/plain": [
       "2"
      ]
     },
     "execution_count": 19,
     "metadata": {},
     "output_type": "execute_result"
    }
   ],
   "source": [
    "def findPermutationDifference(s,t):\n",
    "    return sum([abs(s.index(char)-t.index(char)) for char in s])\n",
    "\n",
    "s = \"abc\"\n",
    "t = \"bac\"\n",
    "\n",
    "findPermutationDifference(s,t)"
   ]
  },
  {
   "cell_type": "code",
   "execution_count": 20,
   "metadata": {},
   "outputs": [
    {
     "data": {
      "text/plain": [
       "12"
      ]
     },
     "execution_count": 20,
     "metadata": {},
     "output_type": "execute_result"
    }
   ],
   "source": [
    "s = \"abcde\"\n",
    "t = \"edbac\"\n",
    "\n",
    "findPermutationDifference(s,t)"
   ]
  }
 ],
 "metadata": {
  "kernelspec": {
   "display_name": "datascience",
   "language": "python",
   "name": "datascience"
  },
  "language_info": {
   "codemirror_mode": {
    "name": "ipython",
    "version": 3
   },
   "file_extension": ".py",
   "mimetype": "text/x-python",
   "name": "python",
   "nbconvert_exporter": "python",
   "pygments_lexer": "ipython3",
   "version": "3.11.4"
  }
 },
 "nbformat": 4,
 "nbformat_minor": 2
}
