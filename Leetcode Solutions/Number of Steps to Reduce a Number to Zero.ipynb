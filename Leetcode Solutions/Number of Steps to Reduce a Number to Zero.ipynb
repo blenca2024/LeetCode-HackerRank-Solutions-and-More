{
 "cells": [
  {
   "cell_type": "markdown",
   "metadata": {},
   "source": [
    "# Number of Steps to Reduce a Number to Zero\n",
    "\n",
    "Given a non-negative integer num, return the number of steps to reduce it to zero. If the current number is even, you have to divide it by 2, otherwise, you have to subtract 1 from it.\n",
    "\n",
    " \n",
    "\n",
    "**Example 1:**\n",
    "\n",
    "Input: num = 14\n",
    "Output: 6\n",
    "Explanation: \n",
    "Step 1) 14 is even; divide by 2 and obtain 7. \n",
    "Step 2) 7 is odd; subtract 1 and obtain 6.\n",
    "Step 3) 6 is even; divide by 2 and obtain 3. \n",
    "Step 4) 3 is odd; subtract 1 and obtain 2. \n",
    "Step 5) 2 is even; divide by 2 and obtain 1. \n",
    "Step 6) 1 is odd; subtract 1 and obtain 0.\n",
    "\n",
    "**Example 2:**\n",
    "\n",
    "Input: num = 8\n",
    "Output: 4\n",
    "Explanation: \n",
    "Step 1) 8 is even; divide by 2 and obtain 4. \n",
    "Step 2) 4 is even; divide by 2 and obtain 2. \n",
    "Step 3) 2 is even; divide by 2 and obtain 1. \n",
    "Step 4) 1 is odd; subtract 1 and obtain 0.\n",
    "\n",
    "**Example 3:**\n",
    "\n",
    "Input: num = 123\n",
    "Output: 12\n",
    " \n",
    "\n",
    "**Constraints:**\n",
    "\n",
    "0 <= num <= 10^6"
   ]
  },
  {
   "cell_type": "code",
   "execution_count": 2,
   "metadata": {},
   "outputs": [
    {
     "name": "stdout",
     "output_type": "stream",
     "text": [
      "6\n",
      "4\n",
      "12\n"
     ]
    }
   ],
   "source": [
    "def numberOfSteps (num):\n",
    "        count = 0\n",
    "        while num > 0:\n",
    "            if num % 2 == 0:\n",
    "                num = num/2\n",
    "                count +=1\n",
    "            else:\n",
    "                if num % 2 != 0:\n",
    "                    num = num - 1\n",
    "                    count += 1\n",
    "        return count\n",
    "\n",
    "\n",
    "num = 14\n",
    "print(numberOfSteps(num))\n",
    "\n",
    "num = 8\n",
    "print(numberOfSteps(num))\n",
    "\n",
    "num = 123\n",
    "print(numberOfSteps(num))"
   ]
  }
 ],
 "metadata": {
  "kernelspec": {
   "display_name": "Python 3",
   "language": "python",
   "name": "python3"
  },
  "language_info": {
   "codemirror_mode": {
    "name": "ipython",
    "version": 3
   },
   "file_extension": ".py",
   "mimetype": "text/x-python",
   "name": "python",
   "nbconvert_exporter": "python",
   "pygments_lexer": "ipython3",
   "version": "3.7.3"
  }
 },
 "nbformat": 4,
 "nbformat_minor": 2
}
