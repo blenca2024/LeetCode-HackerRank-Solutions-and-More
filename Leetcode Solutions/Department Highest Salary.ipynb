{
 "cells": [
  {
   "cell_type": "markdown",
   "id": "2a9ba490",
   "metadata": {},
   "source": [
    "# 184. Department Highest Salary\n",
    "\n",
    "### Table: Employee\n",
    "\n",
    "| Column Name  | Type    |\n",
    "|--------------|---------|\n",
    "| id           | int     |\n",
    "| name         | varchar |\n",
    "| salary       | int     |\n",
    "| departmentId | int     |\n",
    "\n",
    "`id` is the primary key for this table. `departmentId` is a foreign key referencing the `id` from the Department table. Each row of this table indicates the ID, name, and salary of an employee. It also contains the ID of their department.\n",
    "\n",
    "### Table: Department\n",
    "\n",
    "| Column Name | Type    |\n",
    "|-------------|---------|\n",
    "| id          | int     |\n",
    "| name        | varchar |\n",
    "\n",
    "`id` is the primary key for this table. It is guaranteed that department `name` is not NULL. Each row of this table indicates the ID of a department and its name.\n",
    "\n",
    "## Problem\n",
    "\n",
    "Write a solution to find employees who have the highest salary in each of the departments.\n",
    "\n",
    "Return the result table in any order.\n",
    "\n",
    "## Example 1:\n",
    "\n",
    "**Input:** \n",
    "\n",
    "Employee table:\n",
    "| id | name  | salary | departmentId |\n",
    "|----|-------|--------|--------------|\n",
    "| 1  | Joe   | 70000  | 1            |\n",
    "| 2  | Jim   | 90000  | 1            |\n",
    "| 3  | Henry | 80000  | 2            |\n",
    "| 4  | Sam   | 60000  | 2            |\n",
    "| 5  | Max   | 90000  | 1            |\n",
    "\n",
    "Department table:\n",
    "| id | name  |\n",
    "|----|-------|\n",
    "| 1  | IT    |\n",
    "| 2  | Sales |\n",
    "\n",
    "**Output:**\n",
    "\n",
    "| Department | Employee | Salary |\n",
    "|------------|----------|--------|\n",
    "| IT         | Jim      | 90000  |\n",
    "| Sales      | Henry    | 80000  |\n",
    "| IT         | Max      | 90000  |\n",
    "\n",
    "**Explanation:** Max and Jim both have the highest salary in the IT department, and Henry has the highest salary in the Sales department.\n"
   ]
  },
  {
   "cell_type": "code",
   "execution_count": null,
   "id": "d6e97b31-983d-4144-b4c4-cdc546c07efb",
   "metadata": {},
   "outputs": [],
   "source": [
    "import pandas as pd"
   ]
  },
  {
   "cell_type": "code",
   "execution_count": null,
   "id": "025fead4",
   "metadata": {},
   "outputs": [],
   "source": [
    "employee_data = {\n",
    "    'id': [1, 2, 3, 4, 5],\n",
    "    'name': ['Joe', 'Jim', 'Henry', 'Sam', 'Max'],\n",
    "    'salary': [70000, 90000, 80000, 60000, 90000],\n",
    "    'departmentId': [1, 1, 2, 2, 1]\n",
    "}\n",
    "employee = pd.DataFrame(employee_data)\n",
    "\n",
    "department_data = {\n",
    "    'id': [1, 2],\n",
    "    'name': ['IT', 'Sales']\n",
    "}\n",
    "\n",
    "department = pd.DataFrame(department_data)"
   ]
  },
  {
   "cell_type": "code",
   "execution_count": null,
   "id": "759ecd69",
   "metadata": {},
   "outputs": [],
   "source": [
    "def department_highest_salary(employee: pd.DataFrame, department: pd.DataFrame) -> pd.DataFrame:\n",
    "\n",
    "    merged_df = pd.merge(employee, department.rename({'id':'departmentId'},axis=1), on='departmentId')\n",
    "\n",
    "    output_df = pd.DataFrame({col:[] for col in merged_df.columns})\n",
    "\n",
    "    for dept_id in merged_df['departmentId'].unique():\n",
    "        sub_df = merged_df[merged_df['departmentId'] == dept_id]\n",
    "        output_df = pd.concat([output_df,sub_df[sub_df['salary'] == sub_df['salary'].max()]])\n",
    "\n",
    "    output_df.rename({'name_x':'Employee','name_y':'Department','salary':'Salary'},axis=1,inplace=True)\n",
    "\n",
    "    return output_df[['Department','Employee','Salary']]"
   ]
  },
  {
   "cell_type": "code",
   "execution_count": null,
   "id": "6373d038",
   "metadata": {},
   "outputs": [],
   "source": [
    "department_highest_salary(employee=employee, department=department)"
   ]
  }
 ],
 "metadata": {
  "kernelspec": {
   "display_name": ".venv",
   "language": "python",
   "name": "python3"
  },
  "language_info": {
   "codemirror_mode": {
    "name": "ipython",
    "version": 3
   },
   "file_extension": ".py",
   "mimetype": "text/x-python",
   "name": "python",
   "nbconvert_exporter": "python",
   "pygments_lexer": "ipython3",
   "version": "3.12.5"
  }
 },
 "nbformat": 4,
 "nbformat_minor": 5
}
