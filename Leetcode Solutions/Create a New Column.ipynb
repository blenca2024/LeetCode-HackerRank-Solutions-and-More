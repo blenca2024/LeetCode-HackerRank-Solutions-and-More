{
 "cells": [
  {
   "cell_type": "markdown",
   "metadata": {},
   "source": [
    "# 2881. Create a New Column\n",
    "**Difficulty:** Easy  \n",
    "**Category:** Companies  \n",
    "**Hint:**  \n",
    "\n",
    "## DataFrame employees\n",
    "| Column Name | Type   |\n",
    "|-------------|--------|\n",
    "| name        | object |\n",
    "| salary      | int    |\n",
    "\n",
    "A company plans to provide its employees with a bonus.\n",
    "\n",
    "Write a solution to create a new column named `bonus` that contains the doubled values of the salary column.\n",
    "\n",
    "The result format is in the following example.\n",
    "\n",
    "## Example 1:\n",
    "\n",
    "### Input:\n",
    "**DataFrame employees**\n",
    "\n",
    "| name    | salary |\n",
    "|---------|--------|\n",
    "| Piper   | 4548   |\n",
    "| Grace   | 28150  |\n",
    "| Georgia | 1103   |\n",
    "| Willow  | 6593   |\n",
    "| Finn    | 74576  |\n",
    "| Thomas  | 24433  |\n",
    "\n",
    "### Output:\n",
    "| name    | salary | bonus  |\n",
    "|---------|--------|--------|\n",
    "| Piper   | 4548   | 9096   |\n",
    "| Grace   | 28150  | 56300  |\n",
    "| Georgia | 1103   | 2206   |\n",
    "| Willow  | 6593   | 13186  |\n",
    "| Finn    | 74576  | 149152 |\n",
    "| Thomas  | 24433  | 48866  |\n",
    "\n",
    "**Explanation:**  \n",
    "A new column `bonus` is created by doubling the value in the column `salary`.\n"
   ]
  },
  {
   "cell_type": "markdown",
   "metadata": {},
   "source": [
    "import pandas as pd\n",
    "\n",
    "def createBonusColumn(employees: pd.DataFrame) -> pd.DataFrame:\n",
    "    employees['bonus'] = employees['salary']*2\n",
    "    return employees"
   ]
  }
 ],
 "metadata": {
  "language_info": {
   "name": "python"
  }
 },
 "nbformat": 4,
 "nbformat_minor": 2
}
