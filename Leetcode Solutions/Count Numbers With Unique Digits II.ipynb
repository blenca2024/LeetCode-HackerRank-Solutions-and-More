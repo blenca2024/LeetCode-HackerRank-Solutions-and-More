{
 "cells": [
  {
   "cell_type": "markdown",
   "metadata": {},
   "source": [
    "# 3032. Count Numbers With Unique Digits II\n",
    "\n",
    "\n",
    "Given two positive integers a and b, return the count of numbers having unique digits in the range [a, b] (inclusive).\n",
    "\n",
    "## Example 1:\n",
    "\n",
    "**Input:** a = 1, b = 20  \n",
    "**Output:** 19  \n",
    "**Explanation:** All the numbers in the range [1, 20] have unique digits except 11. Hence, the answer is 19.\n",
    "\n",
    "## Example 2:\n",
    "\n",
    "**Input:** a = 9, b = 19  \n",
    "**Output:** 10  \n",
    "**Explanation:** All the numbers in the range [9, 19] have unique digits except 11. Hence, the answer is 10. \n",
    "\n",
    "## Example 3:\n",
    "\n",
    "**Input:** a = 80, b = 120  \n",
    "**Output:** 27  \n",
    "**Explanation:** There are 41 numbers in the range [80, 120], 27 of which have unique digits.\n",
    "\n",
    "## Constraints:\n",
    "\n",
    "    1 <= a <= b <= 1000"
   ]
  },
  {
   "cell_type": "code",
   "execution_count": 1,
   "metadata": {},
   "outputs": [],
   "source": [
    "def numberCount(a: int, b: int) -> int:\n",
    "    return len([num for num in range(a,b+1) if len(set(str(num))) == len(str(num))])"
   ]
  },
  {
   "cell_type": "code",
   "execution_count": 2,
   "metadata": {},
   "outputs": [
    {
     "data": {
      "text/plain": [
       "19"
      ]
     },
     "execution_count": 2,
     "metadata": {},
     "output_type": "execute_result"
    }
   ],
   "source": [
    "a = 1\n",
    "b = 20\n",
    "\n",
    "numberCount(a,b)"
   ]
  },
  {
   "cell_type": "code",
   "execution_count": 3,
   "metadata": {},
   "outputs": [
    {
     "data": {
      "text/plain": [
       "10"
      ]
     },
     "execution_count": 3,
     "metadata": {},
     "output_type": "execute_result"
    }
   ],
   "source": [
    "a = 9\n",
    "b = 19\n",
    "\n",
    "numberCount(a,b)"
   ]
  },
  {
   "cell_type": "code",
   "execution_count": 4,
   "metadata": {},
   "outputs": [
    {
     "data": {
      "text/plain": [
       "27"
      ]
     },
     "execution_count": 4,
     "metadata": {},
     "output_type": "execute_result"
    }
   ],
   "source": [
    "a = 80\n",
    "b = 120\n",
    "\n",
    "numberCount(a,b)"
   ]
  },
  {
   "cell_type": "code",
   "execution_count": 5,
   "metadata": {},
   "outputs": [
    {
     "data": {
      "text/plain": [
       "10"
      ]
     },
     "execution_count": 5,
     "metadata": {},
     "output_type": "execute_result"
    }
   ],
   "source": [
    "a = 1\n",
    "b = 11\n",
    "\n",
    "numberCount(a,b)"
   ]
  }
 ],
 "metadata": {
  "kernelspec": {
   "display_name": "wai",
   "language": "python",
   "name": "python3"
  },
  "language_info": {
   "codemirror_mode": {
    "name": "ipython",
    "version": 3
   },
   "file_extension": ".py",
   "mimetype": "text/x-python",
   "name": "python",
   "nbconvert_exporter": "python",
   "pygments_lexer": "ipython3",
   "version": "3.11.4"
  }
 },
 "nbformat": 4,
 "nbformat_minor": 2
}
