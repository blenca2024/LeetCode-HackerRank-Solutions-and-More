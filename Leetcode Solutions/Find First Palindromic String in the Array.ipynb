{
 "cells": [
  {
   "cell_type": "markdown",
   "metadata": {},
   "source": [
    "# 2108. Find First Palindromic String in the Array\n",
    "\n",
    "Given an array of strings `words`, return the first palindromic string in the array. If there is no such string, return an empty string \"\".\n",
    "\n",
    "A string is palindromic if it reads the same forward and backward.\n",
    "\n",
    "**Example 1:**\n",
    "\n",
    "Input: words = [\"abc\",\"car\",\"ada\",\"racecar\",\"cool\"]\n",
    "Output: \"ada\"\n",
    "\n",
    "Explanation: The first string that is palindromic is \"ada\". Note that \"racecar\" is also palindromic, but it is not the first.\n",
    "\n",
    "**Example 2:**\n",
    "\n",
    "Input: words = [\"notapalindrome\",\"racecar\"]\n",
    "Output: \"racecar\"\n",
    "\n",
    "Explanation: The first and only string that is palindromic is \"racecar\".\n",
    "\n",
    "**Example 3:**\n",
    "\n",
    "Input: words = [\"def\",\"ghi\"]\n",
    "Output: \"\"\n",
    "\n",
    "Explanation: There are no palindromic strings, so the empty string is returned.\n",
    "\n",
    "**Constraints:**\n",
    "\n",
    "- 1 <= words.length <= 100\n",
    "- 1 <= words[i].length <= 100\n",
    "- `words[i]` consists only of lowercase English letters.\n"
   ]
  },
  {
   "cell_type": "code",
   "execution_count": 1,
   "metadata": {},
   "outputs": [],
   "source": [
    "def firstPalindrome(words: list[str]) -> str:\n",
    "    reversed_words = [word[::-1] for word in words]\n",
    "\n",
    "    if True in [w1==w2 for w1,w2 in zip(words,reversed_words)]:\n",
    "        return words[[w1==w2 for w1,w2 in zip(words,reversed_words)].index(True)]\n",
    "    else:\n",
    "        return \"\""
   ]
  },
  {
   "cell_type": "code",
   "execution_count": 2,
   "metadata": {},
   "outputs": [
    {
     "data": {
      "text/plain": [
       "'ada'"
      ]
     },
     "execution_count": 2,
     "metadata": {},
     "output_type": "execute_result"
    }
   ],
   "source": [
    "words = [\"abc\",\"car\",\"ada\",\"racecar\",\"cool\"]\n",
    "firstPalindrome(words)"
   ]
  },
  {
   "cell_type": "code",
   "execution_count": 3,
   "metadata": {},
   "outputs": [
    {
     "data": {
      "text/plain": [
       "'racecar'"
      ]
     },
     "execution_count": 3,
     "metadata": {},
     "output_type": "execute_result"
    }
   ],
   "source": [
    "words = [\"notapalindrome\",\"racecar\"]\n",
    "firstPalindrome(words)"
   ]
  },
  {
   "cell_type": "code",
   "execution_count": 4,
   "metadata": {},
   "outputs": [
    {
     "data": {
      "text/plain": [
       "''"
      ]
     },
     "execution_count": 4,
     "metadata": {},
     "output_type": "execute_result"
    }
   ],
   "source": [
    "words = [\"def\",\"ghi\"]\n",
    "firstPalindrome(words)"
   ]
  }
 ],
 "metadata": {
  "kernelspec": {
   "display_name": "Python 3",
   "language": "python",
   "name": "python3"
  },
  "language_info": {
   "codemirror_mode": {
    "name": "ipython",
    "version": 3
   },
   "file_extension": ".py",
   "mimetype": "text/x-python",
   "name": "python",
   "nbconvert_exporter": "python",
   "pygments_lexer": "ipython3",
   "version": "3.11.2"
  }
 },
 "nbformat": 4,
 "nbformat_minor": 2
}
