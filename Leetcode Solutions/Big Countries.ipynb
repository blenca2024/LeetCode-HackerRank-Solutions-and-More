{
 "cells": [
  {
   "cell_type": "markdown",
   "metadata": {},
   "source": [
    "# Big Countries\n",
    "\n",
    "SQL Schema\n",
    "\n",
    "There is a table World.\n",
    "\n",
    "\n",
    "| name | continent   | area | population   | gdp |\n",
    "|------|------|------|------|------|\n",
    "|  Afghanistan   |  Asia   |  652230   |  25500100   | 20343000    |\n",
    "|  Albania   |  Europe   |  28748   |  2831741   |  12960000   |\n",
    "|  Algeria   |  Africa   |  2381741   |  37100000   |  188681000   |\n",
    "|  Andorra   |  Europe   |  468   |  78115   |  3712000   |\n",
    "|  Angola   |   Africa  |  1246700   |  20609294   |  100990000   |\n",
    "\n",
    "\n",
    "\n",
    "A country is big if it has an area of bigger than 3 million square km or a population of more than 25 million.\n",
    "\n",
    "Write a SQL solution to output big countries' name, population and area.\n",
    "\n",
    "For example, according to the above table, we should output:\n",
    "\n",
    "| name | population   | area|\n",
    "|------|------|------|\n",
    "|   Afghanistan  |25500100|652230|\n",
    "|   Algeria  |37100000|2381741|\n"
   ]
  },
  {
   "cell_type": "code",
   "execution_count": 1,
   "metadata": {},
   "outputs": [],
   "source": [
    "import sqlite3 as sql\n",
    "import pandas as pd"
   ]
  },
  {
   "cell_type": "code",
   "execution_count": 2,
   "metadata": {},
   "outputs": [],
   "source": [
    "db = sql.connect(':memory:')\n",
    "cursor = db.cursor()"
   ]
  },
  {
   "cell_type": "code",
   "execution_count": 3,
   "metadata": {},
   "outputs": [],
   "source": [
    "cursor.execute(\"CREATE TABLE World(name TEXT PRIMARY KEY,continent TEXT,area INTEGER,population INTEGER,gdp INTEGER)\")\n",
    "\n",
    "db.commit()"
   ]
  },
  {
   "cell_type": "code",
   "execution_count": 4,
   "metadata": {},
   "outputs": [],
   "source": [
    "cursor.execute('''INSERT INTO World values ('Afghanistan','Asia',652230,25500100,20343000)''')\n",
    "cursor.execute('''INSERT INTO World values ('Albania','Europe',28748,2831741,12960000)''')\n",
    "cursor.execute('''INSERT INTO World values ('Algeria','Africa',2381741,37100000,188681000)''')\n",
    "cursor.execute('''INSERT INTO World values ('Andorra','Europe',468,78115,3712000)''')\n",
    "cursor.execute('''INSERT INTO World values ('Angola','Africa',1246700,20609294,100990000)''')\n",
    "\n",
    "db.commit()"
   ]
  },
  {
   "cell_type": "code",
   "execution_count": 5,
   "metadata": {},
   "outputs": [
    {
     "data": {
      "text/html": [
       "<div>\n",
       "<style scoped>\n",
       "    .dataframe tbody tr th:only-of-type {\n",
       "        vertical-align: middle;\n",
       "    }\n",
       "\n",
       "    .dataframe tbody tr th {\n",
       "        vertical-align: top;\n",
       "    }\n",
       "\n",
       "    .dataframe thead th {\n",
       "        text-align: right;\n",
       "    }\n",
       "</style>\n",
       "<table border=\"1\" class=\"dataframe\">\n",
       "  <thead>\n",
       "    <tr style=\"text-align: right;\">\n",
       "      <th></th>\n",
       "      <th>name</th>\n",
       "      <th>population</th>\n",
       "      <th>area</th>\n",
       "    </tr>\n",
       "  </thead>\n",
       "  <tbody>\n",
       "    <tr>\n",
       "      <th>0</th>\n",
       "      <td>Afghanistan</td>\n",
       "      <td>25500100</td>\n",
       "      <td>652230</td>\n",
       "    </tr>\n",
       "    <tr>\n",
       "      <th>1</th>\n",
       "      <td>Algeria</td>\n",
       "      <td>37100000</td>\n",
       "      <td>2381741</td>\n",
       "    </tr>\n",
       "  </tbody>\n",
       "</table>\n",
       "</div>"
      ],
      "text/plain": [
       "          name  population     area\n",
       "0  Afghanistan    25500100   652230\n",
       "1      Algeria    37100000  2381741"
      ]
     },
     "execution_count": 5,
     "metadata": {},
     "output_type": "execute_result"
    }
   ],
   "source": [
    "dfbook = pd.read_sql_query(\"SELECT name,population,area FROM World WHERE (population > 25000000 OR area > 3000000)\",db)\n",
    "\n",
    "dfbook"
   ]
  }
 ],
 "metadata": {
  "kernelspec": {
   "display_name": "Python 3",
   "language": "python",
   "name": "python3"
  },
  "language_info": {
   "codemirror_mode": {
    "name": "ipython",
    "version": 3
   },
   "file_extension": ".py",
   "mimetype": "text/x-python",
   "name": "python",
   "nbconvert_exporter": "python",
   "pygments_lexer": "ipython3",
   "version": "3.7.3"
  }
 },
 "nbformat": 4,
 "nbformat_minor": 2
}
