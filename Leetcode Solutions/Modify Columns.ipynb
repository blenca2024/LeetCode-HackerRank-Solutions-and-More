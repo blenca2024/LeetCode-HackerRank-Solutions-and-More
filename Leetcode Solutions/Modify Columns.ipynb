{
 "cells": [
  {
   "cell_type": "markdown",
   "metadata": {},
   "source": [
    "# 2884. Modify Columns\n",
    "\n",
    "## DataFrame employees\n",
    "| Column Name | Type   |\n",
    "|-------------|--------|\n",
    "| name        | object |\n",
    "| salary      | int    |\n",
    "\n",
    "A company intends to give its employees a pay rise.\n",
    "\n",
    "Write a solution to modify the salary column by multiplying each salary by 2.\n",
    "\n",
    "The result format is in the following example.\n",
    "\n",
    "## Example 1:\n",
    "\n",
    "### Input:\n",
    "**DataFrame employees**\n",
    "\n",
    "| name    | salary |\n",
    "|---------|--------|\n",
    "| Jack    | 19666  |\n",
    "| Piper   | 74754  |\n",
    "| Mia     | 62509  |\n",
    "| Ulysses | 54866  |\n",
    "\n",
    "### Output:\n",
    "| name    | salary |\n",
    "|---------|--------|\n",
    "| Jack    | 39332  |\n",
    "| Piper   | 149508 |\n",
    "| Mia     | 125018 |\n",
    "| Ulysses | 109732 |\n",
    "\n",
    "**Explanation:**\n",
    "\n",
    "Every salary has been doubled.\n"
   ]
  },
  {
   "cell_type": "code",
   "execution_count": null,
   "metadata": {
    "vscode": {
     "languageId": "plaintext"
    }
   },
   "outputs": [],
   "source": [
    "import pandas as pd\n",
    "\n",
    "def modifySalaryColumn(employees: pd.DataFrame) -> pd.DataFrame:\n",
    "    employees['salary'] = employees['salary'] * 2\n",
    "    return employees"
   ]
  }
 ],
 "metadata": {
  "language_info": {
   "name": "python"
  }
 },
 "nbformat": 4,
 "nbformat_minor": 2
}
