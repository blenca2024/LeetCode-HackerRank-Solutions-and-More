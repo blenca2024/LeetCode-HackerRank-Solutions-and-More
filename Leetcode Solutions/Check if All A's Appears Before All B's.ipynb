{
 "cells": [
  {
   "cell_type": "markdown",
   "metadata": {},
   "source": [
    "2124. Check if All A's Appears Before All B's\n",
    "\n",
    "=============================================\n",
    "\n",
    "Given a string `s` consisting of only the characters 'a' and 'b', return true if every 'a' appears before every 'b' in the string. Otherwise, return false.\n",
    "\n",
    "Example 1:\n",
    "----------\n",
    "\n",
    "**Input:** `s = \"aaabbb\"`\n",
    "\n",
    "**Output:** true\n",
    "\n",
    "**Explanation:**\n",
    "The 'a's are at indices 0, 1, and 2, while the 'b's are at indices 3, 4, and 5.\n",
    "Hence, every 'a' appears before every 'b' and we return true.\n",
    "\n",
    "Example 2:\n",
    "----------\n",
    "\n",
    "**Input:** `s = \"abab\"`\n",
    "\n",
    "**Output:** false\n",
    "\n",
    "**Explanation:**\n",
    "There is an 'a' at index 2 and a 'b' at index 1.\n",
    "Hence, not every 'a' appears before every 'b' and we return false.\n",
    "\n",
    "Example 3:\n",
    "----------\n",
    "\n",
    "**Input:** `s = \"bbb\"`\n",
    "\n",
    "**Output:** true\n",
    "\n",
    "**Explanation:**\n",
    "There are no 'a's, hence, every 'a' appears before every 'b' and we return true.\n",
    "\n",
    "Constraints:\n",
    "------------\n",
    "\n",
    "- `1 <= s.length <= 100`\n",
    "- `s[i]` is either 'a' or 'b'.\n"
   ]
  },
  {
   "cell_type": "code",
   "execution_count": 1,
   "metadata": {},
   "outputs": [],
   "source": [
    "def checkString(s: str) -> bool:\n",
    "    a_indicies = [idx for idx,a in enumerate(s) if a == 'a']\n",
    "    b_indicies = [idx for idx,b in enumerate(s) if b == 'b']\n",
    "\n",
    "    check_list = []\n",
    "\n",
    "    for b_idx in b_indicies:\n",
    "        check_list.append(all([b_idx > idx_a for idx_a in a_indicies]))\n",
    "\n",
    "    return all(check_list)"
   ]
  },
  {
   "cell_type": "code",
   "execution_count": 2,
   "metadata": {},
   "outputs": [
    {
     "data": {
      "text/plain": [
       "True"
      ]
     },
     "execution_count": 2,
     "metadata": {},
     "output_type": "execute_result"
    }
   ],
   "source": [
    "s = \"aaabbb\"\n",
    "\n",
    "checkString(s)"
   ]
  },
  {
   "cell_type": "code",
   "execution_count": 3,
   "metadata": {},
   "outputs": [
    {
     "data": {
      "text/plain": [
       "False"
      ]
     },
     "execution_count": 3,
     "metadata": {},
     "output_type": "execute_result"
    }
   ],
   "source": [
    "s = \"abab\"\n",
    "\n",
    "checkString(s)"
   ]
  },
  {
   "cell_type": "code",
   "execution_count": 4,
   "metadata": {},
   "outputs": [
    {
     "data": {
      "text/plain": [
       "True"
      ]
     },
     "execution_count": 4,
     "metadata": {},
     "output_type": "execute_result"
    }
   ],
   "source": [
    "s = \"bbb\"\n",
    "\n",
    "checkString(s)"
   ]
  }
 ],
 "metadata": {
  "kernelspec": {
   "display_name": "datascience",
   "language": "python",
   "name": "datascience"
  },
  "language_info": {
   "codemirror_mode": {
    "name": "ipython",
    "version": 3
   },
   "file_extension": ".py",
   "mimetype": "text/x-python",
   "name": "python",
   "nbconvert_exporter": "python",
   "pygments_lexer": "ipython3",
   "version": "3.11.4"
  }
 },
 "nbformat": 4,
 "nbformat_minor": 2
}
