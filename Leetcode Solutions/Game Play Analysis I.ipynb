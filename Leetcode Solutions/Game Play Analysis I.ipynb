{
 "cells": [
  {
   "cell_type": "markdown",
   "metadata": {},
   "source": [
    "# 511. Game Play Analysis I\n",
    "\n",
    "## Table: Activity\n",
    "\n",
    "| Column Name  | Type    |\n",
    "|--------------|---------|\n",
    "| player_id    | int     |\n",
    "| device_id    | int     |\n",
    "| event_date   | date    |\n",
    "| games_played | int     |\n",
    "\n",
    "`(player_id, event_date)` is the primary key (combination of columns with unique values) of this table.  \n",
    "This table shows the activity of players of some games.  \n",
    "Each row is a record of a player who logged in and played a number of games (possibly 0) before logging out on some day using some device.\n",
    "\n",
    "Write a solution to find the first login date for each player.\n",
    "\n",
    "Return the result table in any order.\n",
    "\n",
    "The result format is in the following example.\n",
    "\n",
    "## Example 1:\n",
    "\n",
    "**Input:**  \n",
    "Activity table:\n",
    "\n",
    "| player_id | device_id | event_date | games_played |\n",
    "|-----------|-----------|------------|--------------|\n",
    "| 1         | 2         | 2016-03-01 | 5            |\n",
    "| 1         | 2         | 2016-05-02 | 6            |\n",
    "| 2         | 3         | 2017-06-25 | 1            |\n",
    "| 3         | 1         | 2016-03-02 | 0            |\n",
    "| 3         | 4         | 2018-07-03 | 5            |\n",
    "\n",
    "**Output:**  \n",
    "| player_id | first_login |\n",
    "|-----------|-------------|\n",
    "| 1         | 2016-03-01  |\n",
    "| 2         | 2017-06-25  |\n",
    "| 3         | 2016-03-02  |"
   ]
  },
  {
   "cell_type": "code",
   "execution_count": 1,
   "metadata": {},
   "outputs": [],
   "source": [
    "import pandas as pd"
   ]
  },
  {
   "cell_type": "code",
   "execution_count": 2,
   "metadata": {},
   "outputs": [],
   "source": [
    "def game_analysis(activity: pd.DataFrame) -> pd.DataFrame:\n",
    "\n",
    "    output_df = pd.DataFrame({'player_id':[], 'device_id':[], 'event_date':[], 'games_played':[]})\n",
    "\n",
    "    for id in activity['player_id'].unique():\n",
    "        output_df = pd.concat([output_df,activity[activity['player_id']==id].sort_values('event_date').iloc[[0]]])\n",
    "\n",
    "    return output_df[['player_id','event_date']].rename({'event_date':'first_login'},axis=1)"
   ]
  },
  {
   "cell_type": "code",
   "execution_count": 3,
   "metadata": {},
   "outputs": [
    {
     "data": {
      "text/html": [
       "<div>\n",
       "<style scoped>\n",
       "    .dataframe tbody tr th:only-of-type {\n",
       "        vertical-align: middle;\n",
       "    }\n",
       "\n",
       "    .dataframe tbody tr th {\n",
       "        vertical-align: top;\n",
       "    }\n",
       "\n",
       "    .dataframe thead th {\n",
       "        text-align: right;\n",
       "    }\n",
       "</style>\n",
       "<table border=\"1\" class=\"dataframe\">\n",
       "  <thead>\n",
       "    <tr style=\"text-align: right;\">\n",
       "      <th></th>\n",
       "      <th>player_id</th>\n",
       "      <th>first_login</th>\n",
       "    </tr>\n",
       "  </thead>\n",
       "  <tbody>\n",
       "    <tr>\n",
       "      <th>0</th>\n",
       "      <td>1.0</td>\n",
       "      <td>2016-03-01</td>\n",
       "    </tr>\n",
       "    <tr>\n",
       "      <th>2</th>\n",
       "      <td>2.0</td>\n",
       "      <td>2017-06-25</td>\n",
       "    </tr>\n",
       "    <tr>\n",
       "      <th>3</th>\n",
       "      <td>3.0</td>\n",
       "      <td>2016-03-02</td>\n",
       "    </tr>\n",
       "  </tbody>\n",
       "</table>\n",
       "</div>"
      ],
      "text/plain": [
       "   player_id first_login\n",
       "0        1.0  2016-03-01\n",
       "2        2.0  2017-06-25\n",
       "3        3.0  2016-03-02"
      ]
     },
     "execution_count": 3,
     "metadata": {},
     "output_type": "execute_result"
    }
   ],
   "source": [
    "activity = pd.DataFrame([\n",
    "    {\"player_id\": 1, \"device_id\": 2, \"event_date\": \"2016-03-01\", \"games_played\": 5},\n",
    "    {\"player_id\": 1, \"device_id\": 2, \"event_date\": \"2016-05-02\", \"games_played\": 6},\n",
    "    {\"player_id\": 2, \"device_id\": 3, \"event_date\": \"2017-06-25\", \"games_played\": 1},\n",
    "    {\"player_id\": 3, \"device_id\": 1, \"event_date\": \"2016-03-02\", \"games_played\": 0},\n",
    "    {\"player_id\": 3, \"device_id\": 4, \"event_date\": \"2018-07-03\", \"games_played\": 5},\n",
    "])\n",
    "\n",
    "game_analysis(activity=activity)"
   ]
  }
 ],
 "metadata": {
  "kernelspec": {
   "display_name": "datascience",
   "language": "python",
   "name": "datascience"
  },
  "language_info": {
   "codemirror_mode": {
    "name": "ipython",
    "version": 3
   },
   "file_extension": ".py",
   "mimetype": "text/x-python",
   "name": "python",
   "nbconvert_exporter": "python",
   "pygments_lexer": "ipython3",
   "version": "3.11.4"
  }
 },
 "nbformat": 4,
 "nbformat_minor": 2
}
