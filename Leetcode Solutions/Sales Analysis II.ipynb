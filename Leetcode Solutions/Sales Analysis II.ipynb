{
 "cells": [
  {
   "cell_type": "markdown",
   "metadata": {},
   "source": [
    "# 1083. Sales Analysis II\n",
    "\n",
    "## Table: Product\n",
    "\n",
    "| Column Name  | Type    |\n",
    "|--------------|---------|\n",
    "| product_id   | int     |\n",
    "| product_name | varchar |\n",
    "| unit_price   | int     |\n",
    "\n",
    "`product_id` is the primary key (column with unique values) of this table. Each row of this table indicates the name and the price of each product.\n",
    "\n",
    "## Table: Sales\n",
    "\n",
    "| Column Name | Type    |\n",
    "|-------------|---------|\n",
    "| seller_id   | int     |\n",
    "| product_id  | int     |\n",
    "| buyer_id    | int     |\n",
    "| sale_date   | date    |\n",
    "| quantity    | int     |\n",
    "| price       | int     |\n",
    "\n",
    "This table might have repeated rows. `product_id` is a foreign key (reference column) to the `Product` table. `buyer_id` is never NULL. `sale_date` is never NULL. Each row of this table contains some information about one sale.\n",
    "\n",
    "Write a solution to report the buyers who have bought S8 but not iPhone. Note that S8 and iPhone are products presented in the `Product` table.\n",
    "\n",
    "Return the result table in any order.\n",
    "\n",
    "The result format is in the following example.\n",
    "\n",
    "## Example 1:\n",
    "\n",
    "**Input:**\n",
    "\n",
    "Product table:\n",
    "\n",
    "| product_id | product_name | unit_price |\n",
    "|------------|--------------|------------|\n",
    "| 1          | S8           | 1000       |\n",
    "| 2          | G4           | 800        |\n",
    "| 3          | iPhone       | 1400       |\n",
    "\n",
    "Sales table:\n",
    "\n",
    "| seller_id | product_id | buyer_id | sale_date  | quantity | price |\n",
    "|-----------|------------|----------|------------|----------|-------|\n",
    "| 1         | 1          | 1        | 2019-01-21 | 2        | 2000  |\n",
    "| 1         | 2          | 2        | 2019-02-17 | 1        | 800   |\n",
    "| 2         | 1          | 3        | 2019-06-02 | 1        | 800   |\n",
    "| 3         | 3          | 3        | 2019-05-13 | 2        | 2800  |\n",
    "\n",
    "**Output:**\n",
    "\n",
    "| buyer_id |\n",
    "|----------|\n",
    "| 1        |\n",
    "\n",
    "**Explanation:**  \n",
    "The buyer with id 1 bought an S8 but did not buy an iPhone. The buyer with id 3 bought both.\n"
   ]
  },
  {
   "cell_type": "code",
   "execution_count": 1,
   "metadata": {},
   "outputs": [],
   "source": [
    "import pandas as pd"
   ]
  },
  {
   "cell_type": "code",
   "execution_count": 2,
   "metadata": {},
   "outputs": [],
   "source": [
    "product = pd.DataFrame([\n",
    "    {\"product_id\": 1, \"product_name\": \"S8\", \"unit_price\": 1000},\n",
    "    {\"product_id\": 2, \"product_name\": \"G4\", \"unit_price\": 800},\n",
    "    {\"product_id\": 3, \"product_name\": \"iPhone\", \"unit_price\": 1400},\n",
    "])\n",
    "\n",
    "sales = pd.DataFrame([\n",
    "    {\"seller_id\": 1, \"product_id\": 1, \"buyer_id\": 1, \"sale_date\": \"2019-01-21\", \"quantity\": 2, \"price\": 2000},\n",
    "    {\"seller_id\": 1, \"product_id\": 2, \"buyer_id\": 2, \"sale_date\": \"2019-02-17\", \"quantity\": 1, \"price\": 800},\n",
    "    {\"seller_id\": 2, \"product_id\": 1, \"buyer_id\": 3, \"sale_date\": \"2019-06-02\", \"quantity\": 1, \"price\": 800},\n",
    "    {\"seller_id\": 3, \"product_id\": 3, \"buyer_id\": 3, \"sale_date\": \"2019-05-13\", \"quantity\": 2, \"price\": 2800},\n",
    "]\n",
    ")"
   ]
  },
  {
   "cell_type": "code",
   "execution_count": 3,
   "metadata": {},
   "outputs": [],
   "source": [
    "def sales_analysis(product: pd.DataFrame, sales: pd.DataFrame) -> pd.DataFrame:\n",
    "\n",
    "    merged_df = pd.merge(product,sales,right_on='product_id',left_on='product_id')\n",
    "\n",
    "    output_dict = {id:[] for id in sales['buyer_id']}\n",
    "\n",
    "    for id,prod in merged_df[['buyer_id','product_name']].values:\n",
    "        output_dict[id].append(prod)\n",
    "\n",
    "    output_dict = {key:val for key,val in output_dict.items() if 'S8' in val and 'iPhone' not in val}\n",
    "\n",
    "    return pd.DataFrame({'buyer_id':[key for key in output_dict]})"
   ]
  },
  {
   "cell_type": "code",
   "execution_count": 4,
   "metadata": {},
   "outputs": [
    {
     "data": {
      "text/html": [
       "<div>\n",
       "<style scoped>\n",
       "    .dataframe tbody tr th:only-of-type {\n",
       "        vertical-align: middle;\n",
       "    }\n",
       "\n",
       "    .dataframe tbody tr th {\n",
       "        vertical-align: top;\n",
       "    }\n",
       "\n",
       "    .dataframe thead th {\n",
       "        text-align: right;\n",
       "    }\n",
       "</style>\n",
       "<table border=\"1\" class=\"dataframe\">\n",
       "  <thead>\n",
       "    <tr style=\"text-align: right;\">\n",
       "      <th></th>\n",
       "      <th>buyer_id</th>\n",
       "    </tr>\n",
       "  </thead>\n",
       "  <tbody>\n",
       "    <tr>\n",
       "      <th>0</th>\n",
       "      <td>1</td>\n",
       "    </tr>\n",
       "  </tbody>\n",
       "</table>\n",
       "</div>"
      ],
      "text/plain": [
       "   buyer_id\n",
       "0         1"
      ]
     },
     "execution_count": 4,
     "metadata": {},
     "output_type": "execute_result"
    }
   ],
   "source": [
    "sales_analysis(product=product,sales=sales)"
   ]
  }
 ],
 "metadata": {
  "kernelspec": {
   "display_name": "datascience",
   "language": "python",
   "name": "datascience"
  },
  "language_info": {
   "codemirror_mode": {
    "name": "ipython",
    "version": 3
   },
   "file_extension": ".py",
   "mimetype": "text/x-python",
   "name": "python",
   "nbconvert_exporter": "python",
   "pygments_lexer": "ipython3",
   "version": "3.11.4"
  }
 },
 "nbformat": 4,
 "nbformat_minor": 2
}
