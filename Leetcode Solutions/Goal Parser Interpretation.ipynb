{
 "cells": [
  {
   "cell_type": "markdown",
   "metadata": {},
   "source": [
    "# 1678. Goal Parser Interpretation\n",
    "\n",
    "**Solved**\n",
    "\n",
    "**Easy**\n",
    "\n",
    "## Topics\n",
    "\n",
    "## Companies\n",
    "\n",
    "## Hint\n",
    "\n",
    "You own a Goal Parser that can interpret a string command. The command consists of an alphabet of \"G\", \"()\" and/or \"(al)\" in some order. The Goal Parser will interpret \"G\" as the string \"G\", \"()\" as the string \"o\", and \"(al)\" as the string \"al\". The interpreted strings are then concatenated in the original order.\n",
    "\n",
    "Given the string command, return the Goal Parser's interpretation of command.\n",
    "\n",
    "## Example 1:\n",
    "\n",
    "**Input:** `command = \"G()(al)\"`\n",
    "\n",
    "**Output:** `\"Goal\"`\n",
    "\n",
    "**Explanation:** The Goal Parser interprets the command as follows:\n",
    "- `G` -> `G`\n",
    "- `()` -> `o`\n",
    "- `(al)` -> `al`\n",
    "\n",
    "The final concatenated result is \"Goal\".\n",
    "\n",
    "## Example 2:\n",
    "\n",
    "**Input:** `command = \"G()()()()(al)\"`\n",
    "\n",
    "**Output:** `\"Gooooal\"`\n",
    "\n",
    "## Example 3:\n",
    "\n",
    "**Input:** `command = \"(al)G(al)()()G\"`\n",
    "\n",
    "**Output:** `\"alGalooG\"`\n",
    "\n",
    "## Constraints:\n",
    "\n",
    "- `1 <= command.length <= 100`\n",
    "- `command` consists of \"G\", \"()\", and/or \"(al)\" in some order.\n"
   ]
  },
  {
   "cell_type": "code",
   "execution_count": 1,
   "metadata": {},
   "outputs": [],
   "source": [
    "def interpret(command):\n",
    "    return ''.join([char for char in command.replace('()','o') if char.isalpha() == True])"
   ]
  },
  {
   "cell_type": "code",
   "execution_count": 2,
   "metadata": {},
   "outputs": [
    {
     "data": {
      "text/plain": [
       "'Goal'"
      ]
     },
     "execution_count": 2,
     "metadata": {},
     "output_type": "execute_result"
    }
   ],
   "source": [
    "command = \"G()(al)\"\n",
    "interpret(command=command)"
   ]
  },
  {
   "cell_type": "code",
   "execution_count": 3,
   "metadata": {},
   "outputs": [
    {
     "data": {
      "text/plain": [
       "'Gooooal'"
      ]
     },
     "execution_count": 3,
     "metadata": {},
     "output_type": "execute_result"
    }
   ],
   "source": [
    "command = \"G()()()()(al)\"\n",
    "interpret(command=command)"
   ]
  },
  {
   "cell_type": "code",
   "execution_count": 4,
   "metadata": {},
   "outputs": [
    {
     "data": {
      "text/plain": [
       "'alGalooG'"
      ]
     },
     "execution_count": 4,
     "metadata": {},
     "output_type": "execute_result"
    }
   ],
   "source": [
    "command = \"(al)G(al)()()G\"\n",
    "interpret(command=command)"
   ]
  }
 ],
 "metadata": {
  "kernelspec": {
   "display_name": "wai",
   "language": "python",
   "name": "python3"
  },
  "language_info": {
   "codemirror_mode": {
    "name": "ipython",
    "version": 3
   },
   "file_extension": ".py",
   "mimetype": "text/x-python",
   "name": "python",
   "nbconvert_exporter": "python",
   "pygments_lexer": "ipython3",
   "version": "3.11.4"
  }
 },
 "nbformat": 4,
 "nbformat_minor": 2
}
