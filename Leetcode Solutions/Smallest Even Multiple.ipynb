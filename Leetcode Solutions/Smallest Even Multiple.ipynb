{
 "cells": [
  {
   "cell_type": "markdown",
   "metadata": {},
   "source": [
    "### 2413. Smallest Even Multiple\n",
    "\n",
    "Given a positive integer `n`, return the smallest positive integer that is a multiple of both `2` and `n`.\n",
    "\n",
    "#### Example 1:\n",
    "\n",
    "- **Input:** `n = 5`\n",
    "- **Output:** `10`\n",
    "- **Explanation:** The smallest multiple of both `5` and `2` is `10`.\n",
    "\n",
    "#### Example 2:\n",
    "\n",
    "- **Input:** `n = 6`\n",
    "- **Output:** `6`\n",
    "- **Explanation:** The smallest multiple of both `6` and `2` is `6`. Note that a number is a multiple of itself.\n",
    "\n",
    "#### Constraints:\n",
    "\n",
    "- `1 <= n <= 150`"
   ]
  },
  {
   "cell_type": "code",
   "execution_count": 7,
   "metadata": {},
   "outputs": [],
   "source": [
    "def smallestEvenMultiple(n):\n",
    "    return [n*2 if n%2!=0 else n for n in [n]][0]"
   ]
  },
  {
   "cell_type": "code",
   "execution_count": 8,
   "metadata": {},
   "outputs": [
    {
     "data": {
      "text/plain": [
       "10"
      ]
     },
     "execution_count": 8,
     "metadata": {},
     "output_type": "execute_result"
    }
   ],
   "source": [
    "n = 5\n",
    "\n",
    "smallestEvenMultiple(n)"
   ]
  },
  {
   "cell_type": "code",
   "execution_count": 9,
   "metadata": {},
   "outputs": [
    {
     "data": {
      "text/plain": [
       "6"
      ]
     },
     "execution_count": 9,
     "metadata": {},
     "output_type": "execute_result"
    }
   ],
   "source": [
    "n = 6\n",
    "smallestEvenMultiple(n)"
   ]
  }
 ],
 "metadata": {
  "kernelspec": {
   "display_name": "Python 3",
   "language": "python",
   "name": "python3"
  },
  "language_info": {
   "codemirror_mode": {
    "name": "ipython",
    "version": 3
   },
   "file_extension": ".py",
   "mimetype": "text/x-python",
   "name": "python",
   "nbconvert_exporter": "python",
   "pygments_lexer": "ipython3",
   "version": "3.11.2"
  }
 },
 "nbformat": 4,
 "nbformat_minor": 2
}
