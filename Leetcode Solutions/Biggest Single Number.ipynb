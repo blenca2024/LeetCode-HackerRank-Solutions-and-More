{
 "cells": [
  {
   "cell_type": "markdown",
   "id": "091ddf38",
   "metadata": {},
   "source": [
    "# 619. Biggest Single Number\n",
    "\n",
    "### Table: MyNumbers\n",
    "\n",
    "| Column Name | Type |\n",
    "|-------------|------|\n",
    "| num         | int  |\n",
    "\n",
    "This table may contain duplicates (In other words, there is no primary key for this table in SQL). Each row of this table contains an integer.\n",
    "\n",
    "## Problem\n",
    "\n",
    "A single number is a number that appeared only once in the `MyNumbers` table.\n",
    "\n",
    "Find the largest single number. If there is no single number, return `null`.\n",
    "\n",
    "## Example 1:\n",
    "\n",
    "**Input:**\n",
    "\n",
    "MyNumbers table:\n",
    "| num |\n",
    "|-----|\n",
    "| 8   |\n",
    "| 8   |\n",
    "| 3   |\n",
    "| 3   |\n",
    "| 1   |\n",
    "| 4   |\n",
    "| 5   |\n",
    "| 6   |\n",
    "\n",
    "**Output:**\n",
    "\n",
    "| num |\n",
    "|-----|\n",
    "| 6   |\n",
    "\n",
    "**Explanation:** The single numbers are `1`, `4`, `5`, and `6`. Since `6` is the largest single number, we return it.\n",
    "\n",
    "## Example 2:\n",
    "\n",
    "**Input:**\n",
    "\n",
    "MyNumbers table:\n",
    "| num |\n",
    "|-----|\n",
    "| 8   |\n",
    "| 8   |\n",
    "| 7   |\n",
    "| 7   |\n",
    "| 3   |\n",
    "| 3   |\n",
    "| 3   |\n",
    "\n",
    "**Output:**\n",
    "\n",
    "| num  |\n",
    "|------|\n",
    "| null |\n",
    "\n",
    "**Explanation:** There are no single numbers in the input table, so we return `null`.\n"
   ]
  },
  {
   "cell_type": "code",
   "execution_count": 1,
   "id": "d84d1f1c-b002-4f7e-9234-07c06ffb529c",
   "metadata": {},
   "outputs": [],
   "source": [
    "import pandas as pd"
   ]
  },
  {
   "cell_type": "code",
   "execution_count": 14,
   "id": "670e74de-4376-415d-a7c7-dd42b06e2234",
   "metadata": {},
   "outputs": [],
   "source": [
    "def biggest_single_number(my_numbers: pd.DataFrame) -> pd.DataFrame:\n",
    "\n",
    "    num_list = my_numbers['num'].tolist()\n",
    "    num_count = [n for n in num_list if num_list.count(n) < 2]\n",
    "    \n",
    "    if num_count:\n",
    "        max_num = max(num_count)\n",
    "        return pd.DataFrame({'num':[max_num]})\n",
    "    else:\n",
    "        return pd.DataFrame({'num':[None]})"
   ]
  },
  {
   "cell_type": "code",
   "execution_count": 16,
   "id": "63d8c3bf-dda5-4148-a661-071cea5b20b0",
   "metadata": {},
   "outputs": [
    {
     "data": {
      "text/html": [
       "<div>\n",
       "<style scoped>\n",
       "    .dataframe tbody tr th:only-of-type {\n",
       "        vertical-align: middle;\n",
       "    }\n",
       "\n",
       "    .dataframe tbody tr th {\n",
       "        vertical-align: top;\n",
       "    }\n",
       "\n",
       "    .dataframe thead th {\n",
       "        text-align: right;\n",
       "    }\n",
       "</style>\n",
       "<table border=\"1\" class=\"dataframe\">\n",
       "  <thead>\n",
       "    <tr style=\"text-align: right;\">\n",
       "      <th></th>\n",
       "      <th>num</th>\n",
       "    </tr>\n",
       "  </thead>\n",
       "  <tbody>\n",
       "    <tr>\n",
       "      <th>0</th>\n",
       "      <td>6</td>\n",
       "    </tr>\n",
       "  </tbody>\n",
       "</table>\n",
       "</div>"
      ],
      "text/plain": [
       "   num\n",
       "0    6"
      ]
     },
     "execution_count": 16,
     "metadata": {},
     "output_type": "execute_result"
    }
   ],
   "source": [
    "my_numbers = pd.DataFrame({'num':[8,8,3,3,1,4,5,6]})\n",
    "biggest_single_number(my_numbers)"
   ]
  },
  {
   "cell_type": "code",
   "execution_count": 17,
   "id": "56097e28-337b-459e-b33d-79b568ae39b2",
   "metadata": {},
   "outputs": [
    {
     "data": {
      "text/html": [
       "<div>\n",
       "<style scoped>\n",
       "    .dataframe tbody tr th:only-of-type {\n",
       "        vertical-align: middle;\n",
       "    }\n",
       "\n",
       "    .dataframe tbody tr th {\n",
       "        vertical-align: top;\n",
       "    }\n",
       "\n",
       "    .dataframe thead th {\n",
       "        text-align: right;\n",
       "    }\n",
       "</style>\n",
       "<table border=\"1\" class=\"dataframe\">\n",
       "  <thead>\n",
       "    <tr style=\"text-align: right;\">\n",
       "      <th></th>\n",
       "      <th>num</th>\n",
       "    </tr>\n",
       "  </thead>\n",
       "  <tbody>\n",
       "    <tr>\n",
       "      <th>0</th>\n",
       "      <td>None</td>\n",
       "    </tr>\n",
       "  </tbody>\n",
       "</table>\n",
       "</div>"
      ],
      "text/plain": [
       "    num\n",
       "0  None"
      ]
     },
     "execution_count": 17,
     "metadata": {},
     "output_type": "execute_result"
    }
   ],
   "source": [
    "my_numbers = pd.DataFrame({'num':[8,8,7,7,3,3,3]})\n",
    "biggest_single_number(my_numbers)"
   ]
  }
 ],
 "metadata": {
  "kernelspec": {
   "display_name": "ds",
   "language": "python",
   "name": "ds"
  },
  "language_info": {
   "codemirror_mode": {
    "name": "ipython",
    "version": 3
   },
   "file_extension": ".py",
   "mimetype": "text/x-python",
   "name": "python",
   "nbconvert_exporter": "python",
   "pygments_lexer": "ipython3",
   "version": "3.12.5"
  }
 },
 "nbformat": 4,
 "nbformat_minor": 5
}
