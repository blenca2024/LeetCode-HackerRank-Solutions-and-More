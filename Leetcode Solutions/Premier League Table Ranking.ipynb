{
 "cells": [
  {
   "cell_type": "markdown",
   "metadata": {},
   "source": [
    "# 3246. Premier League Table Ranking\n",
    "\n",
    "### Table: TeamStats\n",
    "\n",
    "| Column Name      | Type    |\n",
    "|------------------|---------|\n",
    "| team_id          | int     |\n",
    "| team_name        | varchar |\n",
    "| matches_played   | int     |\n",
    "| wins             | int     |\n",
    "| draws            | int     |\n",
    "| losses           | int     |\n",
    "\n",
    "`team_id` is the unique key for this table. This table contains team id, team name, matches played, wins, draws, and losses.\n",
    "\n",
    "## Problem\n",
    "\n",
    "Write a solution to calculate the points and rank for each team in the league. Points are calculated as follows:\n",
    "- 3 points for a win\n",
    "- 1 point for a draw\n",
    "- 0 points for a loss\n",
    "\n",
    "Note: Teams with the same points must be assigned the same rank.\n",
    "\n",
    "Return the result table ordered by points in descending, and then by `team_name` in ascending order.\n",
    "\n",
    "The query result format is in the following example.\n",
    "\n",
    "## Example:\n",
    "\n",
    "**Input:**\n",
    "\n",
    "TeamStats table:\n",
    "| team_id | team_name       | matches_played | wins | draws | losses |\n",
    "|---------|-----------------|----------------|------|-------|--------|\n",
    "| 1       | Manchester City | 10             | 6    | 2     | 2      |\n",
    "| 2       | Liverpool       | 10             | 6    | 2     | 2      |\n",
    "| 3       | Chelsea         | 10             | 5    | 3     | 2      |\n",
    "| 4       | Arsenal         | 10             | 4    | 4     | 2      |\n",
    "| 5       | Tottenham       | 10             | 3    | 5     | 2      |\n",
    "\n",
    "**Output:**\n",
    "\n",
    "| team_id | team_name       | points | position |\n",
    "|---------|-----------------|--------|----------|\n",
    "| 2       | Liverpool       | 20     | 1        |\n",
    "| 1       | Manchester City | 20     | 1        |\n",
    "| 3       | Chelsea         | 18     | 3        |\n",
    "| 4       | Arsenal         | 16     | 4        |\n",
    "| 5       | Tottenham       | 14     | 5        |\n",
    "\n",
    "**Explanation:**\n",
    "- Manchester City and Liverpool both have 20 points (6 wins * 3 points + 2 draws * 1 point), so they share position 1.\n",
    "- Chelsea has 18 points (5 wins * 3 points + 3 draws * 1 point) and is in position 3.\n",
    "- Arsenal has 16 points (4 wins * 3 points + 4 draws * 1 point) and is in position 4.\n",
    "- Tottenham has 14 points (3 wins * 3 points + 5 draws * 1 point) and is in position 5.\n",
    "\n",
    "The output table is ordered by points in descending order, then by `team_name` in ascending order.\n"
   ]
  },
  {
   "cell_type": "code",
   "execution_count": 1,
   "metadata": {},
   "outputs": [],
   "source": [
    "import pandas as pd"
   ]
  },
  {
   "cell_type": "code",
   "execution_count": 2,
   "metadata": {},
   "outputs": [],
   "source": [
    "team_stats_data = {\n",
    "    'team_id': [1, 2, 3, 4, 5],\n",
    "    'team_name': ['Manchester City', 'Liverpool', 'Chelsea', 'Arsenal', 'Tottenham'],\n",
    "    'matches_played': [10, 10, 10, 10, 10],\n",
    "    'wins': [6, 6, 5, 4, 3],\n",
    "    'draws': [2, 2, 3, 4, 5],\n",
    "    'losses': [2, 2, 2, 2, 2]\n",
    "}\n",
    "\n",
    "team_stats = pd.DataFrame(team_stats_data)"
   ]
  },
  {
   "cell_type": "code",
   "execution_count": 3,
   "metadata": {},
   "outputs": [],
   "source": [
    "def calculate_team_standings(team_stats: pd.DataFrame) -> pd.DataFrame:\n",
    "    team_stats['points'] = (team_stats['wins'] * 3 ) + team_stats['draws']\n",
    "    team_stats['position'] = team_stats['points'].rank(method='min', ascending=False)\n",
    "    return team_stats[['team_id','team_name','points','position']].sort_values(['points','team_name'],ascending=[False, True])"
   ]
  },
  {
   "cell_type": "code",
   "execution_count": 4,
   "metadata": {},
   "outputs": [
    {
     "data": {
      "text/html": [
       "<div>\n",
       "<style scoped>\n",
       "    .dataframe tbody tr th:only-of-type {\n",
       "        vertical-align: middle;\n",
       "    }\n",
       "\n",
       "    .dataframe tbody tr th {\n",
       "        vertical-align: top;\n",
       "    }\n",
       "\n",
       "    .dataframe thead th {\n",
       "        text-align: right;\n",
       "    }\n",
       "</style>\n",
       "<table border=\"1\" class=\"dataframe\">\n",
       "  <thead>\n",
       "    <tr style=\"text-align: right;\">\n",
       "      <th></th>\n",
       "      <th>team_id</th>\n",
       "      <th>team_name</th>\n",
       "      <th>points</th>\n",
       "      <th>position</th>\n",
       "    </tr>\n",
       "  </thead>\n",
       "  <tbody>\n",
       "    <tr>\n",
       "      <th>1</th>\n",
       "      <td>2</td>\n",
       "      <td>Liverpool</td>\n",
       "      <td>20</td>\n",
       "      <td>1.0</td>\n",
       "    </tr>\n",
       "    <tr>\n",
       "      <th>0</th>\n",
       "      <td>1</td>\n",
       "      <td>Manchester City</td>\n",
       "      <td>20</td>\n",
       "      <td>1.0</td>\n",
       "    </tr>\n",
       "    <tr>\n",
       "      <th>2</th>\n",
       "      <td>3</td>\n",
       "      <td>Chelsea</td>\n",
       "      <td>18</td>\n",
       "      <td>3.0</td>\n",
       "    </tr>\n",
       "    <tr>\n",
       "      <th>3</th>\n",
       "      <td>4</td>\n",
       "      <td>Arsenal</td>\n",
       "      <td>16</td>\n",
       "      <td>4.0</td>\n",
       "    </tr>\n",
       "    <tr>\n",
       "      <th>4</th>\n",
       "      <td>5</td>\n",
       "      <td>Tottenham</td>\n",
       "      <td>14</td>\n",
       "      <td>5.0</td>\n",
       "    </tr>\n",
       "  </tbody>\n",
       "</table>\n",
       "</div>"
      ],
      "text/plain": [
       "   team_id        team_name  points  position\n",
       "1        2        Liverpool      20       1.0\n",
       "0        1  Manchester City      20       1.0\n",
       "2        3          Chelsea      18       3.0\n",
       "3        4          Arsenal      16       4.0\n",
       "4        5        Tottenham      14       5.0"
      ]
     },
     "execution_count": 4,
     "metadata": {},
     "output_type": "execute_result"
    }
   ],
   "source": [
    "calculate_team_standings(team_stats=team_stats)"
   ]
  }
 ],
 "metadata": {
  "kernelspec": {
   "display_name": "wai",
   "language": "python",
   "name": "python3"
  },
  "language_info": {
   "codemirror_mode": {
    "name": "ipython",
    "version": 3
   },
   "file_extension": ".py",
   "mimetype": "text/x-python",
   "name": "python",
   "nbconvert_exporter": "python",
   "pygments_lexer": "ipython3",
   "version": "3.11.4"
  }
 },
 "nbformat": 4,
 "nbformat_minor": 2
}
