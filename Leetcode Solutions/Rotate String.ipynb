{
 "cells": [
  {
   "cell_type": "markdown",
   "metadata": {},
   "source": [
    "### 796. Rotate String\n",
    "\n",
    "Given two strings `s` and `goal`, return true if and only if `s` can become `goal` after some number of shifts on `s`.\n",
    "\n",
    "A shift on `s` consists of moving the leftmost character of `s` to the rightmost position.\n",
    "\n",
    "For example, if `s = \"abcde\"`, then it will be `\"bcdea\"` after one shift.\n",
    "\n",
    "#### Example 1:\n",
    "\n",
    "**Input:** `s = \"abcde\", goal = \"cdeab\"`\n",
    "**Output:** `true`\n",
    "\n",
    "#### Example 2:\n",
    "\n",
    "**Input:** `s = \"abcde\", goal = \"abced\"`\n",
    "**Output:** `false`\n",
    "\n",
    "#### Constraints:\n",
    "\n",
    "- `1 <= s.length, goal.length <= 100`\n",
    "- `s` and `goal` consist of lowercase English letters."
   ]
  },
  {
   "cell_type": "code",
   "execution_count": 1,
   "metadata": {},
   "outputs": [],
   "source": [
    "def rotateString(s, goal):\n",
    "    output = False\n",
    "\n",
    "    for i in range(len(s)):\n",
    "        s = s[1:]+s[:1]\n",
    "        if (s == goal):\n",
    "            output = True\n",
    "            break\n",
    "    \n",
    "    return output"
   ]
  },
  {
   "cell_type": "code",
   "execution_count": 2,
   "metadata": {},
   "outputs": [
    {
     "data": {
      "text/plain": [
       "False"
      ]
     },
     "execution_count": 2,
     "metadata": {},
     "output_type": "execute_result"
    }
   ],
   "source": [
    "s = \"abcde\"\n",
    "goal = \"abced\"\n",
    "rotateString(s, goal)"
   ]
  },
  {
   "cell_type": "code",
   "execution_count": 3,
   "metadata": {},
   "outputs": [
    {
     "data": {
      "text/plain": [
       "True"
      ]
     },
     "execution_count": 3,
     "metadata": {},
     "output_type": "execute_result"
    }
   ],
   "source": [
    "s = \"abcde\"\n",
    "goal = \"cdeab\"\n",
    "rotateString(s, goal)"
   ]
  },
  {
   "cell_type": "code",
   "execution_count": 4,
   "metadata": {},
   "outputs": [
    {
     "data": {
      "text/plain": [
       "True"
      ]
     },
     "execution_count": 4,
     "metadata": {},
     "output_type": "execute_result"
    }
   ],
   "source": [
    "s = \"abc\"\n",
    "goal = \"abc\"\n",
    "rotateString(s, goal)"
   ]
  }
 ],
 "metadata": {
  "kernelspec": {
   "display_name": "Python 3",
   "language": "python",
   "name": "python3"
  },
  "language_info": {
   "codemirror_mode": {
    "name": "ipython",
    "version": 3
   },
   "file_extension": ".py",
   "mimetype": "text/x-python",
   "name": "python",
   "nbconvert_exporter": "python",
   "pygments_lexer": "ipython3",
   "version": "3.11.2"
  }
 },
 "nbformat": 4,
 "nbformat_minor": 2
}
