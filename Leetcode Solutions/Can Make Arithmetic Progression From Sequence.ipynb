{
 "cells": [
  {
   "cell_type": "markdown",
   "metadata": {},
   "source": [
    "# Can Make Arithmetic Progression From Sequence\n",
    "\n",
    "Given an array of numbers arr. A sequence of numbers is called an arithmetic progression if the difference between any two consecutive elements is the same.\n",
    "\n",
    "Return true if the array can be rearranged to form an arithmetic progression, otherwise, return false.\n",
    "\n",
    " \n",
    "\n",
    "**Example 1:**\n",
    "\n",
    "Input: arr = [3,5,1]\n",
    "\n",
    "Output: true\n",
    "\n",
    "Explanation: We can reorder the elements as [1,3,5] or [5,3,1] with differences 2 and -2 respectively, between each consecutive elements.\n",
    "\n",
    "**Example 2:**\n",
    "\n",
    "Input: arr = [1,2,4]\n",
    "\n",
    "Output: false\n",
    "\n",
    "Explanation: There is no way to reorder the elements to obtain an arithmetic progression.\n",
    " \n",
    "\n",
    "**Constraints:**\n",
    "\n",
    "2 <= arr.length <= 1000\n",
    "-10^6 <= arr[i] <= 10^6"
   ]
  },
  {
   "cell_type": "code",
   "execution_count": 2,
   "metadata": {},
   "outputs": [
    {
     "name": "stdout",
     "output_type": "stream",
     "text": [
      "True\n",
      "False\n"
     ]
    }
   ],
   "source": [
    "def canMakeArithmeticProgression(arr):\n",
    "        a = []\n",
    "        arr.sort()\n",
    "        b = [j-i for i, j in zip(arr[:-1], arr[1:])]\n",
    "        arr.reverse()\n",
    "        c = [j-i for i, j in zip(arr[:-1], arr[1:])]\n",
    "        for i, j in zip(b,c):\n",
    "            a.append(abs(i)==abs(j))\n",
    "        return all(i == True for i in a)\n",
    "    \n",
    "\n",
    "arr = [3,5,1]\n",
    "print(canMakeArithmeticProgression(arr))\n",
    "\n",
    "arr = [1,2,4]\n",
    "print(canMakeArithmeticProgression(arr))"
   ]
  }
 ],
 "metadata": {
  "kernelspec": {
   "display_name": "Python 3",
   "language": "python",
   "name": "python3"
  },
  "language_info": {
   "codemirror_mode": {
    "name": "ipython",
    "version": 3
   },
   "file_extension": ".py",
   "mimetype": "text/x-python",
   "name": "python",
   "nbconvert_exporter": "python",
   "pygments_lexer": "ipython3",
   "version": "3.7.3"
  }
 },
 "nbformat": 4,
 "nbformat_minor": 2
}
