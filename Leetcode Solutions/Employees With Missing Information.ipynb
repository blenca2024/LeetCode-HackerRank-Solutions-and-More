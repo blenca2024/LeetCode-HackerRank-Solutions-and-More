{
 "cells": [
  {
   "cell_type": "markdown",
   "metadata": {},
   "source": [
    "# 1965. Employees With Missing Information\n",
    "\n",
    "## Table: Employees\n",
    "\n",
    "| Column Name | Type    |\n",
    "|-------------|---------|\n",
    "| employee_id | int     |\n",
    "| name        | varchar |\n",
    "\n",
    "employee_id is the column with unique values for this table. Each row of this table indicates the name of the employee whose ID is employee_id.\n",
    "\n",
    "## Table: Salaries\n",
    "\n",
    "| Column Name | Type    |\n",
    "|-------------|---------|\n",
    "| employee_id | int     |\n",
    "| salary      | int     |\n",
    "\n",
    "employee_id is the column with unique values for this table. Each row of this table indicates the salary of the employee whose ID is employee_id.\n",
    "\n",
    "Write a solution to report the IDs of all the employees with missing information. The information of an employee is missing if:\n",
    "\n",
    "- The employee's name is missing, or\n",
    "- The employee's salary is missing.\n",
    "\n",
    "Return the result table ordered by employee_id in ascending order.\n",
    "\n",
    "The result format is in the following example.\n",
    "\n",
    "## Example 1:\n",
    "\n",
    "**Input:**\n",
    "\n",
    "Employees table:\n",
    "\n",
    "| employee_id | name     |\n",
    "|-------------|----------|\n",
    "| 2           | Crew     |\n",
    "| 4           | Haven    |\n",
    "| 5           | Kristian |\n",
    "\n",
    "Salaries table:\n",
    "\n",
    "| employee_id | salary |\n",
    "|-------------|--------|\n",
    "| 5           | 76071  |\n",
    "| 1           | 22517  |\n",
    "| 4           | 63539  |\n",
    "\n",
    "**Output:**\n",
    "\n",
    "| employee_id |\n",
    "|-------------|\n",
    "| 1           |\n",
    "| 2           |\n",
    "\n",
    "**Explanation:** \n",
    "- Employees 1, 2, 4, and 5 are working at this company.\n",
    "- The name of employee 1 is missing.\n",
    "- The salary of employee 2 is missing.\n"
   ]
  },
  {
   "cell_type": "code",
   "execution_count": null,
   "metadata": {},
   "outputs": [],
   "source": [
    "import pandas as pd"
   ]
  },
  {
   "cell_type": "code",
   "execution_count": null,
   "metadata": {},
   "outputs": [],
   "source": [
    "def find_employees(employees: pd.DataFrame, salaries: pd.DataFrame) -> pd.DataFrame:\n",
    "    full_merged = pd.concat([employees,salaries])\n",
    "    id_mask = [id for id in full_merged['employee_id'] if id not in pd.merge(employees,salaries,on='employee_id')['employee_id'].values]\n",
    "    return full_merged[full_merged['employee_id'].isin(id_mask)][['employee_id']].sort_values('employee_id')"
   ]
  },
  {
   "cell_type": "code",
   "execution_count": null,
   "metadata": {},
   "outputs": [],
   "source": [
    "employees = pd.DataFrame([\n",
    "    {\"employee_id\": 2, \"name\": \"Crew\"},\n",
    "    {\"employee_id\": 4, \"name\": \"Haven\"},\n",
    "    {\"employee_id\": 5, \"name\": \"Kristian\"},\n",
    "])\n",
    "\n",
    "salaries = pd.DataFrame([\n",
    "    {\"employee_id\": 5, \"salary\": 76071},\n",
    "    {\"employee_id\": 1, \"salary\": 22517},\n",
    "    {\"employee_id\": 4, \"salary\": 63539},\n",
    "])"
   ]
  },
  {
   "cell_type": "code",
   "execution_count": null,
   "metadata": {},
   "outputs": [],
   "source": [
    "find_employees(employees=employees, salaries=salaries)"
   ]
  }
 ],
 "metadata": {
  "kernelspec": {
   "display_name": "datascience",
   "language": "python",
   "name": "datascience"
  },
  "language_info": {
   "codemirror_mode": {
    "name": "ipython",
    "version": 3
   },
   "file_extension": ".py",
   "mimetype": "text/x-python",
   "name": "python",
   "nbconvert_exporter": "python",
   "pygments_lexer": "ipython3",
   "version": "3.11.4"
  }
 },
 "nbformat": 4,
 "nbformat_minor": 2
}
