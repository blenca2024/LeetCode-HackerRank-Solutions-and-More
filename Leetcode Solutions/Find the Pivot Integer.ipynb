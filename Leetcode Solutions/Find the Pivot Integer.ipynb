{
 "cells": [
  {
   "cell_type": "markdown",
   "metadata": {},
   "source": [
    "### 2485. Find the Pivot Integer\n",
    "\n",
    "Given a positive integer `n`, find the pivot integer `x` such that:\n",
    "\n",
    "The sum of all elements between 1 and `x` inclusively equals the sum of all elements between `x` and `n` inclusively.\n",
    "\n",
    "Return the pivot integer `x`. If no such integer exists, return -1. It is guaranteed that there will be at most one pivot index for the given input.\n",
    "\n",
    "#### Example 1:\n",
    "\n",
    "**Input:** `n = 8`\n",
    "**Output:** `6`\n",
    "**Explanation:** 6 is the pivot integer since: 1 + 2 + 3 + 4 + 5 + 6 = 6 + 7 + 8 = 21.\n",
    "\n",
    "#### Example 2:\n",
    "\n",
    "**Input:** `n = 1`\n",
    "**Output:** `1`\n",
    "**Explanation:** 1 is the pivot integer since: 1 = 1.\n",
    "\n",
    "#### Example 3:\n",
    "\n",
    "**Input:** `n = 4`\n",
    "**Output:** `-1`\n",
    "**Explanation:** It can be proved that no such integer exists.\n",
    "\n",
    "#### Constraints:\n",
    "\n",
    "- `1 <= n <= 1000`\n"
   ]
  },
  {
   "cell_type": "code",
   "execution_count": 1,
   "metadata": {},
   "outputs": [],
   "source": [
    "def pivotInteger(n):\n",
    "    if n == 1:\n",
    "        return n\n",
    "    \n",
    "    for i in range(1, n):\n",
    "        if sum(range(1,i+1)) == sum(range(i,n+1)):\n",
    "            return sum(range(1,i+1))\n",
    "\n",
    "    n = -1\n",
    "    return n"
   ]
  },
  {
   "cell_type": "code",
   "execution_count": 2,
   "metadata": {},
   "outputs": [
    {
     "data": {
      "text/plain": [
       "21"
      ]
     },
     "execution_count": 2,
     "metadata": {},
     "output_type": "execute_result"
    }
   ],
   "source": [
    "pivotInteger(8)"
   ]
  }
 ],
 "metadata": {
  "kernelspec": {
   "display_name": "Python 3",
   "language": "python",
   "name": "python3"
  },
  "language_info": {
   "codemirror_mode": {
    "name": "ipython",
    "version": 3
   },
   "file_extension": ".py",
   "mimetype": "text/x-python",
   "name": "python",
   "nbconvert_exporter": "python",
   "pygments_lexer": "ipython3",
   "version": "3.11.2"
  }
 },
 "nbformat": 4,
 "nbformat_minor": 2
}
