{
 "cells": [
  {
   "cell_type": "markdown",
   "metadata": {},
   "source": [
    "2194. Cells in a Range on an Excel Sheet\n",
    "\n",
    "A cell `(r, c)` of an excel sheet is represented as a string `\"<col><row>\"` where:\n",
    "\n",
    "- `<col>` denotes the column number `c` of the cell. It is represented by alphabetical letters.\n",
    "  For example, the 1st column is denoted by 'A', the 2nd by 'B', the 3rd by 'C', and so on.\n",
    "- `<row>` is the row number `r` of the cell. The `r`th row is represented by the integer `r`.\n",
    "\n",
    "You are given a string `s` in the format `\"<col1><row1>:<col2><row2>\"`, where `<col1>` represents the column `c1`, `<row1>` represents the row `r1`, `<col2>` represents the column `c2`, and `<row2>` represents the row `r2`, such that `r1 <= r2` and `c1 <= c2`.\n",
    "\n",
    "Return the list of cells `(x, y)` such that `r1 <= x <= r2` and `c1 <= y <= c2`. The cells should be represented as strings in the format mentioned above and be sorted in non-decreasing order first by columns and then by rows.\n",
    "\n",
    "Example 1:\n",
    "\n",
    "Input: s = \"K1:L2\"\n",
    "Output: [\"K1\",\"K2\",\"L1\",\"L2\"]\n",
    "Explanation:\n",
    "The above diagram shows the cells which should be present in the list.\n",
    "The red arrows denote the order in which the cells should be presented.\n",
    "\n",
    "Example 2:\n",
    "\n",
    "Input: s = \"A1:F1\"\n",
    "Output: [\"A1\",\"B1\",\"C1\",\"D1\",\"E1\",\"F1\"]\n",
    "Explanation:\n",
    "The above diagram shows the cells which should be present in the list.\n",
    "The red arrow denotes the order in which the cells should be presented.\n",
    "\n",
    "Constraints:\n",
    "\n",
    "- `s.length == 5`\n",
    "- `'A' <= s[0] <= s[3] <= 'Z'`\n",
    "- `'1' <= s[1] <= s[4] <= '9'`\n",
    "- `s` consists of uppercase English letters, digits, and ':'.\n"
   ]
  },
  {
   "cell_type": "code",
   "execution_count": 1,
   "metadata": {},
   "outputs": [],
   "source": [
    "lets = ['A', 'B', 'C', 'D', 'E', 'F', 'G', 'H', 'I', 'J', 'K', 'L', 'M', 'N', 'O', 'P', 'Q', 'R', 'S', 'T', 'U', 'V', 'W', 'X', 'Y', 'Z']"
   ]
  },
  {
   "cell_type": "code",
   "execution_count": 2,
   "metadata": {},
   "outputs": [],
   "source": [
    "s = \"K1:L2\""
   ]
  },
  {
   "cell_type": "code",
   "execution_count": 3,
   "metadata": {},
   "outputs": [],
   "source": [
    "def cellsInRange(s: str) -> list[str]:\n",
    "    lets = ['A', 'B', 'C', 'D', 'E', 'F', 'G', 'H', 'I', 'J', 'K', 'L', 'M', 'N', 'O', 'P', 'Q', 'R', 'S', 'T', 'U', 'V', 'W', 'X', 'Y', 'Z']\n",
    "    letter_range = lets[lets.index(s[0]):lets.index(s[3])+1]\n",
    "    num_range = range(int(s[1]),int(s[-1])+1)\n",
    "    output_list = []\n",
    "\n",
    "    for letter in letter_range:\n",
    "        for num in num_range:\n",
    "            output_list.append(letter+str(num))\n",
    "    \n",
    "    return output_list"
   ]
  },
  {
   "cell_type": "code",
   "execution_count": 4,
   "metadata": {},
   "outputs": [
    {
     "data": {
      "text/plain": [
       "['K1', 'K2', 'L1', 'L2']"
      ]
     },
     "execution_count": 4,
     "metadata": {},
     "output_type": "execute_result"
    }
   ],
   "source": [
    "s = \"K1:L2\"\n",
    "\n",
    "cellsInRange(s)"
   ]
  },
  {
   "cell_type": "code",
   "execution_count": 5,
   "metadata": {},
   "outputs": [
    {
     "data": {
      "text/plain": [
       "['A1', 'B1', 'C1', 'D1', 'E1', 'F1']"
      ]
     },
     "execution_count": 5,
     "metadata": {},
     "output_type": "execute_result"
    }
   ],
   "source": [
    "s = \"A1:F1\"\n",
    "cellsInRange(s)"
   ]
  }
 ],
 "metadata": {
  "kernelspec": {
   "display_name": "Python 3",
   "language": "python",
   "name": "python3"
  },
  "language_info": {
   "codemirror_mode": {
    "name": "ipython",
    "version": 3
   },
   "file_extension": ".py",
   "mimetype": "text/x-python",
   "name": "python",
   "nbconvert_exporter": "python",
   "pygments_lexer": "ipython3",
   "version": "3.11.2"
  }
 },
 "nbformat": 4,
 "nbformat_minor": 2
}
