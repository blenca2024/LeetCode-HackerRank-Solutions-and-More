{
 "cells": [
  {
   "cell_type": "code",
   "execution_count": null,
   "metadata": {},
   "outputs": [],
   "source": [
    "class Solution:\n",
    "    def isValid(self, s: str) -> bool:\n",
    "        paren_list = ['()', '[]', '{}']\n",
    "        for idx in range(len(s)):\n",
    "            for val in paren_list:\n",
    "                if val in s:\n",
    "                    s = s.replace(val,'')\n",
    "\n",
    "        return s == ''"
   ]
  }
 ],
 "metadata": {
  "language_info": {
   "name": "python"
  }
 },
 "nbformat": 4,
 "nbformat_minor": 2
}
