{
 "cells": [
  {
   "cell_type": "markdown",
   "metadata": {},
   "source": [
    "# 2363. Merge Similar Items\n",
    "\n",
    "\n",
    "You are given two 2D integer arrays, items1 and items2, representing two sets of items. Each array items has the following properties:\n",
    "\n",
    "- `items[i] = [valuei, weighti]` where `valuei` represents the value and `weighti` represents the weight of the ith item.\n",
    "- The value of each item in `items` is unique.\n",
    "\n",
    "Return a 2D integer array `ret` where `ret[i] = [valuei, weighti]`, with `weighti` being the sum of weights of all items with value `valuei`.\n",
    "\n",
    "Note: `ret` should be returned in ascending order by value.\n",
    "\n",
    "## Example 1:\n",
    "\n",
    "**Input:** `items1 = [[1,1],[4,5],[3,8]], items2 = [[3,1],[1,5]]`  \n",
    "**Output:** `[[1,6],[3,9],[4,5]]`  \n",
    "**Explanation:**  \n",
    "The item with value = 1 occurs in items1 with weight = 1 and in items2 with weight = 5, total weight = 1 + 5 = 6.  \n",
    "The item with value = 3 occurs in items1 with weight = 8 and in items2 with weight = 1, total weight = 8 + 1 = 9.  \n",
    "The item with value = 4 occurs in items1 with weight = 5, total weight = 5.  \n",
    "Therefore, we return `[[1,6],[3,9],[4,5]]`.\n",
    "\n",
    "## Example 2:\n",
    "\n",
    "**Input:** `items1 = [[1,1],[3,2],[2,3]], items2 = [[2,1],[3,2],[1,3]]`  \n",
    "**Output:** `[[1,4],[2,4],[3,4]]`  \n",
    "**Explanation:**  \n",
    "The item with value = 1 occurs in items1 with weight = 1 and in items2 with weight = 3, total weight = 1 + 3 = 4.  \n",
    "The item with value = 2 occurs in items1 with weight = 3 and in items2 with weight = 1, total weight = 3 + 1 = 4.  \n",
    "The item with value = 3 occurs in items1 with weight = 2 and in items2 with weight = 2, total weight = 2 + 2 = 4.  \n",
    "Therefore, we return `[[1,4],[2,4],[3,4]]`.\n",
    "\n",
    "## Example 3:\n",
    "\n",
    "**Input:** `items1 = [[1,3],[2,2]], items2 = [[7,1],[2,2],[1,4]]`  \n",
    "**Output:** `[[1,7],[2,4],[7,1]]`  \n",
    "**Explanation:**  \n",
    "The item with value = 1 occurs in items1 with weight = 3 and in items2 with weight = 4, total weight = 3 + 4 = 7.  \n",
    "The item with value = 2 occurs in items1 with weight = 2 and in items2 with weight = 2, total weight = 2 + 2 = 4.  \n",
    "The item with value = 7 occurs in items2 with weight = 1, total weight = 1.  \n",
    "Therefore, we return `[[1,7],[2,4],[7,1]]`.\n",
    "\n",
    "Constraints:\n",
    "\n",
    "- `1 <= items1.length, items2.length <= 1000`\n",
    "- `items1[i].length == items2[i].length == 2`\n",
    "- `1 <= valuei, weighti <= 1000`\n",
    "- Each `valuei` in items1 is unique.\n",
    "- Each `valuei` in items2 is unique.\n"
   ]
  },
  {
   "cell_type": "code",
   "execution_count": 1,
   "metadata": {},
   "outputs": [],
   "source": [
    "def mergeSimilarItems(items1, items2):\n",
    "    \"\"\"\n",
    "    :type items1: List[List[int]]\n",
    "    :type items2: List[List[int]]\n",
    "    :rtype: List[List[int]]\n",
    "    \"\"\"\n",
    "    dict1 = {k:v for k,v in items1}\n",
    "    dict2 = {k:v for k,v in items2}\n",
    "\n",
    "    key_set = set([key for key in dict1.keys()] + [key for key in dict2.keys()])\n",
    "    output_dict = {k:[] for k in key_set}\n",
    "\n",
    "    for k in dict1:\n",
    "        output_dict[k].append(dict1[k])\n",
    "\n",
    "    for k in dict2:\n",
    "        output_dict[k].append(dict2[k])\n",
    "\n",
    "    return sorted([[k,sum(v)] for k,v in output_dict.items()])"
   ]
  },
  {
   "cell_type": "code",
   "execution_count": 2,
   "metadata": {},
   "outputs": [
    {
     "data": {
      "text/plain": [
       "[[1, 6], [3, 9], [4, 5]]"
      ]
     },
     "execution_count": 2,
     "metadata": {},
     "output_type": "execute_result"
    }
   ],
   "source": [
    "items1 = [[1,1],[4,5],[3,8]]\n",
    "items2 = [[3,1],[1,5]]\n",
    "\n",
    "mergeSimilarItems(items1=items1,items2=items2)"
   ]
  },
  {
   "cell_type": "code",
   "execution_count": 3,
   "metadata": {},
   "outputs": [
    {
     "data": {
      "text/plain": [
       "[[1, 1], [1000, 1000]]"
      ]
     },
     "execution_count": 3,
     "metadata": {},
     "output_type": "execute_result"
    }
   ],
   "source": [
    "items1 = [[1,1]]\n",
    "items2 = [[1000,1000]]\n",
    "\n",
    "mergeSimilarItems(items1=items1,items2=items2)"
   ]
  }
 ],
 "metadata": {
  "kernelspec": {
   "display_name": "datascience",
   "language": "python",
   "name": "datascience"
  },
  "language_info": {
   "codemirror_mode": {
    "name": "ipython",
    "version": 3
   },
   "file_extension": ".py",
   "mimetype": "text/x-python",
   "name": "python",
   "nbconvert_exporter": "python",
   "pygments_lexer": "ipython3",
   "version": "3.11.4"
  }
 },
 "nbformat": 4,
 "nbformat_minor": 2
}
