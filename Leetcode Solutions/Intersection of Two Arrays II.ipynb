{
 "cells": [
  {
   "cell_type": "markdown",
   "metadata": {},
   "source": [
    "# 350. Intersection of Two Arrays II\n",
    "\n",
    "Given two integer arrays `nums1` and `nums2`, return an array of their intersection. Each element in the result must appear as many times as it shows in both arrays, and you may return the result in any order.\n",
    "\n",
    "## Example 1:\n",
    "\n",
    "**Input:** `nums1 = [1,2,2,1], nums2 = [2,2]`  \n",
    "**Output:** `[2,2]`\n",
    "\n",
    "## Example 2:\n",
    "\n",
    "**Input:** `nums1 = [4,9,5], nums2 = [9,4,9,8,4]`  \n",
    "**Output:** `[4,9]`  \n",
    "**Explanation:** `[9,4]` is also accepted.\n",
    "\n",
    "Constraints:\n",
    "\n",
    "- `1 <= nums1.length, nums2.length <= 1000`\n",
    "- `0 <= nums1[i], nums2[i] <= 1000`\n",
    "\n",
    "Follow up:\n",
    "\n",
    "- What if the given array is already sorted? How would you optimize your algorithm?\n",
    "- What if nums1's size is small compared to nums2's size? Which algorithm is better?\n",
    "- What if elements of nums2 are stored on disk, and the memory is limited such that you cannot load all elements into the memory at once?\n"
   ]
  },
  {
   "cell_type": "code",
   "execution_count": 1,
   "metadata": {},
   "outputs": [],
   "source": [
    "from typing import List"
   ]
  },
  {
   "cell_type": "code",
   "execution_count": 2,
   "metadata": {},
   "outputs": [],
   "source": [
    "def intersect(nums1: List[int], nums2: List[int]) -> List[int]:\n",
    "    dict1 = {num:nums1.count(num) for num in nums1}\n",
    "    dict2 = {num:nums2.count(num) for num in nums2}\n",
    "    nums = [num for num in dict1 if num in dict2]\n",
    "\n",
    "    output_list = []\n",
    "\n",
    "    for num in nums:\n",
    "        counts = min(dict1[num],dict2[num])\n",
    "\n",
    "        output_list.extend([num]*counts)\n",
    "\n",
    "    return output_list"
   ]
  },
  {
   "cell_type": "code",
   "execution_count": 3,
   "metadata": {},
   "outputs": [
    {
     "data": {
      "text/plain": [
       "[1]"
      ]
     },
     "execution_count": 3,
     "metadata": {},
     "output_type": "execute_result"
    }
   ],
   "source": [
    "nums1 = [3,1,2]\n",
    "nums2 = [1,1]\n",
    "\n",
    "intersect(nums1,nums2)"
   ]
  },
  {
   "cell_type": "code",
   "execution_count": 4,
   "metadata": {},
   "outputs": [
    {
     "data": {
      "text/plain": [
       "[4, 9]"
      ]
     },
     "execution_count": 4,
     "metadata": {},
     "output_type": "execute_result"
    }
   ],
   "source": [
    "nums1 = [4,9,5]\n",
    "nums2 = [9,4,9,8,4]\n",
    "\n",
    "intersect(nums1,nums2)"
   ]
  },
  {
   "cell_type": "code",
   "execution_count": 5,
   "metadata": {},
   "outputs": [
    {
     "data": {
      "text/plain": [
       "[2, 2]"
      ]
     },
     "execution_count": 5,
     "metadata": {},
     "output_type": "execute_result"
    }
   ],
   "source": [
    "nums1 = [1,2,2,1]\n",
    "nums2 = [2,2]\n",
    "\n",
    "intersect(nums1,nums2)"
   ]
  },
  {
   "cell_type": "code",
   "execution_count": 6,
   "metadata": {},
   "outputs": [
    {
     "data": {
      "text/plain": [
       "[2]"
      ]
     },
     "execution_count": 6,
     "metadata": {},
     "output_type": "execute_result"
    }
   ],
   "source": [
    "nums1 = [1,2,2,1]\n",
    "nums2 = [2]\n",
    "\n",
    "intersect(nums1,nums2)"
   ]
  }
 ],
 "metadata": {
  "kernelspec": {
   "display_name": "datascience",
   "language": "python",
   "name": "datascience"
  },
  "language_info": {
   "codemirror_mode": {
    "name": "ipython",
    "version": 3
   },
   "file_extension": ".py",
   "mimetype": "text/x-python",
   "name": "python",
   "nbconvert_exporter": "python",
   "pygments_lexer": "ipython3",
   "version": "3.11.4"
  }
 },
 "nbformat": 4,
 "nbformat_minor": 2
}
