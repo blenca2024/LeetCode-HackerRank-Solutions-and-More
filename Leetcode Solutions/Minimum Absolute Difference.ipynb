{
 "cells": [
  {
   "cell_type": "markdown",
   "metadata": {},
   "source": [
    "# Minimum Absolute Difference\n",
    "\n",
    "Given an array of distinct integers arr, find all pairs of elements with the minimum absolute difference of any two elements. \n",
    "\n",
    "Return a list of pairs in ascending order(with respect to pairs), each pair [a, b] follows\n",
    "\n",
    "a, b are from arr\n",
    "\n",
    "a < b\n",
    "\n",
    "b - a equals to the minimum absolute difference of any two elements in arr\n",
    " \n",
    "\n",
    "**Example 1:**\n",
    "\n",
    "Input: arr = [4,2,1,3]\n",
    "\n",
    "Output: [[1,2],[2,3],[3,4]]\n",
    "\n",
    "Explanation: The minimum absolute difference is 1. List all pairs with difference equal to 1 in ascending order.\n",
    "\n",
    "**Example 2:**\n",
    "\n",
    "Input: arr = [1,3,6,10,15]\n",
    "\n",
    "Output: [[1,3]]\n",
    "\n",
    "**Example 3:**\n",
    "\n",
    "Input: arr = [3,8,-10,23,19,-4,-14,27]\n",
    "\n",
    "Output: [[-14,-10],[19,23],[23,27]]\n",
    " \n",
    "\n",
    "**Constraints:**\n",
    "\n",
    "2 <= arr.length <= 10^5\n",
    "\n",
    "-10^6 <= arr[i] <= 10^6"
   ]
  },
  {
   "cell_type": "code",
   "execution_count": 2,
   "metadata": {},
   "outputs": [
    {
     "name": "stdout",
     "output_type": "stream",
     "text": [
      "[[1, 2], [2, 3], [3, 4]]\n",
      "[[1, 3]]\n",
      "[[-14, -10], [19, 23], [23, 27]]\n"
     ]
    }
   ],
   "source": [
    "def minimumAbsDifference(arr):\n",
    "        a = []\n",
    "        b = []\n",
    "        arr.sort()\n",
    "        pair = [[arr[i], arr[i + 1]]\n",
    "                for i in range(len(arr)-1)]\n",
    "        for i in pair:\n",
    "            a.append(abs(i[0]-i[1]))\n",
    "        a = min(a)\n",
    "        for i in pair:\n",
    "            if (abs(i[0]-i[1])) == a:\n",
    "                b.append(i)\n",
    "        return b\n",
    "    \n",
    "    \n",
    "arr = [4,2,1,3]\n",
    "print(minimumAbsDifference(arr))\n",
    "\n",
    "arr = [1,3,6,10,15]\n",
    "print(minimumAbsDifference(arr))\n",
    "\n",
    "arr = [3,8,-10,23,19,-4,-14,27]\n",
    "print(minimumAbsDifference(arr))"
   ]
  }
 ],
 "metadata": {
  "kernelspec": {
   "display_name": "Python 3",
   "language": "python",
   "name": "python3"
  },
  "language_info": {
   "codemirror_mode": {
    "name": "ipython",
    "version": 3
   },
   "file_extension": ".py",
   "mimetype": "text/x-python",
   "name": "python",
   "nbconvert_exporter": "python",
   "pygments_lexer": "ipython3",
   "version": "3.7.3"
  }
 },
 "nbformat": 4,
 "nbformat_minor": 2
}
