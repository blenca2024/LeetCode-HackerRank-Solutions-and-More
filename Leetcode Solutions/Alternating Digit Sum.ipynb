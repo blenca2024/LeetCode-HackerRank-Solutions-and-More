{
 "cells": [
  {
   "cell_type": "markdown",
   "metadata": {},
   "source": [
    "# 2544. Alternating Digit Sum\n",
    "\n",
    "You are given a positive integer `n`. Each digit of `n` has a sign according to the following rules:\n",
    "\n",
    "- The most significant digit is assigned a positive sign.\n",
    "- Each other digit has an opposite sign to its adjacent digits.\n",
    "\n",
    "Return the sum of all digits with their corresponding sign.\n",
    "\n",
    "## Example 1:\n",
    "\n",
    "**Input:** `n = 521`  \n",
    "**Output:** `4`  \n",
    "**Explanation:** (+5) + (-2) + (+1) = 4.\n",
    "\n",
    "## Example 2:\n",
    "\n",
    "**Input:** `n = 111`  \n",
    "**Output:** `1`  \n",
    "**Explanation:** (+1) + (-1) + (+1) = 1.\n",
    "\n",
    "## Example 3:\n",
    "\n",
    "**Input:** `n = 886996`  \n",
    "**Output:** `0`  \n",
    "**Explanation:** (+8) + (-8) + (+6) + (-9) + (+9) + (-6) = 0.\n",
    "\n",
    "Constraints:\n",
    "\n",
    "- `1 <= n <= 10^9`\n"
   ]
  },
  {
   "cell_type": "code",
   "execution_count": 1,
   "metadata": {},
   "outputs": [],
   "source": [
    "def alternateDigitSum(n: int) -> int:\n",
    "    num_list = [num for num in str(n)]\n",
    "\n",
    "    val = 0\n",
    "\n",
    "    for idx,num in enumerate(num_list):\n",
    "        if idx % 2 == 0:\n",
    "            val += int(num)\n",
    "        else:\n",
    "            val -= int(num)\n",
    "\n",
    "    return val"
   ]
  },
  {
   "cell_type": "code",
   "execution_count": 2,
   "metadata": {},
   "outputs": [
    {
     "data": {
      "text/plain": [
       "4"
      ]
     },
     "execution_count": 2,
     "metadata": {},
     "output_type": "execute_result"
    }
   ],
   "source": [
    "n = 521\n",
    "alternateDigitSum(n)"
   ]
  },
  {
   "cell_type": "code",
   "execution_count": 3,
   "metadata": {},
   "outputs": [
    {
     "data": {
      "text/plain": [
       "1"
      ]
     },
     "execution_count": 3,
     "metadata": {},
     "output_type": "execute_result"
    }
   ],
   "source": [
    "n = 111\n",
    "alternateDigitSum(n)"
   ]
  },
  {
   "cell_type": "code",
   "execution_count": 4,
   "metadata": {},
   "outputs": [
    {
     "data": {
      "text/plain": [
       "0"
      ]
     },
     "execution_count": 4,
     "metadata": {},
     "output_type": "execute_result"
    }
   ],
   "source": [
    "n = 886996\n",
    "alternateDigitSum(n)"
   ]
  }
 ],
 "metadata": {
  "kernelspec": {
   "display_name": "img",
   "language": "python",
   "name": "img"
  },
  "language_info": {
   "codemirror_mode": {
    "name": "ipython",
    "version": 3
   },
   "file_extension": ".py",
   "mimetype": "text/x-python",
   "name": "python",
   "nbconvert_exporter": "python",
   "pygments_lexer": "ipython3",
   "version": "3.11.4"
  }
 },
 "nbformat": 4,
 "nbformat_minor": 2
}
