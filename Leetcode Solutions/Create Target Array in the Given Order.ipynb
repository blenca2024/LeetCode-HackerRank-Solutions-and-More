{
 "cells": [
  {
   "cell_type": "markdown",
   "metadata": {},
   "source": [
    "#  Create Target Array in the Given Order\n",
    "\n",
    "Given two arrays of integers nums and index. Your task is to create target array under the following rules:\n",
    "\n",
    "Initially target array is empty.\n",
    "From left to right read nums[i] and index[i], insert at index index[i] the value nums[i] in target array.\n",
    "Repeat the previous step until there are no elements to read in nums and index.\n",
    "Return the target array.\n",
    "\n",
    "It is guaranteed that the insertion operations will be valid.\n",
    "\n",
    " \n",
    "\n",
    "**Example 1:**\n",
    "\n",
    "Input: nums = [0,1,2,3,4], index = [0,1,2,2,1]\n",
    "Output: [0,4,1,3,2]\n",
    "Explanation:\n",
    "\n",
    "|nums     |  index  |   target|\n",
    "|---|---|---|\n",
    "|0    |        0 |       [0]|\n",
    "|1   |         1  |      [0,1]|\n",
    "|2  |          2   |     [0,1,2]|\n",
    "|3 |           2    |    [0,1,3,2]|\n",
    "|4|            1     |   [0,4,1,3,2]|\n",
    "\n",
    "\n",
    "**Example 2:**\n",
    "\n",
    "Input: nums = [1,2,3,4,0], index = [0,1,2,3,0]\n",
    "Output: [0,1,2,3,4]\n",
    "Explanation:\n",
    "\n",
    "|nums  |     index  |   target|\n",
    "|---|---|---|\n",
    "|1            |0       | [1]|\n",
    "|2            |1      |  [1,2]|\n",
    "|3            |2     |   [1,2,3]|\n",
    "|4            |3    |    [1,2,3,4]|\n",
    "|0            |0   |     [0,1,2,3,4]|\n",
    "\n",
    "\n",
    "**Example 3:**\n",
    "\n",
    "Input: nums = [1], index = [0]\n",
    "Output: [1]"
   ]
  },
  {
   "cell_type": "code",
   "execution_count": 2,
   "metadata": {},
   "outputs": [
    {
     "name": "stdout",
     "output_type": "stream",
     "text": [
      "[0, 4, 1, 3, 2]\n",
      "[0, 1, 2, 3, 4]\n"
     ]
    }
   ],
   "source": [
    "def createTargetArray(nums, index):\n",
    "        z = []\n",
    "        for x,y in zip(index,nums):\n",
    "            z.insert(x,y)\n",
    "        return z\n",
    "    \n",
    "nums = [0,1,2,3,4]\n",
    "index = [0,1,2,2,1]\n",
    "print(createTargetArray(nums, index))\n",
    "\n",
    "nums = [1,2,3,4,0]\n",
    "index = [0,1,2,3,0]\n",
    "\n",
    "print(createTargetArray(nums, index))"
   ]
  }
 ],
 "metadata": {
  "kernelspec": {
   "display_name": "Python 3",
   "language": "python",
   "name": "python3"
  },
  "language_info": {
   "codemirror_mode": {
    "name": "ipython",
    "version": 3
   },
   "file_extension": ".py",
   "mimetype": "text/x-python",
   "name": "python",
   "nbconvert_exporter": "python",
   "pygments_lexer": "ipython3",
   "version": "3.7.3"
  }
 },
 "nbformat": 4,
 "nbformat_minor": 2
}
