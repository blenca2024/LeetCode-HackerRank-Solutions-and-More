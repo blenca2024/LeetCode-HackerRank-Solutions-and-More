{
 "cells": [
  {
   "cell_type": "markdown",
   "metadata": {},
   "source": [
    "# 3204. Bitwise User Permissions Analysis\n",
    "\n",
    "Table: user_permissions\n",
    "\n",
    "| Column Name | Type |\n",
    "|-------------|------|\n",
    "| user_id     | int  |\n",
    "| permissions | int  |\n",
    "\n",
    "`user_id` is the primary key.\n",
    "Each row of this table contains the user ID and their permissions encoded as an integer.\n",
    "\n",
    "Consider that each bit in the permissions integer represents a different access level or feature that a user has.\n",
    "\n",
    "Write a solution to calculate the following:\n",
    "\n",
    "- `common_perms`: The access level granted to all users. This is computed using a bitwise AND operation on the permissions column.\n",
    "- `any_perms`: The access level granted to any user. This is computed using a bitwise OR operation on the permissions column.\n",
    "\n",
    "Return the result table in any order.\n",
    "\n",
    "The result format is shown in the following example.\n",
    "\n",
    "## Example:\n",
    "\n",
    "**Input:**\n",
    "\n",
    "user_permissions table:\n",
    "\n",
    "| user_id | permissions |\n",
    "|---------|-------------|\n",
    "| 1       | 5           |\n",
    "| 2       | 12          |\n",
    "| 3       | 7           |\n",
    "| 4       | 3           |\n",
    "\n",
    "**Output:**\n",
    "\n",
    "| common_perms | any_perms |\n",
    "|--------------|-----------|\n",
    "| 0            | 15        |\n",
    "\n",
    "**Explanation:**\n",
    "\n",
    "- `common_perms`: Represents the bitwise AND result of all permissions:\n",
    "  - For user 1 (5): 5 (binary 0101)\n",
    "  - For user 2 (12): 12 (binary 1100)\n",
    "  - For user 3 (7): 7 (binary 0111)\n",
    "  - For user 4 (3): 3 (binary 0011)\n",
    "  - Bitwise AND: 5 & 12 & 7 & 3 = 0 (binary 0000)\n",
    "\n",
    "- `any_perms`: Represents the bitwise OR result of all permissions:\n",
    "  - Bitwise OR: 5 | 12 | 7 | 3 = 15 (binary 1111)\n"
   ]
  },
  {
   "cell_type": "code",
   "execution_count": 1,
   "metadata": {},
   "outputs": [],
   "source": [
    "import pandas as pd"
   ]
  },
  {
   "cell_type": "code",
   "execution_count": 2,
   "metadata": {},
   "outputs": [],
   "source": [
    "def analyze_permissions(user_permissions: pd.DataFrame) -> pd.DataFrame:\n",
    "\n",
    "    and_list = [str(id)+'&' for id in user_permissions['user_id']]\n",
    "    and_op = eval(''.join(and_list)[:-1])\n",
    "\n",
    "    or_list = [str(id)+'|' for id in user_permissions['permissions']]\n",
    "    or_op = eval(''.join(or_list)[:-1])\n",
    "\n",
    "    return pd.DataFrame({'common_perms':[and_op],'any_perms':[or_op]})"
   ]
  },
  {
   "cell_type": "code",
   "execution_count": 3,
   "metadata": {},
   "outputs": [],
   "source": [
    "user_permissions = pd.DataFrame([\n",
    "    {\"user_id\": 1, \"permissions\": 5},\n",
    "    {\"user_id\": 2, \"permissions\": 12},\n",
    "    {\"user_id\": 3, \"permissions\": 7},\n",
    "    {\"user_id\": 4, \"permissions\": 3},\n",
    "]\n",
    ")"
   ]
  },
  {
   "cell_type": "code",
   "execution_count": 4,
   "metadata": {},
   "outputs": [
    {
     "data": {
      "text/html": [
       "<div>\n",
       "<style scoped>\n",
       "    .dataframe tbody tr th:only-of-type {\n",
       "        vertical-align: middle;\n",
       "    }\n",
       "\n",
       "    .dataframe tbody tr th {\n",
       "        vertical-align: top;\n",
       "    }\n",
       "\n",
       "    .dataframe thead th {\n",
       "        text-align: right;\n",
       "    }\n",
       "</style>\n",
       "<table border=\"1\" class=\"dataframe\">\n",
       "  <thead>\n",
       "    <tr style=\"text-align: right;\">\n",
       "      <th></th>\n",
       "      <th>common_perms</th>\n",
       "      <th>any_perms</th>\n",
       "    </tr>\n",
       "  </thead>\n",
       "  <tbody>\n",
       "    <tr>\n",
       "      <th>0</th>\n",
       "      <td>0</td>\n",
       "      <td>15</td>\n",
       "    </tr>\n",
       "  </tbody>\n",
       "</table>\n",
       "</div>"
      ],
      "text/plain": [
       "   common_perms  any_perms\n",
       "0             0         15"
      ]
     },
     "execution_count": 4,
     "metadata": {},
     "output_type": "execute_result"
    }
   ],
   "source": [
    "analyze_permissions(user_permissions=user_permissions)"
   ]
  }
 ],
 "metadata": {
  "kernelspec": {
   "display_name": "datascience",
   "language": "python",
   "name": "datascience"
  },
  "language_info": {
   "codemirror_mode": {
    "name": "ipython",
    "version": 3
   },
   "file_extension": ".py",
   "mimetype": "text/x-python",
   "name": "python",
   "nbconvert_exporter": "python",
   "pygments_lexer": "ipython3",
   "version": "3.11.4"
  }
 },
 "nbformat": 4,
 "nbformat_minor": 2
}
