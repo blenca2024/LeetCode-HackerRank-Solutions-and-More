{
 "cells": [
  {
   "cell_type": "markdown",
   "metadata": {},
   "source": [
    "# 2788. Split Strings by Separator\n",
    "\n",
    "Given an array of strings `words` and a character `separator`, split each string in `words` by `separator`.\n",
    "\n",
    "Return an array of strings containing the new strings formed after the splits, excluding empty strings.\n",
    "\n",
    "**Notes:**\n",
    "- `separator` is used to determine where the split should occur, but it is not included as part of the resulting strings.\n",
    "- A split may result in more than two strings.\n",
    "- The resulting strings must maintain the same order as they were initially given.\n",
    "\n",
    "## Example:\n",
    "\n",
    "**Input:** `words = [\"one.two.three\",\"four.five\",\"six\"], separator = \".\"`\n",
    "**Output:** `[\"one\",\"two\",\"three\",\"four\",\"five\",\"six\"]`\n",
    "**Explanation:** In this example we split as follows:\n",
    "- \"one.two.three\" splits into \"one\", \"two\", \"three\"\n",
    "- \"four.five\" splits into \"four\", \"five\"\n",
    "- \"six\" splits into \"six\" \n",
    "\n",
    "Hence, the resulting array is [\"one\",\"two\",\"three\",\"four\",\"five\",\"six\"].\n",
    "\n",
    "**Input:** `words = [\"$easy$\",\"$problem$\"], separator = \"$\"`\n",
    "**Output:** `[\"easy\",\"problem\"]`\n",
    "**Explanation:** In this example we split as follows: \n",
    "- \"$easy$\" splits into \"easy\" (excluding empty strings)\n",
    "- \"$problem$\" splits into \"problem\" (excluding empty strings)\n",
    "\n",
    "Hence, the resulting array is [\"easy\",\"problem\"].\n",
    "\n",
    "**Input:** `words = [\"|||\"], separator = \"|\"`\n",
    "**Output:** `[]`\n",
    "**Explanation:** In this example the resulting split of \"|||\" will contain only empty strings, so we return an empty array []. \n",
    "\n",
    "## Constraints:\n",
    "- `1 <= words.length <= 100`\n",
    "- `1 <= words[i].length <= 20`\n",
    "- characters in `words[i]` are either lowercase English letters or characters from the string \".,|$#@\"\n",
    "- `separator` is a character from the string \".,|$#@\"\n"
   ]
  },
  {
   "cell_type": "code",
   "execution_count": 1,
   "metadata": {},
   "outputs": [],
   "source": [
    "from typing import List"
   ]
  },
  {
   "cell_type": "code",
   "execution_count": 2,
   "metadata": {},
   "outputs": [],
   "source": [
    "def splitWordsBySeparator(words: List[str], separator: str) -> List[str]:\n",
    "    return [w for word in words for w in word.split(separator) if len(w) >= 1]"
   ]
  },
  {
   "cell_type": "code",
   "execution_count": 3,
   "metadata": {},
   "outputs": [
    {
     "data": {
      "text/plain": [
       "['one', 'two', 'three', 'four', 'five', 'six']"
      ]
     },
     "execution_count": 3,
     "metadata": {},
     "output_type": "execute_result"
    }
   ],
   "source": [
    "words = [\"one.two.three\",\"four.five\",\"six\"]\n",
    "separator = \".\"\n",
    "\n",
    "splitWordsBySeparator(words=words,separator=separator)"
   ]
  },
  {
   "cell_type": "code",
   "execution_count": 4,
   "metadata": {},
   "outputs": [
    {
     "data": {
      "text/plain": [
       "['easy', 'problem']"
      ]
     },
     "execution_count": 4,
     "metadata": {},
     "output_type": "execute_result"
    }
   ],
   "source": [
    "words = [\"$easy$\",\"$problem$\"]\n",
    "separator = \"$\"\n",
    "\n",
    "splitWordsBySeparator(words=words,separator=separator)"
   ]
  },
  {
   "cell_type": "code",
   "execution_count": 5,
   "metadata": {},
   "outputs": [
    {
     "data": {
      "text/plain": [
       "[]"
      ]
     },
     "execution_count": 5,
     "metadata": {},
     "output_type": "execute_result"
    }
   ],
   "source": [
    "words = [\"|||\"]\n",
    "separator = \"|\"\n",
    "\n",
    "splitWordsBySeparator(words=words,separator=separator)"
   ]
  },
  {
   "cell_type": "code",
   "execution_count": 6,
   "metadata": {},
   "outputs": [
    {
     "data": {
      "text/plain": [
       "['stars', 'bars', '$']"
      ]
     },
     "execution_count": 6,
     "metadata": {},
     "output_type": "execute_result"
    }
   ],
   "source": [
    "words = [\"stars.bars.$\"]\n",
    "separator = \".\"\n",
    "\n",
    "splitWordsBySeparator(words=words,separator=separator)"
   ]
  }
 ],
 "metadata": {
  "kernelspec": {
   "display_name": "img",
   "language": "python",
   "name": "img"
  },
  "language_info": {
   "codemirror_mode": {
    "name": "ipython",
    "version": 3
   },
   "file_extension": ".py",
   "mimetype": "text/x-python",
   "name": "python",
   "nbconvert_exporter": "python",
   "pygments_lexer": "ipython3",
   "version": "3.11.4"
  }
 },
 "nbformat": 4,
 "nbformat_minor": 2
}
