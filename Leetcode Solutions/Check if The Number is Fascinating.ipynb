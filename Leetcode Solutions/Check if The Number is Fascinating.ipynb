{
 "cells": [
  {
   "cell_type": "markdown",
   "metadata": {},
   "source": [
    "# 2729. Check if The Number is Fascinating\n",
    "\n",
    "You are given an integer `n` that consists of exactly 3 digits.\n",
    "\n",
    "We call the number `n` fascinating if, after the following modification, the resulting number contains all the digits from 1 to 9 exactly once and does not contain any 0's:\n",
    "\n",
    "- Concatenate `n` with the numbers `2 * n` and `3 * n`.\n",
    "\n",
    "Return true if `n` is fascinating, or false otherwise.\n",
    "\n",
    "Concatenating two numbers means joining them together. For example, the concatenation of 121 and 371 is 121371.\n",
    "\n",
    "## Example 1:\n",
    "\n",
    "**Input:** `n = 192`\n",
    "\n",
    "**Output:** `true`\n",
    "\n",
    "**Explanation:** We concatenate the numbers `n = 192` and `2 * n = 384` and `3 * n = 576`. The resulting number is `192384576`. This number contains all the digits from 1 to 9 exactly once.\n",
    "\n",
    "## Example 2:\n",
    "\n",
    "**Input:** `n = 100`\n",
    "\n",
    "**Output:** `false`\n",
    "\n",
    "**Explanation:** We concatenate the numbers `n = 100` and `2 * n = 200` and `3 * n = 300`. The resulting number is `100200300`. This number does not satisfy any of the conditions.\n",
    "\n",
    "## Constraints:\n",
    "\n",
    "- `100 <= n <= 999`\n"
   ]
  },
  {
   "cell_type": "code",
   "execution_count": 29,
   "metadata": {},
   "outputs": [],
   "source": [
    "def isFascinating(n: int) -> bool:\n",
    "    num_str = str(n) + str(2*n) + str(3*n)\n",
    "    return all([num in num_str for num in '123456789']) and len([char for char in num_str]) == len(set([char for char in num_str]))"
   ]
  },
  {
   "cell_type": "code",
   "execution_count": 30,
   "metadata": {},
   "outputs": [
    {
     "data": {
      "text/plain": [
       "False"
      ]
     },
     "execution_count": 30,
     "metadata": {},
     "output_type": "execute_result"
    }
   ],
   "source": [
    "n = 129\n",
    "isFascinating(n)"
   ]
  },
  {
   "cell_type": "code",
   "execution_count": 33,
   "metadata": {},
   "outputs": [
    {
     "data": {
      "text/plain": [
       "11"
      ]
     },
     "execution_count": 33,
     "metadata": {},
     "output_type": "execute_result"
    }
   ],
   "source": [
    "n = 783\n",
    "isFascinating(n)"
   ]
  },
  {
   "cell_type": "code",
   "execution_count": 36,
   "metadata": {},
   "outputs": [
    {
     "data": {
      "text/plain": [
       "True"
      ]
     },
     "execution_count": 36,
     "metadata": {},
     "output_type": "execute_result"
    }
   ],
   "source": [
    "n = 192\n",
    "isFascinating(n)"
   ]
  },
  {
   "cell_type": "code",
   "execution_count": null,
   "metadata": {},
   "outputs": [],
   "source": [
    "n = 100\n",
    "isFascinating(n)"
   ]
  }
 ],
 "metadata": {
  "kernelspec": {
   "display_name": "wai",
   "language": "python",
   "name": "python3"
  },
  "language_info": {
   "codemirror_mode": {
    "name": "ipython",
    "version": 3
   },
   "file_extension": ".py",
   "mimetype": "text/x-python",
   "name": "python",
   "nbconvert_exporter": "python",
   "pygments_lexer": "ipython3",
   "version": "3.11.4"
  }
 },
 "nbformat": 4,
 "nbformat_minor": 2
}
