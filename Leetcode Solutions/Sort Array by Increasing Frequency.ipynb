{
 "cells": [
  {
   "cell_type": "markdown",
   "metadata": {},
   "source": [
    "# 1636. Sort Array by Increasing Frequency\n",
    "\n",
    "Given an array of integers `nums`, sort the array in increasing order based on the frequency of the values. If multiple values have the same frequency, sort them in decreasing order.\n",
    "\n",
    "Return the sorted array.\n",
    "\n",
    "## Example 1:\n",
    "\n",
    "**Input:**  \n",
    "`nums = [1,1,2,2,2,3]`\n",
    "\n",
    "**Output:**  \n",
    "`[3,1,1,2,2,2]`\n",
    "\n",
    "**Explanation:**  \n",
    "'3' has a frequency of 1, '1' has a frequency of 2, and '2' has a frequency of 3.\n",
    "\n",
    "## Example 2:\n",
    "\n",
    "**Input:**  \n",
    "`nums = [2,3,1,3,2]`\n",
    "\n",
    "**Output:**  \n",
    "`[1,3,3,2,2]`\n",
    "\n",
    "**Explanation:**  \n",
    "'2' and '3' both have a frequency of 2, so they are sorted in decreasing order.\n",
    "\n",
    "## Example 3:\n",
    "\n",
    "**Input:**  \n",
    "`nums = [-1,1,-6,4,5,-6,1,4,1]`\n",
    "\n",
    "**Output:**  \n",
    "`[5,-1,4,4,-6,-6,1,1,1]`\n",
    "\n",
    "## Constraints:\n",
    "\n",
    "- `1 <= nums.length <= 100`\n",
    "- `-100 <= nums[i] <= 100`\n"
   ]
  },
  {
   "cell_type": "code",
   "execution_count": 1,
   "metadata": {},
   "outputs": [],
   "source": [
    "from typing import List"
   ]
  },
  {
   "cell_type": "code",
   "execution_count": 2,
   "metadata": {},
   "outputs": [],
   "source": [
    "def frequencySort(nums: List[int]) -> List[int]:\n",
    "\n",
    "    num_dict = {num:0 for num in nums}\n",
    "\n",
    "    for num in nums:\n",
    "        num_dict[num] += 1\n",
    "\n",
    "    return sorted(nums, key=lambda num: (num_dict[num], -num))"
   ]
  },
  {
   "cell_type": "code",
   "execution_count": 3,
   "metadata": {},
   "outputs": [
    {
     "data": {
      "text/plain": [
       "[3, 1, 1, 2, 2, 2]"
      ]
     },
     "execution_count": 3,
     "metadata": {},
     "output_type": "execute_result"
    }
   ],
   "source": [
    "nums = [1,1,2,2,2,3]\n",
    "frequencySort(nums)"
   ]
  },
  {
   "cell_type": "code",
   "execution_count": 4,
   "metadata": {},
   "outputs": [
    {
     "data": {
      "text/plain": [
       "[1, 3, 3, 2, 2]"
      ]
     },
     "execution_count": 4,
     "metadata": {},
     "output_type": "execute_result"
    }
   ],
   "source": [
    "nums = [2,3,1,3,2]\n",
    "frequencySort(nums)"
   ]
  },
  {
   "cell_type": "code",
   "execution_count": 5,
   "metadata": {},
   "outputs": [
    {
     "data": {
      "text/plain": [
       "[5, -1, 4, 4, -6, -6, 1, 1, 1]"
      ]
     },
     "execution_count": 5,
     "metadata": {},
     "output_type": "execute_result"
    }
   ],
   "source": [
    "nums = [-1,1,-6,4,5,-6,1,4,1]\n",
    "frequencySort(nums)"
   ]
  }
 ],
 "metadata": {
  "kernelspec": {
   "display_name": "datascience",
   "language": "python",
   "name": "datascience"
  },
  "language_info": {
   "codemirror_mode": {
    "name": "ipython",
    "version": 3
   },
   "file_extension": ".py",
   "mimetype": "text/x-python",
   "name": "python",
   "nbconvert_exporter": "python",
   "pygments_lexer": "ipython3",
   "version": "3.11.4"
  }
 },
 "nbformat": 4,
 "nbformat_minor": 2
}
