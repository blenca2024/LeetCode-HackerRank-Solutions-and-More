{
 "cells": [
  {
   "cell_type": "markdown",
   "metadata": {},
   "source": [
    "# 1133. Largest Unique Number\n",
    "\n",
    "Given an integer array `nums`, return the largest integer that only occurs once. If no integer occurs once, return `-1`.\n",
    "\n",
    "## Example 1:\n",
    "\n",
    "**Input:** `nums = [5,7,3,9,4,9,8,3,1]`\n",
    "\n",
    "**Output:** `8`\n",
    "\n",
    "**Explanation:** The maximum integer in the array is `9` but it is repeated. The number `8` occurs only once, so it is the answer.\n",
    "\n",
    "## Example 2:\n",
    "\n",
    "**Input:** `nums = [9,9,8,8]`\n",
    "\n",
    "**Output:** `-1`\n",
    "\n",
    "**Explanation:** There is no number that occurs only once.\n",
    "\n",
    "## Constraints:\n",
    "\n",
    "- `1 <= nums.length <= 2000`\n",
    "- `0 <= nums[i] <= 1000`\n"
   ]
  },
  {
   "cell_type": "code",
   "execution_count": 1,
   "metadata": {},
   "outputs": [],
   "source": [
    "from typing import List"
   ]
  },
  {
   "cell_type": "code",
   "execution_count": 2,
   "metadata": {},
   "outputs": [],
   "source": [
    "def largestUniqueNumber(nums: List[int]) -> int:\n",
    "    num_dict = {num:0 for num in nums}\n",
    "\n",
    "    for num in nums:\n",
    "        num_dict[num] += 1\n",
    "\n",
    "    try:\n",
    "        return max([num for num,count in num_dict.items() if count == 1])\n",
    "    except:\n",
    "        return -1"
   ]
  },
  {
   "cell_type": "code",
   "execution_count": 3,
   "metadata": {},
   "outputs": [
    {
     "data": {
      "text/plain": [
       "8"
      ]
     },
     "execution_count": 3,
     "metadata": {},
     "output_type": "execute_result"
    }
   ],
   "source": [
    "nums = [5,7,3,9,4,9,8,3,1]\n",
    "largestUniqueNumber(nums)"
   ]
  },
  {
   "cell_type": "code",
   "execution_count": 4,
   "metadata": {},
   "outputs": [
    {
     "data": {
      "text/plain": [
       "-1"
      ]
     },
     "execution_count": 4,
     "metadata": {},
     "output_type": "execute_result"
    }
   ],
   "source": [
    "nums = [9,9,8,8]\n",
    "largestUniqueNumber(nums)"
   ]
  }
 ],
 "metadata": {
  "kernelspec": {
   "display_name": "wai",
   "language": "python",
   "name": "python3"
  },
  "language_info": {
   "codemirror_mode": {
    "name": "ipython",
    "version": 3
   },
   "file_extension": ".py",
   "mimetype": "text/x-python",
   "name": "python",
   "nbconvert_exporter": "python",
   "pygments_lexer": "ipython3",
   "version": "3.11.4"
  }
 },
 "nbformat": 4,
 "nbformat_minor": 2
}
