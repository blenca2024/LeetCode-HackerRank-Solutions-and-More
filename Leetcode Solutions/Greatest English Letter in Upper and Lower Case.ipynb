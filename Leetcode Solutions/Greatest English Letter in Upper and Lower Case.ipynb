{
 "cells": [
  {
   "cell_type": "markdown",
   "metadata": {},
   "source": [
    "# 2309. Greatest English Letter in Upper and Lower Case\n",
    "\n",
    "Given a string of English letters `s`, return the greatest English letter which occurs as both a lowercase and uppercase letter in `s`. The returned letter should be in uppercase. If no such letter exists, return an empty string.\n",
    "\n",
    "An English letter `b` is greater than another letter `a` if `b` appears after `a` in the English alphabet.\n",
    "\n",
    "## Example 1:\n",
    "\n",
    "**Input:**  \n",
    "`s = \"lEeTcOdE\"`\n",
    "\n",
    "**Output:**  \n",
    "`\"E\"`\n",
    "\n",
    "**Explanation:**  \n",
    "The letter 'E' is the only letter to appear in both lower and upper case.\n",
    "\n",
    "## Example 2:\n",
    "\n",
    "**Input:**  \n",
    "`s = \"arRAzFif\"`\n",
    "\n",
    "**Output:**  \n",
    "`\"R\"`\n",
    "\n",
    "**Explanation:**  \n",
    "The letter 'R' is the greatest letter to appear in both lower and upper case. Note that 'A' and 'F' also appear in both lower and upper case, but 'R' is greater than 'F' or 'A'.\n",
    "\n",
    "## Example 3:\n",
    "\n",
    "**Input:**  \n",
    "`s = \"AbCdEfGhIjK\"`\n",
    "\n",
    "**Output:**  \n",
    "`\"\"`\n",
    "\n",
    "**Explanation:**  \n",
    "There is no letter that appears in both lower and upper case.\n",
    "\n",
    "## Constraints:\n",
    "\n",
    "- `1 <= s.length <= 1000`\n",
    "- `s` consists of lowercase and uppercase English letters.\n"
   ]
  },
  {
   "cell_type": "code",
   "execution_count": 1,
   "metadata": {},
   "outputs": [],
   "source": [
    "def greatestLetter(s: str) -> str:\n",
    "    string_dict = {char:[] for char in set([char for char in s.lower()])}\n",
    "\n",
    "    for char in s:\n",
    "        string_dict[char.lower()].append(char)\n",
    "\n",
    "    string_dict = {key:val for key,val in string_dict.items() if len(val) > 1 and key.upper() in val and key.lower() in val}\n",
    "\n",
    "    if len(string_dict) >= 1:\n",
    "        return sorted(string_dict,reverse=True)[0].upper()\n",
    "    else:\n",
    "        return ''"
   ]
  },
  {
   "cell_type": "code",
   "execution_count": 2,
   "metadata": {},
   "outputs": [
    {
     "data": {
      "text/plain": [
       "'R'"
      ]
     },
     "execution_count": 2,
     "metadata": {},
     "output_type": "execute_result"
    }
   ],
   "source": [
    "s = \"arRAzFif\"\n",
    "greatestLetter(s=s)"
   ]
  },
  {
   "cell_type": "code",
   "execution_count": 3,
   "metadata": {},
   "outputs": [
    {
     "data": {
      "text/plain": [
       "''"
      ]
     },
     "execution_count": 3,
     "metadata": {},
     "output_type": "execute_result"
    }
   ],
   "source": [
    "s = \"AbCdEfGhIjK\"\n",
    "greatestLetter(s=s)"
   ]
  },
  {
   "cell_type": "code",
   "execution_count": 4,
   "metadata": {},
   "outputs": [
    {
     "data": {
      "text/plain": [
       "''"
      ]
     },
     "execution_count": 4,
     "metadata": {},
     "output_type": "execute_result"
    }
   ],
   "source": [
    "s = \"AAAAAAAAAAAAAAAAAAAAAAAAAAAAAAAAAAAAAAAAAAAAAAAAAAAAAAAAAAAAAAAAAAAAAAAAAAAAAAAAAAAAAAAAAAAAAAAAAAAAAAAAAAAAAAAAAAAAAAAAAAAAAAAAAAAAAAAAAAAAAAAAAAAAAAAAAAAAAAAAAAAAAAAAAAAAAAAAAAAAAAAAAAAAAAAAAAAAAAAAAAAAAAAAAAAAAAAAAAAAAAAAAAAAAAAAAAAAAAAAAAAAAAAAAAAAAAAAAAAAAAAAAAAAAAAAAAAAAAAAAAAAAAAAAAAAAAAAAAAAAAAAAAAAAAAAAAAAAAAAAAAAAAAAAAAAAAAAAAAAAAAAAAAAAAAAAAAAAAAAAAAAAAAAAAAAAAAAAAAAAAAAAAAAAAAAAAAAAAAAAAAAAAAAAAAAAAAAAAAAAAAAAAAAAAAAAAAAAAAAAAAAAAAAAAAAAAAAAAAAAAAAAAAAAAAAAAAAAAAAAAAAAAAAAAAAAAAAAAAAAAAAAAAAAAAAAAAAAAAAAAAAAAAAAAAAAAAAAAAAAAAAAAAAAAAAAAAAAAAAAAAAAAAAAAAAAAAAAAAAAAAAAAAAAAAAAAAAAAAAAAAAAAAAAAAAAAAAAAAAAAAAAAAAAAAAAAAAAAAAAAAAAAAAAAAAAAAAAAAAAAAAAAAAAAAAAAAAAAAAAAAAAAAAAAAAAAAAAAAAAAAAAAAAAAAAAAAAAAAAAAAAAAAAAAAAAAAAAAAAAAAAAAAAAAAAAAAAAAAAAAAAAAAAAAAAAAAAAAAAAAAAAAAAAAAAAAAAAAAAAAAAAAAAAAAAAAAAAAAAAAAAAAAAAAAAAAAAAAAAAAAAAAAAAAAAAAAAAAAAAAAAAAAAAAAAAAAAAAAAAAAAAAAAAAAAAAAAAAAAAAAAAAAAAAAAAAAAAAAAAAAAAAAAAAAAAAAAAAAAAAAAAAAAAAAAAAAAAAAAAAAAAAAAAAAAAAAAAAAAAAAAAAAAAAAAAAAAAAAA\"\n",
    "greatestLetter(s=s)"
   ]
  },
  {
   "cell_type": "code",
   "execution_count": 5,
   "metadata": {},
   "outputs": [],
   "source": [
    "string_dict = {char:[] for char in set([char for char in s.lower()])}\n",
    "\n",
    "for char in s:\n",
    "    string_dict[char.lower()].append(char)\n",
    "\n",
    "string_dict = {key:val for key,val in string_dict.items() if len(val) > 1 and key.upper() in val and key.lower() in val}\n",
    "\n"
   ]
  }
 ],
 "metadata": {
  "kernelspec": {
   "display_name": "datascience",
   "language": "python",
   "name": "datascience"
  },
  "language_info": {
   "codemirror_mode": {
    "name": "ipython",
    "version": 3
   },
   "file_extension": ".py",
   "mimetype": "text/x-python",
   "name": "python",
   "nbconvert_exporter": "python",
   "pygments_lexer": "ipython3",
   "version": "3.11.4"
  }
 },
 "nbformat": 4,
 "nbformat_minor": 2
}
