{
  "nbformat": 4,
  "nbformat_minor": 0,
  "metadata": {
    "colab": {
      "name": "Sign of the Product of an Array.ipynb",
      "provenance": [],
      "collapsed_sections": []
    },
    "kernelspec": {
      "name": "python3",
      "display_name": "Python 3"
    },
    "language_info": {
      "name": "python"
    }
  },
  "cells": [
    {
      "cell_type": "markdown",
      "source": [
        "# **Sign of the Product of an Array**\n",
        "\n",
        "There is a function `signFunc(x)` that returns:\n",
        "\n",
        "- 1 if x is positive.\n",
        "- -1 if x is negative.\n",
        "- 0 if x is equal to 0.\n",
        "\n",
        "You are given an integer array `nums`. Let `product` be the product of all values in the array `nums`.\n",
        "\n",
        "Return `signFunc(product)`."
      ],
      "metadata": {
        "id": "UCIAkWR2htJL"
      }
    },
    {
      "cell_type": "markdown",
      "source": [
        "**Constraints:**\n",
        "\n",
        "- 1 <= nums.length <= 1000\n",
        "- -100 <= nums[i] <= 100"
      ],
      "metadata": {
        "id": "R5P-z0o6icI8"
      }
    },
    {
      "cell_type": "code",
      "source": [
        "def arraySign(nums):\n",
        "  prod = 1\n",
        "  for num in nums:\n",
        "    prod *= num\n",
        "\n",
        "  if prod > 0:\n",
        "    return 1\n",
        "  elif prod < 0:\n",
        "    return -1\n",
        "  else:\n",
        "    return 0"
      ],
      "metadata": {
        "id": "_oUWJVlygt0P"
      },
      "execution_count": 1,
      "outputs": []
    },
    {
      "cell_type": "markdown",
      "source": [
        "## **Example 1:**\n",
        "\n",
        "```\n",
        "Input: nums = [-1,-2,-3,-4,3,2,1]\n",
        "Output: 1\n",
        "Explanation: The product of all values in the array is 144, and signFunc(144) = 1\n",
        "```"
      ],
      "metadata": {
        "id": "fup78ye0h-dj"
      }
    },
    {
      "cell_type": "code",
      "source": [
        "nums = [-1,-2,-3,-4,3,2,1]\n",
        "arraySign(nums)"
      ],
      "metadata": {
        "colab": {
          "base_uri": "https://localhost:8080/"
        },
        "id": "vm72vCw3gHmH",
        "outputId": "3a769289-7ed2-447a-f7b9-d63ff6d1ad71"
      },
      "execution_count": 2,
      "outputs": [
        {
          "output_type": "execute_result",
          "data": {
            "text/plain": [
              "1"
            ]
          },
          "metadata": {},
          "execution_count": 2
        }
      ]
    },
    {
      "cell_type": "markdown",
      "source": [
        "## **Example 2:**\n",
        "\n",
        "```\n",
        "Input: nums = [1,5,0,2,-3]\n",
        "Output: 0\n",
        "Explanation: The product of all values in the array is 0, and signFunc(0) = 0\n",
        "```"
      ],
      "metadata": {
        "id": "xsW0oMPkiQsc"
      }
    },
    {
      "cell_type": "code",
      "source": [
        "nums = [1,5,0,2,-3]\n",
        "arraySign(nums)"
      ],
      "metadata": {
        "colab": {
          "base_uri": "https://localhost:8080/"
        },
        "id": "_j9DG0QJgk-9",
        "outputId": "4a8f2b5f-ec88-4661-d425-8758921686bc"
      },
      "execution_count": 3,
      "outputs": [
        {
          "output_type": "execute_result",
          "data": {
            "text/plain": [
              "0"
            ]
          },
          "metadata": {},
          "execution_count": 3
        }
      ]
    },
    {
      "cell_type": "markdown",
      "source": [
        "## **Example 3:**\n",
        "\n",
        "```\n",
        "Input: nums = [-1,1,-1,1,-1]\n",
        "Output: -1\n",
        "Explanation: The product of all values in the array is -1, and signFunc(-1) = -1\n",
        "```"
      ],
      "metadata": {
        "id": "jQz3ErJ5iV0s"
      }
    },
    {
      "cell_type": "code",
      "source": [
        "nums = [-1,1,-1,1,-1]\n",
        "arraySign(nums)"
      ],
      "metadata": {
        "colab": {
          "base_uri": "https://localhost:8080/"
        },
        "id": "6rSd0mP3hmKN",
        "outputId": "c14b2208-543e-4278-8dbd-6c60c9f6a5b5"
      },
      "execution_count": 4,
      "outputs": [
        {
          "output_type": "execute_result",
          "data": {
            "text/plain": [
              "-1"
            ]
          },
          "metadata": {},
          "execution_count": 4
        }
      ]
    }
  ]
}