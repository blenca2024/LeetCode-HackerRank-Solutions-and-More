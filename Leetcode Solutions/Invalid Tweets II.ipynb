{
 "cells": [
  {
   "cell_type": "markdown",
   "metadata": {},
   "source": [
    "# 3150. Invalid Tweets II\n",
    "\n",
    "Table: Tweets\n",
    "\n",
    "| Column Name | Type    |\n",
    "|-------------|---------|\n",
    "| tweet_id    | int     |\n",
    "| content     | varchar |\n",
    "\n",
    "`tweet_id` is the primary key (column with unique values) for this table.\n",
    "This table contains all the tweets in a social media app.\n",
    "\n",
    "Write a solution to find invalid tweets. A tweet is considered invalid if it meets any of the following criteria:\n",
    "\n",
    "- It exceeds 140 characters in length.\n",
    "- It has more than 3 mentions.\n",
    "- It includes more than 3 hashtags.\n",
    "\n",
    "Return the result table ordered by `tweet_id` in ascending order.\n",
    "\n",
    "The result format is in the following example.\n",
    "\n",
    "## Example:\n",
    "\n",
    "**Input:**\n",
    "\n",
    "**Tweets table:**\n",
    "\n",
    "| tweet_id | content                                                                           |\n",
    "|----------|-----------------------------------------------------------------------------------|\n",
    "| 1        | Traveling, exploring, and living my best life @JaneSmith @SaraJohnson @LisaTaylor |\n",
    "|          | @MikeBrown #Foodie #Fitness #Learning                                             |\n",
    "| 2        | Just had the best dinner with friends! #Foodie #Friends #Fun                      |\n",
    "| 4        | Working hard on my new project #Work #Goals #Productivity #Fun                    |\n",
    "\n",
    "**Output:**\n",
    "\n",
    "| tweet_id |\n",
    "|----------|\n",
    "| 1        |\n",
    "| 4        |\n",
    "\n",
    "**Explanation:**\n",
    "\n",
    "- tweet_id 1 contains 4 mentions.\n",
    "- tweet_id 4 contains 4 hashtags.\n",
    "\n",
    "Output table is ordered by `tweet_id` in ascending order.\n"
   ]
  },
  {
   "cell_type": "code",
   "execution_count": 1,
   "metadata": {},
   "outputs": [],
   "source": [
    "import pandas as pd"
   ]
  },
  {
   "cell_type": "code",
   "execution_count": 2,
   "metadata": {},
   "outputs": [],
   "source": [
    "def find_invalid_tweets(tweets: pd.DataFrame) -> pd.DataFrame:\n",
    "    output_df = pd.DataFrame({'tweet_id':[idx for idx, tweet in zip(tweets['tweet_id'],tweets['content']) if len(tweet)>140 or tweet.count('#') > 3 or tweet.count('@') > 3]})\n",
    "    return output_df"
   ]
  },
  {
   "cell_type": "code",
   "execution_count": 3,
   "metadata": {},
   "outputs": [],
   "source": [
    "tweets = pd.DataFrame([\n",
    "    {\"tweet_id\": 1, \"content\": \"Traveling, exploring, and living my best life @JaneSmith @SaraJohnson @LisaTaylor\\n@MikeBrown #Foodie #Fitness #Learning\"},\n",
    "    {\"tweet_id\": 2, \"content\": \"Just had the best dinner with friends! #Foodie #Friends #Fun\"},\n",
    "    {\"tweet_id\": 4, \"content\": \"Working hard on my new project #Work #Goals #Productivity #Fun\"}\n",
    "])"
   ]
  },
  {
   "cell_type": "code",
   "execution_count": 4,
   "metadata": {},
   "outputs": [
    {
     "data": {
      "text/html": [
       "<div>\n",
       "<style scoped>\n",
       "    .dataframe tbody tr th:only-of-type {\n",
       "        vertical-align: middle;\n",
       "    }\n",
       "\n",
       "    .dataframe tbody tr th {\n",
       "        vertical-align: top;\n",
       "    }\n",
       "\n",
       "    .dataframe thead th {\n",
       "        text-align: right;\n",
       "    }\n",
       "</style>\n",
       "<table border=\"1\" class=\"dataframe\">\n",
       "  <thead>\n",
       "    <tr style=\"text-align: right;\">\n",
       "      <th></th>\n",
       "      <th>tweet_id</th>\n",
       "    </tr>\n",
       "  </thead>\n",
       "  <tbody>\n",
       "    <tr>\n",
       "      <th>0</th>\n",
       "      <td>1</td>\n",
       "    </tr>\n",
       "    <tr>\n",
       "      <th>1</th>\n",
       "      <td>4</td>\n",
       "    </tr>\n",
       "  </tbody>\n",
       "</table>\n",
       "</div>"
      ],
      "text/plain": [
       "   tweet_id\n",
       "0         1\n",
       "1         4"
      ]
     },
     "execution_count": 4,
     "metadata": {},
     "output_type": "execute_result"
    }
   ],
   "source": [
    "find_invalid_tweets(tweets)"
   ]
  }
 ],
 "metadata": {
  "kernelspec": {
   "display_name": "datascience",
   "language": "python",
   "name": "datascience"
  },
  "language_info": {
   "codemirror_mode": {
    "name": "ipython",
    "version": 3
   },
   "file_extension": ".py",
   "mimetype": "text/x-python",
   "name": "python",
   "nbconvert_exporter": "python",
   "pygments_lexer": "ipython3",
   "version": "3.11.4"
  }
 },
 "nbformat": 4,
 "nbformat_minor": 2
}
