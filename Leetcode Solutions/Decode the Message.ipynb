{
 "cells": [
  {
   "cell_type": "code",
   "execution_count": null,
   "metadata": {},
   "outputs": [],
   "source": [
    "class Solution:\n",
    "    def decodeMessage(self, key: str, message: str) -> str:\n",
    "        alphabet_list = [char for char in 'abcdefghijklmnopqrstuvwxyz']\n",
    "        mod_key = key.replace(' ','')\n",
    "\n",
    "        keys = []\n",
    "        \n",
    "        for char in mod_key:\n",
    "            if char not in keys:\n",
    "                keys.append(char)\n",
    "\n",
    "        coder = {k:v for k,v in zip(keys,alphabet_list)}\n",
    "        coder[' '] = ' '\n",
    "        decoded = ''.join([coder[char] for char in message])\n",
    "        return decoded"
   ]
  }
 ],
 "metadata": {
  "language_info": {
   "name": "python"
  }
 },
 "nbformat": 4,
 "nbformat_minor": 2
}
