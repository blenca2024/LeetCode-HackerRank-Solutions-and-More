{
 "cells": [
  {
   "cell_type": "markdown",
   "metadata": {},
   "source": [
    "## 1068. Product Sales Analysis I\n",
    "\n",
    "### Table: Sales\n",
    "\n",
    "| Column Name | Type  |\n",
    "|-------------|-------|\n",
    "| sale_id     | int   |\n",
    "| product_id  | int   |\n",
    "| year        | int   |\n",
    "| quantity    | int   |\n",
    "| price       | int   |\n",
    "\n",
    "`(sale_id, year)` is the primary key (combination of columns with unique values) of this table.\n",
    "`product_id` is a foreign key (reference column) to Product table.\n",
    "Each row of this table shows a sale on the product `product_id` in a certain year.\n",
    "Note that the price is per unit.\n",
    "\n",
    "### Table: Product\n",
    "\n",
    "| Column Name  | Type    |\n",
    "|--------------|---------|\n",
    "| product_id   | int     |\n",
    "| product_name | varchar |\n",
    "\n",
    "`product_id` is the primary key (column with unique values) of this table.\n",
    "Each row of this table indicates the product name of each product.\n",
    "\n",
    "Write a solution to report the `product_name`, `year`, and `price` for each `sale_id` in the Sales table.\n",
    "\n",
    "Return the resulting table in any order.\n",
    "\n",
    "The result format is in the following example.\n",
    "\n",
    "### Example 1:\n",
    "\n",
    "**Input:**  \n",
    "Sales table:\n",
    "| sale_id | product_id | year | quantity | price |\n",
    "|---------|------------|------|----------|-------| \n",
    "| 1       | 100        | 2008 | 10       | 5000  |\n",
    "| 2       | 100        | 2009 | 12       | 5000  |\n",
    "| 7       | 200        | 2011 | 15       | 9000  |\n",
    "\n",
    "Product table:\n",
    "| product_id | product_name |\n",
    "|------------|--------------|\n",
    "| 100        | Nokia        |\n",
    "| 200        | Apple        |\n",
    "| 300        | Samsung      |\n",
    "\n",
    "**Output:**  \n",
    "| product_name | year  | price |\n",
    "|--------------|-------|-------|\n",
    "| Nokia        | 2008  | 5000  |\n",
    "| Nokia        | 2009  | 5000  |\n",
    "| Apple        | 2011  | 9000  |\n",
    "\n",
    "**Explanation:**  \n",
    "From `sale_id = 1`, we can conclude that Nokia was sold for 5000 in the year 2008.  \n",
    "From `sale_id = 2`, we can conclude that Nokia was sold for 5000 in the year 2009.  \n",
    "From `sale_id = 7`, we can conclude that Apple was sold for 9000 in the year 2011.\n"
   ]
  },
  {
   "cell_type": "code",
   "execution_count": 1,
   "metadata": {},
   "outputs": [],
   "source": [
    "import pandas as pd"
   ]
  },
  {
   "cell_type": "code",
   "execution_count": 2,
   "metadata": {},
   "outputs": [],
   "source": [
    "def sales_analysis(sales: pd.DataFrame, product: pd.DataFrame) -> pd.DataFrame:\n",
    "    product_dict = {id:name for id,name in zip(product['product_id'].values,product['product_name'].values)}\n",
    "\n",
    "    merged_df = sales.join(other=product,on='product_id',how='left',rsuffix='_r',lsuffix='_l')\n",
    "    merged_df['product_name'] = [product_dict[id] for id in merged_df['product_id_l']]\n",
    "\n",
    "    return merged_df[['product_name','year','price']]"
   ]
  },
  {
   "cell_type": "code",
   "execution_count": 3,
   "metadata": {},
   "outputs": [],
   "source": [
    "sales = pd.DataFrame([\n",
    "    {\"sale_id\": 1, \"product_id\": 100, \"year\": 2008, \"quantity\": 10, \"price\": 5000},\n",
    "    {\"sale_id\": 2, \"product_id\": 100, \"year\": 2009, \"quantity\": 12, \"price\": 5000},\n",
    "    {\"sale_id\": 7, \"product_id\": 200, \"year\": 2011, \"quantity\": 15, \"price\": 9000}\n",
    "])\n",
    "\n",
    "product = pd.DataFrame([\n",
    "    {\"product_id\": 100, \"product_name\": \"Nokia\"},\n",
    "    {\"product_id\": 200, \"product_name\": \"Apple\"},\n",
    "    {\"product_id\": 300, \"product_name\": \"Samsung\"}\n",
    "])"
   ]
  },
  {
   "cell_type": "code",
   "execution_count": 4,
   "metadata": {},
   "outputs": [
    {
     "data": {
      "text/html": [
       "<div>\n",
       "<style scoped>\n",
       "    .dataframe tbody tr th:only-of-type {\n",
       "        vertical-align: middle;\n",
       "    }\n",
       "\n",
       "    .dataframe tbody tr th {\n",
       "        vertical-align: top;\n",
       "    }\n",
       "\n",
       "    .dataframe thead th {\n",
       "        text-align: right;\n",
       "    }\n",
       "</style>\n",
       "<table border=\"1\" class=\"dataframe\">\n",
       "  <thead>\n",
       "    <tr style=\"text-align: right;\">\n",
       "      <th></th>\n",
       "      <th>product_name</th>\n",
       "      <th>year</th>\n",
       "      <th>price</th>\n",
       "    </tr>\n",
       "  </thead>\n",
       "  <tbody>\n",
       "    <tr>\n",
       "      <th>0</th>\n",
       "      <td>Nokia</td>\n",
       "      <td>2008</td>\n",
       "      <td>5000</td>\n",
       "    </tr>\n",
       "    <tr>\n",
       "      <th>1</th>\n",
       "      <td>Nokia</td>\n",
       "      <td>2009</td>\n",
       "      <td>5000</td>\n",
       "    </tr>\n",
       "    <tr>\n",
       "      <th>2</th>\n",
       "      <td>Apple</td>\n",
       "      <td>2011</td>\n",
       "      <td>9000</td>\n",
       "    </tr>\n",
       "  </tbody>\n",
       "</table>\n",
       "</div>"
      ],
      "text/plain": [
       "  product_name  year  price\n",
       "0        Nokia  2008   5000\n",
       "1        Nokia  2009   5000\n",
       "2        Apple  2011   9000"
      ]
     },
     "execution_count": 4,
     "metadata": {},
     "output_type": "execute_result"
    }
   ],
   "source": [
    "sales_analysis(sales=sales,product=product)"
   ]
  }
 ],
 "metadata": {
  "kernelspec": {
   "display_name": "datascience",
   "language": "python",
   "name": "datascience"
  },
  "language_info": {
   "codemirror_mode": {
    "name": "ipython",
    "version": 3
   },
   "file_extension": ".py",
   "mimetype": "text/x-python",
   "name": "python",
   "nbconvert_exporter": "python",
   "pygments_lexer": "ipython3",
   "version": "3.11.4"
  }
 },
 "nbformat": 4,
 "nbformat_minor": 2
}
