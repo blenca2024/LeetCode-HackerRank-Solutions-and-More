{
 "cells": [
  {
   "cell_type": "markdown",
   "metadata": {},
   "source": [
    "# 2423. Remove Letter To Equalize Frequency\n",
    "\n",
    "You are given a 0-indexed string `word`, consisting of lowercase English letters. You need to select one index and remove the letter at that index from `word` so that the frequency of every letter present in `word` is equal.\n",
    "\n",
    "Return `true` if it is possible to remove one letter so that the frequency of all letters in `word` are equal, and `false` otherwise.\n",
    "\n",
    "## Note:\n",
    "\n",
    "- The frequency of a letter `x` is the number of times it occurs in the string.\n",
    "- You must remove exactly one letter and cannot choose to do nothing.\n",
    "\n",
    "## Example 1:\n",
    "\n",
    "**Input:**  \n",
    "`word = \"abcc\"`\n",
    "\n",
    "**Output:**  \n",
    "`true`\n",
    "\n",
    "**Explanation:**  \n",
    "Select index 3 and delete it: `word` becomes \"abc\" and each character has a frequency of 1.\n",
    "\n",
    "## Example 2:\n",
    "\n",
    "**Input:**  \n",
    "`word = \"aazz\"`\n",
    "\n",
    "**Output:**  \n",
    "`false`\n",
    "\n",
    "**Explanation:**  \n",
    "We must delete a character, so either the frequency of \"a\" is 1 and the frequency of \"z\" is 2, or vice versa. It is impossible to make all present letters have equal frequency.\n",
    "\n",
    "## Constraints:\n",
    "\n",
    "- `2 <= word.length <= 100`\n",
    "- `word` consists of lowercase English letters only.\n"
   ]
  },
  {
   "cell_type": "code",
   "execution_count": 1,
   "metadata": {},
   "outputs": [],
   "source": [
    "def equalFrequency(word: str) -> bool:\n",
    "    dict_list = []\n",
    "\n",
    "    for idx in range(len(word)):\n",
    "        char_list = [char for char in word]\n",
    "        del char_list[idx]\n",
    "        char_freq = len(set([char_list.count(char) for char in char_list]))\n",
    "        dict_list.append(char_freq)\n",
    "\n",
    "    return 1 in dict_list"
   ]
  },
  {
   "cell_type": "code",
   "execution_count": 2,
   "metadata": {},
   "outputs": [
    {
     "data": {
      "text/plain": [
       "True"
      ]
     },
     "execution_count": 2,
     "metadata": {},
     "output_type": "execute_result"
    }
   ],
   "source": [
    "word = \"abcc\"\n",
    "equalFrequency(word=word)"
   ]
  },
  {
   "cell_type": "code",
   "execution_count": 3,
   "metadata": {},
   "outputs": [
    {
     "data": {
      "text/plain": [
       "False"
      ]
     },
     "execution_count": 3,
     "metadata": {},
     "output_type": "execute_result"
    }
   ],
   "source": [
    "word = \"aazz\"\n",
    "equalFrequency(word=word)"
   ]
  },
  {
   "cell_type": "code",
   "execution_count": 4,
   "metadata": {},
   "outputs": [
    {
     "data": {
      "text/plain": [
       "True"
      ]
     },
     "execution_count": 4,
     "metadata": {},
     "output_type": "execute_result"
    }
   ],
   "source": [
    "word = \"bac\"\n",
    "equalFrequency(word=word)"
   ]
  },
  {
   "cell_type": "code",
   "execution_count": 5,
   "metadata": {},
   "outputs": [
    {
     "data": {
      "text/plain": [
       "True"
      ]
     },
     "execution_count": 5,
     "metadata": {},
     "output_type": "execute_result"
    }
   ],
   "source": [
    "word=\"zz\"\n",
    "equalFrequency(word=word)"
   ]
  },
  {
   "cell_type": "code",
   "execution_count": 7,
   "metadata": {},
   "outputs": [
    {
     "data": {
      "text/plain": [
       "False"
      ]
     },
     "execution_count": 7,
     "metadata": {},
     "output_type": "execute_result"
    }
   ],
   "source": [
    "word=\"ceeeec\"\n",
    "equalFrequency(word=word)"
   ]
  },
  {
   "cell_type": "code",
   "execution_count": 8,
   "metadata": {},
   "outputs": [
    {
     "data": {
      "text/plain": [
       "True"
      ]
     },
     "execution_count": 8,
     "metadata": {},
     "output_type": "execute_result"
    }
   ],
   "source": [
    "word= \"zzzzzzzzzzzzzzzzzzzzzzzzzzzzzzzzzzzzzzzzzzzzzzzzzzzzzzzzzzzzzzzzzzzzzzzzzzzzzzzzzzzzzzzzzzzzzzzzzzzz\"\n",
    "equalFrequency(word=word)"
   ]
  }
 ],
 "metadata": {
  "kernelspec": {
   "display_name": "datascience",
   "language": "python",
   "name": "datascience"
  },
  "language_info": {
   "codemirror_mode": {
    "name": "ipython",
    "version": 3
   },
   "file_extension": ".py",
   "mimetype": "text/x-python",
   "name": "python",
   "nbconvert_exporter": "python",
   "pygments_lexer": "ipython3",
   "version": "3.11.4"
  }
 },
 "nbformat": 4,
 "nbformat_minor": 2
}
