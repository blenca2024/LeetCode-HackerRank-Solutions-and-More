{
 "cells": [
  {
   "cell_type": "markdown",
   "metadata": {},
   "source": [
    "## 1565. Unique Orders and Customers Per Month\n",
    "\n",
    "### Table: Orders\n",
    "\n",
    "| Column Name | Type  |\n",
    "|-------------|-------|\n",
    "| order_id    | int   |\n",
    "| order_date  | date  |\n",
    "| customer_id | int   |\n",
    "| invoice     | int   |\n",
    "\n",
    "`order_id` is the column with unique values for this table.\n",
    "This table contains information about the orders made by `customer_id`.\n",
    "\n",
    "Write a solution to find the number of unique orders and the number of unique customers with invoices > $20 for each different month.\n",
    "\n",
    "Return the result table sorted in any order.\n",
    "\n",
    "The result format is in the following example.\n",
    "\n",
    "### Example 1:\n",
    "\n",
    "**Input:**  \n",
    "Orders table:\n",
    "| order_id | order_date | customer_id | invoice |\n",
    "|----------|------------|-------------|---------|\n",
    "| 1        | 2020-09-15 | 1           | 30      |\n",
    "| 2        | 2020-09-17 | 2           | 90      |\n",
    "| 3        | 2020-10-06 | 3           | 20      |\n",
    "| 4        | 2020-10-20 | 3           | 21      |\n",
    "| 5        | 2020-11-10 | 1           | 10      |\n",
    "| 6        | 2020-11-21 | 2           | 15      |\n",
    "| 7        | 2020-12-01 | 4           | 55      |\n",
    "| 8        | 2020-12-03 | 4           | 77      |\n",
    "| 9        | 2021-01-07 | 3           | 31      |\n",
    "| 10       | 2021-01-15 | 2           | 20      |\n",
    "\n",
    "**Output:**  \n",
    "| month   | order_count | customer_count |\n",
    "|---------|-------------|----------------|\n",
    "| 2020-09 | 2           | 2              |\n",
    "| 2020-10 | 1           | 1              |\n",
    "| 2020-12 | 2           | 1              |\n",
    "| 2021-01 | 1           | 1              |\n",
    "\n",
    "**Explanation:**  \n",
    "In September 2020, we have two orders from 2 different customers with invoices > $20.  \n",
    "In October 2020, we have two orders from 1 customer, and only one of the two orders has an invoice > $20.  \n",
    "In November 2020, we have two orders from 2 different customers but invoices < $20, so we don't include that month.  \n",
    "In December 2020, we have two orders from 1 customer, both with invoices > $20.  \n",
    "In January 2021, we have two orders from 2 different customers, but only one of them has an invoice > $20.\n"
   ]
  },
  {
   "cell_type": "code",
   "execution_count": 1,
   "metadata": {},
   "outputs": [],
   "source": [
    "import pandas as pd"
   ]
  },
  {
   "cell_type": "code",
   "execution_count": 16,
   "metadata": {},
   "outputs": [],
   "source": [
    "orders = pd.DataFrame([\n",
    "    {\"order_id\": 1, \"order_date\": \"2020-09-15\", \"customer_id\": 1, \"invoice\": 30},\n",
    "    {\"order_id\": 2, \"order_date\": \"2020-09-17\", \"customer_id\": 2, \"invoice\": 90},\n",
    "    {\"order_id\": 3, \"order_date\": \"2020-10-06\", \"customer_id\": 3, \"invoice\": 20},\n",
    "    {\"order_id\": 4, \"order_date\": \"2020-10-20\", \"customer_id\": 3, \"invoice\": 21},\n",
    "    {\"order_id\": 5, \"order_date\": \"2020-11-10\", \"customer_id\": 1, \"invoice\": 10},\n",
    "    {\"order_id\": 6, \"order_date\": \"2020-11-21\", \"customer_id\": 2, \"invoice\": 15},\n",
    "    {\"order_id\": 7, \"order_date\": \"2020-12-01\", \"customer_id\": 4, \"invoice\": 55},\n",
    "    {\"order_id\": 8, \"order_date\": \"2020-12-03\", \"customer_id\": 4, \"invoice\": 77},\n",
    "    {\"order_id\": 9, \"order_date\": \"2021-01-07\", \"customer_id\": 3, \"invoice\": 31},\n",
    "    {\"order_id\": 10, \"order_date\": \"2021-01-15\", \"customer_id\": 2, \"invoice\": 20}\n",
    "]\n",
    ")"
   ]
  },
  {
   "cell_type": "code",
   "execution_count": 66,
   "metadata": {},
   "outputs": [],
   "source": [
    "def unique_orders_and_customers(orders: pd.DataFrame) -> pd.DataFrame:\n",
    "    orders['month'] = [date[:-3] for date in orders['order_date'].astype(str)]\n",
    "    filtered_orders = orders[orders['invoice'] > 20]\n",
    "\n",
    "    order_dict1 = filtered_orders.value_counts('month').to_dict()\n",
    "    order_dict2 = {month:[] for month in filtered_orders['month']}\n",
    "\n",
    "    for month,id in zip(filtered_orders['month'],filtered_orders['customer_id']):\n",
    "        order_dict2[month].append(id)\n",
    "\n",
    "    order_dict2 = {month:len(set(id)) for month,id in order_dict2.items()}\n",
    "\n",
    "    df1 = pd.DataFrame(list(order_dict1.items()), columns=['month', 'order_count'])\n",
    "    df2 = pd.DataFrame(list(order_dict2.items()), columns=['month', 'customer_count'])\n",
    "\n",
    "    return df1.merge(right=df2,on='month',how='outer').sort_values('month')"
   ]
  },
  {
   "cell_type": "code",
   "execution_count": 67,
   "metadata": {},
   "outputs": [
    {
     "data": {
      "text/html": [
       "<div>\n",
       "<style scoped>\n",
       "    .dataframe tbody tr th:only-of-type {\n",
       "        vertical-align: middle;\n",
       "    }\n",
       "\n",
       "    .dataframe tbody tr th {\n",
       "        vertical-align: top;\n",
       "    }\n",
       "\n",
       "    .dataframe thead th {\n",
       "        text-align: right;\n",
       "    }\n",
       "</style>\n",
       "<table border=\"1\" class=\"dataframe\">\n",
       "  <thead>\n",
       "    <tr style=\"text-align: right;\">\n",
       "      <th></th>\n",
       "      <th>month</th>\n",
       "      <th>order_count</th>\n",
       "      <th>customer_count</th>\n",
       "    </tr>\n",
       "  </thead>\n",
       "  <tbody>\n",
       "    <tr>\n",
       "      <th>0</th>\n",
       "      <td>2020-09</td>\n",
       "      <td>2</td>\n",
       "      <td>2</td>\n",
       "    </tr>\n",
       "    <tr>\n",
       "      <th>1</th>\n",
       "      <td>2020-10</td>\n",
       "      <td>1</td>\n",
       "      <td>1</td>\n",
       "    </tr>\n",
       "    <tr>\n",
       "      <th>2</th>\n",
       "      <td>2020-12</td>\n",
       "      <td>2</td>\n",
       "      <td>1</td>\n",
       "    </tr>\n",
       "    <tr>\n",
       "      <th>3</th>\n",
       "      <td>2021-01</td>\n",
       "      <td>1</td>\n",
       "      <td>1</td>\n",
       "    </tr>\n",
       "  </tbody>\n",
       "</table>\n",
       "</div>"
      ],
      "text/plain": [
       "     month  order_count  customer_count \n",
       "0  2020-09            2                2\n",
       "1  2020-10            1                1\n",
       "2  2020-12            2                1\n",
       "3  2021-01            1                1"
      ]
     },
     "execution_count": 67,
     "metadata": {},
     "output_type": "execute_result"
    }
   ],
   "source": [
    "unique_orders_and_customers(orders=orders)"
   ]
  }
 ],
 "metadata": {
  "kernelspec": {
   "display_name": "datascience",
   "language": "python",
   "name": "datascience"
  },
  "language_info": {
   "codemirror_mode": {
    "name": "ipython",
    "version": 3
   },
   "file_extension": ".py",
   "mimetype": "text/x-python",
   "name": "python",
   "nbconvert_exporter": "python",
   "pygments_lexer": "ipython3",
   "version": "3.11.4"
  }
 },
 "nbformat": 4,
 "nbformat_minor": 2
}
