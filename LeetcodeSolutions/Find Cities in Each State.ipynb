{
 "cells": [
  {
   "cell_type": "markdown",
   "metadata": {},
   "source": [
    "# 3198. Find Cities in Each State\n",
    "\n",
    "**Table: cities**\n",
    "\n",
    "| Column Name | Type    | \n",
    "|-------------|---------|\n",
    "| state       | varchar |\n",
    "| city        | varchar |\n",
    "\n",
    "(state, city) is the primary key (combination of columns with unique values) for this table.\n",
    "Each row of this table contains the state name and the city name within that state.\n",
    "\n",
    "Write a solution to find all the cities in each state and combine them into a single comma-separated string.\n",
    "\n",
    "Return the result table ordered by state in ascending order.\n",
    "\n",
    "The result format is in the following example.\n",
    "\n",
    "**Example:**\n",
    "\n",
    "**Input:**\n",
    "\n",
    "cities table:\n",
    "\n",
    "| state       | city          |\n",
    "|-------------|---------------|\n",
    "| California  | Los Angeles   |\n",
    "| California  | San Francisco |\n",
    "| California  | San Diego     |\n",
    "| Texas       | Houston       |\n",
    "| Texas       | Austin        |\n",
    "| Texas       | Dallas        |\n",
    "| New York    | New York City |\n",
    "| New York    | Buffalo       |\n",
    "| New York    | Rochester     |\n",
    "\n",
    "**Output:**\n",
    "\n",
    "| state       | cities                                |\n",
    "|-------------|---------------------------------------|\n",
    "| California  | Los Angeles, San Diego, San Francisco |\n",
    "| New York    | Buffalo, New York City, Rochester     |\n",
    "| Texas       | Austin, Dallas, Houston               |\n",
    "\n",
    "Explanation:\n",
    "\n",
    "California: All cities (\"Los Angeles\", \"San Diego\", \"San Francisco\") are listed in a comma-separated string.\n",
    "New York: All cities (\"Buffalo\", \"New York City\", \"Rochester\") are listed in a comma-separated string.\n",
    "Texas: All cities (\"Austin\", \"Dallas\", \"Houston\") are listed in a comma-separated string.\n",
    "\n",
    "Note: The output table is ordered by the state name in ascending order."
   ]
  },
  {
   "cell_type": "code",
   "execution_count": 2,
   "metadata": {},
   "outputs": [],
   "source": [
    "import pandas as pd"
   ]
  },
  {
   "cell_type": "code",
   "execution_count": 3,
   "metadata": {},
   "outputs": [],
   "source": [
    "cities = pd.DataFrame({\n",
    "    'state': ['California', 'California', 'California', 'Texas', 'Texas', 'Texas', 'New York', 'New York', 'New York'],\n",
    "    'city': ['Los Angeles', 'San Francisco', 'San Diego', 'Houston', 'Austin', 'Dallas', 'New York City', 'Buffalo', 'Rochester']\n",
    "})"
   ]
  },
  {
   "cell_type": "code",
   "execution_count": 6,
   "metadata": {},
   "outputs": [],
   "source": [
    "def find_cities(cities: pd.DataFrame) -> pd.DataFrame:\n",
    "\n",
    "    output_dict = {}\n",
    "\n",
    "    for state in cities['state'].unique():\n",
    "        output_dict[state] = ', '.join([city for city in sorted(cities[(cities['state'] == state).shift(0).fillna(False)]['city'])])\n",
    "\n",
    "    return pd.DataFrame({'state':[state for state in output_dict.keys()],'cities':[city for city in output_dict.values()]}).sort_values('state')"
   ]
  },
  {
   "cell_type": "code",
   "execution_count": 7,
   "metadata": {},
   "outputs": [
    {
     "data": {
      "text/html": [
       "<div>\n",
       "<style scoped>\n",
       "    .dataframe tbody tr th:only-of-type {\n",
       "        vertical-align: middle;\n",
       "    }\n",
       "\n",
       "    .dataframe tbody tr th {\n",
       "        vertical-align: top;\n",
       "    }\n",
       "\n",
       "    .dataframe thead th {\n",
       "        text-align: right;\n",
       "    }\n",
       "</style>\n",
       "<table border=\"1\" class=\"dataframe\">\n",
       "  <thead>\n",
       "    <tr style=\"text-align: right;\">\n",
       "      <th></th>\n",
       "      <th>state</th>\n",
       "      <th>cities</th>\n",
       "    </tr>\n",
       "  </thead>\n",
       "  <tbody>\n",
       "    <tr>\n",
       "      <th>0</th>\n",
       "      <td>California</td>\n",
       "      <td>Los Angeles, San Diego, San Francisco</td>\n",
       "    </tr>\n",
       "    <tr>\n",
       "      <th>2</th>\n",
       "      <td>New York</td>\n",
       "      <td>Buffalo, New York City, Rochester</td>\n",
       "    </tr>\n",
       "    <tr>\n",
       "      <th>1</th>\n",
       "      <td>Texas</td>\n",
       "      <td>Austin, Dallas, Houston</td>\n",
       "    </tr>\n",
       "  </tbody>\n",
       "</table>\n",
       "</div>"
      ],
      "text/plain": [
       "        state                                 cities\n",
       "0  California  Los Angeles, San Diego, San Francisco\n",
       "2    New York      Buffalo, New York City, Rochester\n",
       "1       Texas                Austin, Dallas, Houston"
      ]
     },
     "execution_count": 7,
     "metadata": {},
     "output_type": "execute_result"
    }
   ],
   "source": [
    "find_cities(cities)"
   ]
  }
 ],
 "metadata": {
  "kernelspec": {
   "display_name": "datascience",
   "language": "python",
   "name": "datascience"
  },
  "language_info": {
   "codemirror_mode": {
    "name": "ipython",
    "version": 3
   },
   "file_extension": ".py",
   "mimetype": "text/x-python",
   "name": "python",
   "nbconvert_exporter": "python",
   "pygments_lexer": "ipython3",
   "version": "3.11.4"
  }
 },
 "nbformat": 4,
 "nbformat_minor": 2
}
