{
 "cells": [
  {
   "cell_type": "markdown",
   "metadata": {},
   "source": [
    "# 1213. Intersection of Three Sorted Arrays\n",
    "\n",
    "**Solved**\n",
    "\n",
    "**Easy**\n",
    "\n",
    "## Topics\n",
    "\n",
    "**Companies**\n",
    "\n",
    "**Hint**\n",
    "\n",
    "Given three integer arrays `arr1`, `arr2`, and `arr3` sorted in strictly increasing order, return a sorted array of only the integers that appeared in all three arrays.\n",
    "\n",
    "## Example 1:\n",
    "\n",
    "**Input:**\n",
    "\n",
    "`arr1 = [1,2,3,4,5]`, `arr2 = [1,2,5,7,9]`, `arr3 = [1,3,4,5,8]`\n",
    "\n",
    "**Output:**\n",
    "\n",
    "`[1,5]`\n",
    "\n",
    "**Explanation:**\n",
    "\n",
    "Only 1 and 5 appeared in all three arrays.\n",
    "\n",
    "## Example 2:\n",
    "\n",
    "**Input:**\n",
    "\n",
    "`arr1 = [197,418,523,876,1356]`, `arr2 = [501,880,1593,1710,1870]`, `arr3 = [521,682,1337,1395,1764]`\n",
    "\n",
    "**Output:**\n",
    "\n",
    "`[]`\n",
    "\n",
    "## Constraints:\n",
    "\n",
    "- `1 <= arr1.length, arr2.length, arr3.length <= 1000`\n",
    "- `1 <= arr1[i], arr2[i], arr3[i] <= 2000`"
   ]
  },
  {
   "cell_type": "code",
   "execution_count": 21,
   "metadata": {},
   "outputs": [],
   "source": [
    "from typing import List"
   ]
  },
  {
   "cell_type": "code",
   "execution_count": 22,
   "metadata": {},
   "outputs": [],
   "source": [
    "def arraysIntersection(arr1: List[int], arr2: List[int], arr3: List[int]) -> List[int]:\n",
    "    output = [i for i in arr1 if i in arr1 and i in arr2 and i in arr3]\n",
    "    return output"
   ]
  },
  {
   "cell_type": "code",
   "execution_count": 23,
   "metadata": {},
   "outputs": [
    {
     "data": {
      "text/plain": [
       "[1, 5]"
      ]
     },
     "execution_count": 23,
     "metadata": {},
     "output_type": "execute_result"
    }
   ],
   "source": [
    "arr1 = [1,2,3,4,5]\n",
    "arr2 = [1,2,5,7,9]\n",
    "arr3 = [1,3,4,5,8]\n",
    "\n",
    "arraysIntersection(arr1,arr2,arr3)"
   ]
  },
  {
   "cell_type": "code",
   "execution_count": null,
   "metadata": {},
   "outputs": [],
   "source": [
    "arr1 = [197,418,523,876,1356]\n",
    "arr2 = [501,880,1593,1710,1870]\n",
    "arr3 = [521,682,1337,1395,1764]\n",
    "\n",
    "arraysIntersection(arr1,arr2,arr3)"
   ]
  }
 ],
 "metadata": {
  "kernelspec": {
   "display_name": "datascience",
   "language": "python",
   "name": "datascience"
  },
  "language_info": {
   "codemirror_mode": {
    "name": "ipython",
    "version": 3
   },
   "file_extension": ".py",
   "mimetype": "text/x-python",
   "name": "python",
   "nbconvert_exporter": "python",
   "pygments_lexer": "ipython3",
   "version": "3.11.4"
  }
 },
 "nbformat": 4,
 "nbformat_minor": 2
}
