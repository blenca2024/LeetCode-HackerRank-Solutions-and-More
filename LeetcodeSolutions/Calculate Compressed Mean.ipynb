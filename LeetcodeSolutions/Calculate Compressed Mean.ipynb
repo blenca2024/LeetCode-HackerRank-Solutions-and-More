{
 "cells": [
  {
   "cell_type": "markdown",
   "metadata": {},
   "source": [
    "2985. Calculate Compressed Mean\n",
    "\n",
    "**Table: Orders**\n",
    "\n",
    "| Column Name       | Type |\n",
    "|-------------------|------|\n",
    "| order_id          | int  |\n",
    "| item_count        | int  |\n",
    "| order_occurrences | int  |\n",
    "\n",
    "*order_id* is column of unique values for this table.\n",
    "\n",
    "This table contains order_id, item_count, and order_occurrences.\n",
    "\n",
    "Write a solution to calculate the average number of items per order, rounded to 2 decimal places.\n",
    "\n",
    "Return the result table in any order.\n",
    "\n",
    "The result format is in the following example.\n",
    "\n",
    "**Example 1:**\n",
    "\n",
    "**Input:** \n",
    "Orders table:\n",
    "| order_id | item_count | order_occurrences | \n",
    "|----------|------------|-------------------|\n",
    "| 10       | 1          | 500               | \n",
    "| 11       | 2          | 1000              |     \n",
    "| 12       | 3          | 800               |  \n",
    "| 13       | 4          | 1000              | \n",
    "\n",
    "**Output**\n",
    "| average_items_per_order | \n",
    "|-------------------------|\n",
    "| 2.70                    |\n",
    "\n",
    "**Explanation**\n",
    "The calculation is as follows:\n",
    "- Total items: (1 * 500) + (2 * 1000) + (3 * 800) + (4 * 1000) = 8900 \n",
    "- Total orders: 500 + 1000 + 800 + 1000 = 3300 \n",
    "- Therefore, the average items per order is 8900 / 3300 = 2.70\n"
   ]
  },
  {
   "cell_type": "code",
   "execution_count": 1,
   "metadata": {},
   "outputs": [],
   "source": [
    "import pandas as pd"
   ]
  },
  {
   "cell_type": "code",
   "execution_count": 2,
   "metadata": {},
   "outputs": [],
   "source": [
    "orders = pd.DataFrame( {\n",
    "    \"order_id\": [10, 11, 12, 13],\n",
    "    \"item_count\": [1, 2, 3, 4],\n",
    "    \"order_occurrences\": [500, 1000, 800, 1000]\n",
    "}\n",
    ")"
   ]
  },
  {
   "cell_type": "code",
   "execution_count": 3,
   "metadata": {},
   "outputs": [],
   "source": [
    "def compressed_mean(orders: pd.DataFrame) -> pd.DataFrame:\n",
    "    return pd.DataFrame({'average_items_per_order':[round((orders['item_count']*orders['order_occurrences']).sum()/orders['order_occurrences'].sum(),2)]})"
   ]
  },
  {
   "cell_type": "code",
   "execution_count": 4,
   "metadata": {},
   "outputs": [],
   "source": [
    "orders = pd.DataFrame({\n",
    "    \"order_id\": [10, 11, 12, 13],\n",
    "    \"item_count\": [1, 2, 3, 4],\n",
    "    \"order_occurrences\": [500, 1000, 800, 1000]\n",
    "})\n"
   ]
  },
  {
   "cell_type": "code",
   "execution_count": 5,
   "metadata": {},
   "outputs": [
    {
     "data": {
      "text/html": [
       "<div>\n",
       "<style scoped>\n",
       "    .dataframe tbody tr th:only-of-type {\n",
       "        vertical-align: middle;\n",
       "    }\n",
       "\n",
       "    .dataframe tbody tr th {\n",
       "        vertical-align: top;\n",
       "    }\n",
       "\n",
       "    .dataframe thead th {\n",
       "        text-align: right;\n",
       "    }\n",
       "</style>\n",
       "<table border=\"1\" class=\"dataframe\">\n",
       "  <thead>\n",
       "    <tr style=\"text-align: right;\">\n",
       "      <th></th>\n",
       "      <th>average_items_per_order</th>\n",
       "    </tr>\n",
       "  </thead>\n",
       "  <tbody>\n",
       "    <tr>\n",
       "      <th>0</th>\n",
       "      <td>2.7</td>\n",
       "    </tr>\n",
       "  </tbody>\n",
       "</table>\n",
       "</div>"
      ],
      "text/plain": [
       "   average_items_per_order\n",
       "0                      2.7"
      ]
     },
     "execution_count": 5,
     "metadata": {},
     "output_type": "execute_result"
    }
   ],
   "source": [
    "compressed_mean(orders)"
   ]
  }
 ],
 "metadata": {
  "kernelspec": {
   "display_name": "datascience",
   "language": "python",
   "name": "datascience"
  },
  "language_info": {
   "codemirror_mode": {
    "name": "ipython",
    "version": 3
   },
   "file_extension": ".py",
   "mimetype": "text/x-python",
   "name": "python",
   "nbconvert_exporter": "python",
   "pygments_lexer": "ipython3",
   "version": "3.11.4"
  }
 },
 "nbformat": 4,
 "nbformat_minor": 2
}
