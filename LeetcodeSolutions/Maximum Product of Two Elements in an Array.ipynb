{
 "cells": [
  {
   "cell_type": "markdown",
   "metadata": {},
   "source": [
    "# Maximum Product of Two Elements in an Array\n",
    "\n",
    "Given the array of integers nums, you will choose two different indices i and j of that array. Return the maximum value of (nums[i]-1)*(nums[j]-1).\n",
    " \n",
    "\n",
    "**Example 1:**\n",
    "\n",
    "Input: nums = [3,4,5,2]\n",
    "Output: 12 \n",
    "Explanation: If you choose the indices i=1 and j=2 (indexed from 0), you will get the maximum value, that is, (nums[1]-1)*(nums[2]-1) = (4-1)*(5-1) = 3*4 = 12. \n",
    "\n",
    "**Example 2:**\n",
    "\n",
    "Input: nums = [1,5,4,5]\n",
    "Output: 16\n",
    "Explanation: Choosing the indices i=1 and j=3 (indexed from 0), you will get the maximum value of (5-1)*(5-1) = 16.\n",
    "\n",
    "**Example 3:**\n",
    "\n",
    "Input: nums = [3,7]\n",
    "Output: 12\n",
    " \n",
    "\n",
    "**Constraints:**\n",
    "\n",
    "2 <= nums.length <= 500\n",
    "1 <= nums[i] <= 10^3"
   ]
  },
  {
   "cell_type": "code",
   "execution_count": 2,
   "metadata": {},
   "outputs": [
    {
     "name": "stdout",
     "output_type": "stream",
     "text": [
      "12\n",
      "16\n",
      "12\n"
     ]
    }
   ],
   "source": [
    "def maxProduct(nums):\n",
    "        nums.sort()\n",
    "        product = (nums[-1]-1) * (nums[-2]-1)\n",
    "        return product\n",
    "    \n",
    "    \n",
    "nums = [3,4,5,2]\n",
    "print(maxProduct(nums))\n",
    "\n",
    "nums = [1,5,4,5]\n",
    "print(maxProduct(nums))\n",
    "\n",
    "nums = [3,7]\n",
    "print(maxProduct(nums))"
   ]
  }
 ],
 "metadata": {
  "kernelspec": {
   "display_name": "Python 3",
   "language": "python",
   "name": "python3"
  },
  "language_info": {
   "codemirror_mode": {
    "name": "ipython",
    "version": 3
   },
   "file_extension": ".py",
   "mimetype": "text/x-python",
   "name": "python",
   "nbconvert_exporter": "python",
   "pygments_lexer": "ipython3",
   "version": "3.7.3"
  }
 },
 "nbformat": 4,
 "nbformat_minor": 2
}
