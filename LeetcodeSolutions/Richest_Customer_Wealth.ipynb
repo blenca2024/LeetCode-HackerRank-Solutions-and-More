{
  "nbformat": 4,
  "nbformat_minor": 0,
  "metadata": {
    "colab": {
      "name": "Richest Customer Wealth.ipynb",
      "provenance": [],
      "collapsed_sections": []
    },
    "kernelspec": {
      "name": "python3",
      "display_name": "Python 3"
    },
    "language_info": {
      "name": "python"
    }
  },
  "cells": [
    {
      "cell_type": "markdown",
      "metadata": {
        "id": "DFxrJU8sWdad"
      },
      "source": [
        "# **Richest Customer Wealth**\n",
        "\n",
        "You are given an `m x n` integer grid accounts where `accounts[i][j]` is the amount of money the `i​​​​​​​​​​​th​​​​` customer has in the `j​​​​​​​​​​​th`​​​​ bank. Return the **wealth** that the richest customer has.\n",
        "\n",
        "A customer's **wealth** is the amount of money they have in all their bank accounts. The richest customer is the customer that has the maximum **wealth**."
      ]
    },
    {
      "cell_type": "markdown",
      "metadata": {
        "id": "mm65C9nTWN5e"
      },
      "source": [
        "## **First Iteration**"
      ]
    },
    {
      "cell_type": "code",
      "metadata": {
        "id": "g-N9VGSCWUnv"
      },
      "source": [
        "def maximumWealth(accounts):\n",
        "  return max([sum(acct) for acct in accounts])"
      ],
      "execution_count": 1,
      "outputs": []
    },
    {
      "cell_type": "code",
      "metadata": {
        "colab": {
          "base_uri": "https://localhost:8080/"
        },
        "id": "yOXnmt1DU8SJ",
        "outputId": "33017a4d-d574-49a7-e847-4bfa7144fed4"
      },
      "source": [
        "accounts = [[1,2,3],[3,2,1]]\n",
        "maximumWealth(accounts)"
      ],
      "execution_count": 2,
      "outputs": [
        {
          "output_type": "execute_result",
          "data": {
            "text/plain": [
              "6"
            ]
          },
          "metadata": {},
          "execution_count": 2
        }
      ]
    },
    {
      "cell_type": "code",
      "metadata": {
        "colab": {
          "base_uri": "https://localhost:8080/"
        },
        "id": "ZNEmN64cVBSJ",
        "outputId": "1f27ed77-79a3-4572-cc7e-c73d9b7ef55d"
      },
      "source": [
        "accounts = [[1,5],[7,3],[3,5]]\n",
        "maximumWealth(accounts)"
      ],
      "execution_count": 3,
      "outputs": [
        {
          "output_type": "execute_result",
          "data": {
            "text/plain": [
              "10"
            ]
          },
          "metadata": {},
          "execution_count": 3
        }
      ]
    },
    {
      "cell_type": "code",
      "metadata": {
        "colab": {
          "base_uri": "https://localhost:8080/"
        },
        "id": "xr9TSV2DVLQx",
        "outputId": "93876fa5-d4e7-4e92-e031-8229b14fc891"
      },
      "source": [
        "accounts = [[2,8,7],[7,1,3],[1,9,5]]\n",
        "maximumWealth(accounts)"
      ],
      "execution_count": 4,
      "outputs": [
        {
          "output_type": "execute_result",
          "data": {
            "text/plain": [
              "17"
            ]
          },
          "metadata": {},
          "execution_count": 4
        }
      ]
    },
    {
      "cell_type": "markdown",
      "metadata": {
        "id": "8uIahcN6WW1b"
      },
      "source": [
        "## **Second Iteration**"
      ]
    },
    {
      "cell_type": "code",
      "metadata": {
        "id": "uE9EPvGyVdSc"
      },
      "source": [
        "def maximumWealth(accounts):\n",
        "  max_acct = [sum(acct) for acct in accounts]\n",
        "  max_acct.sort()\n",
        "  return max_acct[-1]"
      ],
      "execution_count": 5,
      "outputs": []
    },
    {
      "cell_type": "code",
      "metadata": {
        "colab": {
          "base_uri": "https://localhost:8080/"
        },
        "id": "hT7ANgpWWZZL",
        "outputId": "dc6e1283-cd67-48b3-a0b2-d9c43f26349b"
      },
      "source": [
        "accounts = [[1,2,3],[3,2,1]]\n",
        "maximumWealth(accounts)"
      ],
      "execution_count": 6,
      "outputs": [
        {
          "output_type": "execute_result",
          "data": {
            "text/plain": [
              "6"
            ]
          },
          "metadata": {},
          "execution_count": 6
        }
      ]
    },
    {
      "cell_type": "code",
      "metadata": {
        "colab": {
          "base_uri": "https://localhost:8080/"
        },
        "id": "9RFHSbriWZgi",
        "outputId": "1eb70ac5-f5ed-4b24-c1a0-bae8f44f83f6"
      },
      "source": [
        "accounts = [[1,5],[7,3],[3,5]]\n",
        "maximumWealth(accounts)"
      ],
      "execution_count": 7,
      "outputs": [
        {
          "output_type": "execute_result",
          "data": {
            "text/plain": [
              "10"
            ]
          },
          "metadata": {},
          "execution_count": 7
        }
      ]
    },
    {
      "cell_type": "code",
      "metadata": {
        "colab": {
          "base_uri": "https://localhost:8080/"
        },
        "id": "-J7eZeG4WZnm",
        "outputId": "fe80baec-dd83-4aef-9bc1-e070282ca78c"
      },
      "source": [
        "accounts = [[2,8,7],[7,1,3],[1,9,5]]\n",
        "maximumWealth(accounts)"
      ],
      "execution_count": 8,
      "outputs": [
        {
          "output_type": "execute_result",
          "data": {
            "text/plain": [
              "17"
            ]
          },
          "metadata": {},
          "execution_count": 8
        }
      ]
    }
  ]
}