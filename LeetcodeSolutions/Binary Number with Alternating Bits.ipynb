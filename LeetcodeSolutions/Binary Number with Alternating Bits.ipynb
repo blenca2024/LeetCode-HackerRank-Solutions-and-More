{
 "cells": [
  {
   "cell_type": "markdown",
   "metadata": {},
   "source": [
    "# Binary Number with Alternating Bits\n",
    "\n",
    "Given a positive integer, check whether it has alternating bits: namely, if two adjacent bits will always have different values.\n",
    "\n",
    "**Example 1:**\n",
    "Input: 5\n",
    "Output: True\n",
    "Explanation:\n",
    "The binary representation of 5 is: 101\n",
    "\n",
    "**Example 2:**\n",
    "Input: 7\n",
    "Output: False\n",
    "Explanation:\n",
    "The binary representation of 7 is: 111.\n",
    "\n",
    "**Example 3:**\n",
    "Input: 11\n",
    "Output: False\n",
    "Explanation:\n",
    "The binary representation of 11 is: 1011.\n",
    "\n",
    "**Example 4:**\n",
    "Input: 10\n",
    "Output: True\n",
    "Explanation:\n",
    "The binary representation of 10 is: 1010."
   ]
  },
  {
   "cell_type": "code",
   "execution_count": 5,
   "metadata": {},
   "outputs": [
    {
     "name": "stdout",
     "output_type": "stream",
     "text": [
      "True\n",
      "False\n",
      "False\n",
      "True\n"
     ]
    }
   ],
   "source": [
    "def hasAlternatingBits(n):\n",
    "        bit = bin(n)\n",
    "        bit = bit[2:]\n",
    "        bool_list = []\n",
    "        for i,j in zip(bit,bit[1::]):\n",
    "                if i != j:\n",
    "                        bool_list.append(True)\n",
    "                else:\n",
    "                        bool_list.append(False)\n",
    "        return all(bool_list)\n",
    "    \n",
    "    \n",
    "    \n",
    "print(hasAlternatingBits(5))\n",
    "print(hasAlternatingBits(7))\n",
    "print(hasAlternatingBits(11))\n",
    "print(hasAlternatingBits(10))"
   ]
  }
 ],
 "metadata": {
  "kernelspec": {
   "display_name": "Python 3",
   "language": "python",
   "name": "python3"
  },
  "language_info": {
   "codemirror_mode": {
    "name": "ipython",
    "version": 3
   },
   "file_extension": ".py",
   "mimetype": "text/x-python",
   "name": "python",
   "nbconvert_exporter": "python",
   "pygments_lexer": "ipython3",
   "version": "3.7.3"
  }
 },
 "nbformat": 4,
 "nbformat_minor": 2
}
