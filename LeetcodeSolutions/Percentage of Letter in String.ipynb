{
 "cells": [
  {
   "cell_type": "markdown",
   "metadata": {},
   "source": [
    "# 2278. Percentage of Letter in String\n",
    "\n",
    "Given a string `s` and a character `letter`, return the percentage of characters in `s` that equal `letter` rounded down to the nearest whole percent.\n",
    "\n",
    "## Example 1:\n",
    "\n",
    "**Input:** `s = \"foobar\"`, `letter = \"o\"`\n",
    "\n",
    "**Output:** `33`\n",
    "\n",
    "**Explanation:**\n",
    "The percentage of characters in `s` that equal the letter `'o'` is `(2 / 6) * 100% = 33%` when rounded down, so we return `33`.\n",
    "\n",
    "## Example 2:\n",
    "\n",
    "**Input:** `s = \"jjjj\"`, `letter = \"k\"`\n",
    "\n",
    "**Output:** `0`\n",
    "\n",
    "**Explanation:**\n",
    "The percentage of characters in `s` that equal the letter `'k'` is `0%`, so we return `0`.\n",
    "\n",
    "## Constraints:\n",
    "\n",
    "- `1 <= s.length <= 100`\n",
    "- `s` consists of lowercase English letters.\n",
    "- `letter` is a lowercase English letter.\n"
   ]
  },
  {
   "cell_type": "code",
   "execution_count": 1,
   "metadata": {},
   "outputs": [],
   "source": [
    "def percentageLetter(s: str, letter: str) -> int:\n",
    "    count = 0\n",
    "\n",
    "    for let in s:\n",
    "        if let == letter:\n",
    "            count += 1\n",
    "\n",
    "    return (count*100)//len(s)"
   ]
  },
  {
   "cell_type": "code",
   "execution_count": 2,
   "metadata": {},
   "outputs": [
    {
     "data": {
      "text/plain": [
       "33"
      ]
     },
     "execution_count": 2,
     "metadata": {},
     "output_type": "execute_result"
    }
   ],
   "source": [
    "s = \"foobar\"\n",
    "letter = \"o\"\n",
    "\n",
    "percentageLetter(s,letter)"
   ]
  },
  {
   "cell_type": "code",
   "execution_count": 3,
   "metadata": {},
   "outputs": [
    {
     "data": {
      "text/plain": [
       "16"
      ]
     },
     "execution_count": 3,
     "metadata": {},
     "output_type": "execute_result"
    }
   ],
   "source": [
    "s = \"sgawtb\" \n",
    "letter = \"s\"\n",
    "\n",
    "percentageLetter(s,letter)"
   ]
  },
  {
   "cell_type": "code",
   "execution_count": 4,
   "metadata": {},
   "outputs": [
    {
     "data": {
      "text/plain": [
       "0"
      ]
     },
     "execution_count": 4,
     "metadata": {},
     "output_type": "execute_result"
    }
   ],
   "source": [
    "s = \"jjjj\"\n",
    "letter = \"k\"\n",
    "\n",
    "percentageLetter(s,letter)"
   ]
  }
 ],
 "metadata": {
  "kernelspec": {
   "display_name": "datascience",
   "language": "python",
   "name": "datascience"
  },
  "language_info": {
   "codemirror_mode": {
    "name": "ipython",
    "version": 3
   },
   "file_extension": ".py",
   "mimetype": "text/x-python",
   "name": "python",
   "nbconvert_exporter": "python",
   "pygments_lexer": "ipython3",
   "version": "3.11.4"
  }
 },
 "nbformat": 4,
 "nbformat_minor": 2
}
