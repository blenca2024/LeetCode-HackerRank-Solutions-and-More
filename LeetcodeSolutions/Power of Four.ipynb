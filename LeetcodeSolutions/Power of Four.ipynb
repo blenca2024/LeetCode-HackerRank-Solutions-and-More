{
 "cells": [
  {
   "cell_type": "markdown",
   "metadata": {},
   "source": [
    "# Power of Four\n",
    "\n",
    "Given an integer (signed 32 bits), write a function to check whether it is a power of 4.\n",
    "\n",
    "**Example 1:**\n",
    "\n",
    "Input: 16\n",
    "\n",
    "Output: true\n",
    "\n",
    "**Example 2:**\n",
    "\n",
    "Input: 5\n",
    "\n",
    "Output: false\n",
    "\n",
    "**Follow up**: Could you solve it without loops/recursion?"
   ]
  },
  {
   "cell_type": "code",
   "execution_count": 1,
   "metadata": {},
   "outputs": [
    {
     "name": "stdout",
     "output_type": "stream",
     "text": [
      "True\n",
      "False\n"
     ]
    }
   ],
   "source": [
    "from math import log\n",
    "\n",
    "def isPowerOfFour(num):\n",
    "        if num < 0 or num == 0:\n",
    "            return False\n",
    "        else:\n",
    "            num = log(num,4)\n",
    "            num = round(num,10)\n",
    "            return num.is_integer()\n",
    "        \n",
    "\n",
    "num = 16\n",
    "print(isPowerOfFour(num))\n",
    "\n",
    "num = 5\n",
    "print(isPowerOfFour(num))"
   ]
  }
 ],
 "metadata": {
  "kernelspec": {
   "display_name": "Python 3",
   "language": "python",
   "name": "python3"
  },
  "language_info": {
   "codemirror_mode": {
    "name": "ipython",
    "version": 3
   },
   "file_extension": ".py",
   "mimetype": "text/x-python",
   "name": "python",
   "nbconvert_exporter": "python",
   "pygments_lexer": "ipython3",
   "version": "3.7.3"
  }
 },
 "nbformat": 4,
 "nbformat_minor": 2
}
