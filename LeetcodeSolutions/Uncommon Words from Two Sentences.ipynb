{
 "cells": [
  {
   "cell_type": "markdown",
   "metadata": {},
   "source": [
    "# Uncommon Words from Two Sentences\n",
    "\n",
    "We are given two sentences A and B.  (A sentence is a string of space separated words.  Each word consists only of lowercase letters.)\n",
    "\n",
    "A word is uncommon if it appears exactly once in one of the sentences, and does not appear in the other sentence.\n",
    "\n",
    "Return a list of all uncommon words. \n",
    "\n",
    "You may return the list in any order.\n",
    "\n",
    " \n",
    "\n",
    "**Example 1:**\n",
    "\n",
    "Input: A = \"this apple is sweet\", B = \"this apple is sour\"\n",
    "\n",
    "Output: [\"sweet\",\"sour\"]\n",
    "\n",
    "**Example 2:**\n",
    "\n",
    "Input: A = \"apple apple\", B = \"banana\"\n",
    "\n",
    "Output: [\"banana\"]\n",
    " \n",
    "\n",
    "**Note:**\n",
    "\n",
    "0 <= A.length <= 200\n",
    "\n",
    "0 <= B.length <= 200\n",
    "\n",
    "A and B both contain only spaces and lowercase letters."
   ]
  },
  {
   "cell_type": "code",
   "execution_count": 1,
   "metadata": {},
   "outputs": [
    {
     "name": "stdout",
     "output_type": "stream",
     "text": [
      "['sweet', 'sour']\n",
      "['banana']\n"
     ]
    }
   ],
   "source": [
    "def uncommonFromSentences(A,B):\n",
    "        A = A.split()\n",
    "        B = B.split()\n",
    "        c = []\n",
    "        d = []\n",
    "        for i in A:\n",
    "            c.append(i)\n",
    "        for i in B:\n",
    "            c.append(i)\n",
    "        for i in c:\n",
    "            if c.count(i) == 1:\n",
    "                d.append(i)\n",
    "        return d\n",
    "    \n",
    "    \n",
    "    \n",
    "A = \"this apple is sweet\"\n",
    "B = \"this apple is sour\"\n",
    "print(uncommonFromSentences(A,B))\n",
    "\n",
    "A = \"apple apple\"\n",
    "B = \"banana\"\n",
    "print(uncommonFromSentences(A,B))"
   ]
  }
 ],
 "metadata": {
  "kernelspec": {
   "display_name": "Python 3",
   "language": "python",
   "name": "python3"
  },
  "language_info": {
   "codemirror_mode": {
    "name": "ipython",
    "version": 3
   },
   "file_extension": ".py",
   "mimetype": "text/x-python",
   "name": "python",
   "nbconvert_exporter": "python",
   "pygments_lexer": "ipython3",
   "version": "3.7.3"
  }
 },
 "nbformat": 4,
 "nbformat_minor": 2
}
