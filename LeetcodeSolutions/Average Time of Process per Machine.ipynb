{
 "cells": [
  {
   "cell_type": "markdown",
   "metadata": {},
   "source": [
    "# 1661. Average Time of Process per Machine\n",
    "\n",
    "## Table: Activity\n",
    "\n",
    "| Column Name   | Type   |\n",
    "|---------------|--------|\n",
    "| machine_id    | int    |\n",
    "| process_id    | int    |\n",
    "| activity_type | enum   |\n",
    "| timestamp     | float  |\n",
    "\n",
    "The table shows the user activities for a factory website.\n",
    "`(machine_id, process_id, activity_type)` is the primary key (combination of columns with unique values) of this table.  \n",
    "`machine_id` is the ID of a machine.  \n",
    "`process_id` is the ID of a process running on the machine with ID `machine_id`.  \n",
    "`activity_type` is an ENUM (category) of type ('start', 'end').  \n",
    "`timestamp` is a float representing the current time in seconds.  \n",
    "'start' means the machine starts the process at the given timestamp and 'end' means the machine ends the process at the given timestamp.  \n",
    "The 'start' timestamp will always be before the 'end' timestamp for every (machine_id, process_id) pair.\n",
    "\n",
    "There is a factory website that has several machines each running the same number of processes. Write a solution to find the average time each machine takes to complete a process.\n",
    "\n",
    "The time to complete a process is the 'end' timestamp minus the 'start' timestamp. The average time is calculated by the total time to complete every process on the machine divided by the number of processes that were run.\n",
    "\n",
    "The resulting table should have the `machine_id` along with the average time as `processing_time`, which should be rounded to 3 decimal places.\n",
    "\n",
    "Return the result table in any order.\n",
    "\n",
    "The result format is in the following example.\n",
    "\n",
    "## Example 1:\n",
    "\n",
    "**Input:**\n",
    "\n",
    "Activity table:\n",
    "\n",
    "| machine_id | process_id | activity_type | timestamp |\n",
    "|------------|------------|---------------|-----------|\n",
    "| 0          | 0          | start         | 0.712     |\n",
    "| 0          | 0          | end           | 1.520     |\n",
    "| 0          | 1          | start         | 3.140     |\n",
    "| 0          | 1          | end           | 4.120     |\n",
    "| 1          | 0          | start         | 0.550     |\n",
    "| 1          | 0          | end           | 1.550     |\n",
    "| 1          | 1          | start         | 0.430     |\n",
    "| 1          | 1          | end           | 1.420     |\n",
    "| 2          | 0          | start         | 4.100     |\n",
    "| 2          | 0          | end           | 4.512     |\n",
    "| 2          | 1          | start         | 2.500     |\n",
    "| 2          | 1          | end           | 5.000     |\n",
    "\n",
    "**Output:**\n",
    "\n",
    "| machine_id | processing_time |\n",
    "|------------|-----------------|\n",
    "| 0          | 0.894           |\n",
    "| 1          | 0.995           |\n",
    "| 2          | 1.456           |\n",
    "\n",
    "**Explanation:**\n",
    "\n",
    "There are 3 machines running 2 processes each.\n",
    "- Machine 0's average time is ((1.520 - 0.712) + (4.120 - 3.140)) / 2 = 0.894\n",
    "- Machine 1's average time is ((1.550 - 0.550) + (1.420 - 0.430)) / 2 = 0.995\n",
    "- Machine 2's average time is ((4.512 - 4.100) + (5.000 - 2.500)) / 2 = 1.456"
   ]
  },
  {
   "cell_type": "code",
   "execution_count": 1,
   "metadata": {},
   "outputs": [],
   "source": [
    "import pandas as pd"
   ]
  },
  {
   "cell_type": "code",
   "execution_count": 2,
   "metadata": {},
   "outputs": [],
   "source": [
    "activity = pd.DataFrame([\n",
    "    {\"machine_id\": 0, \"process_id\": 0, \"activity_type\": \"start\", \"timestamp\": 0.712},\n",
    "    {\"machine_id\": 0, \"process_id\": 0, \"activity_type\": \"end\", \"timestamp\": 1.520},\n",
    "    {\"machine_id\": 0, \"process_id\": 1, \"activity_type\": \"start\", \"timestamp\": 3.140},\n",
    "    {\"machine_id\": 0, \"process_id\": 1, \"activity_type\": \"end\", \"timestamp\": 4.120},\n",
    "    {\"machine_id\": 1, \"process_id\": 0, \"activity_type\": \"start\", \"timestamp\": 0.550},\n",
    "    {\"machine_id\": 1, \"process_id\": 0, \"activity_type\": \"end\", \"timestamp\": 1.550},\n",
    "    {\"machine_id\": 1, \"process_id\": 1, \"activity_type\": \"start\", \"timestamp\": 0.430},\n",
    "    {\"machine_id\": 1, \"process_id\": 1, \"activity_type\": \"end\", \"timestamp\": 1.420},\n",
    "    {\"machine_id\": 2, \"process_id\": 0, \"activity_type\": \"start\", \"timestamp\": 4.100},\n",
    "    {\"machine_id\": 2, \"process_id\": 0, \"activity_type\": \"end\", \"timestamp\": 4.512},\n",
    "    {\"machine_id\": 2, \"process_id\": 1, \"activity_type\": \"start\", \"timestamp\": 2.500},\n",
    "    {\"machine_id\": 2, \"process_id\": 1, \"activity_type\": \"end\", \"timestamp\": 5.000},\n",
    "])"
   ]
  },
  {
   "cell_type": "code",
   "execution_count": 3,
   "metadata": {},
   "outputs": [],
   "source": [
    "def get_average_time(activity: pd.DataFrame) -> pd.DataFrame:\n",
    "    df_pivot = activity.pivot_table(index=['machine_id', 'process_id'], columns='activity_type', values='timestamp')\n",
    "    df_pivot['processing_time'] = df_pivot['end'] - df_pivot['start']\n",
    "    df_pivot = df_pivot.reset_index().groupby('machine_id').mean('processing_time').reset_index()\n",
    "\n",
    "    return pd.DataFrame({'machine_id':df_pivot['machine_id'].values,\n",
    "                'processing_time':[round(val,3) for val in df_pivot['processing_time'].values]})"
   ]
  },
  {
   "cell_type": "code",
   "execution_count": 4,
   "metadata": {},
   "outputs": [
    {
     "data": {
      "text/html": [
       "<div>\n",
       "<style scoped>\n",
       "    .dataframe tbody tr th:only-of-type {\n",
       "        vertical-align: middle;\n",
       "    }\n",
       "\n",
       "    .dataframe tbody tr th {\n",
       "        vertical-align: top;\n",
       "    }\n",
       "\n",
       "    .dataframe thead th {\n",
       "        text-align: right;\n",
       "    }\n",
       "</style>\n",
       "<table border=\"1\" class=\"dataframe\">\n",
       "  <thead>\n",
       "    <tr style=\"text-align: right;\">\n",
       "      <th></th>\n",
       "      <th>machine_id</th>\n",
       "      <th>processing_time</th>\n",
       "    </tr>\n",
       "  </thead>\n",
       "  <tbody>\n",
       "    <tr>\n",
       "      <th>0</th>\n",
       "      <td>0</td>\n",
       "      <td>0.894</td>\n",
       "    </tr>\n",
       "    <tr>\n",
       "      <th>1</th>\n",
       "      <td>1</td>\n",
       "      <td>0.995</td>\n",
       "    </tr>\n",
       "    <tr>\n",
       "      <th>2</th>\n",
       "      <td>2</td>\n",
       "      <td>1.456</td>\n",
       "    </tr>\n",
       "  </tbody>\n",
       "</table>\n",
       "</div>"
      ],
      "text/plain": [
       "   machine_id  processing_time\n",
       "0           0            0.894\n",
       "1           1            0.995\n",
       "2           2            1.456"
      ]
     },
     "execution_count": 4,
     "metadata": {},
     "output_type": "execute_result"
    }
   ],
   "source": [
    "get_average_time(activity=activity)"
   ]
  }
 ],
 "metadata": {
  "kernelspec": {
   "display_name": "wai",
   "language": "python",
   "name": "python3"
  },
  "language_info": {
   "codemirror_mode": {
    "name": "ipython",
    "version": 3
   },
   "file_extension": ".py",
   "mimetype": "text/x-python",
   "name": "python",
   "nbconvert_exporter": "python",
   "pygments_lexer": "ipython3",
   "version": "3.11.4"
  }
 },
 "nbformat": 4,
 "nbformat_minor": 2
}
