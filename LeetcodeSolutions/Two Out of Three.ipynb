{
 "cells": [
  {
   "cell_type": "markdown",
   "metadata": {},
   "source": [
    "## 2032. Two Out of Three\n",
    "\n",
    "**Solved**\n",
    "\n",
    "**Easy**\n",
    "\n",
    "### Topics\n",
    "- Companies\n",
    "\n",
    "### Hint\n",
    "Given three integer arrays `nums1`, `nums2`, and `nums3`, return a distinct array containing all the values that are present in at least two out of the three arrays. You may return the values in any order.\n",
    "\n",
    "### Example 1:\n",
    "**Input:** `nums1 = [1,1,3,2]`, `nums2 = [2,3]`, `nums3 = [3]`  \n",
    "**Output:** `[3,2]`  \n",
    "**Explanation:** The values that are present in at least two arrays are:\n",
    "- 3, in all three arrays.\n",
    "- 2, in `nums1` and `nums2`.\n",
    "\n",
    "### Example 2:\n",
    "**Input:** `nums1 = [3,1]`, `nums2 = [2,3]`, `nums3 = [1,2]`  \n",
    "**Output:** `[2,3,1]`  \n",
    "**Explanation:** The values that are present in at least two arrays are:\n",
    "- 2, in `nums2` and `nums3`.\n",
    "- 3, in `nums1` and `nums2`.\n",
    "- 1, in `nums1` and `nums3`.\n",
    "\n",
    "### Example 3:\n",
    "**Input:** `nums1 = [1,2,2]`, `nums2 = [4,3,3]`, `nums3 = [5]`  \n",
    "**Output:** `[]`  \n",
    "**Explanation:** No value is present in at least two arrays.\n",
    "\n",
    "### Constraints:\n",
    "- `1 <= nums1.length, nums2.length, nums3.length <= 100`\n",
    "- `1 <= nums1[i], nums2[j], nums3[k] <= 100`\n"
   ]
  },
  {
   "cell_type": "code",
   "execution_count": 1,
   "metadata": {},
   "outputs": [],
   "source": [
    "from typing import List"
   ]
  },
  {
   "cell_type": "code",
   "execution_count": 2,
   "metadata": {},
   "outputs": [],
   "source": [
    "def twoOutOfThree(nums1: List[int], nums2: List[int], nums3: List[int]) -> List[int]:\n",
    "    count_dict = {k:0 for k in set(nums1+nums2+nums3)}\n",
    "    nested_list = [nums1,nums2,nums3]\n",
    "\n",
    "    for num in count_dict:\n",
    "        for num_list in nested_list:\n",
    "            if num in num_list:\n",
    "                count_dict[num] += 1\n",
    "\n",
    "    return [k for k,v in count_dict.items() if v >= 2]"
   ]
  },
  {
   "cell_type": "code",
   "execution_count": 3,
   "metadata": {},
   "outputs": [
    {
     "data": {
      "text/plain": [
       "[2, 3]"
      ]
     },
     "execution_count": 3,
     "metadata": {},
     "output_type": "execute_result"
    }
   ],
   "source": [
    "nums1 = [1,1,3,2]\n",
    "nums2 = [2,3]\n",
    "nums3 = [3]\n",
    "\n",
    "twoOutOfThree(nums1=nums1,nums2=nums2,nums3=nums3)"
   ]
  }
 ],
 "metadata": {
  "kernelspec": {
   "display_name": "datascience",
   "language": "python",
   "name": "datascience"
  },
  "language_info": {
   "codemirror_mode": {
    "name": "ipython",
    "version": 3
   },
   "file_extension": ".py",
   "mimetype": "text/x-python",
   "name": "python",
   "nbconvert_exporter": "python",
   "pygments_lexer": "ipython3",
   "version": "3.11.4"
  }
 },
 "nbformat": 4,
 "nbformat_minor": 2
}
