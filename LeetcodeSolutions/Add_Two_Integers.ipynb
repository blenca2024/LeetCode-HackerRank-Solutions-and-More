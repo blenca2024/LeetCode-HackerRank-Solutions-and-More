{
  "nbformat": 4,
  "nbformat_minor": 0,
  "metadata": {
    "colab": {
      "name": "Add Two Integers.ipynb",
      "provenance": [],
      "collapsed_sections": []
    },
    "kernelspec": {
      "name": "python3",
      "display_name": "Python 3"
    },
    "language_info": {
      "name": "python"
    }
  },
  "cells": [
    {
      "cell_type": "markdown",
      "metadata": {
        "id": "1nPKpSixEZPp"
      },
      "source": [
        "# **Given two integers num1 and num2, return the sum of the two integers.**"
      ]
    },
    {
      "cell_type": "code",
      "metadata": {
        "id": "sjm7dH4BEq4O"
      },
      "source": [
        "def sum_nums(num1, num2):\n",
        "  return num1 + num2"
      ],
      "execution_count": 1,
      "outputs": []
    },
    {
      "cell_type": "markdown",
      "metadata": {
        "id": "WnuKvRfiE1cq"
      },
      "source": [
        "## **Example 1**\n",
        "\n",
        "**Input**: num1 = 12, num2 = 5\n",
        "\n",
        "\n",
        "**Output**: 17\n",
        "\n",
        "\n",
        "Explanation: num1 is 12, num2 is 5, and their sum is 12 + 5 = 17, so 17 is returned."
      ]
    },
    {
      "cell_type": "code",
      "metadata": {
        "colab": {
          "base_uri": "https://localhost:8080/"
        },
        "id": "2yclRFCFEZnY",
        "outputId": "abe4469d-cb0c-4861-fa21-2161ad1d0646"
      },
      "source": [
        "sum_nums(12,5)"
      ],
      "execution_count": 2,
      "outputs": [
        {
          "output_type": "execute_result",
          "data": {
            "text/plain": [
              "17"
            ]
          },
          "metadata": {},
          "execution_count": 2
        }
      ]
    },
    {
      "cell_type": "markdown",
      "metadata": {
        "id": "2KMSPNHtE3kF"
      },
      "source": [
        "## **Example 2**"
      ]
    },
    {
      "cell_type": "code",
      "metadata": {
        "colab": {
          "base_uri": "https://localhost:8080/"
        },
        "id": "OG3kmuD3DHWT",
        "outputId": "29eb8d82-f2a1-4b5f-f37d-a209fc1fd342"
      },
      "source": [
        "sum_nums(-10,4)"
      ],
      "execution_count": 3,
      "outputs": [
        {
          "output_type": "execute_result",
          "data": {
            "text/plain": [
              "-6"
            ]
          },
          "metadata": {},
          "execution_count": 3
        }
      ]
    }
  ]
}