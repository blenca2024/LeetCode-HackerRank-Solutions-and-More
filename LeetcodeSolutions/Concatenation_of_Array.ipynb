{
  "nbformat": 4,
  "nbformat_minor": 0,
  "metadata": {
    "colab": {
      "name": "Concatenation of Array.ipynb",
      "provenance": [],
      "collapsed_sections": []
    },
    "kernelspec": {
      "name": "python3",
      "display_name": "Python 3"
    },
    "language_info": {
      "name": "python"
    }
  },
  "cells": [
    {
      "cell_type": "code",
      "metadata": {
        "id": "JtnGQRhlOrtP"
      },
      "source": [
        "def getConcatenation(nums):\n",
        "    return nums*2"
      ],
      "execution_count": 1,
      "outputs": []
    },
    {
      "cell_type": "code",
      "metadata": {
        "colab": {
          "base_uri": "https://localhost:8080/"
        },
        "id": "NZilOozyOtiM",
        "outputId": "1260da2e-f05e-4c42-e6b4-7f38e9f651c9"
      },
      "source": [
        "nums = [1,2,1]\n",
        "\n",
        "getConcatenation(nums)"
      ],
      "execution_count": 2,
      "outputs": [
        {
          "output_type": "execute_result",
          "data": {
            "text/plain": [
              "[1, 2, 1, 1, 2, 1]"
            ]
          },
          "metadata": {},
          "execution_count": 2
        }
      ]
    },
    {
      "cell_type": "code",
      "metadata": {
        "colab": {
          "base_uri": "https://localhost:8080/"
        },
        "id": "uwsL77e1OyZB",
        "outputId": "e8f1cb6a-c8f4-40b0-9292-4c56fb80c613"
      },
      "source": [
        "nums = [1,3,2,1]\n",
        "\n",
        "getConcatenation(nums)"
      ],
      "execution_count": 3,
      "outputs": [
        {
          "output_type": "execute_result",
          "data": {
            "text/plain": [
              "[1, 3, 2, 1, 1, 3, 2, 1]"
            ]
          },
          "metadata": {},
          "execution_count": 3
        }
      ]
    }
  ]
}