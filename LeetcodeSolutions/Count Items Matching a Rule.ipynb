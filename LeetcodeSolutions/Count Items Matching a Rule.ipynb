{
  "nbformat": 4,
  "nbformat_minor": 0,
  "metadata": {
    "colab": {
      "name": "Count Items Matching a Rule.ipynb",
      "provenance": [],
      "collapsed_sections": []
    },
    "kernelspec": {
      "name": "python3",
      "display_name": "Python 3"
    },
    "language_info": {
      "name": "python"
    }
  },
  "cells": [
    {
      "cell_type": "markdown",
      "source": [
        "# **Count Items Matching a Rule**\n",
        "\n",
        "You are given an array items, where each items[i] = [typei, colori, namei] describes the type, color, and name of the ith item. You are also given a rule represented by two strings, ruleKey and ruleValue.\n",
        "\n",
        "The ith item is said to match the rule if **one** of the following is true:\n",
        "\n",
        "- `ruleKey == \"type\"` and `ruleValue == typei`.\n",
        "- `ruleKey == \"color\"` and `ruleValue == colori`.\n",
        "- `ruleKey == \"name\"` and `ruleValue == namei`.\n",
        "\n",
        "Return *the number of items that match the given rule*.\n",
        "\n",
        "**Constraints:**\n",
        "\n",
        "- 1 <= items.length <= 104\n",
        "- 1 <= typei.length, colori.length, namei.length, ruleValue.length <= 10\n",
        "- ruleKey is equal to either \"type\", \"color\", or \"name\".\n",
        "- All strings consist only of lowercase letters.\n"
      ],
      "metadata": {
        "id": "AK0imC0ks-Fh"
      }
    },
    {
      "cell_type": "code",
      "source": [
        "def countMatches(items, ruleKey, ruleValue):\n",
        "  count = 0\n",
        "\n",
        "  for array in items:\n",
        "    if ruleKey == 'type':\n",
        "      if array[0] == ruleValue:\n",
        "        count += 1\n",
        "    elif ruleKey == 'color':\n",
        "      if array[1] == ruleValue:\n",
        "        count += 1\n",
        "    else:\n",
        "      if array[2] == ruleValue:\n",
        "        count += 1\n",
        "    \n",
        "  return count"
      ],
      "metadata": {
        "id": "vdbBqb0DtBUQ"
      },
      "execution_count": null,
      "outputs": []
    },
    {
      "cell_type": "markdown",
      "source": [
        "## **Example 1:**\n",
        "\n",
        "```\n",
        "Input: items = [[\"phone\",\"blue\",\"pixel\"],[\"computer\",\"silver\",\"lenovo\"],[\"phone\",\"gold\",\"iphone\"]], ruleKey = \"color\", ruleValue = \"silver\"\n",
        "Output: 1\n",
        "Explanation: There is only one item matching the given rule, which is [\"computer\",\"silver\",\"lenovo\"].\n",
        "```"
      ],
      "metadata": {
        "id": "RHGqBmhztbfc"
      }
    },
    {
      "cell_type": "code",
      "source": [
        "items = [[\"phone\",\"blue\",\"pixel\"],[\"computer\",\"silver\",\"lenovo\"],[\"phone\",\"gold\",\"iphone\"]]\n",
        "ruleKey = \"color\"\n",
        "ruleValue = \"silver\"\n",
        "\n",
        "countMatches(items, ruleKey, ruleValue)"
      ],
      "metadata": {
        "colab": {
          "base_uri": "https://localhost:8080/"
        },
        "id": "tE8Lw6CmmYm_",
        "outputId": "4afa2a24-26da-4157-c3b1-7618ce223326"
      },
      "execution_count": 23,
      "outputs": [
        {
          "output_type": "execute_result",
          "data": {
            "text/plain": [
              "1"
            ]
          },
          "metadata": {},
          "execution_count": 23
        }
      ]
    },
    {
      "cell_type": "markdown",
      "source": [
        "## **Example 2:**\n",
        "\n",
        "```\n",
        "Input: items = [[\"phone\",\"blue\",\"pixel\"],[\"computer\",\"silver\",\"phone\"],[\"phone\",\"gold\",\"iphone\"]], ruleKey = \"type\", ruleValue = \"phone\"\n",
        "Output: 2\n",
        "Explanation: There are only two items matching the given rule, which are [\"phone\",\"blue\",\"pixel\"] and [\"phone\",\"gold\",\"iphone\"]. Note that the item [\"computer\",\"silver\",\"phone\"] does not match.\n",
        "```"
      ],
      "metadata": {
        "id": "VXUB8uX0tiZM"
      }
    },
    {
      "cell_type": "code",
      "source": [
        "items = [[\"phone\",\"blue\",\"pixel\"],[\"computer\",\"silver\",\"phone\"],[\"phone\",\"gold\",\"iphone\"]]\n",
        "ruleKey = \"type\"\n",
        "ruleValue = \"phone\"\n",
        "\n",
        "countMatches(items, ruleKey, ruleValue)"
      ],
      "metadata": {
        "colab": {
          "base_uri": "https://localhost:8080/"
        },
        "id": "H8QHl292pdNa",
        "outputId": "01e1dcf4-1902-40f2-fa1b-f6b113a1ef03"
      },
      "execution_count": 24,
      "outputs": [
        {
          "output_type": "execute_result",
          "data": {
            "text/plain": [
              "2"
            ]
          },
          "metadata": {},
          "execution_count": 24
        }
      ]
    }
  ]
}