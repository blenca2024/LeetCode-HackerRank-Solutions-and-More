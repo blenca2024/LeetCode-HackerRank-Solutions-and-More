{
 "cells": [
  {
   "cell_type": "markdown",
   "metadata": {},
   "source": [
    "# 2586. Count the Number of Vowel Strings in Range\n",
    "\n",
    "You are given a 0-indexed array of string `words` and two integers `left` and `right`.\n",
    "\n",
    "A string is called a vowel string if it starts with a vowel character and ends with a vowel character where vowel characters are 'a', 'e', 'i', 'o', and 'u'.\n",
    "\n",
    "Return the number of vowel strings `words[i]` where `i` belongs to the inclusive range `[left, right]`.\n",
    "\n",
    "## Example 1:\n",
    "\n",
    "**Input:** `words = [\"are\",\"amy\",\"u\"], left = 0, right = 2`\n",
    "\n",
    "**Output:** `2`\n",
    "\n",
    "**Explanation:**\n",
    "- \"are\" is a vowel string because it starts with 'a' and ends with 'e'.\n",
    "- \"amy\" is not a vowel string because it does not end with a vowel.\n",
    "- \"u\" is a vowel string because it starts with 'u' and ends with 'u'.\n",
    "\n",
    "The number of vowel strings in the mentioned range is 2.\n",
    "\n",
    "## Example 2:\n",
    "\n",
    "**Input:** `words = [\"hey\",\"aeo\",\"mu\",\"ooo\",\"artro\"], left = 1, right = 4`\n",
    "\n",
    "**Output:** `3`\n",
    "\n",
    "**Explanation:**\n",
    "- \"aeo\" is a vowel string because it starts with 'a' and ends with 'o'.\n",
    "- \"mu\" is not a vowel string because it does not start with a vowel.\n",
    "- \"ooo\" is a vowel string because it starts with 'o' and ends with 'o'.\n",
    "- \"artro\" is a vowel string because it starts with 'a' and ends with 'o'.\n",
    "\n",
    "The number of vowel strings in the mentioned range is 3.\n",
    "\n",
    "## Constraints:\n",
    "\n",
    "- `1 <= words.length <= 1000`\n",
    "- `1 <= words[i].length <= 10`\n",
    "- `words[i]` consists of only lowercase English letters.\n",
    "- `0 <= left <= right < words.length`\n"
   ]
  },
  {
   "cell_type": "code",
   "execution_count": 1,
   "metadata": {},
   "outputs": [],
   "source": [
    "from typing import List"
   ]
  },
  {
   "cell_type": "code",
   "execution_count": 2,
   "metadata": {},
   "outputs": [],
   "source": [
    "def vowelStrings(words: List[str], left: int, right: int) -> int:\n",
    "    vowels = 'aeiou'\n",
    "    return len([word for word in words[left:right+1] if word[0] in vowels and word[-1] in vowels])"
   ]
  },
  {
   "cell_type": "code",
   "execution_count": 3,
   "metadata": {},
   "outputs": [
    {
     "data": {
      "text/plain": [
       "2"
      ]
     },
     "execution_count": 3,
     "metadata": {},
     "output_type": "execute_result"
    }
   ],
   "source": [
    "words = [\"are\",\"amy\",\"u\"]\n",
    "left = 0\n",
    "right = 2\n",
    "vowelStrings(words,left,right)"
   ]
  },
  {
   "cell_type": "code",
   "execution_count": 4,
   "metadata": {},
   "outputs": [
    {
     "data": {
      "text/plain": [
       "3"
      ]
     },
     "execution_count": 4,
     "metadata": {},
     "output_type": "execute_result"
    }
   ],
   "source": [
    "words = [\"hey\",\"aeo\",\"mu\",\"ooo\",\"artro\"]\n",
    "left = 1\n",
    "right = 4\n",
    "vowelStrings(words,left,right)"
   ]
  },
  {
   "cell_type": "code",
   "execution_count": 5,
   "metadata": {},
   "outputs": [
    {
     "data": {
      "text/plain": [
       "1"
      ]
     },
     "execution_count": 5,
     "metadata": {},
     "output_type": "execute_result"
    }
   ],
   "source": [
    "words = [\"vo\",\"j\",\"i\",\"s\",\"i\"]\n",
    "left = 0\n",
    "right = 3\n",
    "vowelStrings(words,left,right)"
   ]
  },
  {
   "cell_type": "code",
   "execution_count": 6,
   "metadata": {},
   "outputs": [
    {
     "data": {
      "text/plain": [
       "1"
      ]
     },
     "execution_count": 6,
     "metadata": {},
     "output_type": "execute_result"
    }
   ],
   "source": [
    "words = [\"ce\",\"ai\"]\n",
    "left = 1\n",
    "right = 1\n",
    "vowelStrings(words,left,right)"
   ]
  }
 ],
 "metadata": {
  "kernelspec": {
   "display_name": "wai",
   "language": "python",
   "name": "python3"
  },
  "language_info": {
   "codemirror_mode": {
    "name": "ipython",
    "version": 3
   },
   "file_extension": ".py",
   "mimetype": "text/x-python",
   "name": "python",
   "nbconvert_exporter": "python",
   "pygments_lexer": "ipython3",
   "version": "3.11.4"
  }
 },
 "nbformat": 4,
 "nbformat_minor": 2
}
