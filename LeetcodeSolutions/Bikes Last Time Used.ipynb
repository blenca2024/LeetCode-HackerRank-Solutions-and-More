{
 "cells": [
  {
   "cell_type": "markdown",
   "metadata": {},
   "source": [
    "2687. Bikes Last Time Used\n",
    "\n",
    "\n",
    "==========================\n",
    "\n",
    "Table: Bikes\n",
    "------------\n",
    "\n",
    "| Column Name | Type     |\n",
    "|-------------|----------|\n",
    "| ride_id     | int      |\n",
    "| bike_number | int      |\n",
    "| start_time  | datetime |\n",
    "| end_time    | datetime |\n",
    "\n",
    "`ride_id` column contains unique values.\n",
    "Each row contains ride information including `ride_id`, bike number, start and end time of the ride.\n",
    "\n",
    "Write a solution to find the last time when each bike was used.\n",
    "\n",
    "Return the result table ordered by the bikes that were most recently used.\n",
    "\n",
    "The result format is in the following example.\n",
    "\n",
    "Example 1:\n",
    "----------\n",
    "\n",
    "**Input:**\n",
    "Bikes table:\n",
    "| ride_id | bike_number | start_time          | end_time            |\n",
    "|---------|-------------|---------------------|---------------------|\n",
    "| 1       | W00576      | 2012-03-25 11:30:00 | 2012-03-25 12:40:00 |\n",
    "| 2       | W00300      | 2012-03-25 10:30:00 | 2012-03-25 10:50:00 |\n",
    "| 3       | W00455      | 2012-03-26 14:30:00 | 2012-03-26 17:40:00 |\n",
    "| 4       | W00455      | 2012-03-25 12:30:00 | 2012-03-25 13:40:00 |\n",
    "| 5       | W00576      | 2012-03-25 08:10:00 | 2012-03-25 09:10:00 |\n",
    "| 6       | W00576      | 2012-03-28 02:30:00 | 2012-03-28 02:50:00 |\n",
    "\n",
    "**Output:**\n",
    "| bike_number | end_time            |\n",
    "|-------------|---------------------|\n",
    "| W00576      | 2012-03-28 02:50:00 |\n",
    "| W00455      | 2012-03-26 17:40:00 |\n",
    "| W00300      | 2012-03-25 10:50:00 |\n",
    "\n",
    "**Explanation:**\n",
    "- Bike with number W00576 has three rides; the most recent ride (ride_id 6) ended on 2012-03-28 02:50:00.\n",
    "- Bike with number W00300 has only 1 ride, so we include its end_time directly.\n",
    "- Bike with number W00455 has two rides; the most recent ride (ride_id 3) ended on 2012-03-26 17:40:00.\n",
    "Returning output in order by the bikes that were most recently used."
   ]
  },
  {
   "cell_type": "code",
   "execution_count": 1,
   "metadata": {},
   "outputs": [],
   "source": [
    "import pandas as pd"
   ]
  },
  {
   "cell_type": "code",
   "execution_count": 2,
   "metadata": {},
   "outputs": [],
   "source": [
    "def last_used_time(bikes: pd.DataFrame) -> pd.DataFrame:\n",
    "    unique_bikes = bikes['bike_number'].unique()\n",
    "    output_df = pd.DataFrame(columns=['bike_number', 'end_time'])\n",
    "\n",
    "    for bike in unique_bikes:\n",
    "        sub_df = bikes[bikes['bike_number']==bike].sort_values('end_time').iloc[[-1]]\n",
    "        output_df = pd.concat([output_df,sub_df[['bike_number','end_time']]])\n",
    "\n",
    "    return output_df.sort_values(by='end_time',ascending=False)\n"
   ]
  },
  {
   "cell_type": "code",
   "execution_count": 3,
   "metadata": {},
   "outputs": [],
   "source": [
    "data = [\n",
    "    {'ride_id': 1, 'bike_number': 'W00576', 'start_time': '2012-03-25 11:30:00', 'end_time': '2012-03-25 12:40:00'},\n",
    "    {'ride_id': 2, 'bike_number': 'W00300', 'start_time': '2012-03-25 10:30:00', 'end_time': '2012-03-25 10:50:00'},\n",
    "    {'ride_id': 3, 'bike_number': 'W00455', 'start_time': '2012-03-26 14:30:00', 'end_time': '2012-03-26 17:40:00'},\n",
    "    {'ride_id': 4, 'bike_number': 'W00455', 'start_time': '2012-03-25 12:30:00', 'end_time': '2012-03-25 13:40:00'},\n",
    "    {'ride_id': 5, 'bike_number': 'W00576', 'start_time': '2012-03-25 08:10:00', 'end_time': '2012-03-25 09:10:00'},\n",
    "    {'ride_id': 6, 'bike_number': 'W00576', 'start_time': '2012-03-28 02:30:00', 'end_time': '2012-03-28 02:50:00'}\n",
    "]\n",
    "\n",
    "bikes = pd.DataFrame(data)\n",
    "\n",
    "bikes['start_time'] = pd.to_datetime(bikes['start_time'])\n",
    "bikes['end_time'] = pd.to_datetime(bikes['end_time'])"
   ]
  },
  {
   "cell_type": "code",
   "execution_count": 4,
   "metadata": {},
   "outputs": [
    {
     "name": "stderr",
     "output_type": "stream",
     "text": [
      "C:\\Users\\adolo\\AppData\\Local\\Temp\\ipykernel_25880\\3030007534.py:7: FutureWarning: The behavior of DataFrame concatenation with empty or all-NA entries is deprecated. In a future version, this will no longer exclude empty or all-NA columns when determining the result dtypes. To retain the old behavior, exclude the relevant entries before the concat operation.\n",
      "  output_df = pd.concat([output_df,sub_df[['bike_number','end_time']]])\n"
     ]
    },
    {
     "data": {
      "text/html": [
       "<div>\n",
       "<style scoped>\n",
       "    .dataframe tbody tr th:only-of-type {\n",
       "        vertical-align: middle;\n",
       "    }\n",
       "\n",
       "    .dataframe tbody tr th {\n",
       "        vertical-align: top;\n",
       "    }\n",
       "\n",
       "    .dataframe thead th {\n",
       "        text-align: right;\n",
       "    }\n",
       "</style>\n",
       "<table border=\"1\" class=\"dataframe\">\n",
       "  <thead>\n",
       "    <tr style=\"text-align: right;\">\n",
       "      <th></th>\n",
       "      <th>bike_number</th>\n",
       "      <th>end_time</th>\n",
       "    </tr>\n",
       "  </thead>\n",
       "  <tbody>\n",
       "    <tr>\n",
       "      <th>5</th>\n",
       "      <td>W00576</td>\n",
       "      <td>2012-03-28 02:50:00</td>\n",
       "    </tr>\n",
       "    <tr>\n",
       "      <th>2</th>\n",
       "      <td>W00455</td>\n",
       "      <td>2012-03-26 17:40:00</td>\n",
       "    </tr>\n",
       "    <tr>\n",
       "      <th>1</th>\n",
       "      <td>W00300</td>\n",
       "      <td>2012-03-25 10:50:00</td>\n",
       "    </tr>\n",
       "  </tbody>\n",
       "</table>\n",
       "</div>"
      ],
      "text/plain": [
       "  bike_number            end_time\n",
       "5      W00576 2012-03-28 02:50:00\n",
       "2      W00455 2012-03-26 17:40:00\n",
       "1      W00300 2012-03-25 10:50:00"
      ]
     },
     "execution_count": 4,
     "metadata": {},
     "output_type": "execute_result"
    }
   ],
   "source": [
    "last_used_time(bikes)"
   ]
  }
 ],
 "metadata": {
  "kernelspec": {
   "display_name": "datascience",
   "language": "python",
   "name": "datascience"
  },
  "language_info": {
   "codemirror_mode": {
    "name": "ipython",
    "version": 3
   },
   "file_extension": ".py",
   "mimetype": "text/x-python",
   "name": "python",
   "nbconvert_exporter": "python",
   "pygments_lexer": "ipython3",
   "version": "3.11.4"
  }
 },
 "nbformat": 4,
 "nbformat_minor": 2
}
