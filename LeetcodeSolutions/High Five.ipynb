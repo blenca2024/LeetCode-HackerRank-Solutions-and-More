{
 "cells": [
  {
   "cell_type": "markdown",
   "metadata": {},
   "source": [
    "1086. High Five\n",
    "===============\n",
    "\n",
    "Given a list of the scores of different students, `items`, where `items[i] = [IDi, scorei]` represents one score from a student with ID `IDi`, calculate each student's top five average.\n",
    "\n",
    "Return the answer as an array of pairs `result`, where `result[j] = [IDj, topFiveAveragej]` represents the student with ID `IDj` and their top five average. Sort `result` by `IDj` in increasing order.\n",
    "\n",
    "A student's top five average is calculated by taking the sum of their top five scores and dividing it by 5 using integer division.\n",
    "\n",
    "Example 1:\n",
    "----------\n",
    "\n",
    "**Input:** `items = [[1,91],[1,92],[2,93],[2,97],[1,60],[2,77],[1,65],[1,87],[1,100],[2,100],[2,76]]`\n",
    "\n",
    "**Output:** `[[1,87],[2,88]]`\n",
    "\n",
    "**Explanation:**\n",
    "- The student with ID = 1 got scores 91, 92, 60, 65, 87, and 100. Their top five average is `(100 + 92 + 91 + 87 + 65) / 5 = 87`.\n",
    "- The student with ID = 2 got scores 93, 97, 77, 100, and 76. Their top five average is `(100 + 97 + 93 + 77 + 76) / 5 = 88.6`, but with integer division their average converts to 88.\n",
    "\n",
    "Example 2:\n",
    "----------\n",
    "\n",
    "**Input:** `items = [[1,100],[7,100],[1,100],[7,100],[1,100],[7,100],[1,100],[7,100],[1,100],[7,100]]`\n",
    "\n",
    "**Output:** `[[1,100],[7,100]]`\n",
    "\n",
    "Constraints:\n",
    "------------\n",
    "\n",
    "- `1 <= items.length <= 1000`\n",
    "- `items[i].length == 2`\n",
    "- `1 <= IDi <= 1000`\n",
    "- `0 <= scorei <= 100`\n",
    "- For each `IDi`, there will be at least five scores.\n"
   ]
  },
  {
   "cell_type": "code",
   "execution_count": 1,
   "metadata": {},
   "outputs": [],
   "source": [
    "from typing import List"
   ]
  },
  {
   "cell_type": "code",
   "execution_count": 2,
   "metadata": {},
   "outputs": [],
   "source": [
    "def highFive(items: List[List[int]]) -> List[List[int]]:\n",
    "    output_list = []\n",
    "\n",
    "    num_dict = {i:[] for i in set([num[0] for num in items])}\n",
    "\n",
    "    for item in items:\n",
    "        num_dict[item[0]].append(item[1])\n",
    "\n",
    "    for k in num_dict:\n",
    "        sorted_list = sorted(num_dict[k])\n",
    "        output_list.append([k,sum(sorted_list[-5:])//5])\n",
    "\n",
    "    return output_list"
   ]
  },
  {
   "cell_type": "code",
   "execution_count": 3,
   "metadata": {},
   "outputs": [
    {
     "data": {
      "text/plain": [
       "[[1, 87], [2, 88]]"
      ]
     },
     "execution_count": 3,
     "metadata": {},
     "output_type": "execute_result"
    }
   ],
   "source": [
    "items = [[1,91],[1,92],[2,93],[2,97],[1,60],[2,77],[1,65],[1,87],[1,100],[2,100],[2,76]]\n",
    "\n",
    "highFive(items=items)"
   ]
  },
  {
   "cell_type": "code",
   "execution_count": 4,
   "metadata": {},
   "outputs": [
    {
     "data": {
      "text/plain": [
       "[[1, 100], [7, 100]]"
      ]
     },
     "execution_count": 4,
     "metadata": {},
     "output_type": "execute_result"
    }
   ],
   "source": [
    "items = [[1,100],[7,100],[1,100],[7,100],[1,100],[7,100],[1,100],[7,100],[1,100],[7,100]]\n",
    "\n",
    "highFive(items=items)"
   ]
  }
 ],
 "metadata": {
  "kernelspec": {
   "display_name": "img",
   "language": "python",
   "name": "img"
  },
  "language_info": {
   "codemirror_mode": {
    "name": "ipython",
    "version": 3
   },
   "file_extension": ".py",
   "mimetype": "text/x-python",
   "name": "python",
   "nbconvert_exporter": "python",
   "pygments_lexer": "ipython3",
   "version": "3.11.4"
  }
 },
 "nbformat": 4,
 "nbformat_minor": 2
}
