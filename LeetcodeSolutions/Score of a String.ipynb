{
 "cells": [
  {
   "cell_type": "markdown",
   "metadata": {},
   "source": [
    "# 3110. Score of a String\n",
    "\n",
    "\n",
    "You are given a string `s`. The score of a string is defined as the sum of the absolute difference between the ASCII values of adjacent characters.\n",
    "\n",
    "Return the score of `s`.\n",
    "\n",
    "## Example 1:\n",
    "\n",
    "**Input:** `s = \"hello\"`\n",
    "\n",
    "**Output:** `13`\n",
    "\n",
    "**Explanation:**\n",
    "\n",
    "The ASCII values of the characters in `s` are: \n",
    "- `'h' = 104`\n",
    "- `'e' = 101`\n",
    "- `'l' = 108`\n",
    "- `'o' = 111`\n",
    "\n",
    "So, the score of `s` would be `|104 - 101| + |101 - 108| + |108 - 108| + |108 - 111| = 3 + 7 + 0 + 3 = 13`.\n",
    "\n",
    "## Example 2:\n",
    "\n",
    "**Input:** `s = \"zaz\"`\n",
    "\n",
    "**Output:** `50`\n",
    "\n",
    "**Explanation:**\n",
    "\n",
    "The ASCII values of the characters in `s` are: \n",
    "- `'z' = 122`\n",
    "- `'a' = 97`\n",
    "\n",
    "So, the score of `s` would be `|122 - 97| + |97 - 122| = 25 + 25 = 50`.\n",
    "\n",
    "## Constraints:\n",
    "\n",
    "- `2 <= s.length <= 100`\n",
    "- `s` consists only of lowercase English letters."
   ]
  },
  {
   "cell_type": "code",
   "execution_count": 11,
   "metadata": {},
   "outputs": [],
   "source": [
    "class Solution(object):\n",
    "    def scoreOfString(self, s):\n",
    "        return sum([abs(ord(char1)- ord(char2)) for char1,char2 in zip(s[:-1],s[1:])])"
   ]
  },
  {
   "cell_type": "code",
   "execution_count": 18,
   "metadata": {},
   "outputs": [
    {
     "data": {
      "text/plain": [
       "13"
      ]
     },
     "execution_count": 18,
     "metadata": {},
     "output_type": "execute_result"
    }
   ],
   "source": [
    "solution = Solution()\n",
    "s = \"hello\"\n",
    "solution.scoreOfString(s=s)"
   ]
  },
  {
   "cell_type": "code",
   "execution_count": 19,
   "metadata": {},
   "outputs": [
    {
     "data": {
      "text/plain": [
       "50"
      ]
     },
     "execution_count": 19,
     "metadata": {},
     "output_type": "execute_result"
    }
   ],
   "source": [
    "s = \"zaz\"\n",
    "solution.scoreOfString(s=s)"
   ]
  }
 ],
 "metadata": {
  "kernelspec": {
   "display_name": "img",
   "language": "python",
   "name": "img"
  },
  "language_info": {
   "codemirror_mode": {
    "name": "ipython",
    "version": 3
   },
   "file_extension": ".py",
   "mimetype": "text/x-python",
   "name": "python",
   "nbconvert_exporter": "python",
   "pygments_lexer": "ipython3",
   "version": "3.11.4"
  }
 },
 "nbformat": 4,
 "nbformat_minor": 2
}
