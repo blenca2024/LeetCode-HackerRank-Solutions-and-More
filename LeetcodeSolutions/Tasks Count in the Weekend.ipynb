{
 "cells": [
  {
   "cell_type": "markdown",
   "metadata": {},
   "source": [
    "# 2298. Tasks Count in the Weekend\n",
    "\n",
    "## Table: Tasks\n",
    "\n",
    "| Column Name | Type |\n",
    "|-------------|------|\n",
    "| task_id     | int  |\n",
    "| assignee_id | int  |\n",
    "| submit_date | date |\n",
    "\n",
    "`task_id` is the primary key (column with unique values) for this table. Each row in this table contains the ID of a task, the id of the assignee, and the submission date.\n",
    "\n",
    "Write a solution to report:\n",
    "\n",
    "- The number of tasks that were submitted during the weekend (Saturday, Sunday) as `weekend_cnt`, and\n",
    "- The number of tasks that were submitted during the working days as `working_cnt`.\n",
    "\n",
    "Return the result table in any order.\n",
    "\n",
    "The result format is shown in the following example.\n",
    "\n",
    "## Example 1:\n",
    "\n",
    "**Input:**\n",
    "\n",
    "Tasks table:\n",
    "\n",
    "| task_id | assignee_id | submit_date |\n",
    "|---------|-------------|-------------|\n",
    "| 1       | 1           | 2022-06-13  |\n",
    "| 2       | 6           | 2022-06-14  |\n",
    "| 3       | 6           | 2022-06-15  |\n",
    "| 4       | 3           | 2022-06-18  |\n",
    "| 5       | 5           | 2022-06-19  |\n",
    "| 6       | 7           | 2022-06-19  |\n",
    "\n",
    "**Output:**\n",
    "\n",
    "| weekend_cnt | working_cnt |\n",
    "|-------------|-------------|\n",
    "| 3           | 3           |\n",
    "\n",
    "**Explanation:**  \n",
    "- Task 1 was submitted on Monday.\n",
    "- Task 2 was submitted on Tuesday.\n",
    "- Task 3 was submitted on Wednesday.\n",
    "- Task 4 was submitted on Saturday.\n",
    "- Task 5 was submitted on Sunday.\n",
    "- Task 6 was submitted on Sunday.\n",
    "3 tasks were submitted during the weekend. 3 tasks were submitted during the working days.\n"
   ]
  },
  {
   "cell_type": "code",
   "execution_count": 1,
   "metadata": {},
   "outputs": [],
   "source": [
    "import pandas as pd"
   ]
  },
  {
   "cell_type": "code",
   "execution_count": 2,
   "metadata": {},
   "outputs": [],
   "source": [
    "tasks = pd.DataFrame([\n",
    "    {\"task_id\": 1, \"assignee_id\": 1, \"submit_date\": \"2022-06-13\"},\n",
    "    {\"task_id\": 2, \"assignee_id\": 6, \"submit_date\": \"2022-06-14\"},\n",
    "    {\"task_id\": 3, \"assignee_id\": 6, \"submit_date\": \"2022-06-15\"},\n",
    "    {\"task_id\": 4, \"assignee_id\": 3, \"submit_date\": \"2022-06-18\"},\n",
    "    {\"task_id\": 5, \"assignee_id\": 5, \"submit_date\": \"2022-06-19\"},\n",
    "    {\"task_id\": 6, \"assignee_id\": 7, \"submit_date\": \"2022-06-19\"},\n",
    "])\n",
    "\n",
    "tasks['submit_date'] = pd.to_datetime(tasks['submit_date'])"
   ]
  },
  {
   "cell_type": "code",
   "execution_count": 3,
   "metadata": {},
   "outputs": [],
   "source": [
    "def count_tasks(tasks: pd.DataFrame) -> pd.DataFrame:\n",
    "\n",
    "    week_cnt = ['weekend_cnt' if day >= 5 else 'working_cnt' for day in tasks['submit_date'].dt.day_of_week]\n",
    "    output_df = pd.DataFrame({week_type:[week_cnt.count(week_type)] for week_type in week_cnt})\n",
    "    return output_df"
   ]
  },
  {
   "cell_type": "code",
   "execution_count": 4,
   "metadata": {},
   "outputs": [
    {
     "data": {
      "text/html": [
       "<div>\n",
       "<style scoped>\n",
       "    .dataframe tbody tr th:only-of-type {\n",
       "        vertical-align: middle;\n",
       "    }\n",
       "\n",
       "    .dataframe tbody tr th {\n",
       "        vertical-align: top;\n",
       "    }\n",
       "\n",
       "    .dataframe thead th {\n",
       "        text-align: right;\n",
       "    }\n",
       "</style>\n",
       "<table border=\"1\" class=\"dataframe\">\n",
       "  <thead>\n",
       "    <tr style=\"text-align: right;\">\n",
       "      <th></th>\n",
       "      <th>working_cnt</th>\n",
       "      <th>weekend_cnt</th>\n",
       "    </tr>\n",
       "  </thead>\n",
       "  <tbody>\n",
       "    <tr>\n",
       "      <th>0</th>\n",
       "      <td>3</td>\n",
       "      <td>3</td>\n",
       "    </tr>\n",
       "  </tbody>\n",
       "</table>\n",
       "</div>"
      ],
      "text/plain": [
       "   working_cnt  weekend_cnt\n",
       "0            3            3"
      ]
     },
     "execution_count": 4,
     "metadata": {},
     "output_type": "execute_result"
    }
   ],
   "source": [
    "count_tasks(tasks=tasks)"
   ]
  }
 ],
 "metadata": {
  "kernelspec": {
   "display_name": "datascience",
   "language": "python",
   "name": "datascience"
  },
  "language_info": {
   "codemirror_mode": {
    "name": "ipython",
    "version": 3
   },
   "file_extension": ".py",
   "mimetype": "text/x-python",
   "name": "python",
   "nbconvert_exporter": "python",
   "pygments_lexer": "ipython3",
   "version": "3.11.4"
  }
 },
 "nbformat": 4,
 "nbformat_minor": 2
}
