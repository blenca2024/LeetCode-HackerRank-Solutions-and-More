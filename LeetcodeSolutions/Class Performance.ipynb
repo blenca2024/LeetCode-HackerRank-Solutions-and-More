{
 "cells": [
  {
   "cell_type": "markdown",
   "metadata": {},
   "source": [
    "2989. Class Performance\n",
    "\n",
    "Table: Scores\n",
    "\n",
    "| Column Name  | Type    |\n",
    "|--------------|---------|\n",
    "| student_id   | int     |\n",
    "| student_name | varchar |\n",
    "| assignment1  | int     |\n",
    "| assignment2  | int     |\n",
    "| assignment3  | int     |\n",
    "\n",
    "`student_id` is a column of unique values for this table. This table contains `student_id`, `student_name`, `assignment1`, `assignment2`, and `assignment3`.\n",
    "\n",
    "Write a solution to calculate the difference in the total score (sum of all 3 assignments) between the highest score obtained by students and the lowest score obtained by them.\n",
    "\n",
    "Return the result table in any order.\n",
    "\n",
    "The result format is in the following example.\n",
    "\n",
    "Example 1:\n",
    "\n",
    "Input: \n",
    "Scores table:\n",
    "\n",
    "| student_id | student_name | assignment1 | assignment2 | assignment3 |\n",
    "|------------|--------------|-------------|-------------|-------------|\n",
    "| 309        | Owen         | 88          | 47          | 87          |\n",
    "| 321        | Claire       | 98          | 95          | 37          |\n",
    "| 338        | Julian       | 100         | 64          | 43          |\n",
    "| 423        | Peyton       | 60          | 44          | 47          |\n",
    "| 896        | David        | 32          | 37          | 50          |\n",
    "| 235        | Camila       | 31          | 53          | 69          |\n",
    "\n",
    "Output:\n",
    "\n",
    "| difference_in_score |\n",
    "|---------------------|\n",
    "| 111                 |\n",
    "\n",
    "Explanation:\n",
    "- student_id 309 has a total score of 88 + 47 + 87 = 222.\n",
    "- student_id 321 has a total score of 98 + 95 + 37 = 230.\n",
    "- student_id 338 has a total score of 100 + 64 + 43 = 207.\n",
    "- student_id 423 has a total score of 60 + 44 + 47 = 151.\n",
    "- student_id 896 has a total score of 32 + 37 + 50 = 119.\n",
    "- student_id 235 has a total score of 31 + 53 + 69 = 153.\n",
    "\n",
    "student_id 321 has the highest score of 230, while student_id 896 has the lowest score of 119. Therefore, the difference between them is 111."
   ]
  },
  {
   "cell_type": "code",
   "execution_count": 1,
   "metadata": {},
   "outputs": [],
   "source": [
    "import pandas as pd"
   ]
  },
  {
   "cell_type": "code",
   "execution_count": 2,
   "metadata": {},
   "outputs": [],
   "source": [
    "scores = pd.DataFrame({\n",
    "    'student_id': [309, 321, 338, 423, 896, 235],\n",
    "    'student_name': ['Owen', 'Claire', 'Julian', 'Peyton', 'David', 'Camila'],\n",
    "    'assignment1': [88, 98, 100, 60, 32, 31],\n",
    "    'assignment2': [47, 95, 64, 44, 37, 53],\n",
    "    'assignment3': [87, 37, 43, 47, 50, 69]\n",
    "})"
   ]
  },
  {
   "cell_type": "code",
   "execution_count": 3,
   "metadata": {},
   "outputs": [],
   "source": [
    "def class_performance(scores: pd.DataFrame) -> pd.DataFrame:\n",
    "    scores['total']=scores['assignment1']+scores['assignment2']+scores['assignment3']\n",
    "    diff = scores['total'].max()-scores['total'].min()\n",
    "    return pd.DataFrame({'difference_in_score':[diff]})"
   ]
  },
  {
   "cell_type": "code",
   "execution_count": 4,
   "metadata": {},
   "outputs": [
    {
     "data": {
      "text/html": [
       "<div>\n",
       "<style scoped>\n",
       "    .dataframe tbody tr th:only-of-type {\n",
       "        vertical-align: middle;\n",
       "    }\n",
       "\n",
       "    .dataframe tbody tr th {\n",
       "        vertical-align: top;\n",
       "    }\n",
       "\n",
       "    .dataframe thead th {\n",
       "        text-align: right;\n",
       "    }\n",
       "</style>\n",
       "<table border=\"1\" class=\"dataframe\">\n",
       "  <thead>\n",
       "    <tr style=\"text-align: right;\">\n",
       "      <th></th>\n",
       "      <th>difference_in_score</th>\n",
       "    </tr>\n",
       "  </thead>\n",
       "  <tbody>\n",
       "    <tr>\n",
       "      <th>0</th>\n",
       "      <td>111</td>\n",
       "    </tr>\n",
       "  </tbody>\n",
       "</table>\n",
       "</div>"
      ],
      "text/plain": [
       "   difference_in_score\n",
       "0                  111"
      ]
     },
     "execution_count": 4,
     "metadata": {},
     "output_type": "execute_result"
    }
   ],
   "source": [
    "class_performance(scores)"
   ]
  }
 ],
 "metadata": {
  "kernelspec": {
   "display_name": "datascience",
   "language": "python",
   "name": "datascience"
  },
  "language_info": {
   "codemirror_mode": {
    "name": "ipython",
    "version": 3
   },
   "file_extension": ".py",
   "mimetype": "text/x-python",
   "name": "python",
   "nbconvert_exporter": "python",
   "pygments_lexer": "ipython3",
   "version": "3.11.4"
  }
 },
 "nbformat": 4,
 "nbformat_minor": 2
}
