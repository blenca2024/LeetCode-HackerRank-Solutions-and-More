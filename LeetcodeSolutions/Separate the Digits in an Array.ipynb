{
 "cells": [
  {
   "cell_type": "markdown",
   "metadata": {},
   "source": [
    "# 2553. Separate the Digits in an Array\n",
    "\n",
    "**Solved**\n",
    "\n",
    "**Easy**\n",
    "\n",
    "## Topics\n",
    "\n",
    "**Companies**\n",
    "\n",
    "**Hint**\n",
    "\n",
    "Given an array of positive integers `nums`, return an array `answer` that consists of the digits of each integer in `nums` after separating them in the same order they appear in `nums`.\n",
    "\n",
    "To separate the digits of an integer is to get all the digits it has in the same order.\n",
    "\n",
    "For example, for the integer 10921, the separation of its digits is `[1,0,9,2,1]`.\n",
    "\n",
    "## Example 1:\n",
    "\n",
    "**Input:**\n",
    "\n",
    "`nums = [13,25,83,77]`\n",
    "\n",
    "**Output:**\n",
    "\n",
    "`[1,3,2,5,8,3,7,7]`\n",
    "\n",
    "**Explanation:**\n",
    "\n",
    "- The separation of 13 is `[1,3]`.\n",
    "- The separation of 25 is `[2,5]`.\n",
    "- The separation of 83 is `[8,3]`.\n",
    "- The separation of 77 is `[7,7]`.\n",
    "\n",
    "`answer = [1,3,2,5,8,3,7,7]`. Note that `answer` contains the separations in the same order.\n",
    "\n",
    "## Example 2:\n",
    "\n",
    "**Input:**\n",
    "\n",
    "`nums = [7,1,3,9]`\n",
    "\n",
    "**Output:**\n",
    "\n",
    "`[7,1,3,9]`\n",
    "\n",
    "**Explanation:**\n",
    "\n",
    "The separation of each integer in `nums` is itself.\n",
    "`answer = [7,1,3,9]`.\n",
    "\n",
    "## Constraints:\n",
    "\n",
    "- `1 <= nums.length <= 1000`\n",
    "- `1 <= nums[i] <= 10^5`\n"
   ]
  },
  {
   "cell_type": "code",
   "execution_count": 1,
   "metadata": {},
   "outputs": [],
   "source": [
    "from typing import List"
   ]
  },
  {
   "cell_type": "code",
   "execution_count": 2,
   "metadata": {},
   "outputs": [],
   "source": [
    "def separateDigits(nums: List[int]) -> List[int]:\n",
    "    return [int(num) for char in str(nums) for num in char if num.isnumeric()==True]"
   ]
  },
  {
   "cell_type": "code",
   "execution_count": 3,
   "metadata": {},
   "outputs": [
    {
     "data": {
      "text/plain": [
       "[1, 3, 2, 5, 8, 3, 7, 7]"
      ]
     },
     "execution_count": 3,
     "metadata": {},
     "output_type": "execute_result"
    }
   ],
   "source": [
    "nums = [13,25,83,77]\n",
    "\n",
    "separateDigits(nums)"
   ]
  }
 ],
 "metadata": {
  "kernelspec": {
   "display_name": "datascience",
   "language": "python",
   "name": "datascience"
  },
  "language_info": {
   "codemirror_mode": {
    "name": "ipython",
    "version": 3
   },
   "file_extension": ".py",
   "mimetype": "text/x-python",
   "name": "python",
   "nbconvert_exporter": "python",
   "pygments_lexer": "ipython3",
   "version": "3.11.4"
  }
 },
 "nbformat": 4,
 "nbformat_minor": 2
}
