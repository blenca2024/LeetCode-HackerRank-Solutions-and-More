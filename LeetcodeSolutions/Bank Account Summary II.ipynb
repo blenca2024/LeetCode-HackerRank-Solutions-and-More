{
 "cells": [
  {
   "cell_type": "markdown",
   "metadata": {},
   "source": [
    "# 1587. Bank Account Summary II\n",
    "\n",
    "**Solved**  \n",
    "**Easy**  \n",
    "**Topics**  \n",
    "SQL Schema  \n",
    "Pandas Schema  \n",
    "\n",
    "## Table: Users\n",
    "\n",
    "| Column Name  | Type    |\n",
    "|--------------|---------|\n",
    "| account      | int     |\n",
    "| name         | varchar |\n",
    "\n",
    "`account` is the primary key (column with unique values) for this table.  \n",
    "Each row of this table contains the account number of each user in the bank.  \n",
    "There will be no two users having the same name in the table.\n",
    "\n",
    "## Table: Transactions\n",
    "\n",
    "| Column Name   | Type    |\n",
    "|---------------|---------|\n",
    "| trans_id      | int     |\n",
    "| account       | int     |\n",
    "| amount        | int     |\n",
    "| transacted_on | date    |\n",
    "\n",
    "`trans_id` is the primary key (column with unique values) for this table.  \n",
    "Each row of this table contains all changes made to all accounts.  \n",
    "`amount` is positive if the user received money and negative if they transferred money.  \n",
    "All accounts start with a balance of 0.\n",
    "\n",
    "Write a solution to report the name and balance of users with a balance higher than 10000. The balance of an account is equal to the sum of the amounts of all transactions involving that account.\n",
    "\n",
    "Return the result table in any order.\n",
    "\n",
    "The result format is in the following example.\n",
    "\n",
    "## Example 1:\n",
    "\n",
    "**Input:**  \n",
    "**Users table:**\n",
    "\n",
    "| account    | name    |\n",
    "|------------|---------|\n",
    "| 900001     | Alice   |\n",
    "| 900002     | Bob     |\n",
    "| 900003     | Charlie |\n",
    "\n",
    "**Transactions table:**\n",
    "\n",
    "| trans_id   | account    | amount     | transacted_on |\n",
    "|------------|------------|------------|---------------|\n",
    "| 1          | 900001     | 7000       | 2020-08-01    |\n",
    "| 2          | 900001     | 7000       | 2020-09-01    |\n",
    "| 3          | 900001     | -3000      | 2020-09-02    |\n",
    "| 4          | 900002     | 1000       | 2020-09-12    |\n",
    "| 5          | 900003     | 6000       | 2020-08-07    |\n",
    "| 6          | 900003     | 6000       | 2020-09-07    |\n",
    "| 7          | 900003     | -4000      | 2020-09-11    |\n",
    "\n",
    "**Output:**\n",
    "\n",
    "| name    | balance |\n",
    "|---------|---------|\n",
    "| Alice   | 11000   |\n",
    "\n",
    "**Explanation:**  \n",
    "Alice's balance is (7000 + 7000 - 3000) = 11000.  \n",
    "Bob's balance is 1000.  \n",
    "Charlie's balance is (6000 + 6000 - 4000) = 8000.\n"
   ]
  },
  {
   "cell_type": "code",
   "execution_count": null,
   "metadata": {},
   "outputs": [],
   "source": [
    "import pandas as pd"
   ]
  },
  {
   "cell_type": "code",
   "execution_count": null,
   "metadata": {},
   "outputs": [],
   "source": [
    "def account_summary(users: pd.DataFrame, transactions: pd.DataFrame) -> pd.DataFrame:\n",
    "\n",
    "    output_df = pd.DataFrame({'name':[],'balance':[]})\n",
    "\n",
    "    for account in users['account']:\n",
    "        if transactions[transactions['account'] == account]['amount'].sum() > 10000:\n",
    "            sub_df = transactions[transactions['account'] == account]\n",
    "            output_df = pd.concat([output_df,pd.DataFrame({'name':[users[users['account']==account]['name'].values[0]],'balance':[sub_df['amount'].sum()]})])\n",
    "    \n",
    "    return output_df"
   ]
  },
  {
   "cell_type": "code",
   "execution_count": null,
   "metadata": {},
   "outputs": [],
   "source": [
    "users = pd.DataFrame({\n",
    "    'account': [900001, 900002, 900003],\n",
    "    'name': ['Alice', 'Bob', 'Charlie']\n",
    "})\n",
    "\n",
    "transactions = pd.DataFrame({\n",
    "    'trans_id': [1, 2, 3, 4, 5, 6, 7],\n",
    "    'account': [900001, 900001, 900001, 900002, 900003, 900003, 900003],\n",
    "    'amount': [7000, 7000, -3000, 1000, 6000, 6000, -4000],\n",
    "    'transacted_on': ['2020-08-01', '2020-09-01', '2020-09-02', '2020-09-12', '2020-08-07', '2020-09-07', '2020-09-11']\n",
    "}\n",
    ")"
   ]
  },
  {
   "cell_type": "code",
   "execution_count": null,
   "metadata": {},
   "outputs": [],
   "source": [
    "account_summary(users,transactions)"
   ]
  }
 ],
 "metadata": {
  "kernelspec": {
   "display_name": "Python 3",
   "language": "python",
   "name": "python3"
  },
  "language_info": {
   "codemirror_mode": {
    "name": "ipython",
    "version": 3
   },
   "file_extension": ".py",
   "mimetype": "text/x-python",
   "name": "python",
   "nbconvert_exporter": "python",
   "pygments_lexer": "ipython3",
   "version": "3.11.4"
  }
 },
 "nbformat": 4,
 "nbformat_minor": 2
}
