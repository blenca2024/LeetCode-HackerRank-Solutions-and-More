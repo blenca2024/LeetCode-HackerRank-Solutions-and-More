{
 "cells": [
  {
   "cell_type": "markdown",
   "metadata": {},
   "source": [
    "1393. Capital Gain/Loss\n",
    "=======================\n",
    "\n",
    "Table: Stocks\n",
    "-------------\n",
    "\n",
    "| Column Name    | Type     |\n",
    "|----------------|----------|\n",
    "| stock_name     | varchar  |\n",
    "| operation      | enum     |\n",
    "| operation_day  | int      |\n",
    "| price          | int      |\n",
    "\n",
    "`(stock_name, operation_day)` is the primary key (combination of columns with unique values) for this table.\n",
    "\n",
    "The `operation` column is an ENUM (category) of type ('Sell', 'Buy').\n",
    "\n",
    "Each row of this table indicates that the stock which has `stock_name` had an operation on the day `operation_day` with the `price`.\n",
    "\n",
    "It is guaranteed that each 'Sell' operation for a stock has a corresponding 'Buy' operation in a previous day. It is also guaranteed that each 'Buy' operation for a stock has a corresponding 'Sell' operation in an upcoming day.\n",
    "\n",
    "Write a solution to report the Capital gain/loss for each stock.\n",
    "\n",
    "The Capital gain/loss of a stock is the total gain or loss after buying and selling the stock one or many times.\n",
    "\n",
    "Return the result table in any order.\n",
    "\n",
    "The result format is in the following example.\n",
    "\n",
    "Example 1:\n",
    "----------\n",
    "\n",
    "**Input:**\n",
    "\n",
    "Stocks table:\n",
    "| stock_name    | operation | operation_day | price  |\n",
    "|---------------|-----------|---------------|--------|\n",
    "| Leetcode      | Buy       | 1             | 1000   |\n",
    "| Corona Masks  | Buy       | 2             | 10     |\n",
    "| Leetcode      | Sell      | 5             | 9000   |\n",
    "| Handbags      | Buy       | 17            | 30000  |\n",
    "| Corona Masks  | Sell      | 3             | 1010   |\n",
    "| Corona Masks  | Buy       | 4             | 1000   |\n",
    "| Corona Masks  | Sell      | 5             | 500    |\n",
    "| Corona Masks  | Buy       | 6             | 1000   |\n",
    "| Handbags      | Sell      | 29            | 7000   |\n",
    "| Corona Masks  | Sell      | 10            | 10000  |\n",
    "\n",
    "**Output:**\n",
    "\n",
    "| stock_name    | capital_gain_loss |\n",
    "|---------------|-------------------|\n",
    "| Corona Masks  | 9500              |\n",
    "| Leetcode      | 8000              |\n",
    "| Handbags      | -23000            |\n",
    "\n",
    "**Explanation:**\n",
    "\n",
    "Leetcode stock was bought at day 1 for 1000$ and was sold at day 5 for 9000$. Capital gain = 9000 - 1000 = 8000$.\n",
    "Handbags stock was bought at day 17 for 30000$ and was sold at day 29 for 7000$. Capital loss = 7000 - 30000 = -23000$.\n",
    "Corona Masks stock was bought at day 1 for 10$ and was sold at day 3 for 1010$. It was bought again at day 4 for 1000$ and was sold at day 5 for 500$. Finally, it was bought at day 6 for 1000$ and was sold at day 10 for 10000$. Capital gain/loss is the sum of capital gains/losses for each ('Buy' --> 'Sell') operation = (1010 - 10) + (500 - 1000) + (10000 - 1000) = 1000 - 500 + 9000 = 9500$.\n"
   ]
  },
  {
   "cell_type": "code",
   "execution_count": 1,
   "metadata": {},
   "outputs": [],
   "source": [
    "import pandas as pd"
   ]
  },
  {
   "cell_type": "code",
   "execution_count": 2,
   "metadata": {},
   "outputs": [],
   "source": [
    "def capital_gainloss(stocks: pd.DataFrame) -> pd.DataFrame:\n",
    "    capital_dict = {'stock_name':[],'capital_gain_loss':[]}\n",
    "\n",
    "    for stock in stocks['stock_name'].unique():\n",
    "        sub_df = stocks[stocks['stock_name']==stock].sort_values('operation_day')\n",
    "\n",
    "        sub_dict = {day:[operation,price] for day,operation,price in sub_df[['operation_day','operation','price']].values}\n",
    "\n",
    "        val = 0\n",
    "        for day in sub_dict:\n",
    "            if sub_dict[day][0] == 'Buy':\n",
    "                val -= sub_dict[day][1]\n",
    "            else:\n",
    "                val += sub_dict[day][1]\n",
    "\n",
    "        capital_dict['stock_name'].append(stock)\n",
    "        capital_dict['capital_gain_loss'].append(val)\n",
    "\n",
    "    return pd.DataFrame(capital_dict)"
   ]
  },
  {
   "cell_type": "code",
   "execution_count": 3,
   "metadata": {},
   "outputs": [],
   "source": [
    "stocks = pd.DataFrame([\n",
    "    {'stock_name': 'Leetcode', 'operation': 'Buy', 'operation_day': 1, 'price': 1000},\n",
    "    {'stock_name': 'Corona Masks', 'operation': 'Buy', 'operation_day': 2, 'price': 10},\n",
    "    {'stock_name': 'Leetcode', 'operation': 'Sell', 'operation_day': 5, 'price': 9000},\n",
    "    {'stock_name': 'Handbags', 'operation': 'Buy', 'operation_day': 17, 'price': 30000},\n",
    "    {'stock_name': 'Corona Masks', 'operation': 'Sell', 'operation_day': 3, 'price': 1010},\n",
    "    {'stock_name': 'Corona Masks', 'operation': 'Buy', 'operation_day': 4, 'price': 1000},\n",
    "    {'stock_name': 'Corona Masks', 'operation': 'Sell', 'operation_day': 5, 'price': 500},\n",
    "    {'stock_name': 'Corona Masks', 'operation': 'Buy', 'operation_day': 6, 'price': 1000},\n",
    "    {'stock_name': 'Handbags', 'operation': 'Sell', 'operation_day': 29, 'price': 7000},\n",
    "    {'stock_name': 'Corona Masks', 'operation': 'Sell', 'operation_day': 10, 'price': 10000}\n",
    "])"
   ]
  },
  {
   "cell_type": "code",
   "execution_count": 4,
   "metadata": {},
   "outputs": [
    {
     "data": {
      "text/html": [
       "<div>\n",
       "<style scoped>\n",
       "    .dataframe tbody tr th:only-of-type {\n",
       "        vertical-align: middle;\n",
       "    }\n",
       "\n",
       "    .dataframe tbody tr th {\n",
       "        vertical-align: top;\n",
       "    }\n",
       "\n",
       "    .dataframe thead th {\n",
       "        text-align: right;\n",
       "    }\n",
       "</style>\n",
       "<table border=\"1\" class=\"dataframe\">\n",
       "  <thead>\n",
       "    <tr style=\"text-align: right;\">\n",
       "      <th></th>\n",
       "      <th>stock_name</th>\n",
       "      <th>capital_gain_loss</th>\n",
       "    </tr>\n",
       "  </thead>\n",
       "  <tbody>\n",
       "    <tr>\n",
       "      <th>0</th>\n",
       "      <td>Leetcode</td>\n",
       "      <td>8000</td>\n",
       "    </tr>\n",
       "    <tr>\n",
       "      <th>1</th>\n",
       "      <td>Corona Masks</td>\n",
       "      <td>9500</td>\n",
       "    </tr>\n",
       "    <tr>\n",
       "      <th>2</th>\n",
       "      <td>Handbags</td>\n",
       "      <td>-23000</td>\n",
       "    </tr>\n",
       "  </tbody>\n",
       "</table>\n",
       "</div>"
      ],
      "text/plain": [
       "     stock_name  capital_gain_loss\n",
       "0      Leetcode               8000\n",
       "1  Corona Masks               9500\n",
       "2      Handbags             -23000"
      ]
     },
     "execution_count": 4,
     "metadata": {},
     "output_type": "execute_result"
    }
   ],
   "source": [
    "capital_gainloss(stocks)"
   ]
  }
 ],
 "metadata": {
  "kernelspec": {
   "display_name": "datascience",
   "language": "python",
   "name": "datascience"
  },
  "language_info": {
   "codemirror_mode": {
    "name": "ipython",
    "version": 3
   },
   "file_extension": ".py",
   "mimetype": "text/x-python",
   "name": "python",
   "nbconvert_exporter": "python",
   "pygments_lexer": "ipython3",
   "version": "3.11.4"
  }
 },
 "nbformat": 4,
 "nbformat_minor": 2
}
