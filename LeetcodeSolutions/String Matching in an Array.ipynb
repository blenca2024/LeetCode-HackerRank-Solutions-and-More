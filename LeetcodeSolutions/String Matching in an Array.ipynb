{
 "cells": [
  {
   "cell_type": "markdown",
   "metadata": {},
   "source": [
    "# 1408. String Matching in an Array\n",
    "\n",
    "Given an array of string `words`, return all strings in `words` that is a substring of another word. You can return the answer in any order.\n",
    "\n",
    "A substring is a contiguous sequence of characters within a string.\n",
    "\n",
    "## Example 1:\n",
    "\n",
    "**Input:**  \n",
    "`words = [\"mass\",\"as\",\"hero\",\"superhero\"]`\n",
    "\n",
    "**Output:**  \n",
    "`[\"as\",\"hero\"]`\n",
    "\n",
    "**Explanation:**  \n",
    "\"as\" is a substring of \"mass\" and \"hero\" is a substring of \"superhero\".  \n",
    "`[\"hero\",\"as\"]` is also a valid answer.\n",
    "\n",
    "## Example 2:\n",
    "\n",
    "**Input:**  \n",
    "`words = [\"leetcode\",\"et\",\"code\"]`\n",
    "\n",
    "**Output:**  \n",
    "`[\"et\",\"code\"]`\n",
    "\n",
    "**Explanation:**  \n",
    "\"et\" and \"code\" are substrings of \"leetcode\".\n",
    "\n",
    "## Example 3:\n",
    "\n",
    "**Input:**  \n",
    "`words = [\"blue\",\"green\",\"bu\"]`\n",
    "\n",
    "**Output:**  \n",
    "`[]`\n",
    "\n",
    "**Explanation:**  \n",
    "No string in `words` is a substring of another string.\n",
    "\n",
    "## Constraints:\n",
    "\n",
    "- `1 <= words.length <= 100`\n",
    "- `1 <= words[i].length <= 30`\n",
    "- `words[i]` contains only lowercase English letters.\n",
    "- All the strings in `words` are unique.\n"
   ]
  },
  {
   "cell_type": "code",
   "execution_count": 6,
   "metadata": {},
   "outputs": [],
   "source": [
    "from typing import List"
   ]
  },
  {
   "cell_type": "code",
   "execution_count": 8,
   "metadata": {},
   "outputs": [],
   "source": [
    "def stringMatching(words: List[str]) -> List[str]:\n",
    "\n",
    "    output_list = []\n",
    "\n",
    "    for word in words:\n",
    "        if len([subword for subword in words if word in subword]) > 1:\n",
    "            output_list.append(word)\n",
    "\n",
    "    return output_list"
   ]
  },
  {
   "cell_type": "code",
   "execution_count": 9,
   "metadata": {},
   "outputs": [
    {
     "data": {
      "text/plain": [
       "['as', 'hero']"
      ]
     },
     "execution_count": 9,
     "metadata": {},
     "output_type": "execute_result"
    }
   ],
   "source": [
    "words = [\"mass\",\"as\",\"hero\",\"superhero\"]\n",
    "stringMatching(words=words)"
   ]
  },
  {
   "cell_type": "code",
   "execution_count": 10,
   "metadata": {},
   "outputs": [
    {
     "data": {
      "text/plain": [
       "['et', 'code']"
      ]
     },
     "execution_count": 10,
     "metadata": {},
     "output_type": "execute_result"
    }
   ],
   "source": [
    "words = [\"leetcode\",\"et\",\"code\"]\n",
    "stringMatching(words=words)"
   ]
  },
  {
   "cell_type": "code",
   "execution_count": 11,
   "metadata": {},
   "outputs": [
    {
     "data": {
      "text/plain": [
       "[]"
      ]
     },
     "execution_count": 11,
     "metadata": {},
     "output_type": "execute_result"
    }
   ],
   "source": [
    "words = [\"blue\",\"green\",\"bu\"]\n",
    "stringMatching(words=words)"
   ]
  }
 ],
 "metadata": {
  "kernelspec": {
   "display_name": "wai",
   "language": "python",
   "name": "python3"
  },
  "language_info": {
   "codemirror_mode": {
    "name": "ipython",
    "version": 3
   },
   "file_extension": ".py",
   "mimetype": "text/x-python",
   "name": "python",
   "nbconvert_exporter": "python",
   "pygments_lexer": "ipython3",
   "version": "3.11.4"
  }
 },
 "nbformat": 4,
 "nbformat_minor": 2
}
