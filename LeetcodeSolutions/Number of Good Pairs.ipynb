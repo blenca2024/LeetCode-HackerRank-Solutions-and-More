{
 "cells": [
  {
   "cell_type": "markdown",
   "metadata": {},
   "source": [
    "# Number of Good Pairs\n",
    "\n",
    "Given an array of integers nums.\n",
    "\n",
    "A pair (i,j) is called good if nums[i] == nums[j] and i < j.\n",
    "\n",
    "Return the number of good pairs.\n",
    "\n",
    "**Example 1:**\n",
    "\n",
    "Input: nums = [1,2,3,1,1,3]\n",
    "Output: 4\n",
    "Explanation: There are 4 good pairs (0,3), (0,4), (3,4), (2,5) 0-indexed.\n",
    "\n",
    "**Example 2:**\n",
    "\n",
    "Input: nums = [1,1,1,1]\n",
    "Output: 6\n",
    "Explanation: Each pair in the array are good.\n",
    "\n",
    "**Example 3:**\n",
    "\n",
    "Input: nums = [1,2,3]\n",
    "Output: 0\n",
    "\n",
    "**Constraints:**\n",
    "\n",
    "1 <= nums.length <= 100\n",
    "\n",
    "1 <= nums[i] <= 100"
   ]
  },
  {
   "cell_type": "code",
   "execution_count": 6,
   "metadata": {},
   "outputs": [
    {
     "name": "stdout",
     "output_type": "stream",
     "text": [
      "4\n",
      "6\n",
      "0\n"
     ]
    }
   ],
   "source": [
    "def numIdenticalPairs(nums):\n",
    "        a = []\n",
    "        count = 0\n",
    "        for i in range(len(nums)):\n",
    "            for j in range(i+1,len(nums)):\n",
    "                a.append([nums[i],nums[j]])\n",
    "        for i in a:\n",
    "            if (all(k==i[0] for k in i)):\n",
    "                count +=1\n",
    "            else:\n",
    "                pass\n",
    "        return count\n",
    "\n",
    "    \n",
    "nums = [1,2,3,1,1,3]\n",
    "print(numIdenticalPairs(nums))\n",
    "\n",
    "nums = [1,1,1,1]\n",
    "print(numIdenticalPairs(nums))\n",
    "\n",
    "nums = [1,2,3]\n",
    "print(numIdenticalPairs(nums))"
   ]
  }
 ],
 "metadata": {
  "kernelspec": {
   "display_name": "Python 3",
   "language": "python",
   "name": "python3"
  },
  "language_info": {
   "codemirror_mode": {
    "name": "ipython",
    "version": 3
   },
   "file_extension": ".py",
   "mimetype": "text/x-python",
   "name": "python",
   "nbconvert_exporter": "python",
   "pygments_lexer": "ipython3",
   "version": "3.7.3"
  }
 },
 "nbformat": 4,
 "nbformat_minor": 2
}
