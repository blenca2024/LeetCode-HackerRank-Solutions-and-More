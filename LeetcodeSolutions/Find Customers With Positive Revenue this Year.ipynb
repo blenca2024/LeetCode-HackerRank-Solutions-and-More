{
 "cells": [
  {
   "cell_type": "markdown",
   "metadata": {},
   "source": [
    "# 1821. Find Customers With Positive Revenue this Year\n",
    "\n",
    "Table: Customers\n",
    "\n",
    "| Column Name | Type |\n",
    "|-------------|------|\n",
    "| customer_id | int  |\n",
    "| year        | int  |\n",
    "| revenue     | int  |\n",
    "\n",
    "`(customer_id, year)` is the primary key (combination of columns with unique values) for this table.\n",
    "This table contains the customer ID and the revenue of customers in different years.\n",
    "Note that this revenue can be negative.\n",
    "\n",
    "Write a solution to report the customers with positive revenue in the year 2021.\n",
    "\n",
    "Return the result table in any order.\n",
    "\n",
    "The result format is in the following example.\n",
    "\n",
    "## Example:\n",
    "\n",
    "**Input:**\n",
    "\n",
    "Customers table:\n",
    "\n",
    "| customer_id | year | revenue |\n",
    "|-------------|------|---------|\n",
    "| 1           | 2018 | 50      |\n",
    "| 1           | 2021 | 30      |\n",
    "| 1           | 2020 | 70      |\n",
    "| 2           | 2021 | -50     |\n",
    "| 3           | 2018 | 10      |\n",
    "| 3           | 2016 | 50      |\n",
    "| 4           | 2021 | 20      |\n",
    "\n",
    "**Output:**\n",
    "\n",
    "| customer_id |\n",
    "|-------------|\n",
    "| 1           |\n",
    "| 4           |\n",
    "\n",
    "**Explanation:**\n",
    "\n",
    "Customer 1 has revenue equal to 30 in the year 2021.\n",
    "Customer 2 has revenue equal to -50 in the year 2021.\n",
    "Customer 3 has no revenue in the year 2021.\n",
    "Customer 4 has revenue equal to 20 in the year 2021.\n",
    "Thus only customers 1 and 4 have positive revenue in the year 2021.\n"
   ]
  },
  {
   "cell_type": "code",
   "execution_count": 1,
   "metadata": {},
   "outputs": [],
   "source": [
    "import pandas as pd"
   ]
  },
  {
   "cell_type": "code",
   "execution_count": 2,
   "metadata": {},
   "outputs": [],
   "source": [
    "def find_customers(customers: pd.DataFrame) -> pd.DataFrame:\n",
    "    customer_filter = customers[customers['year']==2021]\n",
    "    return pd.DataFrame({'customer_id':[customer for customer,revenue in zip(customer_filter['customer_id'],customer_filter['revenue']) if revenue > 0]})"
   ]
  },
  {
   "cell_type": "code",
   "execution_count": 3,
   "metadata": {},
   "outputs": [
    {
     "data": {
      "text/html": [
       "<div>\n",
       "<style scoped>\n",
       "    .dataframe tbody tr th:only-of-type {\n",
       "        vertical-align: middle;\n",
       "    }\n",
       "\n",
       "    .dataframe tbody tr th {\n",
       "        vertical-align: top;\n",
       "    }\n",
       "\n",
       "    .dataframe thead th {\n",
       "        text-align: right;\n",
       "    }\n",
       "</style>\n",
       "<table border=\"1\" class=\"dataframe\">\n",
       "  <thead>\n",
       "    <tr style=\"text-align: right;\">\n",
       "      <th></th>\n",
       "      <th>customer_id</th>\n",
       "    </tr>\n",
       "  </thead>\n",
       "  <tbody>\n",
       "    <tr>\n",
       "      <th>0</th>\n",
       "      <td>1</td>\n",
       "    </tr>\n",
       "    <tr>\n",
       "      <th>1</th>\n",
       "      <td>4</td>\n",
       "    </tr>\n",
       "  </tbody>\n",
       "</table>\n",
       "</div>"
      ],
      "text/plain": [
       "   customer_id\n",
       "0            1\n",
       "1            4"
      ]
     },
     "execution_count": 3,
     "metadata": {},
     "output_type": "execute_result"
    }
   ],
   "source": [
    "customers = pd.DataFrame({\n",
    "    \"customer_id\": [1, 1, 1, 2, 3, 3, 4],\n",
    "    \"year\": [2018, 2021, 2020, 2021, 2018, 2016, 2021],\n",
    "    \"revenue\": [50, 30, 70, -50, 10, 50, 20]\n",
    "})\n",
    "\n",
    "find_customers(customers)"
   ]
  }
 ],
 "metadata": {
  "kernelspec": {
   "display_name": "datascience",
   "language": "python",
   "name": "datascience"
  },
  "language_info": {
   "codemirror_mode": {
    "name": "ipython",
    "version": 3
   },
   "file_extension": ".py",
   "mimetype": "text/x-python",
   "name": "python",
   "nbconvert_exporter": "python",
   "pygments_lexer": "ipython3",
   "version": "3.11.4"
  }
 },
 "nbformat": 4,
 "nbformat_minor": 2
}
