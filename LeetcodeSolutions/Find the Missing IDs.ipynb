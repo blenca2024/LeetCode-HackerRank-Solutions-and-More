{
 "cells": [
  {
   "cell_type": "markdown",
   "metadata": {},
   "source": [
    "# 1613. Find the Missing IDs\n",
    "\n",
    "## Table: Customers\n",
    "\n",
    "| Column Name   | Type    |\n",
    "|---------------|---------|\n",
    "| customer_id   | int     |\n",
    "| customer_name | varchar |\n",
    "\n",
    "`customer_id` is the column with unique values for this table. Each row of this table contains the name and the id of a customer.\n",
    "\n",
    "Write a solution to find the missing customer IDs. The missing IDs are ones that are not in the `Customers` table but are in the range between 1 and the maximum `customer_id` present in the table.\n",
    "\n",
    "Notice that the maximum `customer_id` will not exceed 100.\n",
    "\n",
    "Return the result table ordered by `ids` in ascending order.\n",
    "\n",
    "The result format is in the following example.\n",
    "\n",
    "## Example 1:\n",
    "\n",
    "**Input:**\n",
    "\n",
    "Customers table:\n",
    "\n",
    "| customer_id | customer_name |\n",
    "|-------------|---------------|\n",
    "| 1           | Alice         |\n",
    "| 4           | Bob           |\n",
    "| 5           | Charlie       |\n",
    "\n",
    "**Output:**\n",
    "\n",
    "| ids |\n",
    "|-----|\n",
    "| 2   |\n",
    "| 3   |\n",
    "\n",
    "**Explanation:**  \n",
    "The maximum `customer_id` present in the table is 5, so in the range [1,5], IDs 2 and 3 are missing from the table.\n"
   ]
  },
  {
   "cell_type": "code",
   "execution_count": 1,
   "metadata": {},
   "outputs": [],
   "source": [
    "import pandas as pd"
   ]
  },
  {
   "cell_type": "code",
   "execution_count": 2,
   "metadata": {},
   "outputs": [],
   "source": [
    "def find_missing_ids(customers: pd.DataFrame) -> pd.DataFrame:\n",
    "    return pd.DataFrame({'ids':[id for id in range(1,customers['customer_id'].max()+1) if id not in customers['customer_id'].values]})"
   ]
  },
  {
   "cell_type": "code",
   "execution_count": 3,
   "metadata": {},
   "outputs": [],
   "source": [
    "customers = pd.DataFrame([\n",
    "    {\"customer_id\": 1, \"customer_name\": \"Alice\"},\n",
    "    {\"customer_id\": 4, \"customer_name\": \"Bob\"},\n",
    "    {\"customer_id\": 5, \"customer_name\": \"Charlie\"},\n",
    "])"
   ]
  },
  {
   "cell_type": "code",
   "execution_count": 4,
   "metadata": {},
   "outputs": [
    {
     "data": {
      "text/html": [
       "<div>\n",
       "<style scoped>\n",
       "    .dataframe tbody tr th:only-of-type {\n",
       "        vertical-align: middle;\n",
       "    }\n",
       "\n",
       "    .dataframe tbody tr th {\n",
       "        vertical-align: top;\n",
       "    }\n",
       "\n",
       "    .dataframe thead th {\n",
       "        text-align: right;\n",
       "    }\n",
       "</style>\n",
       "<table border=\"1\" class=\"dataframe\">\n",
       "  <thead>\n",
       "    <tr style=\"text-align: right;\">\n",
       "      <th></th>\n",
       "      <th>ids</th>\n",
       "    </tr>\n",
       "  </thead>\n",
       "  <tbody>\n",
       "    <tr>\n",
       "      <th>0</th>\n",
       "      <td>2</td>\n",
       "    </tr>\n",
       "    <tr>\n",
       "      <th>1</th>\n",
       "      <td>3</td>\n",
       "    </tr>\n",
       "  </tbody>\n",
       "</table>\n",
       "</div>"
      ],
      "text/plain": [
       "   ids\n",
       "0    2\n",
       "1    3"
      ]
     },
     "execution_count": 4,
     "metadata": {},
     "output_type": "execute_result"
    }
   ],
   "source": [
    "find_missing_ids(customers=customers)"
   ]
  }
 ],
 "metadata": {
  "kernelspec": {
   "display_name": "datascience",
   "language": "python",
   "name": "datascience"
  },
  "language_info": {
   "codemirror_mode": {
    "name": "ipython",
    "version": 3
   },
   "file_extension": ".py",
   "mimetype": "text/x-python",
   "name": "python",
   "nbconvert_exporter": "python",
   "pygments_lexer": "ipython3",
   "version": "3.11.4"
  }
 },
 "nbformat": 4,
 "nbformat_minor": 2
}
