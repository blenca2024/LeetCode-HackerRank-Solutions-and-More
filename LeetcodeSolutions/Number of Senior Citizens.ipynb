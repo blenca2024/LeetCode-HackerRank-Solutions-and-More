{
 "cells": [
  {
   "cell_type": "markdown",
   "metadata": {},
   "source": [
    "## 2678. Number of Senior Citizens\n",
    "\n",
    "You are given a 0-indexed array of strings `details`. Each element of `details` provides information about a given passenger compressed into a string of length 15. The system is such that:\n",
    "\n",
    "- The first ten characters consist of the phone number of passengers.\n",
    "- The next character denotes the gender of the person.\n",
    "- The following two characters are used to indicate the age of the person.\n",
    "- The last two characters determine the seat allotted to that person.\n",
    "\n",
    "Return the number of passengers who are strictly more than 60 years old.\n",
    "\n",
    "### Example 1:\n",
    "\n",
    "**Input:**  \n",
    "`details = [\"7868190130M7522\",\"5303914400F9211\",\"9273338290F4010\"]`\n",
    "\n",
    "**Output:**  \n",
    "`2`\n",
    "\n",
    "**Explanation:**  \n",
    "The passengers at indices 0, 1, and 2 have ages 75, 92, and 40. Thus, there are 2 people who are over 60 years old.\n",
    "\n",
    "### Example 2:\n",
    "\n",
    "**Input:**  \n",
    "`details = [\"1313579440F2036\",\"2921522980M5644\"]`\n",
    "\n",
    "**Output:**  \n",
    "`0`\n",
    "\n",
    "**Explanation:**  \n",
    "None of the passengers are older than 60.\n",
    "\n",
    "### Constraints:\n",
    "\n",
    "- `1 <= details.length <= 100`\n",
    "- `details[i].length == 15`\n",
    "- `details[i]` consists of digits from '0' to '9'.\n",
    "- `details[i][10]` is either 'M' or 'F' or 'O'.\n",
    "- The phone numbers and seat numbers of the passengers are distinct.\n"
   ]
  },
  {
   "cell_type": "code",
   "execution_count": 1,
   "metadata": {},
   "outputs": [],
   "source": [
    "from typing import List"
   ]
  },
  {
   "cell_type": "code",
   "execution_count": 2,
   "metadata": {},
   "outputs": [],
   "source": [
    "def countSeniors(details: List[str]) -> int:\n",
    "    return len([age for age in details if int(age[11:][:-2]) > 60])"
   ]
  },
  {
   "cell_type": "code",
   "execution_count": 3,
   "metadata": {},
   "outputs": [
    {
     "data": {
      "text/plain": [
       "2"
      ]
     },
     "execution_count": 3,
     "metadata": {},
     "output_type": "execute_result"
    }
   ],
   "source": [
    "details = [\"7868190130M7522\",\"5303914400F9211\",\"9273338290F4010\"]\n",
    "countSeniors(details)"
   ]
  },
  {
   "cell_type": "code",
   "execution_count": 4,
   "metadata": {},
   "outputs": [
    {
     "data": {
      "text/plain": [
       "0"
      ]
     },
     "execution_count": 4,
     "metadata": {},
     "output_type": "execute_result"
    }
   ],
   "source": [
    "details = [\"1313579440F2036\",\"2921522980M5644\"]\n",
    "countSeniors(details)"
   ]
  }
 ],
 "metadata": {
  "kernelspec": {
   "display_name": "datascience",
   "language": "python",
   "name": "datascience"
  },
  "language_info": {
   "codemirror_mode": {
    "name": "ipython",
    "version": 3
   },
   "file_extension": ".py",
   "mimetype": "text/x-python",
   "name": "python",
   "nbconvert_exporter": "python",
   "pygments_lexer": "ipython3",
   "version": "3.11.4"
  }
 },
 "nbformat": 4,
 "nbformat_minor": 2
}
