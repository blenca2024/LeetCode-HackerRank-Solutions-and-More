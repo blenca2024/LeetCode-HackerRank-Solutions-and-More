{
 "cells": [
  {
   "cell_type": "markdown",
   "metadata": {},
   "source": [
    "# 1795. Rearrange Products Table\n",
    "\n",
    "Table: Products\n",
    "\n",
    "| Column Name | Type |\n",
    "|-------------|------|\n",
    "| product_id  | int  |\n",
    "| store1      | int  |\n",
    "| store2      | int  |\n",
    "| store3      | int  |\n",
    "\n",
    "`product_id` is the primary key (column with unique values) for this table.\n",
    "Each row in this table indicates the product's price in 3 different stores: store1, store2, and store3.\n",
    "If the product is not available in a store, the price will be null in that store's column.\n",
    "\n",
    "Write a solution to rearrange the Products table so that each row has (product_id, store, price). If a product is not available in a store, do not include a row with that product_id and store combination in the result table.\n",
    "\n",
    "Return the result table in any order.\n",
    "\n",
    "The result format is in the following example.\n",
    "\n",
    "## Example:\n",
    "\n",
    "**Input:**\n",
    "\n",
    "Products table:\n",
    "\n",
    "| product_id | store1 | store2 | store3 |\n",
    "|------------|--------|--------|--------|\n",
    "| 0          | 95     | 100    | 105    |\n",
    "| 1          | 70     | null   | 80     |\n",
    "\n",
    "**Output:**\n",
    "\n",
    "| product_id | store  | price |\n",
    "|------------|--------|-------|\n",
    "| 0          | store1 | 95    |\n",
    "| 0          | store2 | 100   |\n",
    "| 0          | store3 | 105   |\n",
    "| 1          | store1 | 70    |\n",
    "| 1          | store3 | 80    |\n",
    "\n",
    "**Explanation:**\n",
    "\n",
    "Product 0 is available in all three stores with prices 95, 100, and 105 respectively.\n",
    "Product 1 is available in store1 with price 70 and store3 with price 80. The product is not available in store2."
   ]
  },
  {
   "cell_type": "code",
   "execution_count": 1,
   "metadata": {},
   "outputs": [],
   "source": [
    "import pandas as pd"
   ]
  },
  {
   "cell_type": "code",
   "execution_count": 2,
   "metadata": {},
   "outputs": [
    {
     "data": {
      "text/html": [
       "<div>\n",
       "<style scoped>\n",
       "    .dataframe tbody tr th:only-of-type {\n",
       "        vertical-align: middle;\n",
       "    }\n",
       "\n",
       "    .dataframe tbody tr th {\n",
       "        vertical-align: top;\n",
       "    }\n",
       "\n",
       "    .dataframe thead th {\n",
       "        text-align: right;\n",
       "    }\n",
       "</style>\n",
       "<table border=\"1\" class=\"dataframe\">\n",
       "  <thead>\n",
       "    <tr style=\"text-align: right;\">\n",
       "      <th></th>\n",
       "      <th>product_id</th>\n",
       "      <th>store</th>\n",
       "      <th>price</th>\n",
       "    </tr>\n",
       "  </thead>\n",
       "  <tbody>\n",
       "    <tr>\n",
       "      <th>0</th>\n",
       "      <td>0</td>\n",
       "      <td>store1</td>\n",
       "      <td>95.0</td>\n",
       "    </tr>\n",
       "    <tr>\n",
       "      <th>1</th>\n",
       "      <td>1</td>\n",
       "      <td>store1</td>\n",
       "      <td>70.0</td>\n",
       "    </tr>\n",
       "    <tr>\n",
       "      <th>2</th>\n",
       "      <td>0</td>\n",
       "      <td>store2</td>\n",
       "      <td>100.0</td>\n",
       "    </tr>\n",
       "    <tr>\n",
       "      <th>4</th>\n",
       "      <td>0</td>\n",
       "      <td>store3</td>\n",
       "      <td>105.0</td>\n",
       "    </tr>\n",
       "    <tr>\n",
       "      <th>5</th>\n",
       "      <td>1</td>\n",
       "      <td>store3</td>\n",
       "      <td>80.0</td>\n",
       "    </tr>\n",
       "  </tbody>\n",
       "</table>\n",
       "</div>"
      ],
      "text/plain": [
       "   product_id   store  price\n",
       "0           0  store1   95.0\n",
       "1           1  store1   70.0\n",
       "2           0  store2  100.0\n",
       "4           0  store3  105.0\n",
       "5           1  store3   80.0"
      ]
     },
     "execution_count": 2,
     "metadata": {},
     "output_type": "execute_result"
    }
   ],
   "source": [
    "products = pd.DataFrame([\n",
    "    {\"product_id\": 0, \"store1\": 95, \"store2\": 100, \"store3\": 105},\n",
    "    {\"product_id\": 1, \"store1\": 70, \"store2\": None, \"store3\": 80},\n",
    "])\n",
    "\n",
    "def rearrange_products_table(products: pd.DataFrame) -> pd.DataFrame:\n",
    "    filtered_products = products.melt(id_vars=['product_id']).dropna()\n",
    "    return filtered_products.rename({'variable':'store','value':'price'},axis=1)\n",
    "\n",
    "rearrange_products_table(products=products)"
   ]
  }
 ],
 "metadata": {
  "kernelspec": {
   "display_name": "datascience",
   "language": "python",
   "name": "datascience"
  },
  "language_info": {
   "codemirror_mode": {
    "name": "ipython",
    "version": 3
   },
   "file_extension": ".py",
   "mimetype": "text/x-python",
   "name": "python",
   "nbconvert_exporter": "python",
   "pygments_lexer": "ipython3",
   "version": "3.11.4"
  }
 },
 "nbformat": 4,
 "nbformat_minor": 2
}
