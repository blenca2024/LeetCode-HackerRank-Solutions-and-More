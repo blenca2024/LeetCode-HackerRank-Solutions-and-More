{
  "nbformat": 4,
  "nbformat_minor": 0,
  "metadata": {
    "colab": {
      "name": "Add Binary.ipynb",
      "provenance": [],
      "collapsed_sections": []
    },
    "kernelspec": {
      "name": "python3",
      "display_name": "Python 3"
    },
    "language_info": {
      "name": "python"
    }
  },
  "cells": [
    {
      "cell_type": "markdown",
      "source": [
        "# **Add Binary**\n",
        "\n",
        "Given two binary strings `a` and `b`, return their sum as a *binary string*."
      ],
      "metadata": {
        "id": "IxFhAxckYdUs"
      }
    },
    {
      "cell_type": "code",
      "source": [
        "def addBinary(a, b):\n",
        "    return bin(int(a,2) + int(b,2))[2:]"
      ],
      "metadata": {
        "id": "Oxce4DtZYf-G"
      },
      "execution_count": 1,
      "outputs": []
    },
    {
      "cell_type": "markdown",
      "source": [
        "## **Example 1:**\n",
        "\n",
        "```\n",
        "Input: a = \"11\", b = \"1\"\n",
        "Output: \"100\"\n",
        "```"
      ],
      "metadata": {
        "id": "K4M1jWMHYpEu"
      }
    },
    {
      "cell_type": "code",
      "source": [
        "a = \"11\"\n",
        "b = \"1\"\n",
        "\n",
        "addBinary(a, b)"
      ],
      "metadata": {
        "colab": {
          "base_uri": "https://localhost:8080/",
          "height": 36
        },
        "id": "PRxEZvi-YEBJ",
        "outputId": "d28c9021-e90f-4ad3-c2b8-c1797b2fafb4"
      },
      "execution_count": 2,
      "outputs": [
        {
          "output_type": "execute_result",
          "data": {
            "application/vnd.google.colaboratory.intrinsic+json": {
              "type": "string"
            },
            "text/plain": [
              "'100'"
            ]
          },
          "metadata": {},
          "execution_count": 2
        }
      ]
    },
    {
      "cell_type": "markdown",
      "source": [
        "## **Example 2:**\n",
        "\n",
        "```\n",
        "Input: a = \"1010\", b = \"1011\"\n",
        "Output: \"10101\"\n",
        "```"
      ],
      "metadata": {
        "id": "kbiuvyA3YvGr"
      }
    },
    {
      "cell_type": "code",
      "source": [
        "a = \"1010\"\n",
        "b = \"1011\"\n",
        "\n",
        "addBinary(a, b)"
      ],
      "metadata": {
        "colab": {
          "base_uri": "https://localhost:8080/",
          "height": 36
        },
        "id": "poJcJ9LYYJ7h",
        "outputId": "e12cd2fb-063b-431e-bec6-a2ebd0e3e11f"
      },
      "execution_count": 3,
      "outputs": [
        {
          "output_type": "execute_result",
          "data": {
            "application/vnd.google.colaboratory.intrinsic+json": {
              "type": "string"
            },
            "text/plain": [
              "'10101'"
            ]
          },
          "metadata": {},
          "execution_count": 3
        }
      ]
    }
  ]
}