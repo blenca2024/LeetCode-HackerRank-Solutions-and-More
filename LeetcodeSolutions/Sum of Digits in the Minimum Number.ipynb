{
 "cells": [
  {
   "cell_type": "markdown",
   "metadata": {},
   "source": [
    "## 1085. Sum of Digits in the Minimum Number\n",
    "\n",
    "### Hint\n",
    "Given an integer array `nums`, return 0 if the sum of the digits of the minimum integer in `nums` is odd, or 1 otherwise.\n",
    "\n",
    "### Example 1:\n",
    "**Input:** `nums = [34,23,1,24,75,33,54,8]`  \n",
    "**Output:** `0`  \n",
    "**Explanation:** The minimal element is 1, and the sum of those digits is 1 which is odd, so the answer is 0.\n",
    "\n",
    "### Example 2:\n",
    "**Input:** `nums = [99,77,33,66,55]`  \n",
    "**Output:** `1`  \n",
    "**Explanation:** The minimal element is 33, and the sum of those digits is 3 + 3 = 6 which is even, so the answer is 1.\n",
    "\n",
    "### Constraints:\n",
    "- `1 <= nums.length <= 100`\n",
    "- `1 <= nums[i] <= 100`\n"
   ]
  },
  {
   "cell_type": "code",
   "execution_count": 1,
   "metadata": {},
   "outputs": [],
   "source": [
    "from typing import List"
   ]
  },
  {
   "cell_type": "code",
   "execution_count": 2,
   "metadata": {},
   "outputs": [],
   "source": [
    "def sumOfDigits(nums: List[int]) -> int:\n",
    "    min_num = min(nums)\n",
    "    output = sum([int(char) for char in str(min_num)])\n",
    "\n",
    "    if output % 2 == 0:\n",
    "        return 1\n",
    "    else:\n",
    "        return 0"
   ]
  },
  {
   "cell_type": "code",
   "execution_count": 3,
   "metadata": {},
   "outputs": [
    {
     "data": {
      "text/plain": [
       "0"
      ]
     },
     "execution_count": 3,
     "metadata": {},
     "output_type": "execute_result"
    }
   ],
   "source": [
    "nums = [34,23,1,24,75,33,54,8]\n",
    "sumOfDigits(nums)"
   ]
  },
  {
   "cell_type": "code",
   "execution_count": 4,
   "metadata": {},
   "outputs": [
    {
     "data": {
      "text/plain": [
       "1"
      ]
     },
     "execution_count": 4,
     "metadata": {},
     "output_type": "execute_result"
    }
   ],
   "source": [
    "nums = [99,77,33,66,55]\n",
    "sumOfDigits(nums)"
   ]
  }
 ],
 "metadata": {
  "kernelspec": {
   "display_name": "datascience",
   "language": "python",
   "name": "datascience"
  },
  "language_info": {
   "codemirror_mode": {
    "name": "ipython",
    "version": 3
   },
   "file_extension": ".py",
   "mimetype": "text/x-python",
   "name": "python",
   "nbconvert_exporter": "python",
   "pygments_lexer": "ipython3",
   "version": "3.11.4"
  }
 },
 "nbformat": 4,
 "nbformat_minor": 2
}
