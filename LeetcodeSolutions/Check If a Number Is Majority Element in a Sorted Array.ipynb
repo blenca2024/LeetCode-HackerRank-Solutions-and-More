{
 "cells": [
  {
   "cell_type": "markdown",
   "metadata": {},
   "source": [
    "# 1150. Check If a Number Is Majority Element in a Sorted Array\n",
    "\n",
    "Given an integer array `nums` sorted in non-decreasing order and an integer `target`, return `true` if `target` is a majority element, or `false` otherwise.\n",
    "\n",
    "A majority element in an array `nums` is an element that appears more than `nums.length / 2` times in the array.\n",
    "\n",
    "## Example 1:\n",
    "\n",
    "**Input:** `nums = [2,4,5,5,5,5,5,6,6]`, `target = 5`\n",
    "\n",
    "**Output:** `true`\n",
    "\n",
    "**Explanation:** The value `5` appears 5 times, and the length of the array is 9.  \n",
    "Thus, `5` is a majority element because `5 > 9/2` is true.\n",
    "\n",
    "## Example 2:\n",
    "\n",
    "**Input:** `nums = [10,100,101,101]`, `target = 101`\n",
    "\n",
    "**Output:** `false`\n",
    "\n",
    "**Explanation:** The value `101` appears 2 times, and the length of the array is 4.  \n",
    "Thus, `101` is not a majority element because `2 > 4/2` is false.\n",
    "\n",
    "## Constraints:\n",
    "\n",
    "- `1 <= nums.length <= 1000`\n",
    "- `1 <= nums[i], target <= 10^9`\n",
    "- `nums` is sorted in non-decreasing order.\n"
   ]
  },
  {
   "cell_type": "code",
   "execution_count": 1,
   "metadata": {},
   "outputs": [],
   "source": [
    "from typing import List"
   ]
  },
  {
   "cell_type": "code",
   "execution_count": 2,
   "metadata": {},
   "outputs": [],
   "source": [
    "def isMajorityElement(nums: List[int], target: int) -> bool:\n",
    "    return nums.count(target) > len(nums)/2"
   ]
  },
  {
   "cell_type": "code",
   "execution_count": 3,
   "metadata": {},
   "outputs": [
    {
     "data": {
      "text/plain": [
       "True"
      ]
     },
     "execution_count": 3,
     "metadata": {},
     "output_type": "execute_result"
    }
   ],
   "source": [
    "nums = [2,4,5,5,5,5,5,6,6]\n",
    "target = 5\n",
    "\n",
    "isMajorityElement(nums,target)"
   ]
  },
  {
   "cell_type": "code",
   "execution_count": 4,
   "metadata": {},
   "outputs": [
    {
     "data": {
      "text/plain": [
       "False"
      ]
     },
     "execution_count": 4,
     "metadata": {},
     "output_type": "execute_result"
    }
   ],
   "source": [
    "nums = [10,100,101,101]\n",
    "target = 101\n",
    "\n",
    "isMajorityElement(nums,target)"
   ]
  }
 ],
 "metadata": {
  "kernelspec": {
   "display_name": "datascience",
   "language": "python",
   "name": "datascience"
  },
  "language_info": {
   "codemirror_mode": {
    "name": "ipython",
    "version": 3
   },
   "file_extension": ".py",
   "mimetype": "text/x-python",
   "name": "python",
   "nbconvert_exporter": "python",
   "pygments_lexer": "ipython3",
   "version": "3.11.4"
  }
 },
 "nbformat": 4,
 "nbformat_minor": 2
}
