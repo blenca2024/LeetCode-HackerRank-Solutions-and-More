{
 "cells": [
  {
   "cell_type": "markdown",
   "metadata": {},
   "source": [
    "620. Not Boring Movies\n",
    "\n",
    "\n",
    "=======================\n",
    "\n",
    "Table: Cinema\n",
    "-------------\n",
    "\n",
    "| Column Name | Type     |\n",
    "|-------------|----------|\n",
    "| id          | int      |\n",
    "| movie       | varchar  |\n",
    "| description | varchar  |\n",
    "| rating      | float    |\n",
    "\n",
    "`id` is the primary key (column with unique values) for this table.\n",
    "Each row contains information about the name of a movie, its genre, and its rating.\n",
    "`rating` is a 2 decimal places float in the range [0, 10].\n",
    "\n",
    "Write a solution to report the movies with an odd-numbered ID and a description that is not \"boring\".\n",
    "\n",
    "Return the result table ordered by rating in descending order.\n",
    "\n",
    "The result format is in the following example.\n",
    "\n",
    "Example 1:\n",
    "----------\n",
    "\n",
    "**Input:**\n",
    "Cinema table:\n",
    "| id | movie      | description | rating |\n",
    "|----|------------|-------------|--------|\n",
    "| 1  | War        | great 3D    | 8.9    |\n",
    "| 2  | Science    | fiction     | 8.5    |\n",
    "| 3  | irish      | boring      | 6.2    |\n",
    "| 4  | Ice song   | Fantacy     | 8.6    |\n",
    "| 5  | House card | Interesting | 9.1    |\n",
    "\n",
    "**Output:**\n",
    "| id | movie      | description | rating |\n",
    "|----|------------|-------------|--------|\n",
    "| 5  | House card | Interesting | 9.1    |\n",
    "| 1  | War        | great 3D    | 8.9    |\n",
    "\n",
    "**Explanation:**\n",
    "We have three movies with odd-numbered IDs: 1, 3, and 5. The movie with ID = 3 is boring so we do not include it in the answer.\n"
   ]
  },
  {
   "cell_type": "code",
   "execution_count": 1,
   "metadata": {},
   "outputs": [],
   "source": [
    "import pandas as pd"
   ]
  },
  {
   "cell_type": "code",
   "execution_count": 2,
   "metadata": {},
   "outputs": [],
   "source": [
    "cinema = pd.DataFrame([\n",
    "    {\"id\": 1, \"movie\": \"War\", \"description\": \"great 3D\", \"rating\": 8.9},\n",
    "    {\"id\": 2, \"movie\": \"Science\", \"description\": \"fiction\", \"rating\": 8.5},\n",
    "    {\"id\": 3, \"movie\": \"irish\", \"description\": \"boring\", \"rating\": 6.2},\n",
    "    {\"id\": 4, \"movie\": \"Ice song\", \"description\": \"Fantacy\", \"rating\": 8.6},\n",
    "    {\"id\": 5, \"movie\": \"House card\", \"description\": \"Interesting\", \"rating\": 9.1}\n",
    "])"
   ]
  },
  {
   "cell_type": "code",
   "execution_count": 3,
   "metadata": {},
   "outputs": [],
   "source": [
    "def not_boring_movies(cinema: pd.DataFrame) -> pd.DataFrame:\n",
    "    not_boring = cinema[cinema['description'] != 'boring']\n",
    "    return not_boring[not_boring['id'] % 2 != 0].sort_values('rating',ascending=False)"
   ]
  }
 ],
 "metadata": {
  "kernelspec": {
   "display_name": "datascience",
   "language": "python",
   "name": "datascience"
  },
  "language_info": {
   "codemirror_mode": {
    "name": "ipython",
    "version": 3
   },
   "file_extension": ".py",
   "mimetype": "text/x-python",
   "name": "python",
   "nbconvert_exporter": "python",
   "pygments_lexer": "ipython3",
   "version": "3.11.4"
  }
 },
 "nbformat": 4,
 "nbformat_minor": 2
}
