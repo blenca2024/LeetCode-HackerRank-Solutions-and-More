{
 "cells": [
  {
   "cell_type": "markdown",
   "metadata": {},
   "source": [
    "# Decompress Run-Length Encoded List\n",
    "\n",
    "We are given a list nums of integers representing a list compressed with run-length encoding.\n",
    "\n",
    "Consider each adjacent pair of elements [freq, val] = [nums[2*i], nums[2*i+1]] (with i >= 0).  For each such pair, there are freq elements with value val concatenated in a sublist. Concatenate all the sublists from left to right to generate the decompressed list.\n",
    "\n",
    "Return the decompressed list.\n",
    "\n",
    " \n",
    "\n",
    "**Example 1:**\n",
    "\n",
    "Input: nums = [1,2,3,4]\n",
    "Output: [2,4,4,4]\n",
    "Explanation: The first pair [1,2] means we have freq = 1 and val = 2 so we generate the array [2].\n",
    "The second pair [3,4] means we have freq = 3 and val = 4 so we generate [4,4,4].\n",
    "At the end the concatenation [2] + [4,4,4] is [2,4,4,4].\n",
    "\n",
    "**Example 2:**\n",
    "\n",
    "Input: nums = [1,1,2,3]\n",
    "Output: [1,3,3]\n",
    " \n",
    "\n",
    "**Constraints:**\n",
    "\n",
    "2 <= nums.length <= 100\n",
    "nums.length % 2 == 0\n",
    "1 <= nums[i] <= 100"
   ]
  },
  {
   "cell_type": "code",
   "execution_count": 1,
   "metadata": {},
   "outputs": [],
   "source": [
    "def decompressRLElist(nums):\n",
    "        a = [[x,y] for x,y in zip(nums[::2], nums[1::2])]\n",
    "        b = []\n",
    "        for i in a:\n",
    "            b.append(([i[1]]*i[0]))\n",
    "        b = sum(b,[])\n",
    "        return b\n",
    "    \n",
    "\n",
    "nums = [1,2,3,4]\n",
    "print(decompressRLElist(nums))\n",
    "\n",
    "nums = [1,1,2,3]\n",
    "print(decompressRLElist(nums))"
   ]
  }
 ],
 "metadata": {
  "kernelspec": {
   "display_name": "Python 3",
   "language": "python",
   "name": "python3"
  },
  "language_info": {
   "codemirror_mode": {
    "name": "ipython",
    "version": 3
   },
   "file_extension": ".py",
   "mimetype": "text/x-python",
   "name": "python",
   "nbconvert_exporter": "python",
   "pygments_lexer": "ipython3",
   "version": "3.7.3"
  }
 },
 "nbformat": 4,
 "nbformat_minor": 2
}
