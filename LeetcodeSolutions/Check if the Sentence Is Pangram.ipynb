{
  "nbformat": 4,
  "nbformat_minor": 0,
  "metadata": {
    "colab": {
      "name": "Check if the Sentence Is Pangram.ipynb",
      "provenance": [],
      "collapsed_sections": []
    },
    "kernelspec": {
      "name": "python3",
      "display_name": "Python 3"
    },
    "language_info": {
      "name": "python"
    }
  },
  "cells": [
    {
      "cell_type": "markdown",
      "metadata": {
        "id": "fMLp_n5YNU0A"
      },
      "source": [
        "# **Check if the Sentence Is Pangram**\n",
        "\n",
        "A **pangram** is a sentence where every letter of the English alphabet appears at least once.\n",
        "\n",
        "Given a string sentence containing only lowercase English letters, return true if sentence is a **pangram**, or false otherwise."
      ]
    },
    {
      "cell_type": "code",
      "metadata": {
        "id": "PAkUYbE4NVFe"
      },
      "source": [
        "def checkIfPangram(sentence):\n",
        "  alphabet = 'abcdefghijklmnopqrstuvwxyz'\n",
        "  return all([letter in sentence for letter in alphabet])"
      ],
      "execution_count": 6,
      "outputs": []
    },
    {
      "cell_type": "markdown",
      "metadata": {
        "id": "ojC6eaL_N71a"
      },
      "source": [
        "## **Example 1:**\n",
        "\n",
        "```\n",
        "Input: sentence = \"thequickbrownfoxjumpsoverthelazydog\"\n",
        "Output: true\n",
        "Explanation: sentence contains at least one of every letter of the English alphabet.\n",
        "```"
      ]
    },
    {
      "cell_type": "code",
      "metadata": {
        "colab": {
          "base_uri": "https://localhost:8080/"
        },
        "id": "rN2R4jYVM9pZ",
        "outputId": "8dbd2b57-0050-4656-a3c9-fe9611bd0009"
      },
      "source": [
        "sentence = \"thequickbrownfoxjumpsoverthelazydog\"\n",
        "\n",
        "checkIfPangram(sentence)"
      ],
      "execution_count": 7,
      "outputs": [
        {
          "output_type": "execute_result",
          "data": {
            "text/plain": [
              "True"
            ]
          },
          "metadata": {},
          "execution_count": 7
        }
      ]
    },
    {
      "cell_type": "markdown",
      "metadata": {
        "id": "tM0QqrMZOIX9"
      },
      "source": [
        "## **Example 2:**"
      ]
    },
    {
      "cell_type": "markdown",
      "metadata": {
        "id": "_rGHFJtjOOxN"
      },
      "source": [
        "```\n",
        "Input: sentence = \"leetcode\"\n",
        "Output: false\n",
        "```"
      ]
    },
    {
      "cell_type": "code",
      "metadata": {
        "colab": {
          "base_uri": "https://localhost:8080/"
        },
        "id": "YZbsQzVZNA0D",
        "outputId": "984bb91d-462a-4552-b159-51b255565f3f"
      },
      "source": [
        "sentence = \"leetcode\"\n",
        "\n",
        "checkIfPangram(sentence)"
      ],
      "execution_count": 8,
      "outputs": [
        {
          "output_type": "execute_result",
          "data": {
            "text/plain": [
              "False"
            ]
          },
          "metadata": {},
          "execution_count": 8
        }
      ]
    }
  ]
}