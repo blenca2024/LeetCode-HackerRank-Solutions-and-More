{
 "cells": [
  {
   "cell_type": "markdown",
   "metadata": {},
   "source": [
    "## 3079. Find the Sum of Encrypted Integers\n",
    "\n",
    "**Solved**\n",
    "\n",
    "**Easy**\n",
    "\n",
    "### Topics\n",
    "- Companies\n",
    "\n",
    "### Hint\n",
    "You are given an integer array `nums` containing positive integers. We define a function `encrypt` such that `encrypt(x)` replaces every digit in `x` with the largest digit in `x`. For example, `encrypt(523) = 555` and `encrypt(213) = 333`.\n",
    "\n",
    "Return the sum of encrypted elements.\n",
    "\n",
    "### Example 1:\n",
    "**Input:** `nums = [1,2,3]`  \n",
    "**Output:** `6`  \n",
    "**Explanation:** The encrypted elements are [1,2,3]. The sum of encrypted elements is 1 + 2 + 3 == 6.\n",
    "\n",
    "### Example 2:\n",
    "**Input:** `nums = [10,21,31]`  \n",
    "**Output:** `66`  \n",
    "**Explanation:** The encrypted elements are [11,22,33]. The sum of encrypted elements is 11 + 22 + 33 == 66.\n",
    "\n",
    "### Constraints:\n",
    "- `1 <= nums.length <= 50`\n",
    "- `1 <= nums[i] <= 1000`\n"
   ]
  },
  {
   "cell_type": "code",
   "execution_count": 1,
   "metadata": {},
   "outputs": [],
   "source": [
    "from typing import List"
   ]
  },
  {
   "cell_type": "code",
   "execution_count": 2,
   "metadata": {},
   "outputs": [],
   "source": [
    "def sumOfEncryptedInt(nums: List[int]) -> int:\n",
    "    encrypted_list = []\n",
    "\n",
    "    for num in nums:\n",
    "        max_num = max([int(num) for num in str(num)])\n",
    "        encrypted_list.append(int(str(max_num) * len(str(num))))\n",
    "\n",
    "    return sum(encrypted_list)"
   ]
  },
  {
   "cell_type": "code",
   "execution_count": 3,
   "metadata": {},
   "outputs": [
    {
     "data": {
      "text/plain": [
       "66"
      ]
     },
     "execution_count": 3,
     "metadata": {},
     "output_type": "execute_result"
    }
   ],
   "source": [
    "nums = [10,21,31]\n",
    "sumOfEncryptedInt(nums=nums)"
   ]
  }
 ],
 "metadata": {
  "kernelspec": {
   "display_name": "datascience",
   "language": "python",
   "name": "datascience"
  },
  "language_info": {
   "codemirror_mode": {
    "name": "ipython",
    "version": 3
   },
   "file_extension": ".py",
   "mimetype": "text/x-python",
   "name": "python",
   "nbconvert_exporter": "python",
   "pygments_lexer": "ipython3",
   "version": "3.11.4"
  }
 },
 "nbformat": 4,
 "nbformat_minor": 2
}
