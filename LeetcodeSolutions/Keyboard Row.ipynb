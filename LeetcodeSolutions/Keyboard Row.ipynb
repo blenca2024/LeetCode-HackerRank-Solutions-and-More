{
 "cells": [
  {
   "cell_type": "markdown",
   "metadata": {},
   "source": [
    "# 500. Keyboard Row\n",
    "\n",
    "Given an array of strings `words`, return the words that can be typed using letters of the alphabet on only one row of an American keyboard like the image below.\n",
    "\n",
    "In the American keyboard:\n",
    "- The first row consists of the characters \"qwertyuiop\",\n",
    "- The second row consists of the characters \"asdfghjkl\", and\n",
    "- The third row consists of the characters \"zxcvbnm\".\n",
    "\n",
    "## Example 1:\n",
    "\n",
    "**Input:**  \n",
    "`words = [\"Hello\",\"Alaska\",\"Dad\",\"Peace\"]`\n",
    "\n",
    "**Output:**  \n",
    "`[\"Alaska\",\"Dad\"]`\n",
    "\n",
    "## Example 2:\n",
    "\n",
    "**Input:**  \n",
    "`words = [\"omk\"]`\n",
    "\n",
    "**Output:**  \n",
    "`[]`\n",
    "\n",
    "## Example 3:\n",
    "\n",
    "**Input:**  \n",
    "`words = [\"adsdf\",\"sfd\"]`\n",
    "\n",
    "**Output:**  \n",
    "`[\"adsdf\",\"sfd\"]`\n",
    "\n",
    "## Constraints:\n",
    "\n",
    "- `1 <= words.length <= 20`\n",
    "- `1 <= words[i].length <= 100`\n",
    "- `words[i]` consists of English letters (both lowercase and uppercase).\n"
   ]
  },
  {
   "cell_type": "code",
   "execution_count": 1,
   "metadata": {},
   "outputs": [],
   "source": [
    "from typing import List"
   ]
  },
  {
   "cell_type": "code",
   "execution_count": 2,
   "metadata": {},
   "outputs": [],
   "source": [
    "def findWords(words: List[str]) -> List[str]:\n",
    "    \n",
    "    keyboard_list = [\"qwertyuiop\",\n",
    "                    \"asdfghjkl\",\n",
    "                    \"zxcvbnm\"]\n",
    "\n",
    "    keyboard_dict = {\"qwertyuiop\":'0',\n",
    "                    \"asdfghjkl\":'1',\n",
    "                    \"zxcvbnm\":'2'}\n",
    "    output_list = []\n",
    "    \n",
    "    for word in words:\n",
    "        sublist = []\n",
    "        for char in word.lower():\n",
    "            sublist.append([v for k,v in keyboard_dict.items() if char in k][0])\n",
    "        if len(set(sublist)) == 1:\n",
    "            output_list.append(word)\n",
    "\n",
    "    return output_list"
   ]
  },
  {
   "cell_type": "code",
   "execution_count": 3,
   "metadata": {},
   "outputs": [
    {
     "data": {
      "text/plain": [
       "['Alaska', 'Dad']"
      ]
     },
     "execution_count": 3,
     "metadata": {},
     "output_type": "execute_result"
    }
   ],
   "source": [
    "words = [\"Hello\",\"Alaska\",\"Dad\",\"Peace\"]\n",
    "findWords(words)"
   ]
  },
  {
   "cell_type": "code",
   "execution_count": 4,
   "metadata": {},
   "outputs": [
    {
     "data": {
      "text/plain": [
       "[]"
      ]
     },
     "execution_count": 4,
     "metadata": {},
     "output_type": "execute_result"
    }
   ],
   "source": [
    "words = [\"omk\"]\n",
    "findWords(words)"
   ]
  },
  {
   "cell_type": "code",
   "execution_count": 5,
   "metadata": {},
   "outputs": [
    {
     "data": {
      "text/plain": [
       "['adsdf', 'sfd']"
      ]
     },
     "execution_count": 5,
     "metadata": {},
     "output_type": "execute_result"
    }
   ],
   "source": [
    "words = [\"adsdf\",\"sfd\"]\n",
    "findWords(words)"
   ]
  }
 ],
 "metadata": {
  "kernelspec": {
   "display_name": "datascience",
   "language": "python",
   "name": "datascience"
  },
  "language_info": {
   "codemirror_mode": {
    "name": "ipython",
    "version": 3
   },
   "file_extension": ".py",
   "mimetype": "text/x-python",
   "name": "python",
   "nbconvert_exporter": "python",
   "pygments_lexer": "ipython3",
   "version": "3.11.4"
  }
 },
 "nbformat": 4,
 "nbformat_minor": 2
}
