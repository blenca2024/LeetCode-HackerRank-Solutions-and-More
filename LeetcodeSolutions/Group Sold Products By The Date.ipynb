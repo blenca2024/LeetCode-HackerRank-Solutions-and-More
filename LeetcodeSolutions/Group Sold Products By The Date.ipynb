{
 "cells": [
  {
   "cell_type": "markdown",
   "metadata": {},
   "source": [
    "# 1484. Group Sold Products By The Date\n",
    "\n",
    "\n",
    "## Table: Activities\n",
    "\n",
    "| Column Name | Type    |\n",
    "|-------------|---------|\n",
    "| sell_date   | date    |\n",
    "| product     | varchar |\n",
    "\n",
    "There is no primary key (column with unique values) for this table. It may contain duplicates. Each row of this table contains the product name and the date it was sold in a market.\n",
    "\n",
    "Write a solution to find for each date the number of different products sold and their names.\n",
    "\n",
    "The sold products names for each date should be sorted lexicographically.\n",
    "\n",
    "Return the result table ordered by `sell_date`.\n",
    "\n",
    "The result format is in the following example.\n",
    "\n",
    "## Example 1:\n",
    "\n",
    "**Input:**\n",
    "\n",
    "Activities table:\n",
    "\n",
    "| sell_date  | product    |\n",
    "|------------|------------|\n",
    "| 2020-05-30 | Headphone  |\n",
    "| 2020-06-01 | Pencil     |\n",
    "| 2020-06-02 | Mask       |\n",
    "| 2020-05-30 | Basketball |\n",
    "| 2020-06-01 | Bible      |\n",
    "| 2020-06-02 | Mask       |\n",
    "| 2020-05-30 | T-Shirt    |\n",
    "\n",
    "**Output:**\n",
    "\n",
    "| sell_date  | num_sold | products                     |\n",
    "|------------|----------|------------------------------|\n",
    "| 2020-05-30 | 3        | Basketball,Headphone,T-Shirt |\n",
    "| 2020-06-01 | 2        | Bible,Pencil                 |\n",
    "| 2020-06-02 | 1        | Mask                         |\n",
    "\n",
    "**Explanation:**  \n",
    "For 2020-05-30, sold items were (Headphone, Basketball, T-Shirt), we sort them lexicographically and separate them by a comma.  \n",
    "For 2020-06-01, sold items were (Pencil, Bible), we sort them lexicographically and separate them by a comma.  \n",
    "For 2020-06-02, the sold item is (Mask), we just return it.\n"
   ]
  },
  {
   "cell_type": "code",
   "execution_count": 1,
   "metadata": {},
   "outputs": [],
   "source": [
    "import pandas as pd"
   ]
  },
  {
   "cell_type": "code",
   "execution_count": 25,
   "metadata": {},
   "outputs": [],
   "source": [
    "def categorize_products(activities: pd.DataFrame) -> pd.DataFrame:\n",
    "    output_df = activities.groupby('sell_date')['product'].apply(lambda x: ','.join(sorted(set(x)))).reset_index()\n",
    "    output_df['num_sold'] = [len(prod.split(',')) for prod in output_df['product']]\n",
    "    output_df.rename({'product':'products'},axis=1,inplace=True)\n",
    "    return output_df[['sell_date','num_sold','products']]"
   ]
  },
  {
   "cell_type": "code",
   "execution_count": 26,
   "metadata": {},
   "outputs": [],
   "source": [
    "activities_data = [\n",
    "    {\"sell_date\": \"2020-05-30\", \"product\": \"Headphone\"},\n",
    "    {\"sell_date\": \"2020-06-01\", \"product\": \"Pencil\"},\n",
    "    {\"sell_date\": \"2020-06-02\", \"product\": \"Mask\"},\n",
    "    {\"sell_date\": \"2020-05-30\", \"product\": \"Basketball\"},\n",
    "    {\"sell_date\": \"2020-06-01\", \"product\": \"Bible\"},\n",
    "    {\"sell_date\": \"2020-06-02\", \"product\": \"Mask\"},\n",
    "    {\"sell_date\": \"2020-05-30\", \"product\": \"T-Shirt\"},\n",
    "]\n",
    "\n",
    "activities = pd.DataFrame(activities_data)"
   ]
  },
  {
   "cell_type": "code",
   "execution_count": 27,
   "metadata": {},
   "outputs": [
    {
     "data": {
      "text/html": [
       "<div>\n",
       "<style scoped>\n",
       "    .dataframe tbody tr th:only-of-type {\n",
       "        vertical-align: middle;\n",
       "    }\n",
       "\n",
       "    .dataframe tbody tr th {\n",
       "        vertical-align: top;\n",
       "    }\n",
       "\n",
       "    .dataframe thead th {\n",
       "        text-align: right;\n",
       "    }\n",
       "</style>\n",
       "<table border=\"1\" class=\"dataframe\">\n",
       "  <thead>\n",
       "    <tr style=\"text-align: right;\">\n",
       "      <th></th>\n",
       "      <th>sell_date</th>\n",
       "      <th>num_sold</th>\n",
       "      <th>products</th>\n",
       "    </tr>\n",
       "  </thead>\n",
       "  <tbody>\n",
       "    <tr>\n",
       "      <th>0</th>\n",
       "      <td>2020-05-30</td>\n",
       "      <td>3</td>\n",
       "      <td>Basketball,Headphone,T-Shirt</td>\n",
       "    </tr>\n",
       "    <tr>\n",
       "      <th>1</th>\n",
       "      <td>2020-06-01</td>\n",
       "      <td>2</td>\n",
       "      <td>Bible,Pencil</td>\n",
       "    </tr>\n",
       "    <tr>\n",
       "      <th>2</th>\n",
       "      <td>2020-06-02</td>\n",
       "      <td>1</td>\n",
       "      <td>Mask</td>\n",
       "    </tr>\n",
       "  </tbody>\n",
       "</table>\n",
       "</div>"
      ],
      "text/plain": [
       "    sell_date  num_sold                      products\n",
       "0  2020-05-30         3  Basketball,Headphone,T-Shirt\n",
       "1  2020-06-01         2                  Bible,Pencil\n",
       "2  2020-06-02         1                          Mask"
      ]
     },
     "execution_count": 27,
     "metadata": {},
     "output_type": "execute_result"
    }
   ],
   "source": [
    "categorize_products(activities=activities)"
   ]
  }
 ],
 "metadata": {
  "kernelspec": {
   "display_name": "datascience",
   "language": "python",
   "name": "datascience"
  },
  "language_info": {
   "codemirror_mode": {
    "name": "ipython",
    "version": 3
   },
   "file_extension": ".py",
   "mimetype": "text/x-python",
   "name": "python",
   "nbconvert_exporter": "python",
   "pygments_lexer": "ipython3",
   "version": "3.11.4"
  }
 },
 "nbformat": 4,
 "nbformat_minor": 2
}
