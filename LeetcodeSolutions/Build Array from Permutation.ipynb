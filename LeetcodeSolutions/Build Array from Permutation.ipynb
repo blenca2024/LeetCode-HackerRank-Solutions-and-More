{
  "nbformat": 4,
  "nbformat_minor": 0,
  "metadata": {
    "colab": {
      "name": "Untitled0.ipynb",
      "provenance": [],
      "collapsed_sections": []
    },
    "kernelspec": {
      "name": "python3",
      "display_name": "Python 3"
    },
    "language_info": {
      "name": "python"
    }
  },
  "cells": [
    {
      "cell_type": "markdown",
      "metadata": {
        "id": "vN5SpJYCd5we"
      },
      "source": [
        "# **Build Array from Permutation**\n",
        "\n",
        "Given a zero-based permutation nums (0-indexed), build an array ans of the same length where ans[i] = nums[nums[i]] for each 0 <= i < nums.length and return it.\n",
        "\n",
        "A zero-based permutation nums is an array of distinct integers from 0 to nums.length - 1 (inclusive)."
      ]
    },
    {
      "cell_type": "code",
      "metadata": {
        "id": "_TvCMFF1douZ"
      },
      "source": [
        "def buildArray(nums):\n",
        "  return [nums[nums[i]] for i in range(len(nums))]"
      ],
      "execution_count": 5,
      "outputs": []
    },
    {
      "cell_type": "markdown",
      "metadata": {
        "id": "RMFOmhPuedf0"
      },
      "source": [
        "## **Example 1:**\n",
        "\n",
        "```\n",
        "Input: nums = [0,2,1,5,3,4]\n",
        "Output: [0,1,2,4,5,3]\n",
        "Explanation: The array ans is built as follows: \n",
        "ans = [nums[nums[0]], nums[nums[1]], nums[nums[2]], nums[nums[3]], nums[nums[4]], nums[nums[5]]]\n",
        "    = [nums[0], nums[2], nums[1], nums[5], nums[3], nums[4]]\n",
        "    = [0,1,2,4,5,3]\n",
        "```"
      ]
    },
    {
      "cell_type": "code",
      "metadata": {
        "colab": {
          "base_uri": "https://localhost:8080/"
        },
        "id": "fnFNOhAQdrR2",
        "outputId": "fecb7a14-083e-4ad2-b2f4-216bea3701c9"
      },
      "source": [
        "nums = [0,2,1,5,3,4]\n",
        "buildArray(nums)"
      ],
      "execution_count": 6,
      "outputs": [
        {
          "output_type": "execute_result",
          "data": {
            "text/plain": [
              "[0, 1, 2, 4, 5, 3]"
            ]
          },
          "metadata": {},
          "execution_count": 6
        }
      ]
    },
    {
      "cell_type": "markdown",
      "metadata": {
        "id": "9OGBGzZCekAD"
      },
      "source": [
        "## **Example 2:**\n",
        "\n",
        "```\n",
        "Input: nums = [5,0,1,2,3,4]\n",
        "Output: [4,5,0,1,2,3]\n",
        "Explanation: The array ans is built as follows:\n",
        "ans = [nums[nums[0]], nums[nums[1]], nums[nums[2]], nums[nums[3]], nums[nums[4]], nums[nums[5]]]\n",
        "    = [nums[5], nums[0], nums[1], nums[2], nums[3], nums[4]]\n",
        "    = [4,5,0,1,2,3]\n",
        "```"
      ]
    },
    {
      "cell_type": "code",
      "metadata": {
        "colab": {
          "base_uri": "https://localhost:8080/"
        },
        "id": "yO6ssxIseK_H",
        "outputId": "8993d935-e699-4e02-c7c1-67fa7d7e5cf0"
      },
      "source": [
        "nums = [5,0,1,2,3,4]\n",
        "buildArray(nums)"
      ],
      "execution_count": 7,
      "outputs": [
        {
          "output_type": "execute_result",
          "data": {
            "text/plain": [
              "[4, 5, 0, 1, 2, 3]"
            ]
          },
          "metadata": {},
          "execution_count": 7
        }
      ]
    }
  ]
}