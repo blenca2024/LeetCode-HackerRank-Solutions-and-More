{
 "cells": [
  {
   "cell_type": "markdown",
   "metadata": {},
   "source": [
    "# 2026. Low-Quality Problems\n",
    "\n",
    "**Solved**  \n",
    "**Easy**  \n",
    "**Topics**  \n",
    "SQL Schema  \n",
    "Pandas Schema\n",
    "\n",
    "## Table: Problems\n",
    "\n",
    "| Column Name | Type |\n",
    "|-------------|------|\n",
    "| problem_id  | int  |\n",
    "| likes       | int  |\n",
    "| dislikes    | int  |\n",
    "\n",
    "In SQL, `problem_id` is the primary key column for this table.  \n",
    "Each row of this table indicates the number of likes and dislikes for a LeetCode problem.\n",
    "\n",
    "Find the IDs of the low-quality problems. A LeetCode problem is low-quality if the like percentage of the problem (number of likes divided by the total number of votes) is strictly less than 60%.\n",
    "\n",
    "Return the result table ordered by `problem_id` in ascending order.\n",
    "\n",
    "The result format is in the following example.\n",
    "\n",
    "## Example 1:\n",
    "\n",
    "**Input:**  \n",
    "Problems table:\n",
    "\n",
    "| problem_id | likes | dislikes |\n",
    "|------------|-------|----------|\n",
    "| 6          | 1290  | 425      |\n",
    "| 11         | 2677  | 8659     |\n",
    "| 1          | 4446  | 2760     |\n",
    "| 7          | 8569  | 6086     |\n",
    "| 13         | 2050  | 4164     |\n",
    "| 10         | 9002  | 7446     |\n",
    "\n",
    "**Output:**  \n",
    "| problem_id |\n",
    "|------------|\n",
    "| 7          |\n",
    "| 10         |\n",
    "| 11         |\n",
    "| 13         |\n",
    "\n",
    "**Explanation:**  \n",
    "The like percentages are as follows:\n",
    "- Problem 1: (4446 / (4446 + 2760)) * 100 = 61.69858%\n",
    "- Problem 6: (1290 / (1290 + 425)) * 100 = 75.21866%\n",
    "- Problem 7: (8569 / (8569 + 6086)) * 100 = 58.47151%\n",
    "- Problem 10: (9002 / (9002 + 7446)) * 100 = 54.73006%\n",
    "- Problem 11: (2677 / (2677 + 8659)) * 100 = 23.61503%\n",
    "- Problem 13: (2050 / (2050 + 4164)) * 100 = 32.99002%\n",
    "\n",
    "Problems 7, 10, 11, and 13 are low-quality problems because their like percentages are less than 60%.\n"
   ]
  },
  {
   "cell_type": "code",
   "execution_count": 1,
   "metadata": {},
   "outputs": [],
   "source": [
    "import pandas as pd"
   ]
  },
  {
   "cell_type": "code",
   "execution_count": 2,
   "metadata": {},
   "outputs": [],
   "source": [
    "def low_quality_problems(problems: pd.DataFrame) -> pd.DataFrame:\n",
    "    problems['proportions'] = problems['likes']/(problems['likes']+problems['dislikes'])\n",
    "    return problems[problems['proportions'] < .6].sort_values('problem_id',ascending=True)[['problem_id']]"
   ]
  },
  {
   "cell_type": "code",
   "execution_count": 3,
   "metadata": {},
   "outputs": [],
   "source": [
    "problems = pd.DataFrame([\n",
    "    {\"problem_id\": 6, \"likes\": 1290, \"dislikes\": 425},\n",
    "    {\"problem_id\": 11, \"likes\": 2677, \"dislikes\": 8659},\n",
    "    {\"problem_id\": 1, \"likes\": 4446, \"dislikes\": 2760},\n",
    "    {\"problem_id\": 7, \"likes\": 8569, \"dislikes\": 6086},\n",
    "    {\"problem_id\": 13, \"likes\": 2050, \"dislikes\": 4164},\n",
    "    {\"problem_id\": 10, \"likes\": 9002, \"dislikes\": 7446},\n",
    "]\n",
    ")"
   ]
  },
  {
   "cell_type": "code",
   "execution_count": 4,
   "metadata": {},
   "outputs": [
    {
     "data": {
      "text/html": [
       "<div>\n",
       "<style scoped>\n",
       "    .dataframe tbody tr th:only-of-type {\n",
       "        vertical-align: middle;\n",
       "    }\n",
       "\n",
       "    .dataframe tbody tr th {\n",
       "        vertical-align: top;\n",
       "    }\n",
       "\n",
       "    .dataframe thead th {\n",
       "        text-align: right;\n",
       "    }\n",
       "</style>\n",
       "<table border=\"1\" class=\"dataframe\">\n",
       "  <thead>\n",
       "    <tr style=\"text-align: right;\">\n",
       "      <th></th>\n",
       "      <th>problem_id</th>\n",
       "    </tr>\n",
       "  </thead>\n",
       "  <tbody>\n",
       "    <tr>\n",
       "      <th>3</th>\n",
       "      <td>7</td>\n",
       "    </tr>\n",
       "    <tr>\n",
       "      <th>5</th>\n",
       "      <td>10</td>\n",
       "    </tr>\n",
       "    <tr>\n",
       "      <th>1</th>\n",
       "      <td>11</td>\n",
       "    </tr>\n",
       "    <tr>\n",
       "      <th>4</th>\n",
       "      <td>13</td>\n",
       "    </tr>\n",
       "  </tbody>\n",
       "</table>\n",
       "</div>"
      ],
      "text/plain": [
       "   problem_id\n",
       "3           7\n",
       "5          10\n",
       "1          11\n",
       "4          13"
      ]
     },
     "execution_count": 4,
     "metadata": {},
     "output_type": "execute_result"
    }
   ],
   "source": [
    "low_quality_problems(problems=problems)"
   ]
  }
 ],
 "metadata": {
  "kernelspec": {
   "display_name": "datascience",
   "language": "python",
   "name": "datascience"
  },
  "language_info": {
   "codemirror_mode": {
    "name": "ipython",
    "version": 3
   },
   "file_extension": ".py",
   "mimetype": "text/x-python",
   "name": "python",
   "nbconvert_exporter": "python",
   "pygments_lexer": "ipython3",
   "version": "3.11.4"
  }
 },
 "nbformat": 4,
 "nbformat_minor": 2
}
