{
 "cells": [
  {
   "cell_type": "code",
   "execution_count": null,
   "metadata": {},
   "outputs": [],
   "source": [
    "class Solution:\n",
    "    def twoSum(self, nums: List[int], target: int) -> List[int]:\n",
    "        output = []\n",
    "        for idx1,num1 in enumerate(nums):\n",
    "            for idx2,num2 in enumerate(nums):\n",
    "                if num1+num2 == target and idx1 != idx2:\n",
    "                    output.append(idx1)\n",
    "                    output.append(idx2)\n",
    "        return list(set(output))"
   ]
  }
 ],
 "metadata": {
  "language_info": {
   "name": "python"
  }
 },
 "nbformat": 4,
 "nbformat_minor": 2
}
