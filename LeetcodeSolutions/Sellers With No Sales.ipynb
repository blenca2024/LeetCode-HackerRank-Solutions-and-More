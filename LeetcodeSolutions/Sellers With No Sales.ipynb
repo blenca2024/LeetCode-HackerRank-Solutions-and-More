{
 "cells": [
  {
   "cell_type": "markdown",
   "metadata": {},
   "source": [
    "1607. Sellers With No Sales\n",
    "\n",
    "Topics: SQL Schema, Pandas Schema\n",
    "\n",
    "### Table: Customer\n",
    "\n",
    "| Column Name   | Type    |\n",
    "|---------------|---------|\n",
    "| customer_id   | int     |\n",
    "| customer_name | varchar |\n",
    "\n",
    "### Table: Orders\n",
    "\n",
    "| Column Name   | Type    |\n",
    "|---------------|---------|\n",
    "| order_id      | int     |\n",
    "| sale_date     | date    |\n",
    "| order_cost    | int     |\n",
    "| customer_id   | int     |\n",
    "| seller_id     | int     |\n",
    "\n",
    "### Table: Seller\n",
    "\n",
    "| Column Name   | Type    |\n",
    "|---------------|---------|\n",
    "| seller_id     | int     |\n",
    "| seller_name   | varchar |\n",
    "\n",
    "Write a solution to report the names of all sellers who did not make any sales in 2020.\n",
    "\n",
    "Return the result table ordered by seller_name in ascending order.\n",
    "\n",
    "#### Example:\n",
    "\n",
    "**Input:**\n",
    "\n",
    "**Customer table:**\n",
    "| customer_id  | customer_name |\n",
    "|--------------|---------------|\n",
    "| 101          | Alice         |\n",
    "| 102          | Bob           |\n",
    "| 103          | Charlie       |\n",
    "\n",
    "**Orders table:**\n",
    "| order_id    | sale_date  | order_cost   | customer_id | seller_id   |\n",
    "|-------------|------------|--------------|-------------|-------------|\n",
    "| 1           | 2020-03-01 | 1500         | 101         | 1           |\n",
    "| 2           | 2020-05-25 | 2400         | 102         | 2           |\n",
    "| 3           | 2019-05-25 | 800          | 101         | 3           |\n",
    "| 4           | 2020-09-13 | 1000         | 103         | 2           |\n",
    "| 5           | 2019-02-11 | 700          | 101         | 2           |\n",
    "\n",
    "**Seller table:**\n",
    "| seller_id   | seller_name |\n",
    "|-------------|-------------|\n",
    "| 1           | Daniel      |\n",
    "| 2           | Elizabeth   |\n",
    "| 3           | Frank       |\n",
    "\n",
    "**Output:**\n",
    "| seller_name |\n",
    "|-------------|\n",
    "| Frank       |\n",
    "\n",
    "**Explanation:**\n",
    "Daniel made 1 sale in March 2020.\n",
    "Elizabeth made 2 sales in 2020 and 1 sale in 2019.\n",
    "Frank made 1 sale in 2019 but no sales in 2020.\n"
   ]
  },
  {
   "cell_type": "code",
   "execution_count": 1,
   "metadata": {},
   "outputs": [],
   "source": [
    "import pandas as pd"
   ]
  },
  {
   "cell_type": "code",
   "execution_count": 2,
   "metadata": {},
   "outputs": [],
   "source": [
    "def sellers_with_no_sales(customer: pd.DataFrame, orders: pd.DataFrame, seller: pd.DataFrame) -> pd.DataFrame:\n",
    "\n",
    "    orders['date_check'] = orders['sale_date'].dt.year.isin([2020])\n",
    "\n",
    "    check_dict = {id:[] for id in orders['seller_id']}\n",
    "\n",
    "    for id,check in orders[['seller_id','date_check']].values:\n",
    "        check_dict[id].append(check)\n",
    "\n",
    "    no_sale_list = [id for id,check in check_dict.items() if any(check) == False]\n",
    "    no_sale_list.extend([seller for seller in seller['seller_id'].values if seller not in orders['seller_id'].values])\n",
    "\n",
    "    output_df = seller[seller['seller_id'].isin(no_sale_list)][['seller_name']].rename({'seller_name':'SELLER_NAME'},axis=1)\n",
    "\n",
    "    return output_df.sort_values('SELLER_NAME')"
   ]
  },
  {
   "cell_type": "code",
   "execution_count": 3,
   "metadata": {},
   "outputs": [],
   "source": [
    "orders = pd.DataFrame([\n",
    "    {\"order_id\": 1, \"sale_date\": \"2020-03-01\", \"order_cost\": 1500, \"customer_id\": 101, \"seller_id\": 1},\n",
    "    {\"order_id\": 2, \"sale_date\": \"2020-05-25\", \"order_cost\": 2400, \"customer_id\": 102, \"seller_id\": 2},\n",
    "    {\"order_id\": 3, \"sale_date\": \"2019-05-25\", \"order_cost\": 800, \"customer_id\": 101, \"seller_id\": 3},\n",
    "    {\"order_id\": 4, \"sale_date\": \"2020-09-13\", \"order_cost\": 1000, \"customer_id\": 103, \"seller_id\": 2},\n",
    "    {\"order_id\": 5, \"sale_date\": \"2019-02-11\", \"order_cost\": 700, \"customer_id\": 101, \"seller_id\": 2},\n",
    "])\n",
    "\n",
    "orders['sale_date'] = pd.to_datetime(orders['sale_date'])\n",
    "\n",
    "seller = pd.DataFrame([\n",
    "    {\"seller_id\": 1, \"seller_name\": \"Daniel\"},\n",
    "    {\"seller_id\": 2, \"seller_name\": \"Elizabeth\"},\n",
    "    {\"seller_id\": 3, \"seller_name\": \"Frank\"},\n",
    "])"
   ]
  },
  {
   "cell_type": "code",
   "execution_count": 4,
   "metadata": {},
   "outputs": [
    {
     "data": {
      "text/html": [
       "<div>\n",
       "<style scoped>\n",
       "    .dataframe tbody tr th:only-of-type {\n",
       "        vertical-align: middle;\n",
       "    }\n",
       "\n",
       "    .dataframe tbody tr th {\n",
       "        vertical-align: top;\n",
       "    }\n",
       "\n",
       "    .dataframe thead th {\n",
       "        text-align: right;\n",
       "    }\n",
       "</style>\n",
       "<table border=\"1\" class=\"dataframe\">\n",
       "  <thead>\n",
       "    <tr style=\"text-align: right;\">\n",
       "      <th></th>\n",
       "      <th>SELLER_NAME</th>\n",
       "    </tr>\n",
       "  </thead>\n",
       "  <tbody>\n",
       "    <tr>\n",
       "      <th>2</th>\n",
       "      <td>Frank</td>\n",
       "    </tr>\n",
       "  </tbody>\n",
       "</table>\n",
       "</div>"
      ],
      "text/plain": [
       "  SELLER_NAME\n",
       "2       Frank"
      ]
     },
     "execution_count": 4,
     "metadata": {},
     "output_type": "execute_result"
    }
   ],
   "source": [
    "sellers_with_no_sales(customer=None,orders=orders,seller=seller)"
   ]
  },
  {
   "cell_type": "code",
   "execution_count": 5,
   "metadata": {},
   "outputs": [],
   "source": [
    "orders = pd.DataFrame([\n",
    "    {\"order_id\": 1, \"sale_date\": \"2020-01-05\", \"order_cost\": 900, \"customer_id\": 102, \"seller_id\": 3},\n",
    "    {\"order_id\": 2, \"sale_date\": \"2020-01-15\", \"order_cost\": 700, \"customer_id\": 103, \"seller_id\": 1},\n",
    "    {\"order_id\": 3, \"sale_date\": \"2020-03-26\", \"order_cost\": 400, \"customer_id\": 102, \"seller_id\": 2},\n",
    "    {\"order_id\": 4, \"sale_date\": \"2020-09-22\", \"order_cost\": 800, \"customer_id\": 101, \"seller_id\": 3},\n",
    "    {\"order_id\": 5, \"sale_date\": \"2020-04-25\", \"order_cost\": 900, \"customer_id\": 103, \"seller_id\": 1},\n",
    "    {\"order_id\": 6, \"sale_date\": \"2019-11-14\", \"order_cost\": 600, \"customer_id\": 103, \"seller_id\": 2},\n",
    "    {\"order_id\": 7, \"sale_date\": \"2019-12-29\", \"order_cost\": 400, \"customer_id\": 101, \"seller_id\": 1},\n",
    "])\n",
    "\n",
    "orders['sale_date'] = pd.to_datetime(orders['sale_date'])\n",
    "\n",
    "seller = pd.DataFrame([\n",
    "    {\"seller_id\": 1, \"seller_name\": \"Daniel\"},\n",
    "    {\"seller_id\": 2, \"seller_name\": \"Elizabeth\"},\n",
    "    {\"seller_id\": 3, \"seller_name\": \"Frank\"},\n",
    "    {\"seller_id\": 4, \"seller_name\": \"Bruce\"},\n",
    "])"
   ]
  },
  {
   "cell_type": "code",
   "execution_count": 6,
   "metadata": {},
   "outputs": [
    {
     "data": {
      "text/html": [
       "<div>\n",
       "<style scoped>\n",
       "    .dataframe tbody tr th:only-of-type {\n",
       "        vertical-align: middle;\n",
       "    }\n",
       "\n",
       "    .dataframe tbody tr th {\n",
       "        vertical-align: top;\n",
       "    }\n",
       "\n",
       "    .dataframe thead th {\n",
       "        text-align: right;\n",
       "    }\n",
       "</style>\n",
       "<table border=\"1\" class=\"dataframe\">\n",
       "  <thead>\n",
       "    <tr style=\"text-align: right;\">\n",
       "      <th></th>\n",
       "      <th>SELLER_NAME</th>\n",
       "    </tr>\n",
       "  </thead>\n",
       "  <tbody>\n",
       "    <tr>\n",
       "      <th>3</th>\n",
       "      <td>Bruce</td>\n",
       "    </tr>\n",
       "  </tbody>\n",
       "</table>\n",
       "</div>"
      ],
      "text/plain": [
       "  SELLER_NAME\n",
       "3       Bruce"
      ]
     },
     "execution_count": 6,
     "metadata": {},
     "output_type": "execute_result"
    }
   ],
   "source": [
    "sellers_with_no_sales(customer=None,orders=orders,seller=seller)"
   ]
  },
  {
   "cell_type": "code",
   "execution_count": 7,
   "metadata": {},
   "outputs": [],
   "source": [
    "orders = pd.DataFrame([\n",
    "    {\"order_id\": 1, \"sale_date\": \"2020-02-23\", \"order_cost\": 300, \"customer_id\": 101, \"seller_id\": 5},\n",
    "    {\"order_id\": 2, \"sale_date\": \"2019-11-10\", \"order_cost\": 500, \"customer_id\": 105, \"seller_id\": 6},\n",
    "    {\"order_id\": 3, \"sale_date\": \"2020-02-07\", \"order_cost\": 300, \"customer_id\": 103, \"seller_id\": 3},\n",
    "    {\"order_id\": 4, \"sale_date\": \"2020-06-01\", \"order_cost\": 700, \"customer_id\": 103, \"seller_id\": 4},\n",
    "    {\"order_id\": 5, \"sale_date\": \"2020-04-02\", \"order_cost\": 600, \"customer_id\": 106, \"seller_id\": 4},\n",
    "    {\"order_id\": 6, \"sale_date\": \"2020-06-23\", \"order_cost\": 900, \"customer_id\": 103, \"seller_id\": 4},\n",
    "    {\"order_id\": 7, \"sale_date\": \"2019-11-28\", \"order_cost\": 400, \"customer_id\": 106, \"seller_id\": 5},\n",
    "    {\"order_id\": 8, \"sale_date\": \"2020-03-08\", \"order_cost\": 900, \"customer_id\": 103, \"seller_id\": 6},\n",
    "    {\"order_id\": 9, \"sale_date\": \"2019-11-16\", \"order_cost\": 600, \"customer_id\": 107, \"seller_id\": 3},\n",
    "    {\"order_id\": 10, \"sale_date\": \"2020-09-05\", \"order_cost\": 700, \"customer_id\": 101, \"seller_id\": 3}\n",
    "])\n",
    "\n",
    "orders['sale_date'] = pd.to_datetime(orders['sale_date'])\n",
    "\n",
    "seller = pd.DataFrame([\n",
    "        {\"seller_id\": 1, \"seller_name\": \"Daniel\"},\n",
    "        {\"seller_id\": 2, \"seller_name\": \"Elizabeth\"},\n",
    "        {\"seller_id\": 3, \"seller_name\": \"Frank\"},\n",
    "        {\"seller_id\": 4, \"seller_name\": \"Bruce\"},\n",
    "        {\"seller_id\": 5, \"seller_name\": \"Sakura\"},\n",
    "        {\"seller_id\": 6, \"seller_name\": \"Prudence\"},\n",
    "        {\"seller_id\": 7, \"seller_name\": \"Leo\"},\n",
    "        {\"seller_id\": 8, \"seller_name\": \"Halley\"}\n",
    "    ])"
   ]
  },
  {
   "cell_type": "code",
   "execution_count": 8,
   "metadata": {},
   "outputs": [
    {
     "data": {
      "text/html": [
       "<div>\n",
       "<style scoped>\n",
       "    .dataframe tbody tr th:only-of-type {\n",
       "        vertical-align: middle;\n",
       "    }\n",
       "\n",
       "    .dataframe tbody tr th {\n",
       "        vertical-align: top;\n",
       "    }\n",
       "\n",
       "    .dataframe thead th {\n",
       "        text-align: right;\n",
       "    }\n",
       "</style>\n",
       "<table border=\"1\" class=\"dataframe\">\n",
       "  <thead>\n",
       "    <tr style=\"text-align: right;\">\n",
       "      <th></th>\n",
       "      <th>SELLER_NAME</th>\n",
       "    </tr>\n",
       "  </thead>\n",
       "  <tbody>\n",
       "    <tr>\n",
       "      <th>0</th>\n",
       "      <td>Daniel</td>\n",
       "    </tr>\n",
       "    <tr>\n",
       "      <th>1</th>\n",
       "      <td>Elizabeth</td>\n",
       "    </tr>\n",
       "    <tr>\n",
       "      <th>7</th>\n",
       "      <td>Halley</td>\n",
       "    </tr>\n",
       "    <tr>\n",
       "      <th>6</th>\n",
       "      <td>Leo</td>\n",
       "    </tr>\n",
       "  </tbody>\n",
       "</table>\n",
       "</div>"
      ],
      "text/plain": [
       "  SELLER_NAME\n",
       "0      Daniel\n",
       "1   Elizabeth\n",
       "7      Halley\n",
       "6         Leo"
      ]
     },
     "execution_count": 8,
     "metadata": {},
     "output_type": "execute_result"
    }
   ],
   "source": [
    "sellers_with_no_sales(customer=None,orders=orders,seller=seller)"
   ]
  }
 ],
 "metadata": {
  "kernelspec": {
   "display_name": "datascience",
   "language": "python",
   "name": "datascience"
  },
  "language_info": {
   "codemirror_mode": {
    "name": "ipython",
    "version": 3
   },
   "file_extension": ".py",
   "mimetype": "text/x-python",
   "name": "python",
   "nbconvert_exporter": "python",
   "pygments_lexer": "ipython3",
   "version": "3.11.4"
  }
 },
 "nbformat": 4,
 "nbformat_minor": 2
}
