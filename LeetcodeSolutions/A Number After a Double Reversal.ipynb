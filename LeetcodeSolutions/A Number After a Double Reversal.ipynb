{
 "cells": [
  {
   "cell_type": "markdown",
   "metadata": {},
   "source": [
    "2119. A Number After a Double Reversal\n",
    "\n",
    "\n",
    "=======================================\n",
    "\n",
    "Reversing an integer means to reverse all its digits.\n",
    "\n",
    "For example, reversing 2021 gives 1202. Reversing 12300 gives 321 as the leading zeros are not retained.\n",
    "\n",
    "Given an integer `num`, reverse `num` to get `reversed1`, then reverse `reversed1` to get `reversed2`. Return true if `reversed2` equals `num`. Otherwise, return false.\n",
    "\n",
    "Example 1:\n",
    "----------\n",
    "\n",
    "**Input:** `num = 526`\n",
    "\n",
    "**Output:** true\n",
    "\n",
    "**Explanation:**\n",
    "Reverse `num` to get 625, then reverse 625 to get 526, which equals `num`.\n",
    "\n",
    "Example 2:\n",
    "----------\n",
    "\n",
    "**Input:** `num = 1800`\n",
    "\n",
    "**Output:** false\n",
    "\n",
    "**Explanation:**\n",
    "Reverse `num` to get 81, then reverse 81 to get 18, which does not equal `num`.\n",
    "\n",
    "Example 3:\n",
    "----------\n",
    "\n",
    "**Input:** `num = 0`\n",
    "\n",
    "**Output:** true\n",
    "\n",
    "**Explanation:**\n",
    "Reverse `num` to get 0, then reverse 0 to get 0, which equals `num`.\n",
    "\n",
    "Constraints:\n",
    "------------\n",
    "\n",
    "- `0 <= num <= 10^6`\n"
   ]
  },
  {
   "cell_type": "code",
   "execution_count": 1,
   "metadata": {},
   "outputs": [],
   "source": [
    "def isSameAfterReversals(num: int) -> bool:\n",
    "    \n",
    "    num2 = num\n",
    "    for idx in range(2):\n",
    "        num2 = str(num2)[::-1]\n",
    "        num2 = int(num2)\n",
    "\n",
    "    return num == num2"
   ]
  },
  {
   "cell_type": "code",
   "execution_count": 2,
   "metadata": {},
   "outputs": [
    {
     "data": {
      "text/plain": [
       "True"
      ]
     },
     "execution_count": 2,
     "metadata": {},
     "output_type": "execute_result"
    }
   ],
   "source": [
    "num = 526\n",
    "isSameAfterReversals(num)"
   ]
  },
  {
   "cell_type": "code",
   "execution_count": 3,
   "metadata": {},
   "outputs": [
    {
     "data": {
      "text/plain": [
       "False"
      ]
     },
     "execution_count": 3,
     "metadata": {},
     "output_type": "execute_result"
    }
   ],
   "source": [
    "num = 1800\n",
    "isSameAfterReversals(num)"
   ]
  },
  {
   "cell_type": "code",
   "execution_count": 4,
   "metadata": {},
   "outputs": [
    {
     "data": {
      "text/plain": [
       "True"
      ]
     },
     "execution_count": 4,
     "metadata": {},
     "output_type": "execute_result"
    }
   ],
   "source": [
    "num = 0\n",
    "isSameAfterReversals(num)"
   ]
  }
 ],
 "metadata": {
  "kernelspec": {
   "display_name": "img",
   "language": "python",
   "name": "img"
  },
  "language_info": {
   "codemirror_mode": {
    "name": "ipython",
    "version": 3
   },
   "file_extension": ".py",
   "mimetype": "text/x-python",
   "name": "python",
   "nbconvert_exporter": "python",
   "pygments_lexer": "ipython3",
   "version": "3.11.4"
  }
 },
 "nbformat": 4,
 "nbformat_minor": 2
}
