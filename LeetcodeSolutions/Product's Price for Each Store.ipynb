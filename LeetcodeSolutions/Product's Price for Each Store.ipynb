{
 "cells": [
  {
   "cell_type": "markdown",
   "metadata": {},
   "source": [
    "## 1777. Product's Price for Each Store\n",
    "\n",
    "Table: Products\n",
    "\n",
    "| Column Name | Type    |\n",
    "|-------------|---------|\n",
    "| product_id  | int     |\n",
    "| store       | enum    |\n",
    "| price       | int     |\n",
    "\n",
    "In SQL, `(product_id, store)` is the primary key for this table.\n",
    "`store` is a category of type (`store1`, `store2`, `store3`) where each represents the store this product is available at.\n",
    "`price` is the price of the product at this store.\n",
    "\n",
    "Find the price of each product in each store.\n",
    "\n",
    "Return the result table in any order.\n",
    "\n",
    "### Example:\n",
    "\n",
    "**Input:**  \n",
    "Products table:\n",
    "| product_id  | store  | price |\n",
    "|-------------|--------|-------|\n",
    "| 0           | store1 | 95    |\n",
    "| 0           | store3 | 105   |\n",
    "| 0           | store2 | 100   |\n",
    "| 1           | store1 | 70    |\n",
    "| 1           | store3 | 80    |\n",
    "\n",
    "**Output:**  \n",
    "| product_id  | store1 | store2 | store3 |\n",
    "|-------------|--------|--------|--------|\n",
    "| 0           | 95     | 100    | 105    |\n",
    "| 1           | 70     | null   | 80     |\n",
    "\n",
    "**Explanation:**  \n",
    "Product 0's prices are 95 for store1, 100 for store2, and 105 for store3.\n",
    "Product 1's prices are 70 for store1, 80 for store3, and it's not sold in store2."
   ]
  },
  {
   "cell_type": "code",
   "execution_count": 1,
   "metadata": {},
   "outputs": [],
   "source": [
    "import pandas as pd"
   ]
  },
  {
   "cell_type": "code",
   "execution_count": 2,
   "metadata": {},
   "outputs": [],
   "source": [
    "products = pd.DataFrame([\n",
    "    {\"product_id\": 0, \"store\": \"store1\", \"price\": 95},\n",
    "    {\"product_id\": 0, \"store\": \"store3\", \"price\": 105},\n",
    "    {\"product_id\": 0, \"store\": \"store2\", \"price\": 100},\n",
    "    {\"product_id\": 1, \"store\": \"store1\", \"price\": 70},\n",
    "    {\"product_id\": 1, \"store\": \"store3\", \"price\": 80}\n",
    "])"
   ]
  },
  {
   "cell_type": "code",
   "execution_count": 3,
   "metadata": {},
   "outputs": [],
   "source": [
    "def products_price(products: pd.DataFrame) -> pd.DataFrame:\n",
    "\n",
    "    products_dict = products.pivot(index='product_id',columns='store').to_dict(orient='split')\n",
    "\n",
    "    nested_list = []\n",
    "\n",
    "    for idx in range(len(products_dict)):\n",
    "        nested_list.append([data[idx] for data in products_dict['data']])\n",
    "\n",
    "\n",
    "    output_dict = {df_col:sublist for df_col,sublist in zip([col[1] for col in products_dict['columns']],nested_list)}\n",
    "    output_dict['product_id'] = products_dict['index']\n",
    "\n",
    "    output_df = pd.DataFrame(output_dict)\n",
    "    return output_df[output_df.columns[-1:].to_list() + output_df.columns[:3].to_list()]"
   ]
  },
  {
   "cell_type": "code",
   "execution_count": 4,
   "metadata": {},
   "outputs": [
    {
     "data": {
      "text/html": [
       "<div>\n",
       "<style scoped>\n",
       "    .dataframe tbody tr th:only-of-type {\n",
       "        vertical-align: middle;\n",
       "    }\n",
       "\n",
       "    .dataframe tbody tr th {\n",
       "        vertical-align: top;\n",
       "    }\n",
       "\n",
       "    .dataframe thead th {\n",
       "        text-align: right;\n",
       "    }\n",
       "</style>\n",
       "<table border=\"1\" class=\"dataframe\">\n",
       "  <thead>\n",
       "    <tr style=\"text-align: right;\">\n",
       "      <th></th>\n",
       "      <th>product_id</th>\n",
       "      <th>store1</th>\n",
       "      <th>store2</th>\n",
       "      <th>store3</th>\n",
       "    </tr>\n",
       "  </thead>\n",
       "  <tbody>\n",
       "    <tr>\n",
       "      <th>0</th>\n",
       "      <td>0</td>\n",
       "      <td>95.0</td>\n",
       "      <td>100.0</td>\n",
       "      <td>105.0</td>\n",
       "    </tr>\n",
       "    <tr>\n",
       "      <th>1</th>\n",
       "      <td>1</td>\n",
       "      <td>70.0</td>\n",
       "      <td>NaN</td>\n",
       "      <td>80.0</td>\n",
       "    </tr>\n",
       "  </tbody>\n",
       "</table>\n",
       "</div>"
      ],
      "text/plain": [
       "   product_id  store1  store2  store3\n",
       "0           0    95.0   100.0   105.0\n",
       "1           1    70.0     NaN    80.0"
      ]
     },
     "execution_count": 4,
     "metadata": {},
     "output_type": "execute_result"
    }
   ],
   "source": [
    "products_price(products)"
   ]
  }
 ],
 "metadata": {
  "kernelspec": {
   "display_name": "datascience",
   "language": "python",
   "name": "datascience"
  },
  "language_info": {
   "codemirror_mode": {
    "name": "ipython",
    "version": 3
   },
   "file_extension": ".py",
   "mimetype": "text/x-python",
   "name": "python",
   "nbconvert_exporter": "python",
   "pygments_lexer": "ipython3",
   "version": "3.11.4"
  }
 },
 "nbformat": 4,
 "nbformat_minor": 2
}
