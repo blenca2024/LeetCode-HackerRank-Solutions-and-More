{
 "cells": [
  {
   "cell_type": "markdown",
   "metadata": {},
   "source": [
    "### 2535. Difference Between Element Sum and Digit Sum of an Array\n",
    "\n",
    "You are given a positive integer array `nums`.\n",
    "\n",
    "- The element sum is the sum of all the elements in `nums`.\n",
    "- The digit sum is the sum of all the digits (not necessarily distinct) that appear in `nums`.\n",
    "\n",
    "Return the absolute difference between the element sum and digit sum of `nums`.\n",
    "\n",
    "Note that the absolute difference between two integers x and y is defined as |x - y|.\n",
    "\n",
    "#### Example 1:\n",
    "\n",
    "**Input:** `nums = [1,15,6,3]`\n",
    "**Output:** `9`\n",
    "**Explanation:** \n",
    "- The element sum of `nums` is `1 + 15 + 6 + 3 = 25`.\n",
    "- The digit sum of `nums` is `1 + 1 + 5 + 6 + 3 = 16`.\n",
    "- The absolute difference between the element sum and digit sum is |25 - 16| = 9.\n",
    "\n",
    "#### Example 2:\n",
    "\n",
    "**Input:** `nums = [1,2,3,4]`\n",
    "**Output:** `0`\n",
    "**Explanation:**\n",
    "- The element sum of `nums` is `1 + 2 + 3 + 4 = 10`.\n",
    "- The digit sum of `nums` is `1 + 2 + 3 + 4 = 10`.\n",
    "- The absolute difference between the element sum and digit sum is |10 - 10| = 0.\n",
    "\n",
    "#### Constraints:\n",
    "\n",
    "- `1 <= nums.length <= 2000`\n",
    "- `1 <= nums[i] <= 2000`"
   ]
  },
  {
   "cell_type": "code",
   "execution_count": 5,
   "metadata": {},
   "outputs": [],
   "source": [
    "def differenceOfSum(nums):\n",
    "    return abs(sum([int(num) for str_num in nums for num in str(str_num)]) - sum(nums))"
   ]
  },
  {
   "cell_type": "code",
   "execution_count": 7,
   "metadata": {},
   "outputs": [
    {
     "data": {
      "text/plain": [
       "9"
      ]
     },
     "execution_count": 7,
     "metadata": {},
     "output_type": "execute_result"
    }
   ],
   "source": [
    "nums = [1,15,6,3]\n",
    "differenceOfSum(nums)"
   ]
  },
  {
   "cell_type": "code",
   "execution_count": 8,
   "metadata": {},
   "outputs": [
    {
     "data": {
      "text/plain": [
       "0"
      ]
     },
     "execution_count": 8,
     "metadata": {},
     "output_type": "execute_result"
    }
   ],
   "source": [
    "nums = [1,2,3,4]\n",
    "differenceOfSum(nums)"
   ]
  }
 ],
 "metadata": {
  "kernelspec": {
   "display_name": "Python 3",
   "language": "python",
   "name": "python3"
  },
  "language_info": {
   "codemirror_mode": {
    "name": "ipython",
    "version": 3
   },
   "file_extension": ".py",
   "mimetype": "text/x-python",
   "name": "python",
   "nbconvert_exporter": "python",
   "pygments_lexer": "ipython3",
   "version": "3.11.2"
  }
 },
 "nbformat": 4,
 "nbformat_minor": 2
}
