{
 "cells": [
  {
   "cell_type": "markdown",
   "metadata": {},
   "source": [
    "# 1165. Single-Row Keyboard\n",
    "\n",
    "There is a special keyboard with all keys in a single row.\n",
    "\n",
    "Given a string `keyboard` of length 26 indicating the layout of the keyboard (indexed from 0 to 25). Initially, your finger is at index 0. To type a character, you have to move your finger to the index of the desired character. The time taken to move your finger from index `i` to index `j` is `|i - j|`.\n",
    "\n",
    "You want to type a string `word`. Write a function to calculate how much time it takes to type it with one finger.\n",
    "\n",
    "## Example 1:\n",
    "\n",
    "**Input:** `keyboard = \"abcdefghijklmnopqrstuvwxyz\", word = \"cba\"`  \n",
    "**Output:** `4`  \n",
    "**Explanation:** The index moves from 0 to 2 to write 'c' then to 1 to write 'b' then to 0 again to write 'a'.  \n",
    "Total time = 2 + 1 + 1 = 4.\n",
    "\n",
    "## Example 2:\n",
    "\n",
    "**Input:** `keyboard = \"pqrstuvwxyzabcdefghijklmno\", word = \"leetcode\"`  \n",
    "**Output:** `73`\n",
    "\n",
    "Constraints:\n",
    "\n",
    "- `keyboard.length == 26`\n",
    "- `keyboard` contains each English lowercase letter exactly once in some order.\n",
    "- `1 <= word.length <= 10^4`\n",
    "- `word[i]` is an English lowercase letter.\n"
   ]
  },
  {
   "cell_type": "code",
   "execution_count": 1,
   "metadata": {},
   "outputs": [],
   "source": [
    "def calculateTime(keyboard: str, word: str) -> int:\n",
    "\n",
    "    indicies = [keyboard.index(char) for char in word]\n",
    "    initial_move = indicies[0]\n",
    "\n",
    "    return initial_move + sum([abs(num1-num2) for num1,num2 in zip(indicies[1:],[num for num in indicies[:-1]])])"
   ]
  },
  {
   "cell_type": "code",
   "execution_count": 2,
   "metadata": {},
   "outputs": [
    {
     "data": {
      "text/plain": [
       "73"
      ]
     },
     "execution_count": 2,
     "metadata": {},
     "output_type": "execute_result"
    }
   ],
   "source": [
    "keyboard = \"pqrstuvwxyzabcdefghijklmno\"\n",
    "word = \"leetcode\"\n",
    "\n",
    "calculateTime(keyboard=keyboard,word=word)"
   ]
  },
  {
   "cell_type": "code",
   "execution_count": 3,
   "metadata": {},
   "outputs": [
    {
     "data": {
      "text/plain": [
       "4"
      ]
     },
     "execution_count": 3,
     "metadata": {},
     "output_type": "execute_result"
    }
   ],
   "source": [
    "keyboard = \"abcdefghijklmnopqrstuvwxyz\"\n",
    "word = \"cba\"\n",
    "\n",
    "calculateTime(keyboard=keyboard,word=word)"
   ]
  }
 ],
 "metadata": {
  "kernelspec": {
   "display_name": "datascience",
   "language": "python",
   "name": "datascience"
  },
  "language_info": {
   "codemirror_mode": {
    "name": "ipython",
    "version": 3
   },
   "file_extension": ".py",
   "mimetype": "text/x-python",
   "name": "python",
   "nbconvert_exporter": "python",
   "pygments_lexer": "ipython3",
   "version": "3.11.4"
  }
 },
 "nbformat": 4,
 "nbformat_minor": 2
}
