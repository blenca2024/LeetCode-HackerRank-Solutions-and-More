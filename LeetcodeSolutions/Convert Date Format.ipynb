{
 "cells": [
  {
   "cell_type": "markdown",
   "metadata": {},
   "source": [
    "# 1853. Convert Date Format\n",
    "\n",
    "Table: Days\n",
    "\n",
    "| Column Name | Type |\n",
    "|-------------|------|\n",
    "| day         | date |\n",
    "\n",
    "`day` is the column with unique values for this table.\n",
    "\n",
    "Write a solution to convert each date in Days into a string formatted as \"day_name, month_name day, year\".\n",
    "\n",
    "Return the result table in any order.\n",
    "\n",
    "The result format is in the following example.\n",
    "\n",
    "## Example:\n",
    "\n",
    "**Input:**\n",
    "\n",
    "Days table:\n",
    "\n",
    "| day        |\n",
    "|------------|\n",
    "| 2022-04-12 |\n",
    "| 2021-08-09 |\n",
    "| 2020-06-26 |\n",
    "\n",
    "**Output:**\n",
    "\n",
    "| day                     |\n",
    "|-------------------------|\n",
    "| Tuesday, April 12, 2022 |\n",
    "| Monday, August 9, 2021  |\n",
    "| Friday, June 26, 2020   |\n",
    "\n",
    "**Explanation:**\n",
    "\n",
    "Please note that the output is case-sensitive.\n"
   ]
  },
  {
   "cell_type": "code",
   "execution_count": 1,
   "metadata": {},
   "outputs": [],
   "source": [
    "import pandas as pd"
   ]
  },
  {
   "cell_type": "code",
   "execution_count": 2,
   "metadata": {},
   "outputs": [],
   "source": [
    "days = pd.DataFrame(data = {\n",
    "    \"day\": [\"2022-04-12\", \"2021-08-09\", \"2020-06-26\"]\n",
    "})"
   ]
  },
  {
   "cell_type": "code",
   "execution_count": 3,
   "metadata": {},
   "outputs": [],
   "source": [
    "def convert_date_format(days: pd.DataFrame) -> pd.DataFrame:\n",
    "    days['day'] = pd.to_datetime(days['day'])\n",
    "    return pd.DataFrame({'day':[f'{day_name}, {month} {day}, {year}' for day_name,month,day,year in zip(days['day'].dt.day_name(),days['day'].dt.month_name(), days['day'].dt.day, days['day'].dt.year)]})"
   ]
  },
  {
   "cell_type": "code",
   "execution_count": 4,
   "metadata": {},
   "outputs": [
    {
     "data": {
      "text/html": [
       "<div>\n",
       "<style scoped>\n",
       "    .dataframe tbody tr th:only-of-type {\n",
       "        vertical-align: middle;\n",
       "    }\n",
       "\n",
       "    .dataframe tbody tr th {\n",
       "        vertical-align: top;\n",
       "    }\n",
       "\n",
       "    .dataframe thead th {\n",
       "        text-align: right;\n",
       "    }\n",
       "</style>\n",
       "<table border=\"1\" class=\"dataframe\">\n",
       "  <thead>\n",
       "    <tr style=\"text-align: right;\">\n",
       "      <th></th>\n",
       "      <th>day</th>\n",
       "    </tr>\n",
       "  </thead>\n",
       "  <tbody>\n",
       "    <tr>\n",
       "      <th>0</th>\n",
       "      <td>Tuesday, April 12, 2022</td>\n",
       "    </tr>\n",
       "    <tr>\n",
       "      <th>1</th>\n",
       "      <td>Monday, August 9, 2021</td>\n",
       "    </tr>\n",
       "    <tr>\n",
       "      <th>2</th>\n",
       "      <td>Friday, June 26, 2020</td>\n",
       "    </tr>\n",
       "  </tbody>\n",
       "</table>\n",
       "</div>"
      ],
      "text/plain": [
       "                       day\n",
       "0  Tuesday, April 12, 2022\n",
       "1   Monday, August 9, 2021\n",
       "2    Friday, June 26, 2020"
      ]
     },
     "execution_count": 4,
     "metadata": {},
     "output_type": "execute_result"
    }
   ],
   "source": [
    "convert_date_format(days)"
   ]
  }
 ],
 "metadata": {
  "kernelspec": {
   "display_name": "datascience",
   "language": "python",
   "name": "datascience"
  },
  "language_info": {
   "codemirror_mode": {
    "name": "ipython",
    "version": 3
   },
   "file_extension": ".py",
   "mimetype": "text/x-python",
   "name": "python",
   "nbconvert_exporter": "python",
   "pygments_lexer": "ipython3",
   "version": "3.11.4"
  }
 },
 "nbformat": 4,
 "nbformat_minor": 2
}
