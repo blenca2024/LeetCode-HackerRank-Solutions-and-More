{
 "cells": [
  {
   "cell_type": "markdown",
   "metadata": {},
   "source": [
    "# Power of Three\n",
    "\n",
    "Given an integer, write a function to determine if it is a power of three.\n",
    "\n",
    "**Example 1:**\n",
    "\n",
    "Input: 27\n",
    "\n",
    "Output: true\n",
    "\n",
    "**Example 2:**\n",
    "\n",
    "Input: 0\n",
    "\n",
    "Output: false\n",
    "\n",
    "**Example 3:**\n",
    "\n",
    "Input: 9\n",
    "\n",
    "Output: true\n",
    "\n",
    "**Example 4:**\n",
    "\n",
    "Input: 45\n",
    "\n",
    "Output: false\n",
    "\n",
    "**Follow up:**\n",
    "\n",
    "Could you do it without using any loop / recursion?"
   ]
  },
  {
   "cell_type": "code",
   "execution_count": 1,
   "metadata": {},
   "outputs": [
    {
     "name": "stdout",
     "output_type": "stream",
     "text": [
      "True\n",
      "False\n",
      "True\n",
      "False\n"
     ]
    }
   ],
   "source": [
    "from math import log\n",
    "\n",
    "def isPowerOfThree(n):\n",
    "        if n == 0:\n",
    "            return False\n",
    "        if n < 0:\n",
    "            return False\n",
    "        n = log(n,3)\n",
    "        n = round(n,10)\n",
    "        return n.is_integer()\n",
    "    \n",
    "\n",
    "n = 27\n",
    "print(isPowerOfThree(n))\n",
    "\n",
    "n = 0\n",
    "print(isPowerOfThree(n))\n",
    "\n",
    "n = 9\n",
    "print(isPowerOfThree(n))\n",
    "\n",
    "n = 45\n",
    "print(isPowerOfThree(n))"
   ]
  }
 ],
 "metadata": {
  "kernelspec": {
   "display_name": "Python 3",
   "language": "python",
   "name": "python3"
  },
  "language_info": {
   "codemirror_mode": {
    "name": "ipython",
    "version": 3
   },
   "file_extension": ".py",
   "mimetype": "text/x-python",
   "name": "python",
   "nbconvert_exporter": "python",
   "pygments_lexer": "ipython3",
   "version": "3.7.3"
  }
 },
 "nbformat": 4,
 "nbformat_minor": 2
}
