{
 "cells": [
  {
   "cell_type": "markdown",
   "metadata": {},
   "source": [
    "# Number of Students Doing Homework at a Given Time\n",
    "\n",
    "Given two integer arrays startTime and endTime and given an integer queryTime.\n",
    "\n",
    "The ith student started doing their homework at the time startTime[i] and finished it at time endTime[i].\n",
    "\n",
    "Return the number of students doing their homework at time queryTime. More formally, return the number of students where queryTime lays in the interval [startTime[i], endTime[i]] inclusive.\n",
    "\n",
    " \n",
    "\n",
    "**Example 1:**\n",
    "\n",
    "Input: startTime = [1,2,3], endTime = [3,2,7], queryTime = 4\n",
    "\n",
    "Output: 1\n",
    "\n",
    "Explanation: We have 3 students where:\n",
    "The first student started doing homework at time 1 and finished at time 3 and wasn't doing anything at time 4.\n",
    "The second student started doing homework at time 2 and finished at time 2 and also wasn't doing anything at time 4.\n",
    "The third student started doing homework at time 3 and finished at time 7 and was the only student doing homework at time 4.\n",
    "\n",
    "**Example 2:**\n",
    "\n",
    "Input: startTime = [4], endTime = [4], queryTime = 4\n",
    "\n",
    "Output: 1\n",
    "\n",
    "Explanation: The only student was doing their homework at the queryTime.\n",
    "\n",
    "**Example 3:**\n",
    "\n",
    "Input: startTime = [4], endTime = [4], queryTime = 5\n",
    "\n",
    "Output: 0\n",
    "\n",
    "**Example 4:**\n",
    "\n",
    "Input: startTime = [1,1,1,1], endTime = [1,3,2,4], queryTime = 7\n",
    "\n",
    "Output: 0\n",
    "\n",
    "**Example 5:**\n",
    "\n",
    "Input: startTime = [9,8,7,6,5,4,3,2,1], endTime = [10,10,10,10,10,10,10,10,10], queryTime = 5\n",
    "\n",
    "Output: 5"
   ]
  },
  {
   "cell_type": "code",
   "execution_count": 3,
   "metadata": {},
   "outputs": [
    {
     "name": "stdout",
     "output_type": "stream",
     "text": [
      "1\n",
      "1\n",
      "0\n",
      "0\n",
      "5\n"
     ]
    }
   ],
   "source": [
    "def busyStudent(startTime,endTime, queryTime):\n",
    "        count = 0\n",
    "        for x,y in zip(startTime,endTime):\n",
    "            if x <= queryTime <= y:\n",
    "                count += 1\n",
    "            else:\n",
    "                pass\n",
    "        return count\n",
    "    \n",
    "    \n",
    "startTime = [1,2,3]\n",
    "endTime = [3,2,7]\n",
    "queryTime = 4\n",
    "print(busyStudent(startTime,endTime,queryTime))\n",
    "\n",
    "startTime = [4]\n",
    "endTime = [4]\n",
    "queryTime = 4\n",
    "print(busyStudent(startTime,endTime,queryTime))\n",
    "\n",
    "startTime = [4]\n",
    "endTime = [4]\n",
    "queryTime = 5\n",
    "print(busyStudent(startTime,endTime,queryTime))\n",
    "\n",
    "startTime = [1,1,1,1]\n",
    "endTime = [1,3,2,4]\n",
    "queryTime = 7\n",
    "print(busyStudent(startTime,endTime,queryTime))\n",
    "\n",
    "startTime = [9,8,7,6,5,4,3,2,1]\n",
    "endTime = [10,10,10,10,10,10,10,10,10]\n",
    "queryTime = 5\n",
    "print(busyStudent(startTime,endTime,queryTime))"
   ]
  }
 ],
 "metadata": {
  "kernelspec": {
   "display_name": "Python 3",
   "language": "python",
   "name": "python3"
  },
  "language_info": {
   "codemirror_mode": {
    "name": "ipython",
    "version": 3
   },
   "file_extension": ".py",
   "mimetype": "text/x-python",
   "name": "python",
   "nbconvert_exporter": "python",
   "pygments_lexer": "ipython3",
   "version": "3.7.3"
  }
 },
 "nbformat": 4,
 "nbformat_minor": 2
}
