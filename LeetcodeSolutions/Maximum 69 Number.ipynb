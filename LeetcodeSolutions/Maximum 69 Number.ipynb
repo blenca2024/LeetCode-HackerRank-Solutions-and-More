{
 "cells": [
  {
   "cell_type": "markdown",
   "metadata": {},
   "source": [
    "# Maximum 69 Number\n",
    "\n",
    "Given a positive integer num consisting only of digits 6 and 9.\n",
    "\n",
    "Return the maximum number you can get by changing at most one digit (6 becomes 9, and 9 becomes 6).\n",
    "\n",
    " \n",
    "\n",
    "**Example 1:**\n",
    "\n",
    "Input: num = 9669\n",
    "Output: 9969\n",
    "Explanation: \n",
    "Changing the first digit results in 6669.\n",
    "Changing the second digit results in 9969.\n",
    "Changing the third digit results in 9699.\n",
    "Changing the fourth digit results in 9666. \n",
    "The maximum number is 9969.\n",
    "\n",
    "**Example 2:**\n",
    "\n",
    "Input: num = 9996\n",
    "Output: 9999\n",
    "Explanation: Changing the last digit 6 to 9 results in the maximum number.\n",
    "\n",
    "**Example 3:**\n",
    "\n",
    "Input: num = 9999\n",
    "Output: 9999\n",
    "Explanation: It is better not to apply any change.\n",
    " \n",
    "\n",
    "**Constraints:**\n",
    "\n",
    "1 <= num <= 10^4\n",
    "num's digits are 6 or 9."
   ]
  },
  {
   "cell_type": "code",
   "execution_count": 2,
   "metadata": {},
   "outputs": [
    {
     "name": "stdout",
     "output_type": "stream",
     "text": [
      "9969\n",
      "9999\n",
      "9999\n"
     ]
    }
   ],
   "source": [
    "def maximum69Number(num):\n",
    "        a = [i for i in str(num)]\n",
    "        b = [int(i) for i in a]\n",
    "        if 6 in b:\n",
    "            b.insert(b.index(6),9)\n",
    "            b.remove(6)\n",
    "            c = [str(i) for i in b]\n",
    "            return int(\"\".join(c))\n",
    "        else:\n",
    "            return num\n",
    "        \n",
    "\n",
    "num = 9669\n",
    "print(maximum69Number(num))\n",
    "\n",
    "num = 9996\n",
    "print(maximum69Number(num))\n",
    "\n",
    "num = 9999\n",
    "print(maximum69Number(num))"
   ]
  }
 ],
 "metadata": {
  "kernelspec": {
   "display_name": "Python 3",
   "language": "python",
   "name": "python3"
  },
  "language_info": {
   "codemirror_mode": {
    "name": "ipython",
    "version": 3
   },
   "file_extension": ".py",
   "mimetype": "text/x-python",
   "name": "python",
   "nbconvert_exporter": "python",
   "pygments_lexer": "ipython3",
   "version": "3.7.3"
  }
 },
 "nbformat": 4,
 "nbformat_minor": 2
}
