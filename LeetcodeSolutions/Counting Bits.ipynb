{
 "cells": [
  {
   "cell_type": "markdown",
   "metadata": {},
   "source": [
    "# 338. Counting Bits\n",
    "\n",
    "Given an integer `n`, return an array `ans` of length `n + 1` such that for each `i` (0 <= i <= n), `ans[i]` is the number of 1's in the binary representation of `i`.\n",
    "\n",
    "## Example 1:\n",
    "\n",
    "**Input:** `n = 2`  \n",
    "**Output:** `[0,1,1]`  \n",
    "**Explanation:**  \n",
    "0 --> 0  \n",
    "1 --> 1  \n",
    "2 --> 10\n",
    "\n",
    "## Example 2:\n",
    "\n",
    "**Input:** `n = 5`  \n",
    "**Output:** `[0,1,1,2,1,2]`  \n",
    "**Explanation:**  \n",
    "0 --> 0  \n",
    "1 --> 1  \n",
    "2 --> 10  \n",
    "3 --> 11  \n",
    "4 --> 100  \n",
    "5 --> 101\n",
    "\n",
    "Constraints:\n",
    "\n",
    "- `0 <= n <= 10^5`\n",
    "\n",
    "Follow up:\n",
    "\n",
    "- It is very easy to come up with a solution with a runtime of O(n log n). Can you do it in linear time O(n) and possibly in a single pass?\n",
    "- Can you do it without using any built-in function (i.e., like `__builtin_popcount` in C++)?\n"
   ]
  },
  {
   "cell_type": "code",
   "execution_count": 1,
   "metadata": {},
   "outputs": [],
   "source": [
    "from typing import List"
   ]
  },
  {
   "cell_type": "code",
   "execution_count": 2,
   "metadata": {},
   "outputs": [],
   "source": [
    "def countBits(n: int) -> List[int]:\n",
    "    bin_nums = [bin(num).replace('0b','') for num in range(n+1)]\n",
    "\n",
    "    output_list = []\n",
    "    for bin_num in bin_nums:\n",
    "        output_list.append(sum([int(num) for num in bin_num]))\n",
    "\n",
    "    return output_list"
   ]
  },
  {
   "cell_type": "code",
   "execution_count": 3,
   "metadata": {},
   "outputs": [
    {
     "data": {
      "text/plain": [
       "[0, 1, 1]"
      ]
     },
     "execution_count": 3,
     "metadata": {},
     "output_type": "execute_result"
    }
   ],
   "source": [
    "n=2\n",
    "countBits(n)"
   ]
  },
  {
   "cell_type": "code",
   "execution_count": 4,
   "metadata": {},
   "outputs": [
    {
     "data": {
      "text/plain": [
       "[0, 1, 1, 2, 1, 2]"
      ]
     },
     "execution_count": 4,
     "metadata": {},
     "output_type": "execute_result"
    }
   ],
   "source": [
    "n = 5\n",
    "countBits(n)"
   ]
  }
 ],
 "metadata": {
  "kernelspec": {
   "display_name": "img",
   "language": "python",
   "name": "img"
  },
  "language_info": {
   "codemirror_mode": {
    "name": "ipython",
    "version": 3
   },
   "file_extension": ".py",
   "mimetype": "text/x-python",
   "name": "python",
   "nbconvert_exporter": "python",
   "pygments_lexer": "ipython3",
   "version": "3.11.4"
  }
 },
 "nbformat": 4,
 "nbformat_minor": 2
}
