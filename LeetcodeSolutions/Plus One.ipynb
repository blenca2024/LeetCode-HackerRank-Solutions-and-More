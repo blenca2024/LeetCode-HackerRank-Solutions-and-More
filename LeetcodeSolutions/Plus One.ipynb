{
 "cells": [
  {
   "cell_type": "markdown",
   "metadata": {},
   "source": [
    "# Plus One\n",
    "\n",
    "Given a non-empty array of digits representing a non-negative integer, increment one to the integer.\n",
    "\n",
    "The digits are stored such that the most significant digit is at the head of the list, and each element in the array contains a single digit.\n",
    "\n",
    "You may assume the integer does not contain any leading zero, except the number 0 itself.\n",
    "\n",
    "**Example 1:**\n",
    "\n",
    "Input: [1,2,3]\n",
    "\n",
    "Output: [1,2,4]\n",
    "\n",
    "Explanation: The array represents the integer 123.\n",
    "\n",
    "**Example 2:**\n",
    "\n",
    "Input: [4,3,2,1]\n",
    "\n",
    "Output: [4,3,2,2]\n",
    "\n",
    "Explanation: The array represents the integer 4321."
   ]
  },
  {
   "cell_type": "code",
   "execution_count": 1,
   "metadata": {},
   "outputs": [
    {
     "name": "stdout",
     "output_type": "stream",
     "text": [
      "[1, 2, 4]\n",
      "[4, 3, 2, 2]\n"
     ]
    }
   ],
   "source": [
    "def plusOne(digits):\n",
    "        s = \"\"\n",
    "        s = s.join(str(i) for i in digits)\n",
    "        num = str(int(s) + 1)\n",
    "        num_list = [int(i) for i in num]\n",
    "        return num_list\n",
    "    \n",
    "    \n",
    "digits = [1,2,3]\n",
    "print(plusOne(digits))\n",
    "\n",
    "digits = [4,3,2,1]\n",
    "print(plusOne(digits))"
   ]
  }
 ],
 "metadata": {
  "kernelspec": {
   "display_name": "Python 3",
   "language": "python",
   "name": "python3"
  },
  "language_info": {
   "codemirror_mode": {
    "name": "ipython",
    "version": 3
   },
   "file_extension": ".py",
   "mimetype": "text/x-python",
   "name": "python",
   "nbconvert_exporter": "python",
   "pygments_lexer": "ipython3",
   "version": "3.7.3"
  }
 },
 "nbformat": 4,
 "nbformat_minor": 2
}
