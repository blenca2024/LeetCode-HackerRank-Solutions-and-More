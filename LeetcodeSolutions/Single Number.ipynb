{
 "cells": [
  {
   "cell_type": "markdown",
   "metadata": {},
   "source": [
    "# Single Number\n",
    "\n",
    "Given a non-empty array of integers, every element appears twice except for one. Find that single one.\n",
    "\n",
    "**Note:**\n",
    "\n",
    "Your algorithm should have a linear runtime complexity. Could you implement it without using extra memory?\n",
    "\n",
    "**Example 1:**\n",
    "\n",
    "Input: [2,2,1]\n",
    "\n",
    "Output: 1\n",
    "\n",
    "**Example 2:**\n",
    "\n",
    "Input: [4,1,2,1,2]\n",
    "\n",
    "Output: 4"
   ]
  },
  {
   "cell_type": "code",
   "execution_count": 1,
   "metadata": {},
   "outputs": [
    {
     "name": "stdout",
     "output_type": "stream",
     "text": [
      "1\n",
      "4\n"
     ]
    }
   ],
   "source": [
    "def singleNumber(nums):\n",
    "        for i in nums:\n",
    "            if nums.count(i) == 1:\n",
    "                return i\n",
    "            \n",
    "            \n",
    "nums = [2,2,1]\n",
    "print(singleNumber(nums))\n",
    "\n",
    "nums =  [4,1,2,1,2]\n",
    "print(singleNumber(nums))"
   ]
  }
 ],
 "metadata": {
  "kernelspec": {
   "display_name": "Python 3",
   "language": "python",
   "name": "python3"
  },
  "language_info": {
   "codemirror_mode": {
    "name": "ipython",
    "version": 3
   },
   "file_extension": ".py",
   "mimetype": "text/x-python",
   "name": "python",
   "nbconvert_exporter": "python",
   "pygments_lexer": "ipython3",
   "version": "3.7.3"
  }
 },
 "nbformat": 4,
 "nbformat_minor": 2
}
