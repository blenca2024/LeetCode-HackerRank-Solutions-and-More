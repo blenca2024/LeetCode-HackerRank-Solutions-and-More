{
 "cells": [
  {
   "cell_type": "markdown",
   "metadata": {},
   "source": [
    "# 2339. All the Matches of the League\n",
    "\n",
    "Table: Teams\n",
    "\n",
    "| Column Name | Type    |\n",
    "|-------------|---------|\n",
    "| team_name   | varchar |\n",
    "\n",
    "`team_name` is the column with unique values of this table.\n",
    "Each row of this table shows the name of a team.\n",
    "\n",
    "Write a solution to report all the possible matches of the league. Note that every two teams play two matches with each other, with one team being the `home_team` once and the other time being the `away_team`.\n",
    "\n",
    "Return the result table in any order.\n",
    "\n",
    "The result format is in the following example.\n",
    "\n",
    "## Example:\n",
    "\n",
    "**Input:**\n",
    "\n",
    "Teams table:\n",
    "\n",
    "| team_name   |\n",
    "|-------------|\n",
    "| Leetcode FC |\n",
    "| Ahly SC     |\n",
    "| Real Madrid |\n",
    "\n",
    "**Output:**\n",
    "\n",
    "| home_team   | away_team   |\n",
    "|-------------|-------------|\n",
    "| Real Madrid | Leetcode FC |\n",
    "| Real Madrid | Ahly SC     |\n",
    "| Leetcode FC | Real Madrid |\n",
    "| Leetcode FC | Ahly SC     |\n",
    "| Ahly SC     | Real Madrid |\n",
    "| Ahly SC     | Leetcode FC |\n",
    "\n",
    "**Explanation:**\n",
    "\n",
    "All the matches of the league are shown in the table.\n"
   ]
  },
  {
   "cell_type": "code",
   "execution_count": 1,
   "metadata": {},
   "outputs": [],
   "source": [
    "import pandas as pd"
   ]
  },
  {
   "cell_type": "code",
   "execution_count": 2,
   "metadata": {},
   "outputs": [],
   "source": [
    "def find_all_matches(teams: pd.DataFrame) -> pd.DataFrame:\n",
    "    output_dict = {'home_team':[],'away_team':[]}\n",
    "\n",
    "    for i in teams['team_name']:\n",
    "        for j in teams['team_name']:\n",
    "            if i != j:\n",
    "                output_dict['home_team'].append(i)\n",
    "                output_dict['away_team'].append(j)\n",
    "\n",
    "    return pd.DataFrame(output_dict)"
   ]
  },
  {
   "cell_type": "code",
   "execution_count": 3,
   "metadata": {},
   "outputs": [
    {
     "data": {
      "text/html": [
       "<div>\n",
       "<style scoped>\n",
       "    .dataframe tbody tr th:only-of-type {\n",
       "        vertical-align: middle;\n",
       "    }\n",
       "\n",
       "    .dataframe tbody tr th {\n",
       "        vertical-align: top;\n",
       "    }\n",
       "\n",
       "    .dataframe thead th {\n",
       "        text-align: right;\n",
       "    }\n",
       "</style>\n",
       "<table border=\"1\" class=\"dataframe\">\n",
       "  <thead>\n",
       "    <tr style=\"text-align: right;\">\n",
       "      <th></th>\n",
       "      <th>home_team</th>\n",
       "      <th>away_team</th>\n",
       "    </tr>\n",
       "  </thead>\n",
       "  <tbody>\n",
       "    <tr>\n",
       "      <th>0</th>\n",
       "      <td>Leetcode FC</td>\n",
       "      <td>Ahly SC</td>\n",
       "    </tr>\n",
       "    <tr>\n",
       "      <th>1</th>\n",
       "      <td>Leetcode FC</td>\n",
       "      <td>Real Madrid</td>\n",
       "    </tr>\n",
       "    <tr>\n",
       "      <th>2</th>\n",
       "      <td>Ahly SC</td>\n",
       "      <td>Leetcode FC</td>\n",
       "    </tr>\n",
       "    <tr>\n",
       "      <th>3</th>\n",
       "      <td>Ahly SC</td>\n",
       "      <td>Real Madrid</td>\n",
       "    </tr>\n",
       "    <tr>\n",
       "      <th>4</th>\n",
       "      <td>Real Madrid</td>\n",
       "      <td>Leetcode FC</td>\n",
       "    </tr>\n",
       "    <tr>\n",
       "      <th>5</th>\n",
       "      <td>Real Madrid</td>\n",
       "      <td>Ahly SC</td>\n",
       "    </tr>\n",
       "  </tbody>\n",
       "</table>\n",
       "</div>"
      ],
      "text/plain": [
       "     home_team    away_team\n",
       "0  Leetcode FC      Ahly SC\n",
       "1  Leetcode FC  Real Madrid\n",
       "2      Ahly SC  Leetcode FC\n",
       "3      Ahly SC  Real Madrid\n",
       "4  Real Madrid  Leetcode FC\n",
       "5  Real Madrid      Ahly SC"
      ]
     },
     "execution_count": 3,
     "metadata": {},
     "output_type": "execute_result"
    }
   ],
   "source": [
    "teams = pd.DataFrame({'team_name':['Leetcode FC', 'Ahly SC', 'Real Madrid']})\n",
    "find_all_matches(teams)"
   ]
  }
 ],
 "metadata": {
  "kernelspec": {
   "display_name": "datascience",
   "language": "python",
   "name": "datascience"
  },
  "language_info": {
   "codemirror_mode": {
    "name": "ipython",
    "version": 3
   },
   "file_extension": ".py",
   "mimetype": "text/x-python",
   "name": "python",
   "nbconvert_exporter": "python",
   "pygments_lexer": "ipython3",
   "version": "3.11.4"
  }
 },
 "nbformat": 4,
 "nbformat_minor": 2
}
