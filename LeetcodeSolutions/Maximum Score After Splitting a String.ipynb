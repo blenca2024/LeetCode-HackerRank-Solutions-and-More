{
 "cells": [
  {
   "cell_type": "markdown",
   "metadata": {},
   "source": [
    "# 1422. Maximum Score After Splitting a String\n",
    "\n",
    "Given a string `s` of zeros and ones, return the maximum score after splitting the string into two non-empty substrings (i.e., left substring and right substring).\n",
    "\n",
    "The score after splitting a string is the number of zeros in the left substring plus the number of ones in the right substring.\n",
    "\n",
    "## Example 1:\n",
    "\n",
    "**Input:** `s = \"011101\"`\n",
    "\n",
    "**Output:** `5`\n",
    "\n",
    "**Explanation:**\n",
    "All possible ways of splitting `s` into two non-empty substrings are:\n",
    "- `left = \"0\"` and `right = \"11101\"`, score = 1 + 4 = 5 \n",
    "- `left = \"01\"` and `right = \"1101\"`, score = 1 + 3 = 4 \n",
    "- `left = \"011\"` and `right = \"101\"`, score = 1 + 2 = 3 \n",
    "- `left = \"0111\"` and `right = \"01\"`, score = 1 + 1 = 2 \n",
    "- `left = \"01110\"` and `right = \"1\"`, score = 2 + 1 = 3\n",
    "\n",
    "## Example 2:\n",
    "\n",
    "**Input:** `s = \"00111\"`\n",
    "\n",
    "**Output:** `5`\n",
    "\n",
    "**Explanation:** When `left = \"00\"` and `right = \"111\"`, we get the maximum score = 2 + 3 = 5\n",
    "\n",
    "## Example 3:\n",
    "\n",
    "**Input:** `s = \"1111\"`\n",
    "\n",
    "**Output:** `3`\n",
    "\n",
    "## Constraints:\n",
    "\n",
    "- `2 <= s.length <= 500`\n",
    "- The string `s` consists of characters '0' and '1' only.\n"
   ]
  },
  {
   "cell_type": "code",
   "execution_count": 1,
   "metadata": {},
   "outputs": [],
   "source": [
    "def maxScore(s: str) -> int:\n",
    "    add_list = []\n",
    "\n",
    "    for idx in range(len(s)):\n",
    "        if len(s[idx+1:]) > 0:\n",
    "            add_list.append(len([num for num in s[:idx+1] if int(num) == 0]) + sum([int(num) for num in s[idx+1:]]))\n",
    "\n",
    "    return max(add_list)"
   ]
  },
  {
   "cell_type": "code",
   "execution_count": 2,
   "metadata": {},
   "outputs": [
    {
     "data": {
      "text/plain": [
       "5"
      ]
     },
     "execution_count": 2,
     "metadata": {},
     "output_type": "execute_result"
    }
   ],
   "source": [
    "s = \"011101\"\n",
    "maxScore(s)"
   ]
  },
  {
   "cell_type": "code",
   "execution_count": 3,
   "metadata": {},
   "outputs": [
    {
     "data": {
      "text/plain": [
       "5"
      ]
     },
     "execution_count": 3,
     "metadata": {},
     "output_type": "execute_result"
    }
   ],
   "source": [
    "s = \"00111\"\n",
    "maxScore(s)"
   ]
  },
  {
   "cell_type": "code",
   "execution_count": 4,
   "metadata": {},
   "outputs": [
    {
     "data": {
      "text/plain": [
       "3"
      ]
     },
     "execution_count": 4,
     "metadata": {},
     "output_type": "execute_result"
    }
   ],
   "source": [
    "s = \"1111\"\n",
    "maxScore(s)"
   ]
  }
 ],
 "metadata": {
  "kernelspec": {
   "display_name": "datascience",
   "language": "python",
   "name": "datascience"
  },
  "language_info": {
   "codemirror_mode": {
    "name": "ipython",
    "version": 3
   },
   "file_extension": ".py",
   "mimetype": "text/x-python",
   "name": "python",
   "nbconvert_exporter": "python",
   "pygments_lexer": "ipython3",
   "version": "3.11.4"
  }
 },
 "nbformat": 4,
 "nbformat_minor": 2
}
