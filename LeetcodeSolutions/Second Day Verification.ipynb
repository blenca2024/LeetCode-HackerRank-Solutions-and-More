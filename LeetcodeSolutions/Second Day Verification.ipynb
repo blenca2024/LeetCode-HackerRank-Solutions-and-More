{
 "cells": [
  {
   "cell_type": "markdown",
   "metadata": {},
   "source": [
    "# 3172. Second Day Verification\n",
    "\n",
    "## Table: emails\n",
    "\n",
    "| Column Name | Type     |\n",
    "|-------------|----------|\n",
    "| email_id    | int      |\n",
    "| user_id     | int      |\n",
    "| signup_date | datetime |\n",
    "\n",
    "(email_id, user_id) is the primary key (combination of columns with unique values) for this table. Each row of this table contains the email ID, user ID, and signup date.\n",
    "\n",
    "## Table: texts\n",
    "\n",
    "| Column Name   | Type     |\n",
    "|---------------|----------|\n",
    "| text_id       | int      |\n",
    "| email_id      | int      |\n",
    "| signup_action | enum     |\n",
    "| action_date   | datetime |\n",
    "\n",
    "(text_id, email_id) is the primary key (combination of columns with unique values) for this table. signup_action is an enum type of ('Verified', 'Not Verified'). Each row of this table contains the text ID, email ID, signup action, and action date.\n",
    "\n",
    "Write a solution to find the user IDs of those who verified their sign-up on the second day.\n",
    "\n",
    "Return the result table ordered by user_id in ascending order.\n",
    "\n",
    "The result format is in the following example.\n",
    "\n",
    "## Example:\n",
    "\n",
    "**Input:**\n",
    "\n",
    "emails table:\n",
    "\n",
    "| email_id | user_id | signup_date         |\n",
    "|----------|---------|---------------------|\n",
    "| 125      | 7771    | 2022-06-14 09:30:00 |\n",
    "| 433      | 1052    | 2022-07-09 08:15:00 |\n",
    "| 234      | 7005    | 2022-08-20 10:00:00 |\n",
    "\n",
    "texts table:\n",
    "\n",
    "| text_id | email_id | signup_action | action_date         |\n",
    "|---------|----------|---------------|---------------------|\n",
    "| 1       | 125      | Verified      | 2022-06-15 08:30:00 |\n",
    "| 2       | 433      | Not Verified  | 2022-07-10 10:45:00 |\n",
    "| 4       | 234      | Verified      | 2022-08-21 09:30:00 |\n",
    "\n",
    "**Output:**\n",
    "\n",
    "| user_id |\n",
    "|---------|\n",
    "| 7005    |\n",
    "| 7771    |\n",
    "\n",
    "**Explanation:**\n",
    "\n",
    "- User with user_id 7005 and email_id 234 signed up on 2022-08-20 10:00:00 and verified on the second day of the signup.\n",
    "- User with user_id 7771 and email_id 125 signed up on 2022-06-14 09:30:00 and verified on the second day of the signup.\n"
   ]
  },
  {
   "cell_type": "code",
   "execution_count": 1,
   "metadata": {},
   "outputs": [],
   "source": [
    "import pandas as pd"
   ]
  },
  {
   "cell_type": "code",
   "execution_count": 2,
   "metadata": {},
   "outputs": [],
   "source": [
    "emails = pd.DataFrame([\n",
    "    {\"email_id\": 125, \"user_id\": 7771, \"signup_date\": \"2022-06-14 09:30:00\"},\n",
    "    {\"email_id\": 433, \"user_id\": 1052, \"signup_date\": \"2022-07-09 08:15:00\"},\n",
    "    {\"email_id\": 234, \"user_id\": 7005, \"signup_date\": \"2022-08-20 10:00:00\"},\n",
    "])\n",
    "\n",
    "\n",
    "texts = pd.DataFrame([\n",
    "    {\"text_id\": 1, \"email_id\": 125, \"signup_action\": \"Verified\", \"action_date\": \"2022-06-15 08:30:00\"},\n",
    "    {\"text_id\": 2, \"email_id\": 433, \"signup_action\": \"Not Verified\", \"action_date\": \"2022-07-10 10:45:00\"},\n",
    "    {\"text_id\": 4, \"email_id\": 234, \"signup_action\": \"Verified\", \"action_date\": \"2022-08-21 09:30:00\"},\n",
    "])\n",
    "\n"
   ]
  },
  {
   "cell_type": "code",
   "execution_count": 3,
   "metadata": {},
   "outputs": [],
   "source": [
    "def find_second_day_signups(emails: pd.DataFrame, texts: pd.DataFrame) -> pd.DataFrame:\n",
    "\n",
    "    emails['signup_date'] = pd.to_datetime(emails['signup_date']).dt.date\n",
    "    texts['action_date'] = pd.to_datetime(texts['action_date']).dt.date\n",
    "\n",
    "    merged_df = pd.merge(right=texts,left=emails,on='email_id')\n",
    "    merged_df['days_diff'] = (merged_df['action_date'] - merged_df['signup_date'])\n",
    "    merged_df['days_diff'] = [pd.Timedelta(day) for day in merged_df['days_diff']]\n",
    "    merged_df['days_diff'] = merged_df['days_diff'].dt.days\n",
    "\n",
    "    return merged_df[(merged_df['signup_action'] == 'Verified') & (merged_df['days_diff'] == 1)][['user_id']].sort_values('user_id')"
   ]
  },
  {
   "cell_type": "code",
   "execution_count": 4,
   "metadata": {},
   "outputs": [
    {
     "data": {
      "text/html": [
       "<div>\n",
       "<style scoped>\n",
       "    .dataframe tbody tr th:only-of-type {\n",
       "        vertical-align: middle;\n",
       "    }\n",
       "\n",
       "    .dataframe tbody tr th {\n",
       "        vertical-align: top;\n",
       "    }\n",
       "\n",
       "    .dataframe thead th {\n",
       "        text-align: right;\n",
       "    }\n",
       "</style>\n",
       "<table border=\"1\" class=\"dataframe\">\n",
       "  <thead>\n",
       "    <tr style=\"text-align: right;\">\n",
       "      <th></th>\n",
       "      <th>user_id</th>\n",
       "    </tr>\n",
       "  </thead>\n",
       "  <tbody>\n",
       "    <tr>\n",
       "      <th>2</th>\n",
       "      <td>7005</td>\n",
       "    </tr>\n",
       "    <tr>\n",
       "      <th>0</th>\n",
       "      <td>7771</td>\n",
       "    </tr>\n",
       "  </tbody>\n",
       "</table>\n",
       "</div>"
      ],
      "text/plain": [
       "   user_id\n",
       "2     7005\n",
       "0     7771"
      ]
     },
     "execution_count": 4,
     "metadata": {},
     "output_type": "execute_result"
    }
   ],
   "source": [
    "find_second_day_signups(emails=emails,texts=texts)"
   ]
  }
 ],
 "metadata": {
  "kernelspec": {
   "display_name": "datascience",
   "language": "python",
   "name": "datascience"
  },
  "language_info": {
   "codemirror_mode": {
    "name": "ipython",
    "version": 3
   },
   "file_extension": ".py",
   "mimetype": "text/x-python",
   "name": "python",
   "nbconvert_exporter": "python",
   "pygments_lexer": "ipython3",
   "version": "3.11.4"
  }
 },
 "nbformat": 4,
 "nbformat_minor": 2
}
