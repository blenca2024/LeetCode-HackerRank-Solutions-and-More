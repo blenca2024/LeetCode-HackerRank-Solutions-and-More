{
 "cells": [
  {
   "cell_type": "markdown",
   "metadata": {},
   "source": [
    "# Robot Return to Origin\n",
    "\n",
    "There is a robot starting at position (0, 0), the origin, on a 2D plane. Given a sequence of its moves, judge if this robot ends up at (0, 0) after it completes its moves.\n",
    "\n",
    "The move sequence is represented by a string, and the character moves[i] represents its ith move. Valid moves are R (right), L (left), U (up), and D (down). If the robot returns to the origin after it finishes all of its moves, return true. Otherwise, return false.\n",
    "\n",
    "Note: The way that the robot is \"facing\" is irrelevant. \"R\" will always make the robot move to the right once, \"L\" will always make it move left, etc. Also, assume that the magnitude of the robot's movement is the same for each move.\n",
    "\n",
    "**Example 1:**\n",
    "\n",
    "Input: \"UD\"\n",
    "\n",
    "Output: true \n",
    "\n",
    "Explanation: The robot moves up once, and then down once. All moves have the same magnitude, so it ended up at the origin where it started. Therefore, we return true.\n",
    " \n",
    "\n",
    "**Example 2:**\n",
    "\n",
    "Input: \"LL\"\n",
    "\n",
    "Output: false\n",
    "\n",
    "Explanation: The robot moves left twice. It ends up two \"moves\" to the left of the origin. We return false because it is not at the origin at the end of its moves."
   ]
  },
  {
   "cell_type": "code",
   "execution_count": 1,
   "metadata": {},
   "outputs": [
    {
     "name": "stdout",
     "output_type": "stream",
     "text": [
      "True\n",
      "False\n"
     ]
    }
   ],
   "source": [
    "def judgeCircle(moves):\n",
    "        m_list = []\n",
    "        moves = list(moves)\n",
    "        move_vert = 0\n",
    "        move_horz = 0\n",
    "        for letter in moves:\n",
    "            if letter == \"U\":\n",
    "                move_vert += 1\n",
    "            if letter == \"D\":\n",
    "                move_vert -= 1\n",
    "        for letter in moves:\n",
    "            if letter == \"R\":\n",
    "                move_horz += 1\n",
    "            if letter == \"L\":\n",
    "                move_horz -= 1\n",
    "        m_list.append(move_horz)\n",
    "        m_list.append(move_vert)\n",
    "        if m_list == [0,0]:\n",
    "            return True\n",
    "        else:\n",
    "            return False\n",
    "        \n",
    "\n",
    "moves = \"UD\"\n",
    "print(judgeCircle(moves))\n",
    "\n",
    "moves = \"LL\"\n",
    "print(judgeCircle(moves))"
   ]
  }
 ],
 "metadata": {
  "kernelspec": {
   "display_name": "Python 3",
   "language": "python",
   "name": "python3"
  },
  "language_info": {
   "codemirror_mode": {
    "name": "ipython",
    "version": 3
   },
   "file_extension": ".py",
   "mimetype": "text/x-python",
   "name": "python",
   "nbconvert_exporter": "python",
   "pygments_lexer": "ipython3",
   "version": "3.7.3"
  }
 },
 "nbformat": 4,
 "nbformat_minor": 2
}
