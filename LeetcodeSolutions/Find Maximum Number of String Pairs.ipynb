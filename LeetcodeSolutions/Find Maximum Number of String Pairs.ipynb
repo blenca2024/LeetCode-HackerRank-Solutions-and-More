{
 "cells": [
  {
   "cell_type": "markdown",
   "metadata": {},
   "source": [
    "# 2744. Find Maximum Number of String Pairs\n",
    "**Solved**\n",
    "\n",
    "**Easy**\n",
    "\n",
    "## Topics\n",
    "- Hint\n",
    "\n",
    "You are given a 0-indexed array `words` consisting of distinct strings.\n",
    "\n",
    "The string `words[i]` can be paired with the string `words[j]` if:\n",
    "\n",
    "- The string `words[i]` is equal to the reversed string of `words[j]`.\n",
    "- `0 <= i < j < words.length`.\n",
    "\n",
    "Return the maximum number of pairs that can be formed from the array `words`.\n",
    "\n",
    "Note that each string can belong in at most one pair.\n",
    "\n",
    "## Example 1:\n",
    "\n",
    "**Input:**  \n",
    "`words = [\"cd\",\"ac\",\"dc\",\"ca\",\"zz\"]`\n",
    "\n",
    "**Output:**  \n",
    "`2`\n",
    "\n",
    "**Explanation:**  \n",
    "In this example, we can form 2 pairs of strings in the following way:\n",
    "- We pair the 0th string with the 2nd string, as the reversed string of `words[0]` is \"dc\" and is equal to `words[2]`.\n",
    "- We pair the 1st string with the 3rd string, as the reversed string of `words[1]` is \"ca\" and is equal to `words[3]`.\n",
    "It can be proven that 2 is the maximum number of pairs that can be formed.\n",
    "\n",
    "## Example 2:\n",
    "\n",
    "**Input:**  \n",
    "`words = [\"ab\",\"ba\",\"cc\"]`\n",
    "\n",
    "**Output:**  \n",
    "`1`\n",
    "\n",
    "**Explanation:**  \n",
    "In this example, we can form 1 pair of strings in the following way:\n",
    "- We pair the 0th string with the 1st string, as the reversed string of `words[1]` is \"ab\" and is equal to `words[0]`.\n",
    "It can be proven that 1 is the maximum number of pairs that can be formed.\n",
    "\n",
    "## Example 3:\n",
    "\n",
    "**Input:**  \n",
    "`words = [\"aa\",\"ab\"]`\n",
    "\n",
    "**Output:**  \n",
    "`0`\n",
    "\n",
    "**Explanation:**  \n",
    "In this example, we are unable to form any pair of strings.\n",
    "\n",
    "## Constraints:\n",
    "\n",
    "- `1 <= words.length <= 50`\n",
    "- `words[i].length == 2`\n",
    "- `words` consists of distinct strings.\n",
    "- `words[i]` contains only lowercase English letters.\n"
   ]
  },
  {
   "cell_type": "code",
   "execution_count": 1,
   "metadata": {},
   "outputs": [],
   "source": [
    "from typing import List"
   ]
  },
  {
   "cell_type": "code",
   "execution_count": 2,
   "metadata": {},
   "outputs": [],
   "source": [
    "def maximumNumberOfStringPairs(words: List[str]) -> int:\n",
    "    filtered_words = [word for word in words if len(set(word)) > 1]\n",
    "    reversed_words = [word[::-1] for word in filtered_words]\n",
    "\n",
    "    return int(len([word for word in filtered_words if word in reversed_words])/2)"
   ]
  },
  {
   "cell_type": "code",
   "execution_count": 3,
   "metadata": {},
   "outputs": [
    {
     "data": {
      "text/plain": [
       "2"
      ]
     },
     "execution_count": 3,
     "metadata": {},
     "output_type": "execute_result"
    }
   ],
   "source": [
    "words = [\"cd\",\"ac\",\"dc\",\"ca\",\"zz\"]\n",
    "maximumNumberOfStringPairs(words)"
   ]
  },
  {
   "cell_type": "code",
   "execution_count": 4,
   "metadata": {},
   "outputs": [
    {
     "data": {
      "text/plain": [
       "1"
      ]
     },
     "execution_count": 4,
     "metadata": {},
     "output_type": "execute_result"
    }
   ],
   "source": [
    "words = [\"ab\",\"ba\",\"cc\"]\n",
    "maximumNumberOfStringPairs(words)"
   ]
  },
  {
   "cell_type": "code",
   "execution_count": 5,
   "metadata": {},
   "outputs": [
    {
     "data": {
      "text/plain": [
       "0"
      ]
     },
     "execution_count": 5,
     "metadata": {},
     "output_type": "execute_result"
    }
   ],
   "source": [
    "words = [\"aa\",\"ab\"]\n",
    "maximumNumberOfStringPairs(words)"
   ]
  }
 ],
 "metadata": {
  "kernelspec": {
   "display_name": "datascience",
   "language": "python",
   "name": "datascience"
  },
  "language_info": {
   "codemirror_mode": {
    "name": "ipython",
    "version": 3
   },
   "file_extension": ".py",
   "mimetype": "text/x-python",
   "name": "python",
   "nbconvert_exporter": "python",
   "pygments_lexer": "ipython3",
   "version": "3.11.4"
  }
 },
 "nbformat": 4,
 "nbformat_minor": 2
}
