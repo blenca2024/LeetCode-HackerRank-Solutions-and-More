{
 "cells": [
  {
   "cell_type": "markdown",
   "metadata": {},
   "source": [
    "# 3194. Minimum Average of Smallest and Largest Elements\n",
    "\n",
    "You have an array of floating point numbers `averages` which is initially empty. You are given an array `nums` of `n` integers where `n` is even.\n",
    "\n",
    "You repeat the following procedure `n / 2` times:\n",
    "\n",
    "- Remove the smallest element, `minElement`, and the largest element `maxElement`, from `nums`.\n",
    "- Add `(minElement + maxElement) / 2` to `averages`.\n",
    "\n",
    "Return the minimum element in `averages`.\n",
    "\n",
    "## Example 1:\n",
    "\n",
    "**Input:**  \n",
    "`nums = [7,8,3,4,15,13,4,1]`\n",
    "\n",
    "**Output:**  \n",
    "`5.5`\n",
    "\n",
    "**Explanation:**\n",
    "\n",
    "| step | nums            | averages    |\n",
    "|------|-----------------|-------------|\n",
    "| 0    | [7,8,3,4,15,13,4,1] | []          |\n",
    "| 1    | [7,8,3,4,13,4]      | [8]         |\n",
    "| 2    | [7,8,4,4]           | [8,8]       |\n",
    "| 3    | [7,4]               | [8,8,6]     |\n",
    "| 4    | []                  | [8,8,6,5.5] |\n",
    "\n",
    "The smallest element of `averages`, 5.5, is returned.\n",
    "\n",
    "## Example 2:\n",
    "\n",
    "**Input:**  \n",
    "`nums = [1,9,8,3,10,5]`\n",
    "\n",
    "**Output:**  \n",
    "`5.5`\n",
    "\n",
    "**Explanation:**\n",
    "\n",
    "| step | nums        | averages    |\n",
    "|------|-------------|-------------|\n",
    "| 0    | [1,9,8,3,10,5] | []          |\n",
    "| 1    | [9,8,3,5]      | [5.5]       |\n",
    "| 2    | [8,5]          | [5.5,6]     |\n",
    "| 3    | []             | [5.5,6,6.5] |\n",
    "\n",
    "## Example 3:\n",
    "\n",
    "**Input:**  \n",
    "`nums = [1,2,3,7,8,9]`\n",
    "\n",
    "**Output:**  \n",
    "`5.0`\n",
    "\n",
    "**Explanation:**\n",
    "\n",
    "| step | nums        | averages    |\n",
    "|------|-------------|-------------|\n",
    "| 0    | [1,2,3,7,8,9] | []          |\n",
    "| 1    | [2,3,7,8]      | [5]         |\n",
    "| 2    | [3,7]          | [5,5]       |\n",
    "| 3    | []             | [5,5,5]     |\n",
    "\n",
    "## Constraints:\n",
    "\n",
    "- `2 <= n == nums.length <= 50`\n",
    "- `n` is even.\n",
    "- `1 <= nums[i] <= 50`\n"
   ]
  },
  {
   "cell_type": "code",
   "execution_count": 1,
   "metadata": {},
   "outputs": [],
   "source": [
    "from typing import List"
   ]
  },
  {
   "cell_type": "code",
   "execution_count": 2,
   "metadata": {},
   "outputs": [],
   "source": [
    "def minimumAverage(nums: List[int]) -> float:\n",
    "\n",
    "    avg_list = []\n",
    "\n",
    "    while len(nums) > 0:\n",
    "        min_num = min(nums)\n",
    "        max_num = max(nums)\n",
    "\n",
    "        avg_list.append((min_num+max_num)/2)\n",
    "\n",
    "        nums.remove(min_num)\n",
    "        nums.remove(max_num)\n",
    "\n",
    "    return min(avg_list)"
   ]
  },
  {
   "cell_type": "code",
   "execution_count": 3,
   "metadata": {},
   "outputs": [
    {
     "data": {
      "text/plain": [
       "5.5"
      ]
     },
     "execution_count": 3,
     "metadata": {},
     "output_type": "execute_result"
    }
   ],
   "source": [
    "nums = [7,8,3,4,15,13,4,1]\n",
    "minimumAverage(nums)"
   ]
  },
  {
   "cell_type": "code",
   "execution_count": 4,
   "metadata": {},
   "outputs": [
    {
     "data": {
      "text/plain": [
       "5.5"
      ]
     },
     "execution_count": 4,
     "metadata": {},
     "output_type": "execute_result"
    }
   ],
   "source": [
    "nums = [1,9,8,3,10,5]\n",
    "minimumAverage(nums)"
   ]
  },
  {
   "cell_type": "code",
   "execution_count": 5,
   "metadata": {},
   "outputs": [
    {
     "data": {
      "text/plain": [
       "5.0"
      ]
     },
     "execution_count": 5,
     "metadata": {},
     "output_type": "execute_result"
    }
   ],
   "source": [
    "nums = [1,2,3,7,8,9]\n",
    "minimumAverage(nums)"
   ]
  }
 ],
 "metadata": {
  "kernelspec": {
   "display_name": "wai",
   "language": "python",
   "name": "python3"
  },
  "language_info": {
   "codemirror_mode": {
    "name": "ipython",
    "version": 3
   },
   "file_extension": ".py",
   "mimetype": "text/x-python",
   "name": "python",
   "nbconvert_exporter": "python",
   "pygments_lexer": "ipython3",
   "version": "3.11.4"
  }
 },
 "nbformat": 4,
 "nbformat_minor": 2
}
