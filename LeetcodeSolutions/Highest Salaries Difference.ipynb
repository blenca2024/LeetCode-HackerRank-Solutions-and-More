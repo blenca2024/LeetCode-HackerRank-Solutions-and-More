{
 "cells": [
  {
   "cell_type": "markdown",
   "metadata": {},
   "source": [
    "# 2853. Highest Salaries Difference\n",
    "\n",
    "## Table: Salaries\n",
    "\n",
    "| Column Name | Type    |\n",
    "|-------------|---------|\n",
    "| emp_name    | varchar |\n",
    "| department  | varchar |\n",
    "| salary      | int     |\n",
    "\n",
    "`(emp_name, department)` is the primary key (combination of unique values) for this table. Each row of this table contains `emp_name`, `department`, and `salary`. There will be at least one entry for the engineering and marketing departments.\n",
    "\n",
    "Write a solution to calculate the difference between the highest salaries in the marketing and engineering department. Output the absolute difference in salaries.\n",
    "\n",
    "Return the result table.\n",
    "\n",
    "The result format is in the following example.\n",
    "\n",
    "## Example 1:\n",
    "\n",
    "**Input:**\n",
    "\n",
    "Salaries table:\n",
    "\n",
    "| emp_name | department  | salary |\n",
    "|----------|-------------|--------|\n",
    "| Kathy    | Engineering | 50000  |\n",
    "| Roy      | Marketing   | 30000  |\n",
    "| Charles  | Engineering | 45000  |\n",
    "| Jack     | Engineering | 85000  | \n",
    "| Benjamin | Marketing   | 34000  |\n",
    "| Anthony  | Marketing   | 42000  |\n",
    "| Edward   | Engineering | 102000 |\n",
    "| Terry    | Engineering | 44000  |\n",
    "| Evelyn   | Marketing   | 53000  |\n",
    "| Arthur   | Engineering | 32000  |\n",
    "\n",
    "**Output:**\n",
    "\n",
    "| salary_difference | \n",
    "|-------------------|\n",
    "| 49000             | \n",
    "\n",
    "**Explanation:**  \n",
    "- The Engineering and Marketing departments have the highest salaries of 102,000 and 53,000, respectively. Resulting in an absolute difference of 49,000.\n"
   ]
  },
  {
   "cell_type": "code",
   "execution_count": 1,
   "metadata": {},
   "outputs": [],
   "source": [
    "import pandas as pd"
   ]
  },
  {
   "cell_type": "code",
   "execution_count": 15,
   "metadata": {},
   "outputs": [],
   "source": [
    "salaries_data = {\n",
    "    'emp_name': ['Kathy', 'Roy', 'Charles', 'Jack', 'Benjamin', 'Anthony', 'Edward', 'Terry', 'Evelyn', 'Arthur'],\n",
    "    'department': ['Engineering', 'Marketing', 'Engineering', 'Engineering', 'Marketing', 'Marketing', 'Engineering', 'Engineering', 'Marketing', 'Engineering'],\n",
    "    'salary': [50000, 30000, 45000, 85000, 34000, 42000, 102000, 44000, 53000, 32000]\n",
    "}\n",
    "\n",
    "salaries = pd.DataFrame(salaries_data)"
   ]
  },
  {
   "cell_type": "code",
   "execution_count": 17,
   "metadata": {},
   "outputs": [
    {
     "data": {
      "text/html": [
       "<div>\n",
       "<style scoped>\n",
       "    .dataframe tbody tr th:only-of-type {\n",
       "        vertical-align: middle;\n",
       "    }\n",
       "\n",
       "    .dataframe tbody tr th {\n",
       "        vertical-align: top;\n",
       "    }\n",
       "\n",
       "    .dataframe thead th {\n",
       "        text-align: right;\n",
       "    }\n",
       "</style>\n",
       "<table border=\"1\" class=\"dataframe\">\n",
       "  <thead>\n",
       "    <tr style=\"text-align: right;\">\n",
       "      <th></th>\n",
       "      <th>salary_difference</th>\n",
       "    </tr>\n",
       "  </thead>\n",
       "  <tbody>\n",
       "    <tr>\n",
       "      <th>0</th>\n",
       "      <td>49000</td>\n",
       "    </tr>\n",
       "  </tbody>\n",
       "</table>\n",
       "</div>"
      ],
      "text/plain": [
       "   salary_difference\n",
       "0              49000"
      ]
     },
     "execution_count": 17,
     "metadata": {},
     "output_type": "execute_result"
    }
   ],
   "source": [
    "salary_diff = salaries[salaries['department'] == 'Engineering'].max()['salary'] - salaries[salaries['department'] == 'Marketing'].max()['salary']\n",
    "pd.DataFrame({'salary_difference':[abs(salary_diff)]})"
   ]
  }
 ],
 "metadata": {
  "kernelspec": {
   "display_name": "wai",
   "language": "python",
   "name": "python3"
  },
  "language_info": {
   "codemirror_mode": {
    "name": "ipython",
    "version": 3
   },
   "file_extension": ".py",
   "mimetype": "text/x-python",
   "name": "python",
   "nbconvert_exporter": "python",
   "pygments_lexer": "ipython3",
   "version": "3.11.4"
  }
 },
 "nbformat": 4,
 "nbformat_minor": 2
}
