{
  "nbformat": 4,
  "nbformat_minor": 0,
  "metadata": {
    "colab": {
      "name": "Contains Duplicate.ipynb",
      "provenance": [],
      "collapsed_sections": []
    },
    "kernelspec": {
      "name": "python3",
      "display_name": "Python 3"
    },
    "language_info": {
      "name": "python"
    }
  },
  "cells": [
    {
      "cell_type": "markdown",
      "metadata": {
        "id": "GTmn3RBFhbWq"
      },
      "source": [
        "# **Contains Duplicate**\n",
        "\n",
        "Given an integer array nums, return true if any value appears at least twice in the array, and return false if every element is distinct."
      ]
    },
    {
      "cell_type": "code",
      "metadata": {
        "id": "0ndc5Bg1hegD"
      },
      "source": [
        "def containsDuplicate(nums):\n",
        "  return not len(set(nums)) == len(nums)"
      ],
      "execution_count": null,
      "outputs": []
    },
    {
      "cell_type": "markdown",
      "metadata": {
        "id": "0FecAAo2he2w"
      },
      "source": [
        "## **Example 1:**\n",
        "\n",
        "```\n",
        "Input: nums = [1,2,3,1]\n",
        "Output: true\n",
        "```"
      ]
    },
    {
      "cell_type": "code",
      "metadata": {
        "colab": {
          "base_uri": "https://localhost:8080/"
        },
        "id": "oqy04DTWf9bp",
        "outputId": "5ecbc98f-bd68-40c0-8ff8-0d7419dc59cb"
      },
      "source": [
        "nums = [1,2,3,1]\n",
        "\n",
        "containsDuplicate(nums)"
      ],
      "execution_count": 8,
      "outputs": [
        {
          "output_type": "execute_result",
          "data": {
            "text/plain": [
              "True"
            ]
          },
          "metadata": {},
          "execution_count": 8
        }
      ]
    },
    {
      "cell_type": "markdown",
      "metadata": {
        "id": "iZ6zRcVkhkLw"
      },
      "source": [
        "## **Example 2:**\n",
        "\n",
        "```\n",
        "Input: nums = [1,2,3,4]\n",
        "Output: false\n",
        "```"
      ]
    },
    {
      "cell_type": "code",
      "metadata": {
        "colab": {
          "base_uri": "https://localhost:8080/"
        },
        "id": "tOgMZNWbgOen",
        "outputId": "a986e769-167d-4aeb-98b4-d408d6a5a9ec"
      },
      "source": [
        "nums = [1,2,3,4]\n",
        "\n",
        "containsDuplicate(nums)"
      ],
      "execution_count": 9,
      "outputs": [
        {
          "output_type": "execute_result",
          "data": {
            "text/plain": [
              "False"
            ]
          },
          "metadata": {},
          "execution_count": 9
        }
      ]
    },
    {
      "cell_type": "markdown",
      "metadata": {
        "id": "8rdL9BOUhpfr"
      },
      "source": [
        "## **Example 3:**\n",
        "\n",
        "```\n",
        "Input: nums = [1,1,1,3,3,4,3,2,4,2]\n",
        "Output: true\n",
        "```"
      ]
    },
    {
      "cell_type": "code",
      "metadata": {
        "colab": {
          "base_uri": "https://localhost:8080/"
        },
        "id": "4VBU6PcMgeXo",
        "outputId": "438b64e8-8bfa-48b6-eb4e-199fcf1cd388"
      },
      "source": [
        "nums = [1,1,1,3,3,4,3,2,4,2]\n",
        "\n",
        "containsDuplicate(nums)"
      ],
      "execution_count": 10,
      "outputs": [
        {
          "output_type": "execute_result",
          "data": {
            "text/plain": [
              "True"
            ]
          },
          "metadata": {},
          "execution_count": 10
        }
      ]
    }
  ]
}