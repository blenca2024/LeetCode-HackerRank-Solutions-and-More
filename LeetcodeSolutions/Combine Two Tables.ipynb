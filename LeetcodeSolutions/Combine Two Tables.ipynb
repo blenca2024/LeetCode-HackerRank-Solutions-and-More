{
 "cells": [
  {
   "cell_type": "markdown",
   "metadata": {},
   "source": [
    "175. Combine Two Tables\n",
    "=======================\n",
    "\n",
    "Table: Person\n",
    "-------------\n",
    "\n",
    "| Column Name | Type    |\n",
    "|-------------|---------|\n",
    "| personId    | int     |\n",
    "| lastName    | varchar |\n",
    "| firstName   | varchar |\n",
    "\n",
    "- `personId` is the primary key (column with unique values) for this table.\n",
    "- This table contains information about the ID of some persons and their first and last names.\n",
    "\n",
    "Table: Address\n",
    "--------------\n",
    "\n",
    "| Column Name | Type    |\n",
    "|-------------|---------|\n",
    "| addressId   | int     |\n",
    "| personId    | int     |\n",
    "| city        | varchar |\n",
    "| state       | varchar |\n",
    "\n",
    "- `addressId` is the primary key (column with unique values) for this table.\n",
    "- Each row of this table contains information about the city and state of one person with ID = `PersonId`.\n",
    "\n",
    "Write a solution to report the first name, last name, city, and state of each person in the Person table. If the address of a `personId` is not present in the Address table, report null instead.\n",
    "\n",
    "Return the result table in any order.\n",
    "\n",
    "Example:\n",
    "--------\n",
    "\n",
    "**Input:**\n",
    "Person table:\n",
    "+----------+----------+-----------+\n",
    "| personId | lastName | firstName |\n",
    "|----------|----------|-----------|\n",
    "| 1        | Wang     | Allen     |\n",
    "| 2        | Alice    | Bob       |\n",
    "+----------+----------+-----------+\n",
    "\n",
    "Address table:\n",
    "+-----------+----------+---------------+------------+\n",
    "| addressId | personId | city          | state      |\n",
    "|-----------|----------|---------------|------------|\n",
    "| 1         | 2        | New York City | New York   |\n",
    "| 2         | 3        | Leetcode      | California |\n",
    "+-----------+----------+---------------+------------+\n",
    "\n",
    "**Output:**\n",
    "+-----------+----------+---------------+----------+\n",
    "| firstName | lastName | city          | state    |\n",
    "|-----------|----------|---------------|----------|\n",
    "| Allen     | Wang     | Null          | Null     |\n",
    "| Bob       | Alice    | New York City | New York |\n",
    "+-----------+----------+---------------+----------+\n",
    "\n",
    "**Explanation:**\n",
    "- There is no address in the address table for the personId = 1 so we return null in their city and state.\n",
    "- AddressId = 1 contains information about the address of personId = 2.\n"
   ]
  },
  {
   "cell_type": "code",
   "execution_count": null,
   "metadata": {},
   "outputs": [],
   "source": [
    "import pandas as pd"
   ]
  },
  {
   "cell_type": "code",
   "execution_count": null,
   "metadata": {},
   "outputs": [],
   "source": [
    "person = pd.DataFrame([\n",
    "    {\"personId\": 1, \"lastName\": \"Wang\", \"firstName\": \"Allen\"},\n",
    "    {\"personId\": 2, \"lastName\": \"Alice\", \"firstName\": \"Bob\"}\n",
    "])\n",
    "\n",
    "address = pd.DataFrame([\n",
    "    {\"addressId\": 1, \"personId\": 2, \"city\": \"New York City\", \"state\": \"New York\"},\n",
    "    {\"addressId\": 2, \"personId\": 3, \"city\": \"Leetcode\", \"state\": \"California\"}\n",
    "])"
   ]
  },
  {
   "cell_type": "code",
   "execution_count": null,
   "metadata": {},
   "outputs": [],
   "source": [
    "def combine_two_tables(person: pd.DataFrame, address: pd.DataFrame) -> pd.DataFrame:\n",
    "    initial_merge = pd.merge(address, person)[['firstName','lastName','city','state','personId']]\n",
    "    missing_dict = {'firstName': [], 'lastName': [], 'city': [], 'state': [], 'personId': []}\n",
    "\n",
    "    for id,first,last in person[['personId','firstName','lastName']].values:\n",
    "        if id not in initial_merge['personId'].values:\n",
    "            missing_dict['firstName'].append(first)\n",
    "            missing_dict['lastName'].append(last)\n",
    "            missing_dict['city'].append(None)\n",
    "            missing_dict['state'].append(None)\n",
    "            missing_dict['personId'].append(id)\n",
    "\n",
    "    missing_df = pd.DataFrame(missing_dict)\n",
    "\n",
    "    return pd.concat([initial_merge,missing_df]).drop('personId',axis=1).sort_values('firstName')"
   ]
  },
  {
   "cell_type": "code",
   "execution_count": null,
   "metadata": {},
   "outputs": [],
   "source": [
    "combine_two_tables(person=person,address=address)"
   ]
  }
 ],
 "metadata": {
  "kernelspec": {
   "display_name": "img",
   "language": "python",
   "name": "img"
  },
  "language_info": {
   "codemirror_mode": {
    "name": "ipython",
    "version": 3
   },
   "file_extension": ".py",
   "mimetype": "text/x-python",
   "name": "python",
   "nbconvert_exporter": "python",
   "pygments_lexer": "ipython3",
   "version": "3.11.4"
  }
 },
 "nbformat": 4,
 "nbformat_minor": 2
}
