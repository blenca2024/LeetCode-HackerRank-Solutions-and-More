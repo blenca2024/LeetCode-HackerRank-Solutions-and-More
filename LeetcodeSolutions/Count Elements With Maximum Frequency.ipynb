{
 "cells": [
  {
   "cell_type": "markdown",
   "metadata": {},
   "source": [
    "3005. Count Elements With Maximum Frequency\n",
    "===========================================\n",
    "\n",
    "You are given an array `nums` consisting of positive integers.\n",
    "\n",
    "Return the total frequencies of elements in `nums` such that those elements all have the maximum frequency.\n",
    "\n",
    "The frequency of an element is the number of occurrences of that element in the array.\n",
    "\n",
    "Example 1:\n",
    "----------\n",
    "\n",
    "**Input:** `nums = [1,2,2,3,1,4]`\n",
    "\n",
    "**Output:** `4`\n",
    "\n",
    "**Explanation:** The elements 1 and 2 have a frequency of 2 which is the maximum frequency in the array.\n",
    "So the number of elements in the array with maximum frequency is 4.\n",
    "\n",
    "Example 2:\n",
    "----------\n",
    "\n",
    "**Input:** `nums = [1,2,3,4,5]`\n",
    "\n",
    "**Output:** `5`\n",
    "\n",
    "**Explanation:** All elements of the array have a frequency of 1 which is the maximum.\n",
    "So the number of elements in the array with maximum frequency is 5.\n",
    "\n",
    "Constraints:\n",
    "-------------\n",
    "\n",
    "- `1 <= nums.length <= 100`\n",
    "- `1 <= nums[i] <= 100`\n"
   ]
  },
  {
   "cell_type": "code",
   "execution_count": 1,
   "metadata": {},
   "outputs": [],
   "source": [
    "from typing import List"
   ]
  },
  {
   "cell_type": "code",
   "execution_count": 2,
   "metadata": {},
   "outputs": [],
   "source": [
    "def maxFrequencyElements(nums: List[int]) -> int:\n",
    "    count_dict = {num:nums.count(num) for num in nums}\n",
    "    max_count = max(count_dict.values())\n",
    "    return sum([freq for freq in count_dict.values() if freq == max_count])"
   ]
  },
  {
   "cell_type": "code",
   "execution_count": 3,
   "metadata": {},
   "outputs": [
    {
     "data": {
      "text/plain": [
       "4"
      ]
     },
     "execution_count": 3,
     "metadata": {},
     "output_type": "execute_result"
    }
   ],
   "source": [
    "nums = [1,2,2,3,1,4]\n",
    "maxFrequencyElements(nums)"
   ]
  },
  {
   "cell_type": "code",
   "execution_count": 4,
   "metadata": {},
   "outputs": [
    {
     "data": {
      "text/plain": [
       "5"
      ]
     },
     "execution_count": 4,
     "metadata": {},
     "output_type": "execute_result"
    }
   ],
   "source": [
    "nums = [1,2,3,4,5]\n",
    "maxFrequencyElements(nums)"
   ]
  }
 ],
 "metadata": {
  "kernelspec": {
   "display_name": "datascience",
   "language": "python",
   "name": "datascience"
  },
  "language_info": {
   "codemirror_mode": {
    "name": "ipython",
    "version": 3
   },
   "file_extension": ".py",
   "mimetype": "text/x-python",
   "name": "python",
   "nbconvert_exporter": "python",
   "pygments_lexer": "ipython3",
   "version": "3.11.4"
  }
 },
 "nbformat": 4,
 "nbformat_minor": 2
}
