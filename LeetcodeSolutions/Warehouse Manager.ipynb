{
 "cells": [
  {
   "cell_type": "code",
   "execution_count": 1,
   "metadata": {},
   "outputs": [],
   "source": [
    "import pandas as pd"
   ]
  },
  {
   "cell_type": "code",
   "execution_count": 2,
   "metadata": {},
   "outputs": [],
   "source": [
    "warehouse_data = {\n",
    "    'name': ['LCHouse1', 'LCHouse1', 'LCHouse1', 'LCHouse2', 'LCHouse2', 'LCHouse3'],\n",
    "    'product_id': [1, 2, 3, 1, 2, 4],\n",
    "    'units': [1, 10, 5, 2, 2, 1]\n",
    "}\n",
    "\n",
    "warehouse = pd.DataFrame(warehouse_data)\n",
    "\n",
    "products_data = {\n",
    "    'product_id': [1, 2, 3, 4],\n",
    "    'product_name': ['LC-TV', 'LC-KeyChain', 'LC-Phone', 'LC-T-Shirt'],\n",
    "    'Width': [5, 5, 2, 4],\n",
    "    'Length': [50, 5, 10, 10],\n",
    "    'Height': [40, 5, 10, 20]\n",
    "}\n",
    "\n",
    "products = pd.DataFrame(products_data)\n"
   ]
  },
  {
   "cell_type": "code",
   "execution_count": 3,
   "metadata": {},
   "outputs": [],
   "source": [
    "def warehouse_manager(warehouse: pd.DataFrame, products: pd.DataFrame) -> pd.DataFrame:\n",
    "    products['Dimmensions'] = products['Width'] * products['Length'] * products['Height']\n",
    "    merged_df = pd.merge(warehouse,products,on='product_id')\n",
    "    merged_df['volume'] = merged_df['Dimmensions'] * merged_df['units']\n",
    "    return merged_df.groupby('name').sum('volume').reset_index()[['name','volume']].rename({'name':'warehouse_name'},axis=1)"
   ]
  },
  {
   "cell_type": "code",
   "execution_count": 4,
   "metadata": {},
   "outputs": [
    {
     "data": {
      "text/html": [
       "<div>\n",
       "<style scoped>\n",
       "    .dataframe tbody tr th:only-of-type {\n",
       "        vertical-align: middle;\n",
       "    }\n",
       "\n",
       "    .dataframe tbody tr th {\n",
       "        vertical-align: top;\n",
       "    }\n",
       "\n",
       "    .dataframe thead th {\n",
       "        text-align: right;\n",
       "    }\n",
       "</style>\n",
       "<table border=\"1\" class=\"dataframe\">\n",
       "  <thead>\n",
       "    <tr style=\"text-align: right;\">\n",
       "      <th></th>\n",
       "      <th>warehouse_name</th>\n",
       "      <th>volume</th>\n",
       "    </tr>\n",
       "  </thead>\n",
       "  <tbody>\n",
       "    <tr>\n",
       "      <th>0</th>\n",
       "      <td>LCHouse1</td>\n",
       "      <td>12250</td>\n",
       "    </tr>\n",
       "    <tr>\n",
       "      <th>1</th>\n",
       "      <td>LCHouse2</td>\n",
       "      <td>20250</td>\n",
       "    </tr>\n",
       "    <tr>\n",
       "      <th>2</th>\n",
       "      <td>LCHouse3</td>\n",
       "      <td>800</td>\n",
       "    </tr>\n",
       "  </tbody>\n",
       "</table>\n",
       "</div>"
      ],
      "text/plain": [
       "  warehouse_name  volume\n",
       "0       LCHouse1   12250\n",
       "1       LCHouse2   20250\n",
       "2       LCHouse3     800"
      ]
     },
     "execution_count": 4,
     "metadata": {},
     "output_type": "execute_result"
    }
   ],
   "source": [
    "warehouse_manager(warehouse=warehouse,products=products)"
   ]
  }
 ],
 "metadata": {
  "kernelspec": {
   "display_name": "datascience",
   "language": "python",
   "name": "datascience"
  },
  "language_info": {
   "codemirror_mode": {
    "name": "ipython",
    "version": 3
   },
   "file_extension": ".py",
   "mimetype": "text/x-python",
   "name": "python",
   "nbconvert_exporter": "python",
   "pygments_lexer": "ipython3",
   "version": "3.11.4"
  }
 },
 "nbformat": 4,
 "nbformat_minor": 2
}
