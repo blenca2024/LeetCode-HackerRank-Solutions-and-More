{
 "cells": [
  {
   "cell_type": "markdown",
   "metadata": {},
   "source": [
    "191. Number of 1 Bits\n",
    "Solved\n",
    "Easy\n",
    "Topics\n",
    "Companies\n",
    "\n",
    "Write a function that takes the binary representation of a positive integer and returns the number of set bits it has (also known as the Hamming weight).\n",
    "\n",
    "Example 1:\n",
    "\n",
    "Input: n = 11\n",
    "Output: 3\n",
    "Explanation:\n",
    "The input binary string 1011 has a total of three set bits.\n",
    "\n",
    "Example 2:\n",
    "\n",
    "Input: n = 128\n",
    "Output: 1\n",
    "Explanation:\n",
    "The input binary string 10000000 has a total of one set bit.\n",
    "\n",
    "Example 3:\n",
    "\n",
    "Input: n = 2147483645\n",
    "Output: 30\n",
    "Explanation:\n",
    "The input binary string 1111111111111111111111111111101 has a total of thirty set bits.\n",
    "\n",
    "Constraints:\n",
    "1 <= n <= 2^31 - 1\n",
    "\n",
    "Follow up: If this function is called many times, how would you optimize it?\n"
   ]
  },
  {
   "cell_type": "code",
   "execution_count": 1,
   "metadata": {},
   "outputs": [],
   "source": [
    "def hammingWeight(n: int) -> int:\n",
    "    return len([char for char in bin(n) if char == '1'])"
   ]
  },
  {
   "cell_type": "code",
   "execution_count": 2,
   "metadata": {},
   "outputs": [
    {
     "data": {
      "text/plain": [
       "3"
      ]
     },
     "execution_count": 2,
     "metadata": {},
     "output_type": "execute_result"
    }
   ],
   "source": [
    "n = 11\n",
    "hammingWeight(n)"
   ]
  },
  {
   "cell_type": "code",
   "execution_count": 3,
   "metadata": {},
   "outputs": [
    {
     "data": {
      "text/plain": [
       "1"
      ]
     },
     "execution_count": 3,
     "metadata": {},
     "output_type": "execute_result"
    }
   ],
   "source": [
    "n = 128\n",
    "hammingWeight(n)"
   ]
  },
  {
   "cell_type": "code",
   "execution_count": 4,
   "metadata": {},
   "outputs": [
    {
     "data": {
      "text/plain": [
       "30"
      ]
     },
     "execution_count": 4,
     "metadata": {},
     "output_type": "execute_result"
    }
   ],
   "source": [
    "n = 2147483645\n",
    "hammingWeight(n)"
   ]
  }
 ],
 "metadata": {
  "kernelspec": {
   "display_name": "datascience",
   "language": "python",
   "name": "datascience"
  },
  "language_info": {
   "codemirror_mode": {
    "name": "ipython",
    "version": 3
   },
   "file_extension": ".py",
   "mimetype": "text/x-python",
   "name": "python",
   "nbconvert_exporter": "python",
   "pygments_lexer": "ipython3",
   "version": "3.11.4"
  }
 },
 "nbformat": 4,
 "nbformat_minor": 2
}
