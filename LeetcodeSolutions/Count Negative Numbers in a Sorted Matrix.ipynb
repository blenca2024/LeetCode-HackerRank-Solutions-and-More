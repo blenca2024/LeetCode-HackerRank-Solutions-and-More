{
 "cells": [
  {
   "cell_type": "markdown",
   "metadata": {},
   "source": [
    "# Count Negative Numbers in a Sorted Matrix\n",
    "\n",
    "Given a m * n matrix grid which is sorted in non-increasing order both row-wise and column-wise. \n",
    "\n",
    "Return the number of negative numbers in grid.\n",
    "\n",
    " \n",
    "\n",
    "**Example 1:**\n",
    "\n",
    "Input: grid = [[4,3,2,-1],[3,2,1,-1],[1,1,-1,-2],[-1,-1,-2,-3]]\n",
    "\n",
    "Output: 8\n",
    "\n",
    "Explanation: There are 8 negatives number in the matrix.\n",
    "\n",
    "**Example 2:**\n",
    "\n",
    "Input: grid = [[3,2],[1,0]]\n",
    "\n",
    "Output: 0\n",
    "\n",
    "**Example 3:**\n",
    "\n",
    "Input: grid = [[1,-1],[-1,-1]]\n",
    "\n",
    "Output: 3\n",
    "\n",
    "**Example 4:**\n",
    "\n",
    "Input: grid = [[-1]]\n",
    "\n",
    "Output: 1\n",
    " \n",
    "\n",
    "**Constraints:**\n",
    "\n",
    "m == grid.length\n",
    "n == grid[i].length\n",
    "1 <= m, n <= 100\n",
    "-100 <= grid[i][j] <= 100"
   ]
  },
  {
   "cell_type": "code",
   "execution_count": 1,
   "metadata": {},
   "outputs": [],
   "source": [
    "def countNegatives(grid):\n",
    "        count = 0\n",
    "        for section in grid:\n",
    "            for num in section:\n",
    "                if num < 0:\n",
    "                    count += 1\n",
    "        return count\n",
    "    \n",
    "\n",
    "grid = [[4,3,2,-1],[3,2,1,-1],[1,1,-1,-2],[-1,-1,-2,-3]]\n",
    "print(countNegatives(grid))\n",
    "\n",
    "grid = [[3,2],[1,0]]\n",
    "print(countNegatives(grid))\n",
    "\n",
    "grid = [[1,-1],[-1,-1]]\n",
    "print(countNegatives(grid))\n",
    "\n",
    "grid = [[-1]]\n",
    "print(countNegatives(grid))"
   ]
  }
 ],
 "metadata": {
  "kernelspec": {
   "display_name": "Python 3",
   "language": "python",
   "name": "python3"
  },
  "language_info": {
   "codemirror_mode": {
    "name": "ipython",
    "version": 3
   },
   "file_extension": ".py",
   "mimetype": "text/x-python",
   "name": "python",
   "nbconvert_exporter": "python",
   "pygments_lexer": "ipython3",
   "version": "3.7.3"
  }
 },
 "nbformat": 4,
 "nbformat_minor": 2
}
