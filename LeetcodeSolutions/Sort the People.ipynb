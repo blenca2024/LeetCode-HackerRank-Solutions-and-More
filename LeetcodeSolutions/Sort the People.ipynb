{
 "cells": [
  {
   "cell_type": "code",
   "execution_count": 1,
   "metadata": {},
   "outputs": [],
   "source": [
    "from typing import List"
   ]
  },
  {
   "cell_type": "markdown",
   "metadata": {},
   "source": [
    "# 2418. Sort the People\n",
    "\n",
    "\n",
    "You are given an array of strings `names`, and an array `heights` that consists of distinct positive integers. Both arrays are of length `n`.\n",
    "\n",
    "For each index `i`, `names[i]` and `heights[i]` denote the name and height of the ith person.\n",
    "\n",
    "Return `names` sorted in descending order by the people's heights.\n",
    "\n",
    "## Example 1:\n",
    "\n",
    "**Input:** `names = [\"Mary\",\"John\",\"Emma\"], heights = [180,165,170]`  \n",
    "**Output:** `[\"Mary\",\"Emma\",\"John\"]`  \n",
    "**Explanation:** Mary is the tallest, followed by Emma and John.\n",
    "\n",
    "## Example 2:\n",
    "\n",
    "**Input:** `names = [\"Alice\",\"Bob\",\"Bob\"], heights = [155,185,150]`  \n",
    "**Output:** `[\"Bob\",\"Alice\",\"Bob\"]`  \n",
    "**Explanation:** The first Bob is the tallest, followed by Alice and the second Bob.\n",
    "\n",
    "Constraints:\n",
    "\n",
    "- `n == names.length == heights.length`\n",
    "- `1 <= n <= 10^3`\n",
    "- `1 <= names[i].length <= 20`\n",
    "- `1 <= heights[i] <= 10^5`\n",
    "- `names[i]` consists of lower and upper case English letters.\n",
    "- All the values of heights are distinct.\n"
   ]
  },
  {
   "cell_type": "code",
   "execution_count": 2,
   "metadata": {},
   "outputs": [],
   "source": [
    "def sortPeople(names: List[str], heights: List[int]) -> List[str]:\n",
    "    height_list = [[name,height] for name,height in zip(names,heights)]\n",
    "    return [name[0] for name in sorted(height_list,key=lambda height:height[1],reverse=True)]"
   ]
  },
  {
   "cell_type": "code",
   "execution_count": 3,
   "metadata": {},
   "outputs": [
    {
     "data": {
      "text/plain": [
       "['Mary', 'Emma', 'John']"
      ]
     },
     "execution_count": 3,
     "metadata": {},
     "output_type": "execute_result"
    }
   ],
   "source": [
    "names = [\"Mary\",\"John\",\"Emma\"]\n",
    "heights = [180,165,170]\n",
    "\n",
    "sortPeople(names=names,heights=heights)"
   ]
  },
  {
   "cell_type": "code",
   "execution_count": 4,
   "metadata": {},
   "outputs": [
    {
     "data": {
      "text/plain": [
       "['Bob', 'Alice', 'Bob']"
      ]
     },
     "execution_count": 4,
     "metadata": {},
     "output_type": "execute_result"
    }
   ],
   "source": [
    "names = [\"Alice\",\"Bob\",\"Bob\"]\n",
    "heights = [155,185,150]\n",
    "\n",
    "sortPeople(names=names,heights=heights)"
   ]
  }
 ],
 "metadata": {
  "kernelspec": {
   "display_name": "img",
   "language": "python",
   "name": "img"
  },
  "language_info": {
   "codemirror_mode": {
    "name": "ipython",
    "version": 3
   },
   "file_extension": ".py",
   "mimetype": "text/x-python",
   "name": "python",
   "nbconvert_exporter": "python",
   "pygments_lexer": "ipython3",
   "version": "3.11.4"
  }
 },
 "nbformat": 4,
 "nbformat_minor": 2
}
