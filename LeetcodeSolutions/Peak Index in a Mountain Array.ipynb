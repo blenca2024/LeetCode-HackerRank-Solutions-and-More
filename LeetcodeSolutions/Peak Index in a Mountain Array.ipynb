{
 "cells": [
  {
   "cell_type": "markdown",
   "metadata": {},
   "source": [
    "# Peak Index in a Mountain Array\n",
    "\n",
    "Let's call an array arr a mountain if the following properties hold:\n",
    "\n",
    "arr.length >= 3\n",
    "\n",
    "There exists some i with 0 < i < arr.length - 1 such that:\n",
    "\n",
    "arr[0] < arr[1] < ... arr[i-1] < arr[i]\n",
    "\n",
    "arr[i] > arr[i+1] > ... > arr[arr.length - 1]\n",
    "\n",
    "Given an integer array arr that is guaranteed to be a mountain, return any i such that arr[0] < arr[1] < ... arr[i - 1] < arr[i] > arr[i + 1] > ... > arr[arr.length - 1].\n",
    "\n",
    "**Example 1:**\n",
    "\n",
    "Input: arr = [0,1,0]\n",
    "\n",
    "Output: 1\n",
    "\n",
    "**Example 2:**\n",
    "\n",
    "Input: arr = [0,2,1,0]\n",
    "\n",
    "Output: 1\n",
    "\n",
    "**Example 3:**\n",
    "\n",
    "Input: arr = [0,10,5,2]\n",
    "\n",
    "Output: 1\n",
    "\n",
    "**Example 4:**\n",
    "\n",
    "Input: arr = [3,4,5,1]\n",
    "\n",
    "Output: 2\n",
    "\n",
    "**Example 5:**\n",
    "\n",
    "Input: arr = [24,69,100,99,79,78,67,36,26,19]\n",
    "\n",
    "Output: 2\n",
    "\n",
    "**Constraints:**\n",
    "\n",
    "3 <= arr.length <= 104\n",
    "\n",
    "0 <= arr[i] <= 106\n",
    "\n",
    "arr is guaranteed to be a mountain array."
   ]
  },
  {
   "cell_type": "code",
   "execution_count": 1,
   "metadata": {},
   "outputs": [
    {
     "name": "stdout",
     "output_type": "stream",
     "text": [
      "1\n",
      "1\n",
      "1\n",
      "2\n",
      "2\n"
     ]
    }
   ],
   "source": [
    "def peakIndexInMountainArray(A):\n",
    "        peak_num = max(A)\n",
    "        peak_index = A.index(max(A))\n",
    "        if peak_index == 0 or peak_index == len(A)-1:\n",
    "            peak_index = A.index(max(i for i in A if i != peak_num))\n",
    "            return peak_index\n",
    "        else:\n",
    "            return peak_index\n",
    "\n",
    "\n",
    "\n",
    "A = [0,1,0]\n",
    "print(peakIndexInMountainArray(A))\n",
    "\n",
    "A = [0,2,1,0]\n",
    "print(peakIndexInMountainArray(A))\n",
    "\n",
    "A = [0,10,5,2]\n",
    "print(peakIndexInMountainArray(A))\n",
    "\n",
    "A = [3,4,5,1]\n",
    "print(peakIndexInMountainArray(A))\n",
    "\n",
    "A = [24,69,100,99,79,78,67,36,26,19]\n",
    "print(peakIndexInMountainArray(A))"
   ]
  }
 ],
 "metadata": {
  "kernelspec": {
   "display_name": "Python 3",
   "language": "python",
   "name": "python3"
  },
  "language_info": {
   "codemirror_mode": {
    "name": "ipython",
    "version": 3
   },
   "file_extension": ".py",
   "mimetype": "text/x-python",
   "name": "python",
   "nbconvert_exporter": "python",
   "pygments_lexer": "ipython3",
   "version": "3.8.3"
  }
 },
 "nbformat": 4,
 "nbformat_minor": 2
}
