{
  "nbformat": 4,
  "nbformat_minor": 0,
  "metadata": {
    "colab": {
      "name": "Final Value of Variable After Performing Operations.ipynb",
      "provenance": [],
      "collapsed_sections": []
    },
    "kernelspec": {
      "name": "python3",
      "display_name": "Python 3"
    },
    "language_info": {
      "name": "python"
    }
  },
  "cells": [
    {
      "cell_type": "markdown",
      "metadata": {
        "id": "pi-meiVFTNJz"
      },
      "source": [
        "# **Final Value of Variable After Performing Operations**\n",
        "\n",
        "Given an array of strings `operations` containing a list of operations, return the **final** value of `X` after performing all the operations."
      ]
    },
    {
      "cell_type": "code",
      "metadata": {
        "id": "c2LAtG7PTNaM"
      },
      "source": [
        "def finalValueAfterOperations(operations):\n",
        "  return sum([1 if '++' in op else -1 for op in operations])"
      ],
      "execution_count": 1,
      "outputs": []
    },
    {
      "cell_type": "markdown",
      "metadata": {
        "id": "NJdB3f5HTglT"
      },
      "source": [
        "## **Example 1:**"
      ]
    },
    {
      "cell_type": "code",
      "metadata": {
        "colab": {
          "base_uri": "https://localhost:8080/"
        },
        "id": "Le6YNPvFPzLR",
        "outputId": "b716a395-2299-42bf-e30a-5a4807f67903"
      },
      "source": [
        "operations = [\"--X\",\"X++\",\"X++\"]\n",
        "finalValueAfterOperations(operations)"
      ],
      "execution_count": 2,
      "outputs": [
        {
          "output_type": "execute_result",
          "data": {
            "text/plain": [
              "1"
            ]
          },
          "metadata": {},
          "execution_count": 2
        }
      ]
    },
    {
      "cell_type": "markdown",
      "metadata": {
        "id": "J0M_mLwvTkvb"
      },
      "source": [
        "## **Example 2:**"
      ]
    },
    {
      "cell_type": "code",
      "metadata": {
        "colab": {
          "base_uri": "https://localhost:8080/"
        },
        "id": "dw9uE8rPP4Bi",
        "outputId": "521ea990-b8a7-41d9-d666-3839db34a169"
      },
      "source": [
        "operations = [\"++X\",\"++X\",\"X++\"]\n",
        "finalValueAfterOperations(operations)"
      ],
      "execution_count": 3,
      "outputs": [
        {
          "output_type": "execute_result",
          "data": {
            "text/plain": [
              "3"
            ]
          },
          "metadata": {},
          "execution_count": 3
        }
      ]
    },
    {
      "cell_type": "markdown",
      "metadata": {
        "id": "2g6d6i1XTl5e"
      },
      "source": [
        "## **Example 3:**"
      ]
    },
    {
      "cell_type": "code",
      "metadata": {
        "colab": {
          "base_uri": "https://localhost:8080/"
        },
        "id": "HG_F1eGkSkv5",
        "outputId": "c0f6b46a-6c25-47a4-e6d2-176d88226297"
      },
      "source": [
        "operations = [\"X++\",\"++X\",\"--X\",\"X--\"]\n",
        "finalValueAfterOperations(operations)"
      ],
      "execution_count": 4,
      "outputs": [
        {
          "output_type": "execute_result",
          "data": {
            "text/plain": [
              "0"
            ]
          },
          "metadata": {},
          "execution_count": 4
        }
      ]
    }
  ]
}