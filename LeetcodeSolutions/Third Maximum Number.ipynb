{
 "cells": [
  {
   "cell_type": "markdown",
   "metadata": {},
   "source": [
    "# Third Maximum Number\n",
    "\n",
    "Given a non-empty array of integers, return the third maximum number in this array. If it does not exist, return the maximum number. The time complexity must be in O(n).\n",
    "\n",
    "**Example 1:**\n",
    "\n",
    "Input: [3, 2, 1]\n",
    "\n",
    "Output: 1\n",
    "\n",
    "Explanation: The third maximum is 1.\n",
    "\n",
    "**Example 2:**\n",
    "\n",
    "Input: [1, 2]\n",
    "\n",
    "Output: 2\n",
    "\n",
    "Explanation: The third maximum does not exist, so the maximum (2) is returned instead.\n",
    "\n",
    "**Example 3:**\n",
    "\n",
    "Input: [2, 2, 3, 1]\n",
    "\n",
    "Output: 1\n",
    "\n",
    "Explanation: Note that the third maximum here means the third maximum distinct number.\n",
    "Both numbers with value 2 are both considered as second maximum."
   ]
  },
  {
   "cell_type": "code",
   "execution_count": 1,
   "metadata": {},
   "outputs": [
    {
     "name": "stdout",
     "output_type": "stream",
     "text": [
      "1\n",
      "2\n",
      "1\n"
     ]
    }
   ],
   "source": [
    "def thirdMax(nums):\n",
    "        nums = list(set(nums))\n",
    "        if len(nums) >= 3:\n",
    "            count = 0\n",
    "            while count < 2:\n",
    "                nums.remove(max(nums))\n",
    "                count += 1\n",
    "            return max(nums)\n",
    "        if len(nums) <= 2:\n",
    "            return max(nums)\n",
    "        \n",
    "        \n",
    "nums = [3,2,1]\n",
    "print(thirdMax(nums))\n",
    "\n",
    "nums = [1, 2]\n",
    "print(thirdMax(nums))\n",
    "\n",
    "nums = [2, 2, 3, 1]\n",
    "print(thirdMax(nums))"
   ]
  }
 ],
 "metadata": {
  "kernelspec": {
   "display_name": "Python 3",
   "language": "python",
   "name": "python3"
  },
  "language_info": {
   "codemirror_mode": {
    "name": "ipython",
    "version": 3
   },
   "file_extension": ".py",
   "mimetype": "text/x-python",
   "name": "python",
   "nbconvert_exporter": "python",
   "pygments_lexer": "ipython3",
   "version": "3.7.3"
  }
 },
 "nbformat": 4,
 "nbformat_minor": 2
}
