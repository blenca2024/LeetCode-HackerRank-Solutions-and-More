{
 "cells": [
  {
   "cell_type": "markdown",
   "metadata": {},
   "source": [
    "509. Fibonacci Number\n",
    "\n",
    "The Fibonacci numbers, commonly denoted F(n) form a sequence, called the Fibonacci sequence, such that each number is the sum of the two preceding ones, starting from 0 and 1. That is,\n",
    "\n",
    "F(0) = 0, F(1) = 1\n",
    "F(n) = F(n - 1) + F(n - 2), for n > 1.\n",
    "\n",
    "Given n, calculate F(n).\n",
    "\n",
    "Example 1:\n",
    "\n",
    "Input: n = 2\n",
    "Output: 1\n",
    "Explanation: F(2) = F(1) + F(0) = 1 + 0 = 1.\n",
    "\n",
    "Example 2:\n",
    "\n",
    "Input: n = 3\n",
    "Output: 2\n",
    "Explanation: F(3) = F(2) + F(1) = 1 + 1 = 2.\n",
    "\n",
    "Example 3:\n",
    "\n",
    "Input: n = 4\n",
    "Output: 3\n",
    "Explanation: F(4) = F(3) + F(2) = 2 + 1 = 3.\n",
    "\n",
    "Constraints:\n",
    "\n",
    "    0 <= n <= 30\n"
   ]
  },
  {
   "cell_type": "code",
   "execution_count": 1,
   "metadata": {},
   "outputs": [],
   "source": [
    "def fib(n):\n",
    "    seq = [0,1]\n",
    "    for num in range(n):\n",
    "        seq.append(sum(seq[-2:]))\n",
    "    \n",
    "    return seq[n]"
   ]
  },
  {
   "cell_type": "code",
   "execution_count": 2,
   "metadata": {},
   "outputs": [
    {
     "data": {
      "text/plain": [
       "1"
      ]
     },
     "execution_count": 2,
     "metadata": {},
     "output_type": "execute_result"
    }
   ],
   "source": [
    "n = 2\n",
    "fib(n)"
   ]
  },
  {
   "cell_type": "code",
   "execution_count": 3,
   "metadata": {},
   "outputs": [
    {
     "data": {
      "text/plain": [
       "2"
      ]
     },
     "execution_count": 3,
     "metadata": {},
     "output_type": "execute_result"
    }
   ],
   "source": [
    "n = 3\n",
    "fib(n)"
   ]
  },
  {
   "cell_type": "code",
   "execution_count": 4,
   "metadata": {},
   "outputs": [
    {
     "data": {
      "text/plain": [
       "3"
      ]
     },
     "execution_count": 4,
     "metadata": {},
     "output_type": "execute_result"
    }
   ],
   "source": [
    "n = 4\n",
    "fib(n)"
   ]
  }
 ],
 "metadata": {
  "kernelspec": {
   "display_name": "datascience",
   "language": "python",
   "name": "datascience"
  },
  "language_info": {
   "codemirror_mode": {
    "name": "ipython",
    "version": 3
   },
   "file_extension": ".py",
   "mimetype": "text/x-python",
   "name": "python",
   "nbconvert_exporter": "python",
   "pygments_lexer": "ipython3",
   "version": "3.11.4"
  }
 },
 "nbformat": 4,
 "nbformat_minor": 2
}
