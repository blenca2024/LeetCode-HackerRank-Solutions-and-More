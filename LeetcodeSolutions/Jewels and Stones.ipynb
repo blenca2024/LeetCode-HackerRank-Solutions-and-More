{
 "cells": [
  {
   "cell_type": "markdown",
   "metadata": {},
   "source": [
    "# Jewels and Stones\n",
    "\n",
    "You're given strings J representing the types of stones that are jewels, and S representing the stones you have.  Each character in S is a type of stone you have.  You want to know how many of the stones you have are also jewels.\n",
    "\n",
    "The letters in J are guaranteed distinct, and all characters in J and S are letters. Letters are case sensitive, so \"a\" is considered a different type of stone from \"A\".\n",
    "\n",
    "**Example 1:**\n",
    "\n",
    "Input: J = \"aA\", S = \"aAAbbbb\"\n",
    "Output: 3\n",
    "\n",
    "**Example 2:**\n",
    "\n",
    "Input: J = \"z\", S = \"ZZ\"\n",
    "Output: 0\n",
    "\n",
    "\n",
    "**Note:**\n",
    "\n",
    "S and J will consist of letters and have length at most 50.\n",
    "The characters in J are distinct."
   ]
  },
  {
   "cell_type": "code",
   "execution_count": 3,
   "metadata": {},
   "outputs": [
    {
     "name": "stdout",
     "output_type": "stream",
     "text": [
      "3\n",
      "0\n"
     ]
    }
   ],
   "source": [
    "def numJewelsInStones(J,S):\n",
    "        a = []\n",
    "        b = []\n",
    "        count = 0\n",
    "        for i in J:\n",
    "            a.append(i)\n",
    "        for i in S:\n",
    "            b.append(i)\n",
    "        a = set(a)\n",
    "        for i in a:\n",
    "            for j in b:\n",
    "                if i == j:\n",
    "                    count += 1\n",
    "        return count\n",
    "    \n",
    "    \n",
    "J = \"aA\"\n",
    "S = \"aAAbbbb\"\n",
    "print(numJewelsInStones(J,S))\n",
    "\n",
    "J = \"z\"\n",
    "S = \"ZZ\"\n",
    "print(numJewelsInStones(J,S))"
   ]
  }
 ],
 "metadata": {
  "kernelspec": {
   "display_name": "Python 3",
   "language": "python",
   "name": "python3"
  },
  "language_info": {
   "codemirror_mode": {
    "name": "ipython",
    "version": 3
   },
   "file_extension": ".py",
   "mimetype": "text/x-python",
   "name": "python",
   "nbconvert_exporter": "python",
   "pygments_lexer": "ipython3",
   "version": "3.7.3"
  }
 },
 "nbformat": 4,
 "nbformat_minor": 2
}
