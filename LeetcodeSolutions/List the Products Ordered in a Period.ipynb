{
 "cells": [
  {
   "cell_type": "markdown",
   "metadata": {},
   "source": [
    "1327. List the Products Ordered in a Period\n",
    "\n",
    "Table: Products\n",
    "\n",
    "| Column Name      | Type    |\n",
    "|------------------|---------|\n",
    "| product_id       | int     |\n",
    "| product_name     | varchar |\n",
    "| product_category | varchar |\n",
    "\n",
    "product_id is the primary key (column with unique values) for this table.\n",
    "This table contains data about the company's products.\n",
    "\n",
    "Table: Orders\n",
    "\n",
    "| Column Name   | Type    |\n",
    "|---------------|---------|\n",
    "| product_id    | int     |\n",
    "| order_date    | date    |\n",
    "| unit          | int     |\n",
    "\n",
    "This table may have duplicate rows.\n",
    "product_id is a foreign key (reference column) to the Products table.\n",
    "unit is the number of products ordered in order_date.\n",
    "\n",
    "Write a solution to get the names of products that have at least 100 units ordered in February 2020 and their amount.\n",
    "\n",
    "Return the result table in any order.\n",
    "\n",
    "The result format is in the following example.\n",
    "\n",
    "Example 1:\n",
    "\n",
    "Input:\n",
    "Products table:\n",
    "| product_id | product_name         | product_category |\n",
    "|------------|----------------------|------------------|\n",
    "| 1          | Leetcode Solutions   | Book             |\n",
    "| 2          | Jewels of Stringology| Book             |\n",
    "| 3          | HP                   | Laptop           |\n",
    "| 4          | Lenovo               | Laptop           |\n",
    "| 5          | Leetcode Kit         | T-shirt          |\n",
    "\n",
    "Orders table:\n",
    "| product_id | order_date  | unit |\n",
    "|------------|-------------|------|\n",
    "| 1          | 2020-02-05  | 60   |\n",
    "| 1          | 2020-02-10  | 70   |\n",
    "| 2          | 2020-01-18  | 30   |\n",
    "| 2          | 2020-02-11  | 80   |\n",
    "| 3          | 2020-02-17  | 2    |\n",
    "| 3          | 2020-02-24  | 3    |\n",
    "| 4          | 2020-03-01  | 20   |\n",
    "| 4          | 2020-03-04  | 30   |\n",
    "| 4          | 2020-03-04  | 60   |\n",
    "| 5          | 2020-02-25  | 50   |\n",
    "| 5          | 2020-02-27  | 50   |\n",
    "| 5          | 2020-03-01  | 50   |\n",
    "\n",
    "Output:\n",
    "| product_name        | unit |\n",
    "|---------------------|------|\n",
    "| Leetcode Solutions  | 130  |\n",
    "| Leetcode Kit        | 100  |\n",
    "\n",
    "Explanation:\n",
    "Products with product_id = 1 are ordered in February a total of (60 + 70) = 130 units.\n",
    "Products with product_id = 2 are ordered in February a total of 80 units.\n",
    "Products with product_id = 3 are ordered in February a total of (2 + 3) = 5 units.\n",
    "Products with product_id = 4 were not ordered in February 2020.\n",
    "Products with product_id = 5 are ordered in February a total of (50 + 50) = 100 units.\n"
   ]
  },
  {
   "cell_type": "code",
   "execution_count": 1,
   "metadata": {},
   "outputs": [],
   "source": [
    "import pandas as pd"
   ]
  },
  {
   "cell_type": "code",
   "execution_count": 2,
   "metadata": {},
   "outputs": [],
   "source": [
    "products = pd.DataFrame([\n",
    "    {\"product_id\": 1, \"product_name\": \"Leetcode Solutions\", \"product_category\": \"Book\"},\n",
    "    {\"product_id\": 2, \"product_name\": \"Jewels of Stringology\", \"product_category\": \"Book\"},\n",
    "    {\"product_id\": 3, \"product_name\": \"HP\", \"product_category\": \"Laptop\"},\n",
    "    {\"product_id\": 4, \"product_name\": \"Lenovo\", \"product_category\": \"Laptop\"},\n",
    "    {\"product_id\": 5, \"product_name\": \"Leetcode Kit\", \"product_category\": \"T-shirt\"},\n",
    "])\n",
    "\n",
    "orders = pd.DataFrame([\n",
    "    {\"product_id\": 1, \"order_date\": \"2020-02-05\", \"unit\": 60},\n",
    "    {\"product_id\": 1, \"order_date\": \"2020-02-10\", \"unit\": 70},\n",
    "    {\"product_id\": 2, \"order_date\": \"2020-01-18\", \"unit\": 30},\n",
    "    {\"product_id\": 2, \"order_date\": \"2020-02-11\", \"unit\": 80},\n",
    "    {\"product_id\": 3, \"order_date\": \"2020-02-17\", \"unit\": 2},\n",
    "    {\"product_id\": 3, \"order_date\": \"2020-02-24\", \"unit\": 3},\n",
    "    {\"product_id\": 4, \"order_date\": \"2020-03-01\", \"unit\": 20},\n",
    "    {\"product_id\": 4, \"order_date\": \"2020-03-04\", \"unit\": 30},\n",
    "    {\"product_id\": 4, \"order_date\": \"2020-03-04\", \"unit\": 60},\n",
    "    {\"product_id\": 5, \"order_date\": \"2020-02-25\", \"unit\": 50},\n",
    "    {\"product_id\": 5, \"order_date\": \"2020-02-27\", \"unit\": 50},\n",
    "    {\"product_id\": 5, \"order_date\": \"2020-03-01\", \"unit\": 50},\n",
    "]\n",
    ")\n",
    "\n",
    "orders['order_date'] = pd.to_datetime(orders['order_date'])"
   ]
  },
  {
   "cell_type": "code",
   "execution_count": 3,
   "metadata": {},
   "outputs": [],
   "source": [
    "def list_products(products: pd.DataFrame, orders: pd.DataFrame) -> pd.DataFrame:\n",
    "\n",
    "    feb_orders = orders[(orders['order_date'].dt.month == 2) & (orders['order_date'].dt.year == 2020)]\n",
    "    feb_orders = feb_orders.merge(products,on='product_id').groupby('product_name').sum('unit').reset_index()\n",
    "    return feb_orders[feb_orders['unit'] >= 100][['product_name','unit']]"
   ]
  },
  {
   "cell_type": "code",
   "execution_count": 4,
   "metadata": {},
   "outputs": [
    {
     "data": {
      "text/html": [
       "<div>\n",
       "<style scoped>\n",
       "    .dataframe tbody tr th:only-of-type {\n",
       "        vertical-align: middle;\n",
       "    }\n",
       "\n",
       "    .dataframe tbody tr th {\n",
       "        vertical-align: top;\n",
       "    }\n",
       "\n",
       "    .dataframe thead th {\n",
       "        text-align: right;\n",
       "    }\n",
       "</style>\n",
       "<table border=\"1\" class=\"dataframe\">\n",
       "  <thead>\n",
       "    <tr style=\"text-align: right;\">\n",
       "      <th></th>\n",
       "      <th>product_name</th>\n",
       "      <th>unit</th>\n",
       "    </tr>\n",
       "  </thead>\n",
       "  <tbody>\n",
       "    <tr>\n",
       "      <th>2</th>\n",
       "      <td>Leetcode Kit</td>\n",
       "      <td>100</td>\n",
       "    </tr>\n",
       "    <tr>\n",
       "      <th>3</th>\n",
       "      <td>Leetcode Solutions</td>\n",
       "      <td>130</td>\n",
       "    </tr>\n",
       "  </tbody>\n",
       "</table>\n",
       "</div>"
      ],
      "text/plain": [
       "         product_name  unit\n",
       "2        Leetcode Kit   100\n",
       "3  Leetcode Solutions   130"
      ]
     },
     "execution_count": 4,
     "metadata": {},
     "output_type": "execute_result"
    }
   ],
   "source": [
    "list_products(orders=orders,products=products)"
   ]
  }
 ],
 "metadata": {
  "kernelspec": {
   "display_name": "datascience",
   "language": "python",
   "name": "datascience"
  },
  "language_info": {
   "codemirror_mode": {
    "name": "ipython",
    "version": 3
   },
   "file_extension": ".py",
   "mimetype": "text/x-python",
   "name": "python",
   "nbconvert_exporter": "python",
   "pygments_lexer": "ipython3",
   "version": "3.11.4"
  }
 },
 "nbformat": 4,
 "nbformat_minor": 2
}
