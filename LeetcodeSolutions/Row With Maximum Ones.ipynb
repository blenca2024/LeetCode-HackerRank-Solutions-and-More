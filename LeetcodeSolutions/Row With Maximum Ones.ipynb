{
 "cells": [
  {
   "cell_type": "markdown",
   "metadata": {},
   "source": [
    "# 2643. Row With Maximum Ones\n",
    "\n",
    "Given a m x n binary matrix `mat`, find the 0-indexed position of the row that contains the maximum count of ones, and the number of ones in that row.\n",
    "\n",
    "In case there are multiple rows that have the maximum count of ones, the row with the smallest row number should be selected.\n",
    "\n",
    "Return an array containing the index of the row, and the number of ones in it.\n",
    "\n",
    "## Example 1:\n",
    "\n",
    "**Input:**  \n",
    "`mat = [[0,1],[1,0]]`\n",
    "\n",
    "**Output:**  \n",
    "`[0,1]`\n",
    "\n",
    "**Explanation:**  \n",
    "Both rows have the same number of 1's. So we return the index of the smaller row, 0, and the maximum count of ones (1). So, the answer is [0,1].\n",
    "\n",
    "## Example 2:\n",
    "\n",
    "**Input:**  \n",
    "`mat = [[0,0,0],[0,1,1]]`\n",
    "\n",
    "**Output:**  \n",
    "`[1,2]`\n",
    "\n",
    "**Explanation:**  \n",
    "The row indexed 1 has the maximum count of ones (2). So we return its index, 1, and the count. So, the answer is [1,2].\n",
    "\n",
    "## Example 3:\n",
    "\n",
    "**Input:**  \n",
    "`mat = [[0,0],[1,1],[0,0]]`\n",
    "\n",
    "**Output:**  \n",
    "`[1,2]`\n",
    "\n",
    "**Explanation:**  \n",
    "The row indexed 1 has the maximum count of ones (2). So the answer is [1,2].\n",
    "\n",
    "## Constraints:\n",
    "\n",
    "- `m == mat.length`\n",
    "- `n == mat[i].length`\n",
    "- `1 <= m, n <= 100`\n",
    "- `mat[i][j]` is either 0 or 1.\n"
   ]
  },
  {
   "cell_type": "code",
   "execution_count": 1,
   "metadata": {},
   "outputs": [],
   "source": [
    "from typing import List"
   ]
  },
  {
   "cell_type": "code",
   "execution_count": 2,
   "metadata": {},
   "outputs": [],
   "source": [
    "def rowAndMaximumOnes(mat: List[List[int]]) -> List[int]:\n",
    "    mat_dict = {idx:sum(sublist) for idx,sublist in enumerate(mat)}\n",
    "    return list(sorted(mat_dict.items(), key=lambda item: (-item[1], item[0]))[0])"
   ]
  },
  {
   "cell_type": "code",
   "execution_count": 3,
   "metadata": {},
   "outputs": [
    {
     "data": {
      "text/plain": [
       "[1, 2]"
      ]
     },
     "execution_count": 3,
     "metadata": {},
     "output_type": "execute_result"
    }
   ],
   "source": [
    "mat = [[0,0],[1,1],[0,0]]\n",
    "rowAndMaximumOnes(mat=mat)"
   ]
  },
  {
   "cell_type": "code",
   "execution_count": 4,
   "metadata": {},
   "outputs": [
    {
     "data": {
      "text/plain": [
       "[0, 1]"
      ]
     },
     "execution_count": 4,
     "metadata": {},
     "output_type": "execute_result"
    }
   ],
   "source": [
    "mat = [[0,1],[1,0]]\n",
    "rowAndMaximumOnes(mat=mat)"
   ]
  }
 ],
 "metadata": {
  "kernelspec": {
   "display_name": "datascience",
   "language": "python",
   "name": "datascience"
  },
  "language_info": {
   "codemirror_mode": {
    "name": "ipython",
    "version": 3
   },
   "file_extension": ".py",
   "mimetype": "text/x-python",
   "name": "python",
   "nbconvert_exporter": "python",
   "pygments_lexer": "ipython3",
   "version": "3.11.4"
  }
 },
 "nbformat": 4,
 "nbformat_minor": 2
}
