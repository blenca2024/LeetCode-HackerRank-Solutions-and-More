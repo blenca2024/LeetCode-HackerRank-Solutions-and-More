{
 "cells": [
  {
   "cell_type": "markdown",
   "metadata": {},
   "source": [
    "# 2942. Find Words Containing Character\n",
    "\n",
    "You are given a 0-indexed array of strings `words` and a character `x`.\n",
    "\n",
    "Return an array of indices representing the words that contain the character `x`.\n",
    "\n",
    "Note that the returned array may be in any order.\n",
    "\n",
    "## Example 1:\n",
    "\n",
    "**Input:** `words = [\"leet\",\"code\"], x = \"e\"`\n",
    "\n",
    "**Output:** `[0,1]`\n",
    "\n",
    "**Explanation:** \"e\" occurs in both words: \"leet\", and \"code\". Hence, we return indices 0 and 1.\n",
    "\n",
    "## Example 2:\n",
    "\n",
    "**Input:** `words = [\"abc\",\"bcd\",\"aaaa\",\"cbc\"], x = \"a\"`\n",
    "\n",
    "**Output:** `[0,2]`\n",
    "\n",
    "**Explanation:** \"a\" occurs in \"abc\", and \"aaaa\". Hence, we return indices 0 and 2.\n",
    "\n",
    "## Example 3:\n",
    "\n",
    "**Input:** `words = [\"abc\",\"bcd\",\"aaaa\",\"cbc\"], x = \"z\"`\n",
    "\n",
    "**Output:** `[]`\n",
    "\n",
    "**Explanation:** \"z\" does not occur in any of the words. Hence, we return an empty array.\n",
    "\n",
    "## Constraints:\n",
    "\n",
    "- `1 <= words.length <= 50`\n",
    "- `1 <= words[i].length <= 50`\n",
    "- `x` is a lowercase English letter.\n",
    "- `words[i]` consists only of lowercase English letters.\n"
   ]
  },
  {
   "cell_type": "code",
   "execution_count": 1,
   "metadata": {},
   "outputs": [],
   "source": [
    "def findWordsContaining(words,x):\n",
    "    return [idx for idx,word in enumerate(words) if x in word]"
   ]
  },
  {
   "cell_type": "code",
   "execution_count": 2,
   "metadata": {},
   "outputs": [
    {
     "data": {
      "text/plain": [
       "[0, 1]"
      ]
     },
     "execution_count": 2,
     "metadata": {},
     "output_type": "execute_result"
    }
   ],
   "source": [
    "findWordsContaining(words = [\"leet\",\"code\"], x = \"e\")"
   ]
  },
  {
   "cell_type": "code",
   "execution_count": 3,
   "metadata": {},
   "outputs": [
    {
     "data": {
      "text/plain": [
       "[0, 2]"
      ]
     },
     "execution_count": 3,
     "metadata": {},
     "output_type": "execute_result"
    }
   ],
   "source": [
    "findWordsContaining(words = [\"abc\",\"bcd\",\"aaaa\",\"cbc\"], x = \"a\")"
   ]
  },
  {
   "cell_type": "code",
   "execution_count": 4,
   "metadata": {},
   "outputs": [
    {
     "data": {
      "text/plain": [
       "[]"
      ]
     },
     "execution_count": 4,
     "metadata": {},
     "output_type": "execute_result"
    }
   ],
   "source": [
    "findWordsContaining(words = [\"abc\",\"bcd\",\"aaaa\",\"cbc\"], x = \"z\")"
   ]
  }
 ],
 "metadata": {
  "kernelspec": {
   "display_name": "Python 3",
   "language": "python",
   "name": "python3"
  },
  "language_info": {
   "codemirror_mode": {
    "name": "ipython",
    "version": 3
   },
   "file_extension": ".py",
   "mimetype": "text/x-python",
   "name": "python",
   "nbconvert_exporter": "python",
   "pygments_lexer": "ipython3",
   "version": "3.11.2"
  }
 },
 "nbformat": 4,
 "nbformat_minor": 2
}
