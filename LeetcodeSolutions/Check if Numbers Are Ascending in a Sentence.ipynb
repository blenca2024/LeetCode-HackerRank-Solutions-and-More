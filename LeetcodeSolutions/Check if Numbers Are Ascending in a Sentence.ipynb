{
 "cells": [
  {
   "cell_type": "markdown",
   "metadata": {},
   "source": [
    "# 2042. Check if Numbers Are Ascending in a Sentence\n",
    "\n",
    "A sentence is a list of tokens separated by a single space with no leading or trailing spaces. Every token is either a positive number consisting of digits `0-9` with no leading zeros, or a word consisting of lowercase English letters.\n",
    "\n",
    "For example, `\"a puppy has 2 eyes 4 legs\"` is a sentence with seven tokens: `\"2\"` and `\"4\"` are numbers, and the other tokens such as `\"puppy\"` are words.\n",
    "\n",
    "Given a string `s` representing a sentence, you need to check if all the numbers in `s` are strictly increasing from left to right (i.e., other than the last number, each number is strictly smaller than the number on its right in `s`).\n",
    "\n",
    "Return true if so, or false otherwise.\n",
    "\n",
    "## Example 1:\n",
    "\n",
    "**Input:** `s = \"1 box has 3 blue 4 red 6 green and 12 yellow marbles\"`\n",
    "\n",
    "**Output:** `true`\n",
    "\n",
    "**Explanation:** The numbers in `s` are: `1, 3, 4, 6, 12`.  \n",
    "They are strictly increasing from left to right: `1 < 3 < 4 < 6 < 12`.\n",
    "\n",
    "## Example 2:\n",
    "\n",
    "**Input:** `s = \"hello world 5 x 5\"`\n",
    "\n",
    "**Output:** `false`\n",
    "\n",
    "**Explanation:** The numbers in `s` are: `5, 5`. They are not strictly increasing.\n",
    "\n",
    "## Example 3:\n",
    "\n",
    "**Input:** `s = \"sunset is at 7 51 pm overnight lows will be in the low 50 and 60 s\"`\n",
    "\n",
    "**Output:** `false`\n",
    "\n",
    "**Explanation:** The numbers in `s` are: `7, 51, 50, 60`. They are not strictly increasing.\n",
    "\n",
    "## Constraints:\n",
    "\n",
    "- `3 <= s.length <= 200`\n",
    "- `s` consists of lowercase English letters, spaces, and digits from `0` to `9`, inclusive.\n",
    "- The number of tokens in `s` is between `2` and `100`, inclusive.\n",
    "- The tokens in `s` are separated by a single space.\n",
    "- There are at least two numbers in `s`.\n",
    "- Each number in `s` is a positive number less than `100`, with no leading zeros.\n",
    "- `s` contains no leading or trailing spaces.\n"
   ]
  },
  {
   "cell_type": "code",
   "execution_count": 1,
   "metadata": {},
   "outputs": [],
   "source": [
    "def areNumbersAscending(s: str) -> bool:\n",
    "\n",
    "    num_check = []\n",
    "\n",
    "    for num1,num2 in zip([int(word) for word in s.split() if word.isnumeric() == True][:-1],\n",
    "                        [int(word) for word in s.split() if word.isnumeric() == True][1:]):\n",
    "        num_check.append(num1<num2)\n",
    "\n",
    "    return all(num_check)"
   ]
  },
  {
   "cell_type": "code",
   "execution_count": 2,
   "metadata": {},
   "outputs": [
    {
     "data": {
      "text/plain": [
       "True"
      ]
     },
     "execution_count": 2,
     "metadata": {},
     "output_type": "execute_result"
    }
   ],
   "source": [
    "s = \"1 box has 3 blue 4 red 6 green and 12 yellow marbles\"\n",
    "areNumbersAscending(s)"
   ]
  },
  {
   "cell_type": "code",
   "execution_count": 3,
   "metadata": {},
   "outputs": [
    {
     "data": {
      "text/plain": [
       "False"
      ]
     },
     "execution_count": 3,
     "metadata": {},
     "output_type": "execute_result"
    }
   ],
   "source": [
    "s = \"hello world 5 x 5\"\n",
    "areNumbersAscending(s)"
   ]
  },
  {
   "cell_type": "code",
   "execution_count": 4,
   "metadata": {},
   "outputs": [
    {
     "data": {
      "text/plain": [
       "False"
      ]
     },
     "execution_count": 4,
     "metadata": {},
     "output_type": "execute_result"
    }
   ],
   "source": [
    "s = \"sunset is at 7 51 pm overnight lows will be in the low 50 and 60 s\"\n",
    "areNumbersAscending(s)"
   ]
  },
  {
   "cell_type": "code",
   "execution_count": 5,
   "metadata": {},
   "outputs": [
    {
     "data": {
      "text/plain": [
       "True"
      ]
     },
     "execution_count": 5,
     "metadata": {},
     "output_type": "execute_result"
    }
   ],
   "source": [
    "s = '1'\n",
    "areNumbersAscending(s)"
   ]
  }
 ],
 "metadata": {
  "kernelspec": {
   "display_name": "datascience",
   "language": "python",
   "name": "datascience"
  },
  "language_info": {
   "codemirror_mode": {
    "name": "ipython",
    "version": 3
   },
   "file_extension": ".py",
   "mimetype": "text/x-python",
   "name": "python",
   "nbconvert_exporter": "python",
   "pygments_lexer": "ipython3",
   "version": "3.11.4"
  }
 },
 "nbformat": 4,
 "nbformat_minor": 2
}
