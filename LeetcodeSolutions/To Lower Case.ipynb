{
 "cells": [
  {
   "cell_type": "markdown",
   "metadata": {},
   "source": [
    "# To Lower Case\n",
    "\n",
    "Implement function ToLowerCase() that has a string parameter str, and returns the same string in lowercase.\n",
    "\n",
    "**Example 1:**\n",
    "\n",
    "Input: \"Hello\"\n",
    "Output: \"hello\"\n",
    "\n",
    "**Example 2:**\n",
    "\n",
    "Input: \"here\"\n",
    "Output: \"here\"\n",
    "\n",
    "**Example 3:**\n",
    "\n",
    "Input: \"LOVELY\"\n",
    "Output: \"lovely\""
   ]
  },
  {
   "cell_type": "code",
   "execution_count": 3,
   "metadata": {},
   "outputs": [
    {
     "name": "stdout",
     "output_type": "stream",
     "text": [
      "hello\n",
      "here\n",
      "lovely\n"
     ]
    }
   ],
   "source": [
    "def toLowerCase(str):\n",
    "        str = str.lower()\n",
    "        return str\n",
    "    \n",
    "print(toLowerCase(\"Hello\"))\n",
    "\n",
    "print(toLowerCase(\"here\"))\n",
    "\n",
    "print(toLowerCase(\"LOVELY\"))"
   ]
  }
 ],
 "metadata": {
  "kernelspec": {
   "display_name": "Python 3",
   "language": "python",
   "name": "python3"
  },
  "language_info": {
   "codemirror_mode": {
    "name": "ipython",
    "version": 3
   },
   "file_extension": ".py",
   "mimetype": "text/x-python",
   "name": "python",
   "nbconvert_exporter": "python",
   "pygments_lexer": "ipython3",
   "version": "3.7.3"
  }
 },
 "nbformat": 4,
 "nbformat_minor": 2
}
