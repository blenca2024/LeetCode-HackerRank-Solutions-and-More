{
 "cells": [
  {
   "cell_type": "markdown",
   "metadata": {},
   "source": [
    "# 1768. Merge Strings Alternately\n",
    "\n",
    "You are given two strings `word1` and `word2`. Merge the strings by adding letters in alternating order, starting with `word1`. If a string is longer than the other, append the additional letters onto the end of the merged string.\n",
    "\n",
    "Return the merged string.\n",
    "\n",
    "## Example 1:\n",
    "\n",
    "**Input:**  \n",
    "`word1 = \"abc\"`  \n",
    "`word2 = \"pqr\"`\n",
    "\n",
    "**Output:**  \n",
    "`\"apbqcr\"`\n",
    "\n",
    "**Explanation:**  \n",
    "The merged string will be merged as so:\n",
    "\n",
    "| word1  | a | b | c |\n",
    "|--------|---|---|---|\n",
    "| word2  |   | p | q | r |\n",
    "| merged | a | p | b | q | c | r |\n",
    "\n",
    "## Example 2:\n",
    "\n",
    "**Input:**  \n",
    "`word1 = \"ab\"`  \n",
    "`word2 = \"pqrs\"`\n",
    "\n",
    "**Output:**  \n",
    "`\"apbqrs\"`\n",
    "\n",
    "**Explanation:**  \n",
    "Notice that as `word2` is longer, \"rs\" is appended to the end.\n",
    "\n",
    "| word1  | a | b |\n",
    "|--------|---|---|\n",
    "| word2  |   | p | q | r | s |\n",
    "| merged | a | p | b | q | r | s |\n",
    "\n",
    "## Example 3:\n",
    "\n",
    "**Input:**  \n",
    "`word1 = \"abcd\"`  \n",
    "`word2 = \"pq\"`\n",
    "\n",
    "**Output:**  \n",
    "`\"apbqcd\"`\n",
    "\n",
    "**Explanation:**  \n",
    "Notice that as `word1` is longer, \"cd\" is appended to the end.\n",
    "\n",
    "| word1  | a | b | c | d |\n",
    "|--------|---|---|---|---|\n",
    "| word2  |   | p | q |\n",
    "| merged | a | p | b | q | c | d |\n",
    "\n",
    "## Constraints:\n",
    "\n",
    "- `1 <= word1.length, word2.length <= 100`\n",
    "- `word1` and `word2` consist of lowercase English letters.\n"
   ]
  },
  {
   "cell_type": "code",
   "execution_count": 1,
   "metadata": {},
   "outputs": [],
   "source": [
    "def mergeAlternately(word1, word2):\n",
    "\n",
    "    if len(word1) == len(word2):\n",
    "        output = ''.join([char1+char2 for char1,char2 in zip(word1,word2)])\n",
    "        return output\n",
    "    else:\n",
    "        output = ''\n",
    "        char_list = [[char for char in word1],[char for char in word2]]\n",
    "\n",
    "        while len(min(char_list)) > 0:\n",
    "            for _ in range(min([len(sub) for sub in char_list])):\n",
    "                char = char_list[0][0]\n",
    "                output += char\n",
    "                char_list[0].remove(char)\n",
    "\n",
    "                char = char_list[1][0]\n",
    "                output += char\n",
    "                char_list[1].remove(char)\n",
    "\n",
    "        output += ''.join(char_list[0])\n",
    "        output += ''.join(char_list[1])\n",
    "\n",
    "    return output"
   ]
  },
  {
   "cell_type": "code",
   "execution_count": 2,
   "metadata": {},
   "outputs": [
    {
     "data": {
      "text/plain": [
       "'apbqcr'"
      ]
     },
     "execution_count": 2,
     "metadata": {},
     "output_type": "execute_result"
    }
   ],
   "source": [
    "word1 = \"abc\"\n",
    "word2 = \"pqr\"\n",
    "\n",
    "mergeAlternately(word1=word1,word2=word2)"
   ]
  },
  {
   "cell_type": "code",
   "execution_count": 3,
   "metadata": {},
   "outputs": [
    {
     "data": {
      "text/plain": [
       "'cadf'"
      ]
     },
     "execution_count": 3,
     "metadata": {},
     "output_type": "execute_result"
    }
   ],
   "source": [
    "word1 = \"cdf\"\n",
    "word2 = \"a\"\n",
    "\n",
    "mergeAlternately(word1=word1,word2=word2)"
   ]
  },
  {
   "cell_type": "code",
   "execution_count": 4,
   "metadata": {},
   "outputs": [
    {
     "data": {
      "text/plain": [
       "'apbqrs'"
      ]
     },
     "execution_count": 4,
     "metadata": {},
     "output_type": "execute_result"
    }
   ],
   "source": [
    "word1 = \"ab\"\n",
    "word2 = \"pqrs\"\n",
    "\n",
    "mergeAlternately(word1=word1,word2=word2)"
   ]
  },
  {
   "cell_type": "code",
   "execution_count": 5,
   "metadata": {},
   "outputs": [
    {
     "data": {
      "text/plain": [
       "'apbqcd'"
      ]
     },
     "execution_count": 5,
     "metadata": {},
     "output_type": "execute_result"
    }
   ],
   "source": [
    "word1 = \"abcd\"\n",
    "word2 = \"pq\"\n",
    "\n",
    "mergeAlternately(word1=word1,word2=word2)"
   ]
  }
 ],
 "metadata": {
  "kernelspec": {
   "display_name": "wai",
   "language": "python",
   "name": "python3"
  },
  "language_info": {
   "codemirror_mode": {
    "name": "ipython",
    "version": 3
   },
   "file_extension": ".py",
   "mimetype": "text/x-python",
   "name": "python",
   "nbconvert_exporter": "python",
   "pygments_lexer": "ipython3",
   "version": "3.11.4"
  }
 },
 "nbformat": 4,
 "nbformat_minor": 2
}
