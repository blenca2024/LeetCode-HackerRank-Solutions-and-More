{
 "cells": [
  {
   "cell_type": "markdown",
   "metadata": {},
   "source": [
    "# 2562. Find the Array Concatenation Value\n",
    "\n",
    "**Solved**\n",
    "\n",
    "**Easy**\n",
    "\n",
    "## Problem\n",
    "\n",
    "You are given a 0-indexed integer array `nums`.\n",
    "\n",
    "The concatenation of two numbers is the number formed by concatenating their numerals.\n",
    "\n",
    "For example, the concatenation of `15` and `49` is `1549`.\n",
    "\n",
    "The concatenation value of `nums` is initially equal to `0`. Perform this operation until `nums` becomes empty:\n",
    "\n",
    "1. If there exists more than one number in `nums`, pick the first element and last element in `nums` respectively and add the value of their concatenation to the concatenation value of `nums`, then delete the first and last element from `nums`.\n",
    "2. If one element exists, add its value to the concatenation value of `nums`, then delete it.\n",
    "\n",
    "Return the concatenation value of the `nums`.\n",
    "\n",
    "## Example 1:\n",
    "\n",
    "**Input:** `nums = [7,52,2,4]`\n",
    "\n",
    "**Output:** `596`\n",
    "\n",
    "**Explanation:**\n",
    "- Before performing any operation, `nums` is `[7,52,2,4]` and concatenation value is `0`.\n",
    "  - In the first operation:\n",
    "    - We pick the first element, `7`, and the last element, `4`.\n",
    "    - Their concatenation is `74`, and we add it to the concatenation value, so it becomes equal to `74`.\n",
    "    - Then we delete them from `nums`, so `nums` becomes equal to `[52,2]`.\n",
    "  - In the second operation:\n",
    "    - We pick the first element, `52`, and the last element, `2`.\n",
    "    - Their concatenation is `522`, and we add it to the concatenation value, so it becomes equal to `596`.\n",
    "    - Then we delete them from `nums`, so `nums` becomes empty.\n",
    "- Since the concatenation value is `596`, the answer is `596`.\n",
    "\n",
    "## Example 2:\n",
    "\n",
    "**Input:** `nums = [5,14,13,8,12]`\n",
    "\n",
    "**Output:** `673`\n",
    "\n",
    "**Explanation:**\n",
    "- Before performing any operation, `nums` is `[5,14,13,8,12]` and concatenation value is `0`.\n",
    "  - In the first operation:\n",
    "    - We pick the first element, `5`, and the last element, `12`.\n",
    "    - Their concatenation is `512`, and we add it to the concatenation value, so it becomes equal to `512`.\n",
    "    - Then we delete them from `nums`, so `nums` becomes equal to `[14,13,8]`.\n",
    "  - In the second operation:\n",
    "    - We pick the first element, `14`, and the last element, `8`.\n",
    "    - Their concatenation is `148`, and we add it to the concatenation value, so it becomes equal to `660`.\n",
    "    - Then we delete them from the `nums`, so `nums` becomes equal to `[13]`.\n",
    "  - In the third operation:\n",
    "    - `nums` has only one element, so we pick `13` and add it to the concatenation value, so it becomes equal to `673`.\n",
    "    - Then we delete it from `nums`, so `nums` becomes empty.\n",
    "- Since the concatenation value is `673`, the answer is `673`.\n",
    "\n",
    "## Constraints:\n",
    "\n",
    "- `1 <= nums.length <= 1000`\n",
    "- `1 <= nums[i] <= 10^4`\n"
   ]
  },
  {
   "cell_type": "code",
   "execution_count": 1,
   "metadata": {},
   "outputs": [],
   "source": [
    "from typing import List"
   ]
  },
  {
   "cell_type": "code",
   "execution_count": 2,
   "metadata": {},
   "outputs": [],
   "source": [
    "def findTheArrayConcVal(nums: List[int]) -> int:\n",
    "    num_strs = []\n",
    "\n",
    "    while len(nums) > 0:\n",
    "        s = ''\n",
    "        if nums:\n",
    "            s += str(nums.pop(0))\n",
    "        if nums:\n",
    "            s += str(nums.pop(-1))\n",
    "        num_strs.append(s)\n",
    "\n",
    "    return sum([int(num) for num in num_strs])"
   ]
  },
  {
   "cell_type": "code",
   "execution_count": 3,
   "metadata": {},
   "outputs": [
    {
     "data": {
      "text/plain": [
       "596"
      ]
     },
     "execution_count": 3,
     "metadata": {},
     "output_type": "execute_result"
    }
   ],
   "source": [
    "nums = [7,52,2,4]\n",
    "findTheArrayConcVal(nums)"
   ]
  },
  {
   "cell_type": "code",
   "execution_count": 4,
   "metadata": {},
   "outputs": [
    {
     "data": {
      "text/plain": [
       "673"
      ]
     },
     "execution_count": 4,
     "metadata": {},
     "output_type": "execute_result"
    }
   ],
   "source": [
    "nums = [5,14,13,8,12]\n",
    "findTheArrayConcVal(nums)"
   ]
  },
  {
   "cell_type": "code",
   "execution_count": 5,
   "metadata": {},
   "outputs": [
    {
     "data": {
      "text/plain": [
       "103006"
      ]
     },
     "execution_count": 5,
     "metadata": {},
     "output_type": "execute_result"
    }
   ],
   "source": [
    "nums =  [72,8,96,78,39,92,69,55,9,44,26,76,40,77,16,69,40,64,12,48,66,7,59,10,33,72,97,60,79,68,25,63,82,88,60,37,60,44,14,62]\n",
    "findTheArrayConcVal(nums)"
   ]
  }
 ],
 "metadata": {
  "kernelspec": {
   "display_name": "datascience",
   "language": "python",
   "name": "datascience"
  },
  "language_info": {
   "codemirror_mode": {
    "name": "ipython",
    "version": 3
   },
   "file_extension": ".py",
   "mimetype": "text/x-python",
   "name": "python",
   "nbconvert_exporter": "python",
   "pygments_lexer": "ipython3",
   "version": "3.11.4"
  }
 },
 "nbformat": 4,
 "nbformat_minor": 2
}
