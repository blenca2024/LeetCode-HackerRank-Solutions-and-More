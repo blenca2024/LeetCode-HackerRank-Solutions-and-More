{
 "cells": [
  {
   "cell_type": "markdown",
   "metadata": {},
   "source": [
    "3120. Count the Number of Special Characters I\n",
    "Solved\n",
    "Easy\n",
    "Topics\n",
    "Companies\n",
    "Hint\n",
    "\n",
    "You are given a string word. A letter is called special if it appears both in lowercase and uppercase in word.\n",
    "\n",
    "Return the number of special letters in word.\n",
    "\n",
    "Example 1:\n",
    "\n",
    "Input: word = \"aaAbcBC\"\n",
    "\n",
    "Output: 3\n",
    "\n",
    "Explanation:\n",
    "\n",
    "The special characters in word are 'a', 'b', and 'c'.\n",
    "\n",
    "Example 2:\n",
    "\n",
    "Input: word = \"abc\"\n",
    "\n",
    "Output: 0\n",
    "\n",
    "Explanation:\n",
    "\n",
    "No character in word appears in uppercase.\n",
    "\n",
    "Example 3:\n",
    "\n",
    "Input: word = \"abBCab\"\n",
    "\n",
    "Output: 1\n",
    "\n",
    "Explanation:\n",
    "\n",
    "The only special character in word is 'b'.\n",
    "\n",
    "Constraints:\n",
    "\n",
    "1 <= word.length <= 50\n",
    "word consists of only lowercase and uppercase English letters.\n"
   ]
  },
  {
   "cell_type": "code",
   "execution_count": 1,
   "metadata": {},
   "outputs": [],
   "source": [
    "def numberOfSpecialChars(word: str) -> int:\n",
    "\n",
    "    alpha_dict = {char:[] for char in 'abcdefghijklmnopqrstuvwxyz'}\n",
    "\n",
    "    for char in word:\n",
    "        alpha_dict[char.lower()].append(char)\n",
    "\n",
    "    return len({char for char in alpha_dict if char.upper() in alpha_dict[char] and char in alpha_dict[char]})"
   ]
  },
  {
   "cell_type": "code",
   "execution_count": 2,
   "metadata": {},
   "outputs": [
    {
     "data": {
      "text/plain": [
       "3"
      ]
     },
     "execution_count": 2,
     "metadata": {},
     "output_type": "execute_result"
    }
   ],
   "source": [
    "word = \"aaAbcBC\"\n",
    "numberOfSpecialChars(word=word)"
   ]
  },
  {
   "cell_type": "code",
   "execution_count": 3,
   "metadata": {},
   "outputs": [
    {
     "data": {
      "text/plain": [
       "0"
      ]
     },
     "execution_count": 3,
     "metadata": {},
     "output_type": "execute_result"
    }
   ],
   "source": [
    "word = \"abc\"\n",
    "numberOfSpecialChars(word=word)"
   ]
  },
  {
   "cell_type": "code",
   "execution_count": 4,
   "metadata": {},
   "outputs": [
    {
     "data": {
      "text/plain": [
       "1"
      ]
     },
     "execution_count": 4,
     "metadata": {},
     "output_type": "execute_result"
    }
   ],
   "source": [
    "word = \"abBCab\"\n",
    "numberOfSpecialChars(word=word)"
   ]
  },
  {
   "cell_type": "code",
   "execution_count": 5,
   "metadata": {},
   "outputs": [
    {
     "data": {
      "text/plain": [
       "1"
      ]
     },
     "execution_count": 5,
     "metadata": {},
     "output_type": "execute_result"
    }
   ],
   "source": [
    "word = \"BBbab\"\n",
    "numberOfSpecialChars(word=word)"
   ]
  }
 ],
 "metadata": {
  "kernelspec": {
   "display_name": "wai",
   "language": "python",
   "name": "python3"
  },
  "language_info": {
   "codemirror_mode": {
    "name": "ipython",
    "version": 3
   },
   "file_extension": ".py",
   "mimetype": "text/x-python",
   "name": "python",
   "nbconvert_exporter": "python",
   "pygments_lexer": "ipython3",
   "version": "3.11.4"
  }
 },
 "nbformat": 4,
 "nbformat_minor": 2
}
