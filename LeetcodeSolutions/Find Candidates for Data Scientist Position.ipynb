{
 "cells": [
  {
   "cell_type": "markdown",
   "metadata": {},
   "source": [
    "3051. Find Candidates for Data Scientist Position\n",
    "\n",
    "### Table: Candidates\n",
    "\n",
    "| Column Name  | Type    |\n",
    "|--------------|---------|\n",
    "| candidate_id | int     |\n",
    "| skill        | varchar |\n",
    "\n",
    "(candidate_id, skill) is the primary key (columns with unique values) for this table.\n",
    "Each row includes candidate_id and skill.\n",
    "\n",
    "Write a query to find the candidates best suited for a Data Scientist position. The candidate must be proficient in Python, Tableau, and PostgreSQL.\n",
    "\n",
    "Return the result table ordered by candidate_id in ascending order.\n",
    "\n",
    "#### Example 1:\n",
    "\n",
    "**Input:**\n",
    "\n",
    "**Candidates table:**\n",
    "| candidate_id  | skill        |\n",
    "|---------------|--------------|\n",
    "| 123           | Python       |\n",
    "| 234           | R            |\n",
    "| 123           | Tableau      |\n",
    "| 123           | PostgreSQL   |\n",
    "| 234           | PowerBI      |\n",
    "| 234           | SQL Server   |\n",
    "| 147           | Python       |\n",
    "| 147           | Tableau      |\n",
    "| 147           | Java         |\n",
    "| 147           | PostgreSQL   |\n",
    "| 256           | Tableau      |\n",
    "| 102           | DataAnalysis |\n",
    "\n",
    "**Output:**\n",
    "| candidate_id |\n",
    "|--------------|\n",
    "| 123          |\n",
    "| 147          |\n",
    "\n",
    "**Explanation:**\n",
    "- Candidates 123 and 147 possess the necessary skills in Python, Tableau, and PostgreSQL for the data scientist position.\n",
    "- Candidates 234 and 102 do not possess any of the required skills for this position.\n",
    "- Candidate 256 has proficiency in Tableau but is missing skills in Python and PostgreSQL.\n",
    "The output table is sorted by candidate_id in ascending order.\n"
   ]
  },
  {
   "cell_type": "code",
   "execution_count": 5,
   "metadata": {},
   "outputs": [],
   "source": [
    "import pandas as pd"
   ]
  },
  {
   "cell_type": "code",
   "execution_count": 8,
   "metadata": {},
   "outputs": [],
   "source": [
    "def find_candidates(candidates: pd.DataFrame) -> pd.DataFrame:\n",
    "    candidates_dict = {id:[] for id in candidates['candidate_id']}\n",
    "\n",
    "    for id,skill in zip(candidates['candidate_id'],candidates['skill']):\n",
    "        candidates_dict[id].append(skill)\n",
    "\n",
    "    candidate_list = []\n",
    "    for id, skill in candidates_dict.items():\n",
    "        if 'Python' in skill and 'Tableau' in skill and 'PostgreSQL' in skill:\n",
    "            candidate_list.append(id)\n",
    "\n",
    "    return pd.DataFrame({'candidate_id':candidate_list}).sort_values(by='candidate_id')"
   ]
  },
  {
   "cell_type": "code",
   "execution_count": 9,
   "metadata": {},
   "outputs": [
    {
     "data": {
      "text/html": [
       "<div>\n",
       "<style scoped>\n",
       "    .dataframe tbody tr th:only-of-type {\n",
       "        vertical-align: middle;\n",
       "    }\n",
       "\n",
       "    .dataframe tbody tr th {\n",
       "        vertical-align: top;\n",
       "    }\n",
       "\n",
       "    .dataframe thead th {\n",
       "        text-align: right;\n",
       "    }\n",
       "</style>\n",
       "<table border=\"1\" class=\"dataframe\">\n",
       "  <thead>\n",
       "    <tr style=\"text-align: right;\">\n",
       "      <th></th>\n",
       "      <th>candidate_id</th>\n",
       "    </tr>\n",
       "  </thead>\n",
       "  <tbody>\n",
       "    <tr>\n",
       "      <th>0</th>\n",
       "      <td>123</td>\n",
       "    </tr>\n",
       "    <tr>\n",
       "      <th>1</th>\n",
       "      <td>147</td>\n",
       "    </tr>\n",
       "  </tbody>\n",
       "</table>\n",
       "</div>"
      ],
      "text/plain": [
       "   candidate_id\n",
       "0           123\n",
       "1           147"
      ]
     },
     "execution_count": 9,
     "metadata": {},
     "output_type": "execute_result"
    }
   ],
   "source": [
    "candidates = pd.DataFrame([\n",
    "    {\"candidate_id\": 123, \"skill\": \"Python\"},\n",
    "    {\"candidate_id\": 234, \"skill\": \"R\"},\n",
    "    {\"candidate_id\": 123, \"skill\": \"Tableau\"},\n",
    "    {\"candidate_id\": 123, \"skill\": \"PostgreSQL\"},\n",
    "    {\"candidate_id\": 234, \"skill\": \"PowerBI\"},\n",
    "    {\"candidate_id\": 234, \"skill\": \"SQL Server\"},\n",
    "    {\"candidate_id\": 147, \"skill\": \"Python\"},\n",
    "    {\"candidate_id\": 147, \"skill\": \"Tableau\"},\n",
    "    {\"candidate_id\": 147, \"skill\": \"Java\"},\n",
    "    {\"candidate_id\": 147, \"skill\": \"PostgreSQL\"},\n",
    "    {\"candidate_id\": 256, \"skill\": \"Tableau\"},\n",
    "    {\"candidate_id\": 102, \"skill\": \"DataAnalysis\"},\n",
    "])\n",
    "\n",
    "find_candidates(candidates=candidates)"
   ]
  }
 ],
 "metadata": {
  "kernelspec": {
   "display_name": "wai",
   "language": "python",
   "name": "python3"
  },
  "language_info": {
   "codemirror_mode": {
    "name": "ipython",
    "version": 3
   },
   "file_extension": ".py",
   "mimetype": "text/x-python",
   "name": "python",
   "nbconvert_exporter": "python",
   "pygments_lexer": "ipython3",
   "version": "3.11.4"
  }
 },
 "nbformat": 4,
 "nbformat_minor": 2
}
