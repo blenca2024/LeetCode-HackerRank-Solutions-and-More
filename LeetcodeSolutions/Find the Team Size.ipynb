{
 "cells": [
  {
   "cell_type": "markdown",
   "metadata": {},
   "source": [
    "### 1303. Find the Team Size\n",
    "\n",
    "**Table: Employee**\n",
    "\n",
    "| Column Name | Type |\n",
    "|-------------|------|\n",
    "| employee_id | int  |\n",
    "| team_id     | int  |\n",
    "\n",
    "- `employee_id` is the primary key (column with unique values) for this table.\n",
    "- Each row of this table contains the ID of each employee and their respective team.\n",
    "\n",
    "Write a solution to find the team size of each of the employees.\n",
    "\n",
    "Return the result table in any order.\n",
    "\n",
    "**Example 1:**\n",
    "\n",
    "**Input:**\n",
    "\n",
    "**Employee Table:**\n",
    "\n",
    "| employee_id | team_id |\n",
    "|-------------|---------|\n",
    "| 1           | 8       |\n",
    "| 2           | 8       |\n",
    "| 3           | 8       |\n",
    "| 4           | 7       |\n",
    "| 5           | 9       |\n",
    "| 6           | 9       |\n",
    "\n",
    "**Output:**\n",
    "\n",
    "| employee_id | team_size |\n",
    "|-------------|-----------|\n",
    "| 1           | 3         |\n",
    "| 2           | 3         |\n",
    "| 3           | 3         |\n",
    "| 4           | 1         |\n",
    "| 5           | 2         |\n",
    "| 6           | 2         |\n",
    "\n",
    "**Explanation:**\n",
    "- Employees with ID 1, 2, 3 are part of a team with `team_id = 8`.\n",
    "- Employee with ID 4 is part of a team with `team_id = 7`.\n",
    "- Employees with ID 5, 6 are part of a team with `team_id = 9`.\n"
   ]
  },
  {
   "cell_type": "code",
   "execution_count": 1,
   "metadata": {},
   "outputs": [],
   "source": [
    "import pandas as pd"
   ]
  },
  {
   "cell_type": "code",
   "execution_count": 2,
   "metadata": {},
   "outputs": [],
   "source": [
    "employee = pd.DataFrame({\n",
    "    'employee_id': [1, 2, 3, 4, 5, 6],\n",
    "    'team_id': [8, 8, 8, 7, 9, 9]\n",
    "})"
   ]
  },
  {
   "cell_type": "code",
   "execution_count": 3,
   "metadata": {},
   "outputs": [],
   "source": [
    "def team_size(employee: pd.DataFrame) -> pd.DataFrame:\n",
    "    counts = employee.team_id.value_counts()\n",
    "    employee['team_size'] = employee['team_id'].map(counts)\n",
    "    return employee[['employee_id','team_size']]"
   ]
  },
  {
   "cell_type": "code",
   "execution_count": 4,
   "metadata": {},
   "outputs": [
    {
     "data": {
      "text/html": [
       "<div>\n",
       "<style scoped>\n",
       "    .dataframe tbody tr th:only-of-type {\n",
       "        vertical-align: middle;\n",
       "    }\n",
       "\n",
       "    .dataframe tbody tr th {\n",
       "        vertical-align: top;\n",
       "    }\n",
       "\n",
       "    .dataframe thead th {\n",
       "        text-align: right;\n",
       "    }\n",
       "</style>\n",
       "<table border=\"1\" class=\"dataframe\">\n",
       "  <thead>\n",
       "    <tr style=\"text-align: right;\">\n",
       "      <th></th>\n",
       "      <th>employee_id</th>\n",
       "      <th>team_size</th>\n",
       "    </tr>\n",
       "  </thead>\n",
       "  <tbody>\n",
       "    <tr>\n",
       "      <th>0</th>\n",
       "      <td>1</td>\n",
       "      <td>3</td>\n",
       "    </tr>\n",
       "    <tr>\n",
       "      <th>1</th>\n",
       "      <td>2</td>\n",
       "      <td>3</td>\n",
       "    </tr>\n",
       "    <tr>\n",
       "      <th>2</th>\n",
       "      <td>3</td>\n",
       "      <td>3</td>\n",
       "    </tr>\n",
       "    <tr>\n",
       "      <th>3</th>\n",
       "      <td>4</td>\n",
       "      <td>1</td>\n",
       "    </tr>\n",
       "    <tr>\n",
       "      <th>4</th>\n",
       "      <td>5</td>\n",
       "      <td>2</td>\n",
       "    </tr>\n",
       "    <tr>\n",
       "      <th>5</th>\n",
       "      <td>6</td>\n",
       "      <td>2</td>\n",
       "    </tr>\n",
       "  </tbody>\n",
       "</table>\n",
       "</div>"
      ],
      "text/plain": [
       "   employee_id  team_size\n",
       "0            1          3\n",
       "1            2          3\n",
       "2            3          3\n",
       "3            4          1\n",
       "4            5          2\n",
       "5            6          2"
      ]
     },
     "execution_count": 4,
     "metadata": {},
     "output_type": "execute_result"
    }
   ],
   "source": [
    "team_size(employee)"
   ]
  }
 ],
 "metadata": {
  "kernelspec": {
   "display_name": "datascience",
   "language": "python",
   "name": "datascience"
  },
  "language_info": {
   "codemirror_mode": {
    "name": "ipython",
    "version": 3
   },
   "file_extension": ".py",
   "mimetype": "text/x-python",
   "name": "python",
   "nbconvert_exporter": "python",
   "pygments_lexer": "ipython3",
   "version": "3.11.4"
  }
 },
 "nbformat": 4,
 "nbformat_minor": 2
}
