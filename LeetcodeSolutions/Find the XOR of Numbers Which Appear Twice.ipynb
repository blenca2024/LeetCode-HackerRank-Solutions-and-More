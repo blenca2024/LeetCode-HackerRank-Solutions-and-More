{
 "cells": [
  {
   "cell_type": "markdown",
   "metadata": {},
   "source": [
    "## 3158. Find the XOR of Numbers Which Appear Twice\n",
    "\n",
    "**Solved**\n",
    "\n",
    "**Easy**\n",
    "\n",
    "### Topics\n",
    "- Hint\n",
    "\n",
    "You are given an array `nums`, where each number in the array appears either once or twice.\n",
    "\n",
    "Return the bitwise XOR of all the numbers that appear twice in the array, or 0 if no number appears twice.\n",
    "\n",
    "### Example 1:\n",
    "**Input:** `nums = [1,2,1,3]`  \n",
    "**Output:** `1`  \n",
    "**Explanation:**  \n",
    "The only number that appears twice in `nums` is 1.\n",
    "\n",
    "### Example 2:\n",
    "**Input:** `nums = [1,2,3]`  \n",
    "**Output:** `0`  \n",
    "**Explanation:**  \n",
    "No number appears twice in `nums`.\n",
    "\n",
    "### Example 3:\n",
    "**Input:** `nums = [1,2,2,1]`  \n",
    "**Output:** `3`  \n",
    "**Explanation:**  \n",
    "Numbers 1 and 2 appeared twice. `1 XOR 2 == 3`.\n",
    "\n",
    "### Constraints:\n",
    "- `1 <= nums.length <= 50`\n",
    "- `1 <= nums[i] <= 50`\n",
    "- Each number in `nums` appears either once or twice.\n"
   ]
  },
  {
   "cell_type": "code",
   "execution_count": 1,
   "metadata": {},
   "outputs": [],
   "source": [
    "from typing import List"
   ]
  },
  {
   "cell_type": "code",
   "execution_count": 2,
   "metadata": {},
   "outputs": [],
   "source": [
    "def duplicateNumbersXOR(nums: List[int]) -> int:\n",
    "    num_dict = {num:0 for num in nums}\n",
    "\n",
    "    for num in nums:\n",
    "        num_dict[num] += 1\n",
    "\n",
    "    doubles = [k for k,v in num_dict.items() if v == 2]\n",
    "\n",
    "    xor_output = 0\n",
    "\n",
    "    for num in doubles:\n",
    "        xor_output ^= num\n",
    "\n",
    "    return xor_output"
   ]
  },
  {
   "cell_type": "code",
   "execution_count": 3,
   "metadata": {},
   "outputs": [
    {
     "data": {
      "text/plain": [
       "3"
      ]
     },
     "execution_count": 3,
     "metadata": {},
     "output_type": "execute_result"
    }
   ],
   "source": [
    "nums = [1,2,2,1]\n",
    "duplicateNumbersXOR(nums=nums)"
   ]
  },
  {
   "cell_type": "code",
   "execution_count": 4,
   "metadata": {},
   "outputs": [
    {
     "data": {
      "text/plain": [
       "0"
      ]
     },
     "execution_count": 4,
     "metadata": {},
     "output_type": "execute_result"
    }
   ],
   "source": [
    "nums = [1,2,3]\n",
    "duplicateNumbersXOR(nums=nums)"
   ]
  },
  {
   "cell_type": "code",
   "execution_count": 5,
   "metadata": {},
   "outputs": [
    {
     "data": {
      "text/plain": [
       "1"
      ]
     },
     "execution_count": 5,
     "metadata": {},
     "output_type": "execute_result"
    }
   ],
   "source": [
    "nums = [1,2,1,3]\n",
    "duplicateNumbersXOR(nums=nums)"
   ]
  },
  {
   "cell_type": "code",
   "execution_count": 6,
   "metadata": {},
   "outputs": [
    {
     "data": {
      "text/plain": [
       "6"
      ]
     },
     "execution_count": 6,
     "metadata": {},
     "output_type": "execute_result"
    }
   ],
   "source": [
    "nums = [2,2,4,4]\n",
    "duplicateNumbersXOR(nums=nums)"
   ]
  }
 ],
 "metadata": {
  "kernelspec": {
   "display_name": "datascience",
   "language": "python",
   "name": "datascience"
  },
  "language_info": {
   "codemirror_mode": {
    "name": "ipython",
    "version": 3
   },
   "file_extension": ".py",
   "mimetype": "text/x-python",
   "name": "python",
   "nbconvert_exporter": "python",
   "pygments_lexer": "ipython3",
   "version": "3.11.4"
  }
 },
 "nbformat": 4,
 "nbformat_minor": 2
}
