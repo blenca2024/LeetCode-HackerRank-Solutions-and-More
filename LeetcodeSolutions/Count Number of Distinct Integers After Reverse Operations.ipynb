{
 "cells": [
  {
   "cell_type": "markdown",
   "metadata": {},
   "source": [
    "2442. Count Number of Distinct Integers After Reverse Operations\n",
    "\n",
    "Topics: Companies\n",
    "\n",
    "You are given an array nums consisting of positive integers.\n",
    "\n",
    "You have to take each integer in the array, reverse its digits, and add it to the end of the array. You should apply this operation to the original integers in nums.\n",
    "\n",
    "Return the number of distinct integers in the final array.\n",
    "\n",
    "Example 1:\n",
    "\n",
    "Input: nums = [1,13,10,12,31]\n",
    "Output: 6\n",
    "Explanation: After including the reverse of each number, the resulting array is [1,13,10,12,31,1,31,1,21,13].\n",
    "The reversed integers that were added to the end of the array are underlined. Note that for the integer 10, after reversing it, it becomes 01 which is just 1.\n",
    "The number of distinct integers in this array is 6 (The numbers 1, 10, 12, 13, 21, and 31).\n",
    "\n",
    "Example 2:\n",
    "\n",
    "Input: nums = [2,2,2]\n",
    "Output: 1\n",
    "Explanation: After including the reverse of each number, the resulting array is [2,2,2,2,2,2].\n",
    "The number of distinct integers in this array is 1 (The number 2).\n",
    "\n",
    "Constraints:\n",
    "\n",
    "1 <= nums.length <= 105\n",
    "1 <= nums[i] <= 106\n"
   ]
  },
  {
   "cell_type": "code",
   "execution_count": 1,
   "metadata": {},
   "outputs": [],
   "source": [
    "from typing import List"
   ]
  },
  {
   "cell_type": "code",
   "execution_count": 2,
   "metadata": {},
   "outputs": [],
   "source": [
    "def countDistinctIntegers(nums: List[int]) -> int:\n",
    "    nums = nums + [int(str(num)[::-1]) for num in nums]\n",
    "    return len(set(nums))"
   ]
  },
  {
   "cell_type": "code",
   "execution_count": 3,
   "metadata": {},
   "outputs": [
    {
     "data": {
      "text/plain": [
       "6"
      ]
     },
     "execution_count": 3,
     "metadata": {},
     "output_type": "execute_result"
    }
   ],
   "source": [
    "nums = [1,13,10,12,31]\n",
    "countDistinctIntegers(nums=nums)"
   ]
  },
  {
   "cell_type": "code",
   "execution_count": 4,
   "metadata": {},
   "outputs": [
    {
     "data": {
      "text/plain": [
       "1"
      ]
     },
     "execution_count": 4,
     "metadata": {},
     "output_type": "execute_result"
    }
   ],
   "source": [
    "nums = [2,2,2]\n",
    "countDistinctIntegers(nums=nums)"
   ]
  }
 ],
 "metadata": {
  "kernelspec": {
   "display_name": "datascience",
   "language": "python",
   "name": "datascience"
  },
  "language_info": {
   "codemirror_mode": {
    "name": "ipython",
    "version": 3
   },
   "file_extension": ".py",
   "mimetype": "text/x-python",
   "name": "python",
   "nbconvert_exporter": "python",
   "pygments_lexer": "ipython3",
   "version": "3.11.4"
  }
 },
 "nbformat": 4,
 "nbformat_minor": 2
}
