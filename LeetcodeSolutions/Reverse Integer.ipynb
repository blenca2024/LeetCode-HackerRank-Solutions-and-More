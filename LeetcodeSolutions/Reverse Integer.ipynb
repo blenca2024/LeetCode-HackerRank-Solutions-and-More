{
 "cells": [
  {
   "cell_type": "markdown",
   "metadata": {},
   "source": [
    "# Reverse Integer\n",
    "\n",
    "Given a 32-bit signed integer, reverse digits of an integer.\n",
    "\n",
    "**Example 1:**\n",
    "\n",
    "Input: 123\n",
    "\n",
    "Output: 321\n",
    "\n",
    "**Example 2:**\n",
    "\n",
    "Input: -123\n",
    "\n",
    "Output: -321\n",
    "\n",
    "**Example 3:**\n",
    "\n",
    "Input: 120\n",
    "\n",
    "Output: 21\n",
    "\n",
    "**Note:**\n",
    "Assume we are dealing with an environment which could only store integers within the 32-bit signed integer range: [−231,  231 − 1]. For the purpose of this problem, assume that your function returns 0 when the reversed integer overflows."
   ]
  },
  {
   "cell_type": "code",
   "execution_count": 1,
   "metadata": {},
   "outputs": [
    {
     "name": "stdout",
     "output_type": "stream",
     "text": [
      "321\n",
      "-321\n",
      "21\n"
     ]
    }
   ],
   "source": [
    "def reverse(x):\n",
    "        int_list = []\n",
    "        character_list = []\n",
    "        s_list = [i for i in str(x)]\n",
    "        for i in s_list:\n",
    "            try:\n",
    "                int_list.append(int(i))\n",
    "            except:\n",
    "                character_list.append(i)\n",
    "        int_list = list(reversed(int_list))\n",
    "        concat = \"\".join(map(str,int_list))\n",
    "        concat = \"\".join(character_list) + concat\n",
    "        if int(concat) < -2**31 or int(concat) > 2**31:\n",
    "            return 0\n",
    "        else:\n",
    "            return int(concat)\n",
    "        \n",
    "x = 123\n",
    "print(reverse(x))\n",
    "\n",
    "x = -123\n",
    "print(reverse(x))\n",
    "\n",
    "x = 120\n",
    "print(reverse(x))"
   ]
  }
 ],
 "metadata": {
  "kernelspec": {
   "display_name": "Python 3",
   "language": "python",
   "name": "python3"
  },
  "language_info": {
   "codemirror_mode": {
    "name": "ipython",
    "version": 3
   },
   "file_extension": ".py",
   "mimetype": "text/x-python",
   "name": "python",
   "nbconvert_exporter": "python",
   "pygments_lexer": "ipython3",
   "version": "3.7.3"
  }
 },
 "nbformat": 4,
 "nbformat_minor": 2
}
