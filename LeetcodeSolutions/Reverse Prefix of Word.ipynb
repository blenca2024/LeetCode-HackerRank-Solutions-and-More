{
 "cells": [
  {
   "cell_type": "markdown",
   "metadata": {},
   "source": [
    "### 2000. Reverse Prefix of Word\n",
    "\n",
    "Given a 0-indexed string `word` and a character `ch`, reverse the segment of `word` that starts at index 0 and ends at the index of the first occurrence of `ch` (inclusive). If the character `ch` does not exist in `word`, do nothing.\n",
    "\n",
    "For example, if `word = \"abcdefd\"` and `ch = \"d\"`, then you should reverse the segment that starts at 0 and ends at 3 (inclusive). The resulting string will be `\"dcbaefd\"`. Return the resulting string.\n",
    "\n",
    "#### Example 1:\n",
    "\n",
    "- **Input:** `word = \"abcdefd\", ch = \"d\"`\n",
    "- **Output:** `\"dcbaefd\"`\n",
    "- **Explanation:** The first occurrence of `\"d\"` is at index 3. Reverse the part of `word` from 0 to 3 (inclusive), the resulting string is `\"dcbaefd\"`.\n",
    "\n",
    "#### Example 2:\n",
    "\n",
    "- **Input:** `word = \"xyxzxe\", ch = \"z\"`\n",
    "- **Output:** `\"zxyxxe\"`\n",
    "- **Explanation:** The first and only occurrence of `\"z\"` is at index 3. Reverse the part of `word` from 0 to 3 (inclusive), the resulting string is `\"zxyxxe\"`.\n",
    "\n",
    "#### Example 3:\n",
    "\n",
    "- **Input:** `word = \"abcd\", ch = \"z\"`\n",
    "- **Output:** `\"abcd\"`\n",
    "- **Explanation:** `\"z\"` does not exist in `word`. You should not do any reverse operation, the resulting string is `\"abcd\"`.\n",
    "\n",
    "#### Constraints:\n",
    "\n",
    "- `1 <= word.length <= 250`\n",
    "- `word` consists of lowercase English letters.\n",
    "- `ch` is a lowercase English letter.\n"
   ]
  },
  {
   "cell_type": "code",
   "execution_count": 4,
   "metadata": {},
   "outputs": [],
   "source": [
    "def reversePrefix(word, ch):\n",
    "    try:\n",
    "        return word[:word.index(ch)+1][::-1]+word[word.index(ch)+1:]\n",
    "    except:\n",
    "        return word"
   ]
  },
  {
   "cell_type": "code",
   "execution_count": 5,
   "metadata": {},
   "outputs": [
    {
     "data": {
      "text/plain": [
       "'dcbaefd'"
      ]
     },
     "execution_count": 5,
     "metadata": {},
     "output_type": "execute_result"
    }
   ],
   "source": [
    "word = \"abcdefd\"\n",
    "ch = \"d\"\n",
    "\n",
    "reversePrefix(word, ch)"
   ]
  },
  {
   "cell_type": "code",
   "execution_count": 6,
   "metadata": {},
   "outputs": [
    {
     "data": {
      "text/plain": [
       "'abcd'"
      ]
     },
     "execution_count": 6,
     "metadata": {},
     "output_type": "execute_result"
    }
   ],
   "source": [
    "word = \"abcd\"\n",
    "ch = \"z\"\n",
    "\n",
    "reversePrefix(word, ch)"
   ]
  }
 ],
 "metadata": {
  "kernelspec": {
   "display_name": "Python 3",
   "language": "python",
   "name": "python3"
  },
  "language_info": {
   "codemirror_mode": {
    "name": "ipython",
    "version": 3
   },
   "file_extension": ".py",
   "mimetype": "text/x-python",
   "name": "python",
   "nbconvert_exporter": "python",
   "pygments_lexer": "ipython3",
   "version": "3.11.2"
  }
 },
 "nbformat": 4,
 "nbformat_minor": 2
}
