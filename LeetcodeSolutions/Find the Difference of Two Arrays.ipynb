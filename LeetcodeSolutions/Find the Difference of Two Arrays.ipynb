{
 "cells": [
  {
   "cell_type": "markdown",
   "metadata": {},
   "source": [
    "2215. Find the Difference of Two Arrays\n",
    "\n",
    "\n",
    "=======================================\n",
    "\n",
    "Given two 0-indexed integer arrays `nums1` and `nums2`, return a list `answer` of size 2 where:\n",
    "\n",
    "- `answer[0]` is a list of all distinct integers in `nums1` which are not present in `nums2`.\n",
    "- `answer[1]` is a list of all distinct integers in `nums2` which are not present in `nums1`.\n",
    "\n",
    "Note that the integers in the lists may be returned in any order.\n",
    "\n",
    "Example 1:\n",
    "----------\n",
    "\n",
    "**Input:** `nums1 = [1,2,3], nums2 = [2,4,6]`\n",
    "\n",
    "**Output:** `[[1,3],[4,6]]`\n",
    "\n",
    "**Explanation:**\n",
    "- For `nums1`, `nums1[1] = 2` is present at index 0 of `nums2`, whereas `nums1[0] = 1` and `nums1[2] = 3` are not present in `nums2`. Therefore, `answer[0] = [1,3]`.\n",
    "- For `nums2`, `nums2[0] = 2` is present at index 1 of `nums1`, whereas `nums2[1] = 4` and `nums2[2] = 6` are not present in `nums1`. Therefore, `answer[1] = [4,6]`.\n",
    "\n",
    "Example 2:\n",
    "----------\n",
    "\n",
    "**Input:** `nums1 = [1,2,3,3], nums2 = [1,1,2,2]`\n",
    "\n",
    "**Output:** `[[3],[]]`\n",
    "\n",
    "**Explanation:**\n",
    "- For `nums1`, `nums1[2]` and `nums1[3]` are not present in `nums2`. Since `nums1[2] == nums1[3]`, their value is only included once and `answer[0] = [3]`.\n",
    "- Every integer in `nums2` is present in `nums1`. Therefore, `answer[1] = []`.\n",
    "\n",
    "Constraints:\n",
    "------------\n",
    "\n",
    "- `1 <= nums1.length, nums2.length <= 1000`\n",
    "- `-1000 <= nums1[i], nums2[i] <= 1000`\n"
   ]
  },
  {
   "cell_type": "code",
   "execution_count": 1,
   "metadata": {},
   "outputs": [],
   "source": [
    "from typing import List"
   ]
  },
  {
   "cell_type": "code",
   "execution_count": 2,
   "metadata": {},
   "outputs": [],
   "source": [
    "def findDifference(nums1: List[int], nums2: List[int]) -> List[List[int]]:\n",
    "    return [list(set([num1 for num1 in nums1 if num1 not in nums2])),list(set([num2 for num2 in nums2 if num2 not in nums1]))]"
   ]
  },
  {
   "cell_type": "code",
   "execution_count": 3,
   "metadata": {},
   "outputs": [
    {
     "data": {
      "text/plain": [
       "[[1, 3], [4, 6]]"
      ]
     },
     "execution_count": 3,
     "metadata": {},
     "output_type": "execute_result"
    }
   ],
   "source": [
    "nums1 = [1,2,3]\n",
    "nums2 = [2,4,6]\n",
    "\n",
    "findDifference(nums1,nums2)"
   ]
  },
  {
   "cell_type": "code",
   "execution_count": 4,
   "metadata": {},
   "outputs": [
    {
     "data": {
      "text/plain": [
       "[[3], []]"
      ]
     },
     "execution_count": 4,
     "metadata": {},
     "output_type": "execute_result"
    }
   ],
   "source": [
    "nums1 = [1,2,3,3]\n",
    "nums2 = [1,1,2,2]\n",
    "\n",
    "findDifference(nums1,nums2)"
   ]
  }
 ],
 "metadata": {
  "kernelspec": {
   "display_name": "datascience",
   "language": "python",
   "name": "datascience"
  },
  "language_info": {
   "codemirror_mode": {
    "name": "ipython",
    "version": 3
   },
   "file_extension": ".py",
   "mimetype": "text/x-python",
   "name": "python",
   "nbconvert_exporter": "python",
   "pygments_lexer": "ipython3",
   "version": "3.11.4"
  }
 },
 "nbformat": 4,
 "nbformat_minor": 2
}
