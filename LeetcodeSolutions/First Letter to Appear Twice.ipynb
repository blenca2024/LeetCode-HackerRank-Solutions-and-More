{
 "cells": [
  {
   "cell_type": "markdown",
   "metadata": {},
   "source": [
    "# 2351. First Letter to Appear Twice\n",
    "\n",
    "Given a string `s` consisting of lowercase English letters, return the first letter to appear twice.\n",
    "\n",
    "Note:\n",
    "\n",
    "- A letter `a` appears twice before another letter `b` if the second occurrence of `a` is before the second occurrence of `b`.\n",
    "- `s` will contain at least one letter that appears twice.\n",
    "\n",
    "## Example 1:\n",
    "\n",
    "**Input:** `s = \"abccbaacz\"`  \n",
    "**Output:** `\"c\"`  \n",
    "**Explanation:**  \n",
    "The letter 'a' appears on the indexes 0, 5 and 6.  \n",
    "The letter 'b' appears on the indexes 1 and 4.  \n",
    "The letter 'c' appears on the indexes 2, 3 and 7.  \n",
    "The letter 'z' appears on the index 8.  \n",
    "The letter 'c' is the first letter to appear twice, because out of all the letters the index of its second occurrence is the smallest.\n",
    "\n",
    "## Example 2:\n",
    "\n",
    "**Input:** `s = \"abcdd\"`  \n",
    "**Output:** `\"d\"`  \n",
    "**Explanation:**  \n",
    "The only letter that appears twice is 'd' so we return 'd'.\n",
    "\n",
    "Constraints:\n",
    "\n",
    "- `2 <= s.length <= 100`\n",
    "- `s` consists of lowercase English letters.\n",
    "- `s` has at least one repeated letter.\n"
   ]
  },
  {
   "cell_type": "code",
   "execution_count": 4,
   "metadata": {},
   "outputs": [],
   "source": [
    "def repeatedCharacter(s: str) -> str:\n",
    "    s = \"abccbaacz\"\n",
    "\n",
    "    s_dict = {char:0 for char in set(s)}\n",
    "    s_list = [char for char in s]\n",
    "\n",
    "    while 2 not in s_dict.values():\n",
    "        for char in s_list:\n",
    "            s_dict[char] += 1\n",
    "            if s_dict[char] == 2:\n",
    "                break\n",
    "\n",
    "    return [k for k,v in s_dict.items() if v == 2][0]"
   ]
  },
  {
   "cell_type": "code",
   "execution_count": 5,
   "metadata": {},
   "outputs": [
    {
     "data": {
      "text/plain": [
       "'c'"
      ]
     },
     "execution_count": 5,
     "metadata": {},
     "output_type": "execute_result"
    }
   ],
   "source": [
    "s = \"abccbaacz\"\n",
    "\n",
    "repeatedCharacter(s)"
   ]
  }
 ],
 "metadata": {
  "kernelspec": {
   "display_name": "datascience",
   "language": "python",
   "name": "datascience"
  },
  "language_info": {
   "codemirror_mode": {
    "name": "ipython",
    "version": 3
   },
   "file_extension": ".py",
   "mimetype": "text/x-python",
   "name": "python",
   "nbconvert_exporter": "python",
   "pygments_lexer": "ipython3",
   "version": "3.11.4"
  }
 },
 "nbformat": 4,
 "nbformat_minor": 2
}
